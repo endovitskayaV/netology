{
 "cells": [
  {
   "cell_type": "code",
   "execution_count": 64,
   "metadata": {
    "id": "MTgpe_1quUDs",
    "pycharm": {
     "is_executing": true,
     "name": "#%%\n"
    }
   },
   "outputs": [],
   "source": [
    "import pandas as pd\n",
    "import seaborn as sns\n",
    "import matplotlib.pyplot as plt\n",
    "from sklearn.model_selection import train_test_split\n",
    "from sklearn.ensemble import RandomForestClassifier\n",
    "from sklearn import tree\n",
    "import numpy as np\n",
    "from sklearn.metrics import recall_score, precision_score\n",
    "from sklearn.metrics import classification_report\n",
    "from sklearn import preprocessing\n",
    "\n",
    "import time\n",
    "from datetime import datetime\n",
    "\n",
    "from sklearn.experimental import enable_iterative_imputer\n",
    "from sklearn.impute import IterativeImputer\n",
    "\n",
    "%matplotlib inline\n",
    "\n",
    "from catboost import CatBoostClassifier,Pool"
   ]
  },
  {
   "cell_type": "code",
   "execution_count": 32,
   "metadata": {
    "id": "o9N4JbcWudk2",
    "pycharm": {
     "name": "#%%\n"
    }
   },
   "outputs": [],
   "source": [
    "df = pd.read_csv(\"./content/train.csv\")"
   ]
  },
  {
   "cell_type": "code",
   "execution_count": 33,
   "metadata": {},
   "outputs": [],
   "source": [
    "abc_le = preprocessing.LabelEncoder()\n",
    "df[\"ABC\"] = abc_le.fit_transform(df[\"ABC\"])"
   ]
  },
  {
   "cell_type": "code",
   "execution_count": 34,
   "metadata": {},
   "outputs": [],
   "source": [
    "df['control_year'] = pd.to_datetime(df['month_id']).dt.strftime(\"%Y\").astype(int)\n",
    "df['control_month'] = pd.to_datetime(df['month_id']).dt.strftime(\"%m\").astype(int)\n",
    "\n",
    "df['cart_day'] = pd.to_datetime(df['carts_created_at']).dt.strftime(\"%d\").astype(int)\n",
    "df['cart_month'] = pd.to_datetime(df['carts_created_at']).dt.strftime(\"%m\").astype(int)\n",
    "df['cart_year'] = pd.to_datetime(df['carts_created_at']).dt.strftime(\"%Y\").astype(int)\n",
    "df['cart_timestamp'] = df['carts_created_at'].apply(lambda d: time.mktime(datetime.strptime(d, \"%m/%d/%Y\").timetuple()))"
   ]
  },
  {
   "cell_type": "code",
   "execution_count": 35,
   "metadata": {},
   "outputs": [],
   "source": [
    "df['promo']=df['promo'].apply(lambda promo: promo =='+').astype(int)"
   ]
  },
  {
   "cell_type": "code",
   "execution_count": 36,
   "metadata": {},
   "outputs": [],
   "source": [
    "ct_le = preprocessing.LabelEncoder()\n",
    "df[\"communication_type\"] = ct_le.fit_transform(df[\"communication_type\"])"
   ]
  },
  {
   "cell_type": "code",
   "execution_count": 37,
   "metadata": {},
   "outputs": [],
   "source": [
    "os_le = preprocessing.LabelEncoder()\n",
    "df[\"os\"] = os_le.fit_transform(df[\"os\"])\n",
    "\n",
    "browser_le = preprocessing.LabelEncoder()\n",
    "df[\"browser\"] = browser_le.fit_transform(df[\"browser\"])\n",
    "\n",
    "platform_le = preprocessing.LabelEncoder()\n",
    "df[\"platform\"] = platform_le.fit_transform(df[\"platform\"])"
   ]
  },
  {
   "cell_type": "code",
   "execution_count": 38,
   "metadata": {},
   "outputs": [],
   "source": [
    "def replace_country(row):\n",
    "    country=row['country']\n",
    "    if country in ['Россия', '<span>Россия</span>', 'Росссия','РФ']:\n",
    "         row['country']= \"Россия\"\n",
    "    return row"
   ]
  },
  {
   "cell_type": "code",
   "execution_count": 39,
   "metadata": {},
   "outputs": [],
   "source": [
    "df = df.apply(lambda row: replace_country(row), axis=1)"
   ]
  },
  {
   "cell_type": "code",
   "execution_count": 40,
   "metadata": {},
   "outputs": [],
   "source": [
    "country_le = preprocessing.LabelEncoder()\n",
    "df[\"country\"] = country_le.fit_transform(df[\"country\"])"
   ]
  },
  {
   "cell_type": "code",
   "execution_count": 42,
   "metadata": {},
   "outputs": [
    {
     "name": "stdout",
     "output_type": "stream",
     "text": [
      "<class 'pandas.core.frame.DataFrame'>\n",
      "RangeIndex: 200000 entries, 0 to 199999\n",
      "Data columns (total 65 columns):\n",
      " #   Column                     Non-Null Count   Dtype  \n",
      "---  ------                     --------------   -----  \n",
      " 0   id                         200000 non-null  int64  \n",
      " 1   age_indicator              159123 non-null  float64\n",
      " 2   month_id                   200000 non-null  object \n",
      " 3   student_id                 200000 non-null  int64  \n",
      " 4   program_id                 200000 non-null  int64  \n",
      " 5   carts_created_at           200000 non-null  object \n",
      " 6   spent_time_total           86309 non-null   float64\n",
      " 7   spent_time_to_complete_hw  42467 non-null   float64\n",
      " 8   completed_hw               97599 non-null   float64\n",
      " 9   failed_hw                  97599 non-null   float64\n",
      " 10  reworked_hw                97599 non-null   float64\n",
      " 11  interacted_hw              97599 non-null   float64\n",
      " 12  avg_hw_mark                44496 non-null   float64\n",
      " 13  test_with_good_mark        97599 non-null   float64\n",
      " 14  test_with_great_mark       97599 non-null   float64\n",
      " 15  webinars                   97599 non-null   float64\n",
      " 16  avg_quiz_result            16259 non-null   float64\n",
      " 17  notes                      97599 non-null   float64\n",
      " 18  hw_leader                  97599 non-null   float64\n",
      " 19  lessons                    97599 non-null   float64\n",
      " 20  activity                   97599 non-null   float64\n",
      " 21  bought_d1                  200000 non-null  int64  \n",
      " 22  bought_d2                  200000 non-null  int64  \n",
      " 23  bought_d3                  200000 non-null  int64  \n",
      " 24  bought_d4                  200000 non-null  int64  \n",
      " 25  bought_d5                  200000 non-null  int64  \n",
      " 26  bought_avg_duration        10359 non-null   float64\n",
      " 27  payment_type               200000 non-null  int64  \n",
      " 28  promo                      200000 non-null  int64  \n",
      " 29  price                      200000 non-null  float64\n",
      " 30  communication_type         200000 non-null  int64  \n",
      " 31  auto_payment               200000 non-null  int64  \n",
      " 32  ABC                        200000 non-null  int64  \n",
      " 33  city                       13592 non-null   object \n",
      " 34  country                    200000 non-null  int32  \n",
      " 35  gender                     199940 non-null  float64\n",
      " 36  speed_recall               21880 non-null   float64\n",
      " 37  os                         200000 non-null  int64  \n",
      " 38  browser                    200000 non-null  int64  \n",
      " 39  platform                   200000 non-null  int64  \n",
      " 40  m_avg_talk_duration        51537 non-null   float64\n",
      " 41  m_avg_duration             45764 non-null   float64\n",
      " 42  m_missed_calls             51537 non-null   float64\n",
      " 43  m_total_calls              51537 non-null   float64\n",
      " 44  m_was_conversations        51537 non-null   float64\n",
      " 45  m_total_duration           51537 non-null   float64\n",
      " 46  p_avg_talk_duration        16453 non-null   float64\n",
      " 47  p_avg_duration             13488 non-null   float64\n",
      " 48  p_missed_calls             16453 non-null   float64\n",
      " 49  p_total_calls              16453 non-null   float64\n",
      " 50  p_was_conversations        16453 non-null   float64\n",
      " 51  p_total_duration           16453 non-null   float64\n",
      " 52  support_feedback_avg       37557 non-null   float64\n",
      " 53  feedback_avg_d1            48496 non-null   float64\n",
      " 54  feedback_avg_d2            14805 non-null   float64\n",
      " 55  feedback_avg_d3            17778 non-null   float64\n",
      " 56  feedback_avg_d4            25076 non-null   float64\n",
      " 57  feedback_avg_d5            15733 non-null   float64\n",
      " 58  target                     200000 non-null  int64  \n",
      " 59  control_year               200000 non-null  int64  \n",
      " 60  control_month              200000 non-null  int64  \n",
      " 61  cart_day                   200000 non-null  int64  \n",
      " 62  cart_month                 200000 non-null  int64  \n",
      " 63  cart_year                  200000 non-null  int64  \n",
      " 64  cart_timestamp             200000 non-null  float64\n",
      "dtypes: float64(39), int32(1), int64(22), object(3)\n",
      "memory usage: 98.4+ MB\n"
     ]
    }
   ],
   "source": [
    "df.info()"
   ]
  },
  {
   "cell_type": "code",
   "execution_count": 43,
   "metadata": {
    "colab": {
     "base_uri": "https://localhost:8080/"
    },
    "id": "T5wEuIQ50ibJ",
    "outputId": "a00aaeab-3343-42b2-d797-e37186f150e7",
    "pycharm": {
     "name": "#%%\n"
    }
   },
   "outputs": [
    {
     "data": {
      "text/plain": [
       "array([dtype('O'), dtype('O'), dtype('O')], dtype=object)"
      ]
     },
     "execution_count": 43,
     "metadata": {},
     "output_type": "execute_result"
    }
   ],
   "source": [
    "df.dtypes[df.dtypes == \"object\"].values"
   ]
  },
  {
   "cell_type": "code",
   "execution_count": 44,
   "metadata": {
    "id": "Poa1_MKE08xs",
    "pycharm": {
     "name": "#%%\n"
    }
   },
   "outputs": [],
   "source": [
    "mass_object = df.dtypes[df.dtypes == \"object\"].index.values"
   ]
  },
  {
   "cell_type": "code",
   "execution_count": 45,
   "metadata": {
    "id": "mAhVoVTj1l-D",
    "pycharm": {
     "name": "#%%\n"
    }
   },
   "outputs": [
    {
     "data": {
      "text/plain": [
       "array(['month_id', 'carts_created_at', 'city'], dtype=object)"
      ]
     },
     "execution_count": 45,
     "metadata": {},
     "output_type": "execute_result"
    }
   ],
   "source": [
    "mass_object"
   ]
  },
  {
   "cell_type": "code",
   "execution_count": 46,
   "metadata": {},
   "outputs": [],
   "source": [
    "df = df.drop(mass_object, axis = 1)"
   ]
  },
  {
   "cell_type": "code",
   "execution_count": 47,
   "metadata": {},
   "outputs": [],
   "source": [
    "df = df.fillna(df.mean())\n",
    "\n",
    "# imp = IterativeImputer(initial_strategy='median')\n",
    "# df = pd.DataFrame(data=imp.fit_transform(df), columns=df.columns)"
   ]
  },
  {
   "cell_type": "code",
   "execution_count": 48,
   "metadata": {},
   "outputs": [],
   "source": [
    "df.gender = df.gender.astype(int)"
   ]
  },
  {
   "cell_type": "code",
   "execution_count": 49,
   "metadata": {},
   "outputs": [
    {
     "name": "stdout",
     "output_type": "stream",
     "text": [
      "<class 'pandas.core.frame.DataFrame'>\n",
      "RangeIndex: 200000 entries, 0 to 199999\n",
      "Data columns (total 62 columns):\n",
      " #   Column                     Non-Null Count   Dtype  \n",
      "---  ------                     --------------   -----  \n",
      " 0   id                         200000 non-null  int64  \n",
      " 1   age_indicator              200000 non-null  float64\n",
      " 2   student_id                 200000 non-null  int64  \n",
      " 3   program_id                 200000 non-null  int64  \n",
      " 4   spent_time_total           200000 non-null  float64\n",
      " 5   spent_time_to_complete_hw  200000 non-null  float64\n",
      " 6   completed_hw               200000 non-null  float64\n",
      " 7   failed_hw                  200000 non-null  float64\n",
      " 8   reworked_hw                200000 non-null  float64\n",
      " 9   interacted_hw              200000 non-null  float64\n",
      " 10  avg_hw_mark                200000 non-null  float64\n",
      " 11  test_with_good_mark        200000 non-null  float64\n",
      " 12  test_with_great_mark       200000 non-null  float64\n",
      " 13  webinars                   200000 non-null  float64\n",
      " 14  avg_quiz_result            200000 non-null  float64\n",
      " 15  notes                      200000 non-null  float64\n",
      " 16  hw_leader                  200000 non-null  float64\n",
      " 17  lessons                    200000 non-null  float64\n",
      " 18  activity                   200000 non-null  float64\n",
      " 19  bought_d1                  200000 non-null  int64  \n",
      " 20  bought_d2                  200000 non-null  int64  \n",
      " 21  bought_d3                  200000 non-null  int64  \n",
      " 22  bought_d4                  200000 non-null  int64  \n",
      " 23  bought_d5                  200000 non-null  int64  \n",
      " 24  bought_avg_duration        200000 non-null  float64\n",
      " 25  payment_type               200000 non-null  int64  \n",
      " 26  promo                      200000 non-null  int64  \n",
      " 27  price                      200000 non-null  float64\n",
      " 28  communication_type         200000 non-null  int64  \n",
      " 29  auto_payment               200000 non-null  int64  \n",
      " 30  ABC                        200000 non-null  int64  \n",
      " 31  country                    200000 non-null  int32  \n",
      " 32  gender                     200000 non-null  int32  \n",
      " 33  speed_recall               200000 non-null  float64\n",
      " 34  os                         200000 non-null  int64  \n",
      " 35  browser                    200000 non-null  int64  \n",
      " 36  platform                   200000 non-null  int64  \n",
      " 37  m_avg_talk_duration        200000 non-null  float64\n",
      " 38  m_avg_duration             200000 non-null  float64\n",
      " 39  m_missed_calls             200000 non-null  float64\n",
      " 40  m_total_calls              200000 non-null  float64\n",
      " 41  m_was_conversations        200000 non-null  float64\n",
      " 42  m_total_duration           200000 non-null  float64\n",
      " 43  p_avg_talk_duration        200000 non-null  float64\n",
      " 44  p_avg_duration             200000 non-null  float64\n",
      " 45  p_missed_calls             200000 non-null  float64\n",
      " 46  p_total_calls              200000 non-null  float64\n",
      " 47  p_was_conversations        200000 non-null  float64\n",
      " 48  p_total_duration           200000 non-null  float64\n",
      " 49  support_feedback_avg       200000 non-null  float64\n",
      " 50  feedback_avg_d1            200000 non-null  float64\n",
      " 51  feedback_avg_d2            200000 non-null  float64\n",
      " 52  feedback_avg_d3            200000 non-null  float64\n",
      " 53  feedback_avg_d4            200000 non-null  float64\n",
      " 54  feedback_avg_d5            200000 non-null  float64\n",
      " 55  target                     200000 non-null  int64  \n",
      " 56  control_year               200000 non-null  int64  \n",
      " 57  control_month              200000 non-null  int64  \n",
      " 58  cart_day                   200000 non-null  int64  \n",
      " 59  cart_month                 200000 non-null  int64  \n",
      " 60  cart_year                  200000 non-null  int64  \n",
      " 61  cart_timestamp             200000 non-null  float64\n",
      "dtypes: float64(38), int32(2), int64(22)\n",
      "memory usage: 93.1 MB\n"
     ]
    }
   ],
   "source": [
    "df.info()"
   ]
  },
  {
   "cell_type": "code",
   "execution_count": 50,
   "metadata": {
    "id": "czsoZexkyyTw",
    "pycharm": {
     "name": "#%%\n"
    }
   },
   "outputs": [],
   "source": [
    "X =  df.drop([\"target\"], axis = 1)\n",
    "y = df[[\"target\"]]"
   ]
  },
  {
   "cell_type": "code",
   "execution_count": 51,
   "metadata": {},
   "outputs": [
    {
     "data": {
      "text/plain": [
       "Index(['id', 'age_indicator', 'student_id', 'program_id', 'spent_time_total',\n",
       "       'spent_time_to_complete_hw', 'completed_hw', 'failed_hw', 'reworked_hw',\n",
       "       'interacted_hw', 'avg_hw_mark', 'test_with_good_mark',\n",
       "       'test_with_great_mark', 'webinars', 'avg_quiz_result', 'notes',\n",
       "       'hw_leader', 'lessons', 'activity', 'bought_d1', 'bought_d2',\n",
       "       'bought_d3', 'bought_d4', 'bought_d5', 'bought_avg_duration',\n",
       "       'payment_type', 'promo', 'price', 'communication_type', 'auto_payment',\n",
       "       'ABC', 'country', 'gender', 'speed_recall', 'os', 'browser', 'platform',\n",
       "       'm_avg_talk_duration', 'm_avg_duration', 'm_missed_calls',\n",
       "       'm_total_calls', 'm_was_conversations', 'm_total_duration',\n",
       "       'p_avg_talk_duration', 'p_avg_duration', 'p_missed_calls',\n",
       "       'p_total_calls', 'p_was_conversations', 'p_total_duration',\n",
       "       'support_feedback_avg', 'feedback_avg_d1', 'feedback_avg_d2',\n",
       "       'feedback_avg_d3', 'feedback_avg_d4', 'feedback_avg_d5', 'control_year',\n",
       "       'control_month', 'cart_day', 'cart_month', 'cart_year',\n",
       "       'cart_timestamp'],\n",
       "      dtype='object')"
      ]
     },
     "execution_count": 51,
     "metadata": {},
     "output_type": "execute_result"
    }
   ],
   "source": [
    "X.columns"
   ]
  },
  {
   "cell_type": "code",
   "execution_count": 52,
   "metadata": {
    "id": "E-LfoARf2WGZ",
    "pycharm": {
     "name": "#%%\n"
    }
   },
   "outputs": [],
   "source": [
    "X_train, X_test, y_train, y_test = train_test_split(X, y, test_size=0.3, random_state=42)"
   ]
  },
  {
   "cell_type": "code",
   "execution_count": 53,
   "metadata": {
    "id": "1ypNSGoK2czB",
    "pycharm": {
     "name": "#%%\n"
    }
   },
   "outputs": [],
   "source": [
    "clf = CatBoostClassifier(\n",
    "    iterations=500,\n",
    "#     learning_rate=0.15,\n",
    "    custom_loss=['Precision', 'Recall'], \n",
    ")\n",
    "#RandomForestClassifier(random_state=0, max_depth=50, n_estimators=500, max_features = 25)"
   ]
  },
  {
   "cell_type": "code",
   "execution_count": 54,
   "metadata": {
    "colab": {
     "base_uri": "https://localhost:8080/"
    },
    "id": "8K_JDzCJ2glP",
    "outputId": "2862d0a9-a937-4909-aff0-11e079abdb42",
    "pycharm": {
     "name": "#%%\n"
    }
   },
   "outputs": [
    {
     "data": {
      "application/vnd.jupyter.widget-view+json": {
       "model_id": "66b963ada230443f98d931a7e10ac7eb",
       "version_major": 2,
       "version_minor": 0
      },
      "text/plain": [
       "MetricVisualizer(layout=Layout(align_self='stretch', height='500px'))"
      ]
     },
     "metadata": {},
     "output_type": "display_data"
    },
    {
     "name": "stdout",
     "output_type": "stream",
     "text": [
      "Learning rate set to 0.182872\n",
      "0:\tlearn: 1.2004316\ttotal: 777ms\tremaining: 6m 27s\n",
      "1:\tlearn: 0.9837494\ttotal: 1.71s\tremaining: 7m 4s\n",
      "2:\tlearn: 0.8525680\ttotal: 2.5s\tremaining: 6m 54s\n",
      "3:\tlearn: 0.7636192\ttotal: 3.27s\tremaining: 6m 45s\n",
      "4:\tlearn: 0.6971031\ttotal: 4.02s\tremaining: 6m 37s\n",
      "5:\tlearn: 0.6478911\ttotal: 4.78s\tremaining: 6m 33s\n",
      "6:\tlearn: 0.6116002\ttotal: 5.52s\tremaining: 6m 28s\n",
      "7:\tlearn: 0.5843006\ttotal: 6.27s\tremaining: 6m 25s\n",
      "8:\tlearn: 0.5590122\ttotal: 7.1s\tremaining: 6m 27s\n",
      "9:\tlearn: 0.5395431\ttotal: 7.86s\tremaining: 6m 25s\n",
      "10:\tlearn: 0.5264407\ttotal: 8.65s\tremaining: 6m 24s\n",
      "11:\tlearn: 0.5142728\ttotal: 9.51s\tremaining: 6m 26s\n",
      "12:\tlearn: 0.5037419\ttotal: 10.3s\tremaining: 6m 25s\n",
      "13:\tlearn: 0.4940226\ttotal: 11.1s\tremaining: 6m 24s\n",
      "14:\tlearn: 0.4876416\ttotal: 11.8s\tremaining: 6m 21s\n",
      "15:\tlearn: 0.4826909\ttotal: 12.6s\tremaining: 6m 20s\n",
      "16:\tlearn: 0.4774797\ttotal: 13.4s\tremaining: 6m 19s\n",
      "17:\tlearn: 0.4727884\ttotal: 14.1s\tremaining: 6m 18s\n",
      "18:\tlearn: 0.4683668\ttotal: 14.9s\tremaining: 6m 17s\n",
      "19:\tlearn: 0.4647643\ttotal: 15.7s\tremaining: 6m 16s\n",
      "20:\tlearn: 0.4615136\ttotal: 16.4s\tremaining: 6m 15s\n",
      "21:\tlearn: 0.4583794\ttotal: 17.3s\tremaining: 6m 15s\n",
      "22:\tlearn: 0.4560706\ttotal: 18s\tremaining: 6m 13s\n",
      "23:\tlearn: 0.4543209\ttotal: 18.8s\tremaining: 6m 12s\n",
      "24:\tlearn: 0.4515666\ttotal: 19.6s\tremaining: 6m 11s\n",
      "25:\tlearn: 0.4485988\ttotal: 20.3s\tremaining: 6m 10s\n",
      "26:\tlearn: 0.4464814\ttotal: 21.1s\tremaining: 6m 10s\n",
      "27:\tlearn: 0.4443868\ttotal: 21.9s\tremaining: 6m 9s\n",
      "28:\tlearn: 0.4433143\ttotal: 22.7s\tremaining: 6m 9s\n",
      "29:\tlearn: 0.4420800\ttotal: 23.5s\tremaining: 6m 8s\n",
      "30:\tlearn: 0.4399552\ttotal: 24.4s\tremaining: 6m 8s\n",
      "31:\tlearn: 0.4376824\ttotal: 25.2s\tremaining: 6m 8s\n",
      "32:\tlearn: 0.4363325\ttotal: 25.9s\tremaining: 6m 6s\n",
      "33:\tlearn: 0.4343971\ttotal: 26.7s\tremaining: 6m 5s\n",
      "34:\tlearn: 0.4331161\ttotal: 27.4s\tremaining: 6m 4s\n",
      "35:\tlearn: 0.4313759\ttotal: 28.2s\tremaining: 6m 3s\n",
      "36:\tlearn: 0.4299814\ttotal: 29.1s\tremaining: 6m 3s\n",
      "37:\tlearn: 0.4287205\ttotal: 29.9s\tremaining: 6m 3s\n",
      "38:\tlearn: 0.4269131\ttotal: 30.7s\tremaining: 6m 3s\n",
      "39:\tlearn: 0.4262435\ttotal: 31.6s\tremaining: 6m 3s\n",
      "40:\tlearn: 0.4254788\ttotal: 32.4s\tremaining: 6m 2s\n",
      "41:\tlearn: 0.4240944\ttotal: 33.3s\tremaining: 6m 2s\n",
      "42:\tlearn: 0.4234335\ttotal: 34.1s\tremaining: 6m 2s\n",
      "43:\tlearn: 0.4225588\ttotal: 35s\tremaining: 6m 2s\n",
      "44:\tlearn: 0.4216593\ttotal: 36.3s\tremaining: 6m 7s\n",
      "45:\tlearn: 0.4207570\ttotal: 37.6s\tremaining: 6m 10s\n",
      "46:\tlearn: 0.4201201\ttotal: 38.4s\tremaining: 6m 10s\n",
      "47:\tlearn: 0.4195223\ttotal: 39.3s\tremaining: 6m 9s\n",
      "48:\tlearn: 0.4183823\ttotal: 40.2s\tremaining: 6m 10s\n",
      "49:\tlearn: 0.4177169\ttotal: 41.1s\tremaining: 6m 9s\n",
      "50:\tlearn: 0.4164218\ttotal: 41.9s\tremaining: 6m 8s\n",
      "51:\tlearn: 0.4157597\ttotal: 42.7s\tremaining: 6m 8s\n",
      "52:\tlearn: 0.4147940\ttotal: 43.5s\tremaining: 6m 6s\n",
      "53:\tlearn: 0.4141868\ttotal: 44.2s\tremaining: 6m 5s\n",
      "54:\tlearn: 0.4131975\ttotal: 45s\tremaining: 6m 4s\n",
      "55:\tlearn: 0.4121165\ttotal: 45.7s\tremaining: 6m 2s\n",
      "56:\tlearn: 0.4112835\ttotal: 46.5s\tremaining: 6m 1s\n",
      "57:\tlearn: 0.4105157\ttotal: 47.3s\tremaining: 6m\n",
      "58:\tlearn: 0.4100193\ttotal: 48.1s\tremaining: 5m 59s\n",
      "59:\tlearn: 0.4097250\ttotal: 48.9s\tremaining: 5m 58s\n",
      "60:\tlearn: 0.4093801\ttotal: 49.7s\tremaining: 5m 57s\n",
      "61:\tlearn: 0.4088797\ttotal: 50.5s\tremaining: 5m 56s\n",
      "62:\tlearn: 0.4080864\ttotal: 51.3s\tremaining: 5m 55s\n",
      "63:\tlearn: 0.4073919\ttotal: 52.1s\tremaining: 5m 54s\n",
      "64:\tlearn: 0.4069317\ttotal: 53.1s\tremaining: 5m 55s\n",
      "65:\tlearn: 0.4063530\ttotal: 54.3s\tremaining: 5m 57s\n",
      "66:\tlearn: 0.4059636\ttotal: 55.2s\tremaining: 5m 56s\n",
      "67:\tlearn: 0.4055270\ttotal: 56s\tremaining: 5m 55s\n",
      "68:\tlearn: 0.4052724\ttotal: 56.7s\tremaining: 5m 54s\n",
      "69:\tlearn: 0.4048251\ttotal: 57.4s\tremaining: 5m 52s\n",
      "70:\tlearn: 0.4041819\ttotal: 58.3s\tremaining: 5m 52s\n",
      "71:\tlearn: 0.4039856\ttotal: 59.1s\tremaining: 5m 51s\n",
      "72:\tlearn: 0.4029264\ttotal: 59.8s\tremaining: 5m 49s\n",
      "73:\tlearn: 0.4026404\ttotal: 1m\tremaining: 5m 48s\n",
      "74:\tlearn: 0.4021005\ttotal: 1m 1s\tremaining: 5m 47s\n",
      "75:\tlearn: 0.4015620\ttotal: 1m 2s\tremaining: 5m 47s\n",
      "76:\tlearn: 0.4012312\ttotal: 1m 3s\tremaining: 5m 47s\n",
      "77:\tlearn: 0.4007616\ttotal: 1m 4s\tremaining: 5m 46s\n",
      "78:\tlearn: 0.4004695\ttotal: 1m 4s\tremaining: 5m 45s\n",
      "79:\tlearn: 0.3998575\ttotal: 1m 5s\tremaining: 5m 44s\n",
      "80:\tlearn: 0.3990512\ttotal: 1m 6s\tremaining: 5m 44s\n",
      "81:\tlearn: 0.3984905\ttotal: 1m 7s\tremaining: 5m 43s\n",
      "82:\tlearn: 0.3980360\ttotal: 1m 8s\tremaining: 5m 42s\n",
      "83:\tlearn: 0.3977514\ttotal: 1m 8s\tremaining: 5m 41s\n",
      "84:\tlearn: 0.3972850\ttotal: 1m 9s\tremaining: 5m 40s\n",
      "85:\tlearn: 0.3968359\ttotal: 1m 10s\tremaining: 5m 38s\n",
      "86:\tlearn: 0.3961032\ttotal: 1m 11s\tremaining: 5m 37s\n",
      "87:\tlearn: 0.3956934\ttotal: 1m 11s\tremaining: 5m 36s\n",
      "88:\tlearn: 0.3951106\ttotal: 1m 12s\tremaining: 5m 35s\n",
      "89:\tlearn: 0.3945316\ttotal: 1m 13s\tremaining: 5m 34s\n",
      "90:\tlearn: 0.3943277\ttotal: 1m 14s\tremaining: 5m 33s\n",
      "91:\tlearn: 0.3938421\ttotal: 1m 15s\tremaining: 5m 32s\n",
      "92:\tlearn: 0.3935344\ttotal: 1m 15s\tremaining: 5m 31s\n",
      "93:\tlearn: 0.3933943\ttotal: 1m 16s\tremaining: 5m 30s\n",
      "94:\tlearn: 0.3931030\ttotal: 1m 17s\tremaining: 5m 29s\n",
      "95:\tlearn: 0.3927674\ttotal: 1m 18s\tremaining: 5m 28s\n",
      "96:\tlearn: 0.3925325\ttotal: 1m 18s\tremaining: 5m 27s\n",
      "97:\tlearn: 0.3922446\ttotal: 1m 19s\tremaining: 5m 26s\n",
      "98:\tlearn: 0.3918623\ttotal: 1m 20s\tremaining: 5m 25s\n",
      "99:\tlearn: 0.3916300\ttotal: 1m 21s\tremaining: 5m 24s\n",
      "100:\tlearn: 0.3913927\ttotal: 1m 21s\tremaining: 5m 23s\n",
      "101:\tlearn: 0.3908312\ttotal: 1m 22s\tremaining: 5m 22s\n",
      "102:\tlearn: 0.3901769\ttotal: 1m 23s\tremaining: 5m 21s\n",
      "103:\tlearn: 0.3896331\ttotal: 1m 24s\tremaining: 5m 20s\n",
      "104:\tlearn: 0.3892942\ttotal: 1m 24s\tremaining: 5m 19s\n",
      "105:\tlearn: 0.3886203\ttotal: 1m 25s\tremaining: 5m 18s\n",
      "106:\tlearn: 0.3882118\ttotal: 1m 26s\tremaining: 5m 17s\n",
      "107:\tlearn: 0.3878681\ttotal: 1m 27s\tremaining: 5m 16s\n",
      "108:\tlearn: 0.3875796\ttotal: 1m 28s\tremaining: 5m 15s\n",
      "109:\tlearn: 0.3873116\ttotal: 1m 28s\tremaining: 5m 14s\n",
      "110:\tlearn: 0.3867322\ttotal: 1m 29s\tremaining: 5m 13s\n",
      "111:\tlearn: 0.3864850\ttotal: 1m 30s\tremaining: 5m 12s\n",
      "112:\tlearn: 0.3861108\ttotal: 1m 30s\tremaining: 5m 11s\n",
      "113:\tlearn: 0.3858238\ttotal: 1m 31s\tremaining: 5m 10s\n",
      "114:\tlearn: 0.3855634\ttotal: 1m 32s\tremaining: 5m 9s\n",
      "115:\tlearn: 0.3854192\ttotal: 1m 33s\tremaining: 5m 8s\n",
      "116:\tlearn: 0.3850353\ttotal: 1m 33s\tremaining: 5m 7s\n",
      "117:\tlearn: 0.3848537\ttotal: 1m 34s\tremaining: 5m 6s\n",
      "118:\tlearn: 0.3847010\ttotal: 1m 35s\tremaining: 5m 5s\n",
      "119:\tlearn: 0.3845426\ttotal: 1m 36s\tremaining: 5m 4s\n",
      "120:\tlearn: 0.3839897\ttotal: 1m 36s\tremaining: 5m 3s\n",
      "121:\tlearn: 0.3836794\ttotal: 1m 37s\tremaining: 5m 2s\n",
      "122:\tlearn: 0.3835511\ttotal: 1m 38s\tremaining: 5m 1s\n",
      "123:\tlearn: 0.3834141\ttotal: 1m 39s\tremaining: 5m\n",
      "124:\tlearn: 0.3830274\ttotal: 1m 39s\tremaining: 4m 59s\n",
      "125:\tlearn: 0.3823591\ttotal: 1m 40s\tremaining: 4m 58s\n",
      "126:\tlearn: 0.3821981\ttotal: 1m 41s\tremaining: 4m 57s\n",
      "127:\tlearn: 0.3819893\ttotal: 1m 42s\tremaining: 4m 56s\n",
      "128:\tlearn: 0.3815183\ttotal: 1m 42s\tremaining: 4m 56s\n",
      "129:\tlearn: 0.3812837\ttotal: 1m 43s\tremaining: 4m 55s\n",
      "130:\tlearn: 0.3811023\ttotal: 1m 44s\tremaining: 4m 54s\n",
      "131:\tlearn: 0.3809206\ttotal: 1m 45s\tremaining: 4m 53s\n",
      "132:\tlearn: 0.3807629\ttotal: 1m 45s\tremaining: 4m 52s\n",
      "133:\tlearn: 0.3804712\ttotal: 1m 46s\tremaining: 4m 51s\n",
      "134:\tlearn: 0.3802163\ttotal: 1m 47s\tremaining: 4m 50s\n",
      "135:\tlearn: 0.3799044\ttotal: 1m 48s\tremaining: 4m 49s\n",
      "136:\tlearn: 0.3795679\ttotal: 1m 49s\tremaining: 4m 48s\n",
      "137:\tlearn: 0.3790312\ttotal: 1m 49s\tremaining: 4m 48s\n",
      "138:\tlearn: 0.3789466\ttotal: 1m 50s\tremaining: 4m 47s\n",
      "139:\tlearn: 0.3787567\ttotal: 1m 51s\tremaining: 4m 46s\n",
      "140:\tlearn: 0.3785552\ttotal: 1m 52s\tremaining: 4m 45s\n",
      "141:\tlearn: 0.3782935\ttotal: 1m 52s\tremaining: 4m 44s\n",
      "142:\tlearn: 0.3780308\ttotal: 1m 53s\tremaining: 4m 43s\n",
      "143:\tlearn: 0.3778693\ttotal: 1m 54s\tremaining: 4m 42s\n",
      "144:\tlearn: 0.3776866\ttotal: 1m 55s\tremaining: 4m 41s\n",
      "145:\tlearn: 0.3775584\ttotal: 1m 55s\tremaining: 4m 40s\n",
      "146:\tlearn: 0.3770075\ttotal: 1m 56s\tremaining: 4m 39s\n",
      "147:\tlearn: 0.3766064\ttotal: 1m 57s\tremaining: 4m 39s\n",
      "148:\tlearn: 0.3763632\ttotal: 1m 58s\tremaining: 4m 38s\n",
      "149:\tlearn: 0.3763196\ttotal: 1m 58s\tremaining: 4m 37s\n",
      "150:\tlearn: 0.3762177\ttotal: 1m 59s\tremaining: 4m 36s\n",
      "151:\tlearn: 0.3761783\ttotal: 2m\tremaining: 4m 35s\n",
      "152:\tlearn: 0.3758679\ttotal: 2m 1s\tremaining: 4m 34s\n",
      "153:\tlearn: 0.3756586\ttotal: 2m 1s\tremaining: 4m 33s\n",
      "154:\tlearn: 0.3754115\ttotal: 2m 2s\tremaining: 4m 32s\n",
      "155:\tlearn: 0.3751147\ttotal: 2m 3s\tremaining: 4m 32s\n"
     ]
    },
    {
     "name": "stdout",
     "output_type": "stream",
     "text": [
      "156:\tlearn: 0.3749524\ttotal: 2m 4s\tremaining: 4m 31s\n",
      "157:\tlearn: 0.3747805\ttotal: 2m 5s\tremaining: 4m 30s\n",
      "158:\tlearn: 0.3743369\ttotal: 2m 5s\tremaining: 4m 29s\n",
      "159:\tlearn: 0.3740372\ttotal: 2m 6s\tremaining: 4m 29s\n",
      "160:\tlearn: 0.3738702\ttotal: 2m 7s\tremaining: 4m 28s\n",
      "161:\tlearn: 0.3737477\ttotal: 2m 8s\tremaining: 4m 27s\n",
      "162:\tlearn: 0.3734537\ttotal: 2m 8s\tremaining: 4m 26s\n",
      "163:\tlearn: 0.3732735\ttotal: 2m 9s\tremaining: 4m 25s\n",
      "164:\tlearn: 0.3730565\ttotal: 2m 10s\tremaining: 4m 24s\n",
      "165:\tlearn: 0.3728380\ttotal: 2m 11s\tremaining: 4m 24s\n",
      "166:\tlearn: 0.3727857\ttotal: 2m 12s\tremaining: 4m 23s\n",
      "167:\tlearn: 0.3727015\ttotal: 2m 12s\tremaining: 4m 22s\n",
      "168:\tlearn: 0.3725283\ttotal: 2m 13s\tremaining: 4m 21s\n",
      "169:\tlearn: 0.3723326\ttotal: 2m 14s\tremaining: 4m 21s\n",
      "170:\tlearn: 0.3721879\ttotal: 2m 15s\tremaining: 4m 20s\n",
      "171:\tlearn: 0.3720211\ttotal: 2m 16s\tremaining: 4m 19s\n",
      "172:\tlearn: 0.3718750\ttotal: 2m 16s\tremaining: 4m 18s\n",
      "173:\tlearn: 0.3715411\ttotal: 2m 17s\tremaining: 4m 17s\n",
      "174:\tlearn: 0.3714683\ttotal: 2m 18s\tremaining: 4m 17s\n",
      "175:\tlearn: 0.3713362\ttotal: 2m 19s\tremaining: 4m 16s\n",
      "176:\tlearn: 0.3711274\ttotal: 2m 20s\tremaining: 4m 15s\n",
      "177:\tlearn: 0.3709527\ttotal: 2m 20s\tremaining: 4m 14s\n",
      "178:\tlearn: 0.3708017\ttotal: 2m 21s\tremaining: 4m 14s\n",
      "179:\tlearn: 0.3705676\ttotal: 2m 22s\tremaining: 4m 13s\n",
      "180:\tlearn: 0.3701942\ttotal: 2m 23s\tremaining: 4m 12s\n",
      "181:\tlearn: 0.3696918\ttotal: 2m 23s\tremaining: 4m 11s\n",
      "182:\tlearn: 0.3695259\ttotal: 2m 24s\tremaining: 4m 10s\n",
      "183:\tlearn: 0.3693966\ttotal: 2m 25s\tremaining: 4m 9s\n",
      "184:\tlearn: 0.3688619\ttotal: 2m 26s\tremaining: 4m 8s\n",
      "185:\tlearn: 0.3686337\ttotal: 2m 27s\tremaining: 4m 8s\n",
      "186:\tlearn: 0.3684485\ttotal: 2m 27s\tremaining: 4m 7s\n",
      "187:\tlearn: 0.3681966\ttotal: 2m 28s\tremaining: 4m 6s\n",
      "188:\tlearn: 0.3679641\ttotal: 2m 29s\tremaining: 4m 5s\n",
      "189:\tlearn: 0.3676665\ttotal: 2m 30s\tremaining: 4m 4s\n",
      "190:\tlearn: 0.3673562\ttotal: 2m 30s\tremaining: 4m 4s\n",
      "191:\tlearn: 0.3672146\ttotal: 2m 31s\tremaining: 4m 3s\n",
      "192:\tlearn: 0.3671090\ttotal: 2m 32s\tremaining: 4m 2s\n",
      "193:\tlearn: 0.3670477\ttotal: 2m 33s\tremaining: 4m 1s\n",
      "194:\tlearn: 0.3667090\ttotal: 2m 34s\tremaining: 4m 1s\n",
      "195:\tlearn: 0.3666267\ttotal: 2m 34s\tremaining: 4m\n",
      "196:\tlearn: 0.3664789\ttotal: 2m 35s\tremaining: 3m 59s\n",
      "197:\tlearn: 0.3663874\ttotal: 2m 36s\tremaining: 3m 58s\n",
      "198:\tlearn: 0.3663576\ttotal: 2m 37s\tremaining: 3m 57s\n",
      "199:\tlearn: 0.3660833\ttotal: 2m 37s\tremaining: 3m 56s\n",
      "200:\tlearn: 0.3659068\ttotal: 2m 38s\tremaining: 3m 55s\n",
      "201:\tlearn: 0.3657081\ttotal: 2m 39s\tremaining: 3m 55s\n",
      "202:\tlearn: 0.3655462\ttotal: 2m 40s\tremaining: 3m 54s\n",
      "203:\tlearn: 0.3653678\ttotal: 2m 40s\tremaining: 3m 53s\n",
      "204:\tlearn: 0.3651280\ttotal: 2m 41s\tremaining: 3m 52s\n",
      "205:\tlearn: 0.3650199\ttotal: 2m 42s\tremaining: 3m 51s\n",
      "206:\tlearn: 0.3647918\ttotal: 2m 43s\tremaining: 3m 51s\n",
      "207:\tlearn: 0.3646838\ttotal: 2m 44s\tremaining: 3m 50s\n",
      "208:\tlearn: 0.3646541\ttotal: 2m 44s\tremaining: 3m 49s\n",
      "209:\tlearn: 0.3644721\ttotal: 2m 45s\tremaining: 3m 48s\n",
      "210:\tlearn: 0.3642914\ttotal: 2m 46s\tremaining: 3m 47s\n",
      "211:\tlearn: 0.3641735\ttotal: 2m 47s\tremaining: 3m 47s\n",
      "212:\tlearn: 0.3639639\ttotal: 2m 47s\tremaining: 3m 46s\n",
      "213:\tlearn: 0.3638332\ttotal: 2m 48s\tremaining: 3m 45s\n",
      "214:\tlearn: 0.3636465\ttotal: 2m 49s\tremaining: 3m 44s\n",
      "215:\tlearn: 0.3634914\ttotal: 2m 50s\tremaining: 3m 43s\n",
      "216:\tlearn: 0.3633403\ttotal: 2m 50s\tremaining: 3m 42s\n",
      "217:\tlearn: 0.3630499\ttotal: 2m 51s\tremaining: 3m 42s\n",
      "218:\tlearn: 0.3625572\ttotal: 2m 52s\tremaining: 3m 41s\n",
      "219:\tlearn: 0.3624810\ttotal: 2m 53s\tremaining: 3m 40s\n",
      "220:\tlearn: 0.3623900\ttotal: 2m 53s\tremaining: 3m 39s\n",
      "221:\tlearn: 0.3621582\ttotal: 2m 54s\tremaining: 3m 38s\n",
      "222:\tlearn: 0.3619705\ttotal: 2m 55s\tremaining: 3m 37s\n",
      "223:\tlearn: 0.3614576\ttotal: 2m 56s\tremaining: 3m 37s\n",
      "224:\tlearn: 0.3613389\ttotal: 2m 56s\tremaining: 3m 36s\n",
      "225:\tlearn: 0.3611093\ttotal: 2m 57s\tremaining: 3m 35s\n",
      "226:\tlearn: 0.3610213\ttotal: 2m 58s\tremaining: 3m 34s\n",
      "227:\tlearn: 0.3607083\ttotal: 2m 59s\tremaining: 3m 33s\n",
      "228:\tlearn: 0.3605460\ttotal: 3m\tremaining: 3m 33s\n",
      "229:\tlearn: 0.3603238\ttotal: 3m\tremaining: 3m 32s\n",
      "230:\tlearn: 0.3601103\ttotal: 3m 1s\tremaining: 3m 31s\n",
      "231:\tlearn: 0.3599198\ttotal: 3m 2s\tremaining: 3m 30s\n",
      "232:\tlearn: 0.3596207\ttotal: 3m 3s\tremaining: 3m 29s\n",
      "233:\tlearn: 0.3595241\ttotal: 3m 3s\tremaining: 3m 28s\n",
      "234:\tlearn: 0.3594241\ttotal: 3m 4s\tremaining: 3m 28s\n",
      "235:\tlearn: 0.3592604\ttotal: 3m 5s\tremaining: 3m 27s\n",
      "236:\tlearn: 0.3592358\ttotal: 3m 6s\tremaining: 3m 26s\n",
      "237:\tlearn: 0.3589734\ttotal: 3m 6s\tremaining: 3m 25s\n",
      "238:\tlearn: 0.3588636\ttotal: 3m 7s\tremaining: 3m 24s\n",
      "239:\tlearn: 0.3585851\ttotal: 3m 8s\tremaining: 3m 23s\n",
      "240:\tlearn: 0.3583156\ttotal: 3m 9s\tremaining: 3m 23s\n",
      "241:\tlearn: 0.3580591\ttotal: 3m 9s\tremaining: 3m 22s\n",
      "242:\tlearn: 0.3577729\ttotal: 3m 10s\tremaining: 3m 21s\n",
      "243:\tlearn: 0.3575874\ttotal: 3m 11s\tremaining: 3m 20s\n",
      "244:\tlearn: 0.3572986\ttotal: 3m 12s\tremaining: 3m 19s\n",
      "245:\tlearn: 0.3572112\ttotal: 3m 12s\tremaining: 3m 19s\n",
      "246:\tlearn: 0.3571341\ttotal: 3m 13s\tremaining: 3m 18s\n",
      "247:\tlearn: 0.3569909\ttotal: 3m 14s\tremaining: 3m 17s\n",
      "248:\tlearn: 0.3568048\ttotal: 3m 15s\tremaining: 3m 16s\n",
      "249:\tlearn: 0.3566831\ttotal: 3m 16s\tremaining: 3m 16s\n",
      "250:\tlearn: 0.3566096\ttotal: 3m 16s\tremaining: 3m 15s\n",
      "251:\tlearn: 0.3564047\ttotal: 3m 17s\tremaining: 3m 14s\n",
      "252:\tlearn: 0.3562761\ttotal: 3m 18s\tremaining: 3m 13s\n",
      "253:\tlearn: 0.3559483\ttotal: 3m 18s\tremaining: 3m 12s\n",
      "254:\tlearn: 0.3558700\ttotal: 3m 19s\tremaining: 3m 11s\n",
      "255:\tlearn: 0.3557565\ttotal: 3m 20s\tremaining: 3m 10s\n",
      "256:\tlearn: 0.3554939\ttotal: 3m 21s\tremaining: 3m 10s\n",
      "257:\tlearn: 0.3554271\ttotal: 3m 21s\tremaining: 3m 9s\n",
      "258:\tlearn: 0.3552594\ttotal: 3m 22s\tremaining: 3m 8s\n",
      "259:\tlearn: 0.3550644\ttotal: 3m 23s\tremaining: 3m 7s\n",
      "260:\tlearn: 0.3550149\ttotal: 3m 24s\tremaining: 3m 6s\n",
      "261:\tlearn: 0.3549717\ttotal: 3m 24s\tremaining: 3m 6s\n",
      "262:\tlearn: 0.3548400\ttotal: 3m 25s\tremaining: 3m 5s\n",
      "263:\tlearn: 0.3546502\ttotal: 3m 26s\tremaining: 3m 4s\n",
      "264:\tlearn: 0.3544283\ttotal: 3m 27s\tremaining: 3m 3s\n",
      "265:\tlearn: 0.3542706\ttotal: 3m 27s\tremaining: 3m 2s\n",
      "266:\tlearn: 0.3540959\ttotal: 3m 28s\tremaining: 3m 2s\n",
      "267:\tlearn: 0.3538501\ttotal: 3m 29s\tremaining: 3m 1s\n",
      "268:\tlearn: 0.3538089\ttotal: 3m 30s\tremaining: 3m\n",
      "269:\tlearn: 0.3536672\ttotal: 3m 30s\tremaining: 2m 59s\n",
      "270:\tlearn: 0.3535528\ttotal: 3m 31s\tremaining: 2m 58s\n",
      "271:\tlearn: 0.3534474\ttotal: 3m 32s\tremaining: 2m 58s\n",
      "272:\tlearn: 0.3530130\ttotal: 3m 33s\tremaining: 2m 57s\n",
      "273:\tlearn: 0.3529360\ttotal: 3m 33s\tremaining: 2m 56s\n",
      "274:\tlearn: 0.3527790\ttotal: 3m 34s\tremaining: 2m 55s\n",
      "275:\tlearn: 0.3527500\ttotal: 3m 35s\tremaining: 2m 54s\n",
      "276:\tlearn: 0.3526164\ttotal: 3m 36s\tremaining: 2m 54s\n",
      "277:\tlearn: 0.3524218\ttotal: 3m 36s\tremaining: 2m 53s\n",
      "278:\tlearn: 0.3522306\ttotal: 3m 37s\tremaining: 2m 52s\n",
      "279:\tlearn: 0.3521811\ttotal: 3m 38s\tremaining: 2m 51s\n",
      "280:\tlearn: 0.3520868\ttotal: 3m 39s\tremaining: 2m 50s\n",
      "281:\tlearn: 0.3520262\ttotal: 3m 39s\tremaining: 2m 50s\n",
      "282:\tlearn: 0.3517441\ttotal: 3m 40s\tremaining: 2m 49s\n",
      "283:\tlearn: 0.3516797\ttotal: 3m 41s\tremaining: 2m 48s\n",
      "284:\tlearn: 0.3516470\ttotal: 3m 42s\tremaining: 2m 47s\n",
      "285:\tlearn: 0.3515151\ttotal: 3m 43s\tremaining: 2m 47s\n",
      "286:\tlearn: 0.3513721\ttotal: 3m 44s\tremaining: 2m 46s\n",
      "287:\tlearn: 0.3511656\ttotal: 3m 45s\tremaining: 2m 45s\n",
      "288:\tlearn: 0.3510507\ttotal: 3m 45s\tremaining: 2m 44s\n",
      "289:\tlearn: 0.3508235\ttotal: 3m 46s\tremaining: 2m 44s\n",
      "290:\tlearn: 0.3506446\ttotal: 3m 47s\tremaining: 2m 43s\n",
      "291:\tlearn: 0.3505244\ttotal: 3m 48s\tremaining: 2m 42s\n",
      "292:\tlearn: 0.3502709\ttotal: 3m 49s\tremaining: 2m 41s\n",
      "293:\tlearn: 0.3501347\ttotal: 3m 49s\tremaining: 2m 41s\n",
      "294:\tlearn: 0.3497070\ttotal: 3m 50s\tremaining: 2m 40s\n",
      "295:\tlearn: 0.3495436\ttotal: 3m 51s\tremaining: 2m 39s\n",
      "296:\tlearn: 0.3494615\ttotal: 3m 52s\tremaining: 2m 38s\n",
      "297:\tlearn: 0.3493770\ttotal: 3m 53s\tremaining: 2m 38s\n",
      "298:\tlearn: 0.3493337\ttotal: 3m 54s\tremaining: 2m 37s\n",
      "299:\tlearn: 0.3492846\ttotal: 3m 54s\tremaining: 2m 36s\n",
      "300:\tlearn: 0.3491963\ttotal: 3m 55s\tremaining: 2m 35s\n",
      "301:\tlearn: 0.3491031\ttotal: 3m 56s\tremaining: 2m 35s\n",
      "302:\tlearn: 0.3487505\ttotal: 3m 57s\tremaining: 2m 34s\n",
      "303:\tlearn: 0.3485833\ttotal: 3m 58s\tremaining: 2m 33s\n",
      "304:\tlearn: 0.3482736\ttotal: 3m 59s\tremaining: 2m 32s\n",
      "305:\tlearn: 0.3482567\ttotal: 3m 59s\tremaining: 2m 32s\n",
      "306:\tlearn: 0.3482213\ttotal: 4m\tremaining: 2m 31s\n",
      "307:\tlearn: 0.3481100\ttotal: 4m 1s\tremaining: 2m 30s\n",
      "308:\tlearn: 0.3479989\ttotal: 4m 2s\tremaining: 2m 29s\n"
     ]
    },
    {
     "name": "stdout",
     "output_type": "stream",
     "text": [
      "309:\tlearn: 0.3479735\ttotal: 4m 2s\tremaining: 2m 28s\n",
      "310:\tlearn: 0.3478165\ttotal: 4m 3s\tremaining: 2m 28s\n",
      "311:\tlearn: 0.3477276\ttotal: 4m 4s\tremaining: 2m 27s\n",
      "312:\tlearn: 0.3475582\ttotal: 4m 5s\tremaining: 2m 26s\n",
      "313:\tlearn: 0.3475404\ttotal: 4m 6s\tremaining: 2m 25s\n",
      "314:\tlearn: 0.3473156\ttotal: 4m 7s\tremaining: 2m 25s\n",
      "315:\tlearn: 0.3472293\ttotal: 4m 7s\tremaining: 2m 24s\n",
      "316:\tlearn: 0.3471742\ttotal: 4m 8s\tremaining: 2m 23s\n",
      "317:\tlearn: 0.3468424\ttotal: 4m 9s\tremaining: 2m 22s\n",
      "318:\tlearn: 0.3465402\ttotal: 4m 10s\tremaining: 2m 22s\n",
      "319:\tlearn: 0.3462340\ttotal: 4m 11s\tremaining: 2m 21s\n",
      "320:\tlearn: 0.3461515\ttotal: 4m 12s\tremaining: 2m 20s\n",
      "321:\tlearn: 0.3460213\ttotal: 4m 13s\tremaining: 2m 20s\n",
      "322:\tlearn: 0.3458394\ttotal: 4m 14s\tremaining: 2m 19s\n",
      "323:\tlearn: 0.3457712\ttotal: 4m 15s\tremaining: 2m 18s\n",
      "324:\tlearn: 0.3455907\ttotal: 4m 16s\tremaining: 2m 17s\n",
      "325:\tlearn: 0.3454078\ttotal: 4m 16s\tremaining: 2m 17s\n",
      "326:\tlearn: 0.3451305\ttotal: 4m 17s\tremaining: 2m 16s\n",
      "327:\tlearn: 0.3449592\ttotal: 4m 18s\tremaining: 2m 15s\n",
      "328:\tlearn: 0.3449389\ttotal: 4m 19s\tremaining: 2m 14s\n",
      "329:\tlearn: 0.3448485\ttotal: 4m 19s\tremaining: 2m 13s\n",
      "330:\tlearn: 0.3447358\ttotal: 4m 20s\tremaining: 2m 13s\n",
      "331:\tlearn: 0.3445154\ttotal: 4m 21s\tremaining: 2m 12s\n",
      "332:\tlearn: 0.3443349\ttotal: 4m 22s\tremaining: 2m 11s\n",
      "333:\tlearn: 0.3442470\ttotal: 4m 23s\tremaining: 2m 10s\n",
      "334:\tlearn: 0.3441171\ttotal: 4m 23s\tremaining: 2m 9s\n",
      "335:\tlearn: 0.3439793\ttotal: 4m 24s\tremaining: 2m 9s\n",
      "336:\tlearn: 0.3438238\ttotal: 4m 25s\tremaining: 2m 8s\n",
      "337:\tlearn: 0.3437487\ttotal: 4m 26s\tremaining: 2m 7s\n",
      "338:\tlearn: 0.3435766\ttotal: 4m 26s\tremaining: 2m 6s\n",
      "339:\tlearn: 0.3435103\ttotal: 4m 27s\tremaining: 2m 5s\n",
      "340:\tlearn: 0.3434103\ttotal: 4m 28s\tremaining: 2m 5s\n",
      "341:\tlearn: 0.3433133\ttotal: 4m 29s\tremaining: 2m 4s\n",
      "342:\tlearn: 0.3432154\ttotal: 4m 29s\tremaining: 2m 3s\n",
      "343:\tlearn: 0.3430958\ttotal: 4m 30s\tremaining: 2m 2s\n",
      "344:\tlearn: 0.3430299\ttotal: 4m 31s\tremaining: 2m 1s\n",
      "345:\tlearn: 0.3428112\ttotal: 4m 32s\tremaining: 2m 1s\n",
      "346:\tlearn: 0.3428005\ttotal: 4m 32s\tremaining: 2m\n",
      "347:\tlearn: 0.3425719\ttotal: 4m 33s\tremaining: 1m 59s\n",
      "348:\tlearn: 0.3425233\ttotal: 4m 34s\tremaining: 1m 58s\n",
      "349:\tlearn: 0.3424562\ttotal: 4m 35s\tremaining: 1m 57s\n",
      "350:\tlearn: 0.3423089\ttotal: 4m 36s\tremaining: 1m 57s\n",
      "351:\tlearn: 0.3422051\ttotal: 4m 36s\tremaining: 1m 56s\n",
      "352:\tlearn: 0.3420655\ttotal: 4m 37s\tremaining: 1m 55s\n",
      "353:\tlearn: 0.3419903\ttotal: 4m 38s\tremaining: 1m 54s\n",
      "354:\tlearn: 0.3419358\ttotal: 4m 39s\tremaining: 1m 54s\n",
      "355:\tlearn: 0.3417905\ttotal: 4m 39s\tremaining: 1m 53s\n",
      "356:\tlearn: 0.3417370\ttotal: 4m 40s\tremaining: 1m 52s\n",
      "357:\tlearn: 0.3415551\ttotal: 4m 41s\tremaining: 1m 51s\n",
      "358:\tlearn: 0.3414013\ttotal: 4m 42s\tremaining: 1m 50s\n",
      "359:\tlearn: 0.3413132\ttotal: 4m 43s\tremaining: 1m 50s\n",
      "360:\tlearn: 0.3412235\ttotal: 4m 43s\tremaining: 1m 49s\n",
      "361:\tlearn: 0.3411975\ttotal: 4m 44s\tremaining: 1m 48s\n",
      "362:\tlearn: 0.3409402\ttotal: 4m 45s\tremaining: 1m 47s\n",
      "363:\tlearn: 0.3408379\ttotal: 4m 46s\tremaining: 1m 46s\n",
      "364:\tlearn: 0.3406636\ttotal: 4m 46s\tremaining: 1m 46s\n",
      "365:\tlearn: 0.3405822\ttotal: 4m 47s\tremaining: 1m 45s\n",
      "366:\tlearn: 0.3403679\ttotal: 4m 48s\tremaining: 1m 44s\n",
      "367:\tlearn: 0.3401604\ttotal: 4m 49s\tremaining: 1m 43s\n",
      "368:\tlearn: 0.3398433\ttotal: 4m 49s\tremaining: 1m 42s\n",
      "369:\tlearn: 0.3395926\ttotal: 4m 50s\tremaining: 1m 42s\n",
      "370:\tlearn: 0.3393951\ttotal: 4m 51s\tremaining: 1m 41s\n",
      "371:\tlearn: 0.3391387\ttotal: 4m 52s\tremaining: 1m 40s\n",
      "372:\tlearn: 0.3390341\ttotal: 4m 52s\tremaining: 1m 39s\n",
      "373:\tlearn: 0.3385843\ttotal: 4m 53s\tremaining: 1m 38s\n",
      "374:\tlearn: 0.3384612\ttotal: 4m 54s\tremaining: 1m 38s\n",
      "375:\tlearn: 0.3383818\ttotal: 4m 55s\tremaining: 1m 37s\n",
      "376:\tlearn: 0.3382385\ttotal: 4m 56s\tremaining: 1m 36s\n",
      "377:\tlearn: 0.3381266\ttotal: 4m 56s\tremaining: 1m 35s\n",
      "378:\tlearn: 0.3380375\ttotal: 4m 57s\tremaining: 1m 34s\n",
      "379:\tlearn: 0.3378976\ttotal: 4m 58s\tremaining: 1m 34s\n",
      "380:\tlearn: 0.3377774\ttotal: 4m 59s\tremaining: 1m 33s\n",
      "381:\tlearn: 0.3377593\ttotal: 4m 59s\tremaining: 1m 32s\n",
      "382:\tlearn: 0.3372857\ttotal: 5m\tremaining: 1m 31s\n",
      "383:\tlearn: 0.3372430\ttotal: 5m 1s\tremaining: 1m 31s\n",
      "384:\tlearn: 0.3371619\ttotal: 5m 2s\tremaining: 1m 30s\n",
      "385:\tlearn: 0.3368725\ttotal: 5m 2s\tremaining: 1m 29s\n",
      "386:\tlearn: 0.3367136\ttotal: 5m 3s\tremaining: 1m 28s\n",
      "387:\tlearn: 0.3366233\ttotal: 5m 4s\tremaining: 1m 27s\n",
      "388:\tlearn: 0.3365615\ttotal: 5m 5s\tremaining: 1m 27s\n",
      "389:\tlearn: 0.3362621\ttotal: 5m 5s\tremaining: 1m 26s\n",
      "390:\tlearn: 0.3360633\ttotal: 5m 6s\tremaining: 1m 25s\n",
      "391:\tlearn: 0.3357639\ttotal: 5m 7s\tremaining: 1m 24s\n",
      "392:\tlearn: 0.3356295\ttotal: 5m 8s\tremaining: 1m 23s\n",
      "393:\tlearn: 0.3355391\ttotal: 5m 9s\tremaining: 1m 23s\n",
      "394:\tlearn: 0.3354027\ttotal: 5m 9s\tremaining: 1m 22s\n",
      "395:\tlearn: 0.3352275\ttotal: 5m 10s\tremaining: 1m 21s\n",
      "396:\tlearn: 0.3351331\ttotal: 5m 11s\tremaining: 1m 20s\n",
      "397:\tlearn: 0.3350132\ttotal: 5m 12s\tremaining: 1m 20s\n",
      "398:\tlearn: 0.3349029\ttotal: 5m 13s\tremaining: 1m 19s\n",
      "399:\tlearn: 0.3347863\ttotal: 5m 13s\tremaining: 1m 18s\n",
      "400:\tlearn: 0.3346218\ttotal: 5m 14s\tremaining: 1m 17s\n",
      "401:\tlearn: 0.3344282\ttotal: 5m 15s\tremaining: 1m 16s\n",
      "402:\tlearn: 0.3343332\ttotal: 5m 16s\tremaining: 1m 16s\n",
      "403:\tlearn: 0.3342095\ttotal: 5m 17s\tremaining: 1m 15s\n",
      "404:\tlearn: 0.3341110\ttotal: 5m 17s\tremaining: 1m 14s\n",
      "405:\tlearn: 0.3338183\ttotal: 5m 18s\tremaining: 1m 13s\n",
      "406:\tlearn: 0.3337225\ttotal: 5m 19s\tremaining: 1m 13s\n",
      "407:\tlearn: 0.3334558\ttotal: 5m 20s\tremaining: 1m 12s\n",
      "408:\tlearn: 0.3334277\ttotal: 5m 21s\tremaining: 1m 11s\n",
      "409:\tlearn: 0.3333641\ttotal: 5m 21s\tremaining: 1m 10s\n",
      "410:\tlearn: 0.3331345\ttotal: 5m 22s\tremaining: 1m 9s\n",
      "411:\tlearn: 0.3330132\ttotal: 5m 23s\tremaining: 1m 9s\n",
      "412:\tlearn: 0.3328937\ttotal: 5m 24s\tremaining: 1m 8s\n",
      "413:\tlearn: 0.3327899\ttotal: 5m 25s\tremaining: 1m 7s\n",
      "414:\tlearn: 0.3326566\ttotal: 5m 26s\tremaining: 1m 6s\n",
      "415:\tlearn: 0.3326082\ttotal: 5m 26s\tremaining: 1m 6s\n",
      "416:\tlearn: 0.3324118\ttotal: 5m 27s\tremaining: 1m 5s\n",
      "417:\tlearn: 0.3323328\ttotal: 5m 28s\tremaining: 1m 4s\n",
      "418:\tlearn: 0.3320165\ttotal: 5m 29s\tremaining: 1m 3s\n",
      "419:\tlearn: 0.3318605\ttotal: 5m 30s\tremaining: 1m 2s\n",
      "420:\tlearn: 0.3315940\ttotal: 5m 30s\tremaining: 1m 2s\n",
      "421:\tlearn: 0.3315494\ttotal: 5m 31s\tremaining: 1m 1s\n",
      "422:\tlearn: 0.3314103\ttotal: 5m 32s\tremaining: 1m\n",
      "423:\tlearn: 0.3312062\ttotal: 5m 33s\tremaining: 59.8s\n",
      "424:\tlearn: 0.3310886\ttotal: 5m 34s\tremaining: 59s\n",
      "425:\tlearn: 0.3308774\ttotal: 5m 34s\tremaining: 58.2s\n",
      "426:\tlearn: 0.3307547\ttotal: 5m 35s\tremaining: 57.4s\n",
      "427:\tlearn: 0.3306268\ttotal: 5m 36s\tremaining: 56.6s\n",
      "428:\tlearn: 0.3305671\ttotal: 5m 37s\tremaining: 55.8s\n",
      "429:\tlearn: 0.3305316\ttotal: 5m 38s\tremaining: 55.1s\n",
      "430:\tlearn: 0.3304644\ttotal: 5m 39s\tremaining: 54.3s\n",
      "431:\tlearn: 0.3303585\ttotal: 5m 39s\tremaining: 53.5s\n",
      "432:\tlearn: 0.3302158\ttotal: 5m 40s\tremaining: 52.7s\n",
      "433:\tlearn: 0.3301413\ttotal: 5m 41s\tremaining: 51.9s\n",
      "434:\tlearn: 0.3300641\ttotal: 5m 42s\tremaining: 51.2s\n",
      "435:\tlearn: 0.3299509\ttotal: 5m 43s\tremaining: 50.4s\n",
      "436:\tlearn: 0.3296567\ttotal: 5m 44s\tremaining: 49.6s\n",
      "437:\tlearn: 0.3295786\ttotal: 5m 44s\tremaining: 48.8s\n",
      "438:\tlearn: 0.3294651\ttotal: 5m 45s\tremaining: 48s\n",
      "439:\tlearn: 0.3293967\ttotal: 5m 46s\tremaining: 47.3s\n",
      "440:\tlearn: 0.3292252\ttotal: 5m 47s\tremaining: 46.5s\n",
      "441:\tlearn: 0.3290544\ttotal: 5m 48s\tremaining: 45.7s\n",
      "442:\tlearn: 0.3288881\ttotal: 5m 49s\tremaining: 44.9s\n",
      "443:\tlearn: 0.3285428\ttotal: 5m 49s\tremaining: 44.1s\n",
      "444:\tlearn: 0.3284834\ttotal: 5m 50s\tremaining: 43.3s\n",
      "445:\tlearn: 0.3284609\ttotal: 5m 51s\tremaining: 42.5s\n",
      "446:\tlearn: 0.3283386\ttotal: 5m 52s\tremaining: 41.8s\n",
      "447:\tlearn: 0.3280850\ttotal: 5m 53s\tremaining: 41s\n",
      "448:\tlearn: 0.3280234\ttotal: 5m 53s\tremaining: 40.2s\n",
      "449:\tlearn: 0.3279189\ttotal: 5m 54s\tremaining: 39.4s\n",
      "450:\tlearn: 0.3274687\ttotal: 5m 55s\tremaining: 38.7s\n",
      "451:\tlearn: 0.3274186\ttotal: 5m 56s\tremaining: 37.9s\n",
      "452:\tlearn: 0.3273159\ttotal: 5m 57s\tremaining: 37.1s\n",
      "453:\tlearn: 0.3272155\ttotal: 5m 58s\tremaining: 36.3s\n",
      "454:\tlearn: 0.3270367\ttotal: 5m 59s\tremaining: 35.6s\n",
      "455:\tlearn: 0.3269268\ttotal: 6m\tremaining: 34.8s\n",
      "456:\tlearn: 0.3268090\ttotal: 6m 1s\tremaining: 34s\n",
      "457:\tlearn: 0.3266593\ttotal: 6m 2s\tremaining: 33.2s\n",
      "458:\tlearn: 0.3266208\ttotal: 6m 3s\tremaining: 32.5s\n",
      "459:\tlearn: 0.3265277\ttotal: 6m 4s\tremaining: 31.7s\n",
      "460:\tlearn: 0.3262125\ttotal: 6m 5s\tremaining: 30.9s\n",
      "461:\tlearn: 0.3261844\ttotal: 6m 6s\tremaining: 30.1s\n",
      "462:\tlearn: 0.3260835\ttotal: 6m 7s\tremaining: 29.3s\n"
     ]
    },
    {
     "name": "stdout",
     "output_type": "stream",
     "text": [
      "463:\tlearn: 0.3259361\ttotal: 6m 7s\tremaining: 28.5s\n",
      "464:\tlearn: 0.3257010\ttotal: 6m 8s\tremaining: 27.7s\n",
      "465:\tlearn: 0.3255687\ttotal: 6m 9s\tremaining: 27s\n",
      "466:\tlearn: 0.3255244\ttotal: 6m 10s\tremaining: 26.2s\n",
      "467:\tlearn: 0.3251620\ttotal: 6m 11s\tremaining: 25.4s\n",
      "468:\tlearn: 0.3249331\ttotal: 6m 12s\tremaining: 24.6s\n",
      "469:\tlearn: 0.3248887\ttotal: 6m 13s\tremaining: 23.8s\n",
      "470:\tlearn: 0.3247807\ttotal: 6m 13s\tremaining: 23s\n",
      "471:\tlearn: 0.3246669\ttotal: 6m 14s\tremaining: 22.2s\n",
      "472:\tlearn: 0.3245518\ttotal: 6m 15s\tremaining: 21.4s\n",
      "473:\tlearn: 0.3242680\ttotal: 6m 16s\tremaining: 20.7s\n",
      "474:\tlearn: 0.3241048\ttotal: 6m 17s\tremaining: 19.9s\n",
      "475:\tlearn: 0.3238474\ttotal: 6m 18s\tremaining: 19.1s\n",
      "476:\tlearn: 0.3237357\ttotal: 6m 19s\tremaining: 18.3s\n",
      "477:\tlearn: 0.3237105\ttotal: 6m 20s\tremaining: 17.5s\n",
      "478:\tlearn: 0.3233366\ttotal: 6m 21s\tremaining: 16.7s\n",
      "479:\tlearn: 0.3232275\ttotal: 6m 22s\tremaining: 15.9s\n",
      "480:\tlearn: 0.3231300\ttotal: 6m 22s\tremaining: 15.1s\n",
      "481:\tlearn: 0.3229858\ttotal: 6m 23s\tremaining: 14.3s\n",
      "482:\tlearn: 0.3228443\ttotal: 6m 24s\tremaining: 13.5s\n",
      "483:\tlearn: 0.3227943\ttotal: 6m 25s\tremaining: 12.7s\n",
      "484:\tlearn: 0.3226116\ttotal: 6m 26s\tremaining: 12s\n",
      "485:\tlearn: 0.3225911\ttotal: 6m 27s\tremaining: 11.2s\n",
      "486:\tlearn: 0.3224786\ttotal: 6m 28s\tremaining: 10.4s\n",
      "487:\tlearn: 0.3223459\ttotal: 6m 29s\tremaining: 9.57s\n",
      "488:\tlearn: 0.3221435\ttotal: 6m 29s\tremaining: 8.77s\n",
      "489:\tlearn: 0.3219937\ttotal: 6m 30s\tremaining: 7.97s\n",
      "490:\tlearn: 0.3219054\ttotal: 6m 31s\tremaining: 7.17s\n",
      "491:\tlearn: 0.3217341\ttotal: 6m 32s\tremaining: 6.38s\n",
      "492:\tlearn: 0.3216186\ttotal: 6m 32s\tremaining: 5.58s\n",
      "493:\tlearn: 0.3214827\ttotal: 6m 33s\tremaining: 4.78s\n",
      "494:\tlearn: 0.3213871\ttotal: 6m 35s\tremaining: 3.99s\n",
      "495:\tlearn: 0.3212330\ttotal: 6m 36s\tremaining: 3.19s\n",
      "496:\tlearn: 0.3211155\ttotal: 6m 37s\tremaining: 2.4s\n",
      "497:\tlearn: 0.3209643\ttotal: 6m 37s\tremaining: 1.6s\n",
      "498:\tlearn: 0.3207904\ttotal: 6m 38s\tremaining: 799ms\n",
      "499:\tlearn: 0.3206750\ttotal: 6m 39s\tremaining: 0us\n"
     ]
    },
    {
     "data": {
      "text/plain": [
       "<catboost.core.CatBoostClassifier at 0x22a827cc5e0>"
      ]
     },
     "execution_count": 54,
     "metadata": {},
     "output_type": "execute_result"
    }
   ],
   "source": [
    "clf.fit(X_train, y_train, cat_features=[\"ABC\", \"promo\", \"communication_type\", \"browser\", \"os\", \"platform\", \"country\", \"gender\", \"payment_type\"],  plot=True)"
   ]
  },
  {
   "cell_type": "code",
   "execution_count": 55,
   "metadata": {
    "id": "aJt5-Okm2h3I",
    "pycharm": {
     "name": "#%%\n"
    }
   },
   "outputs": [],
   "source": [
    "pred = clf.predict(X_test)"
   ]
  },
  {
   "cell_type": "code",
   "execution_count": 56,
   "metadata": {
    "colab": {
     "base_uri": "https://localhost:8080/"
    },
    "id": "Vz2JrMW32m3N",
    "outputId": "3056b516-013c-4b58-e1f1-f203feab9a2a",
    "pycharm": {
     "name": "#%%\n"
    }
   },
   "outputs": [
    {
     "data": {
      "text/plain": [
       "0.6296971365223166"
      ]
     },
     "execution_count": 56,
     "metadata": {},
     "output_type": "execute_result"
    }
   ],
   "source": [
    "0.2* recall_score(y_test, pred, average='macro') + 0.8* precision_score(y_test, pred, average='macro')"
   ]
  },
  {
   "cell_type": "code",
   "execution_count": 57,
   "metadata": {},
   "outputs": [
    {
     "data": {
      "text/plain": [
       "array([0, 1, 2, 3, 4, 5], dtype=int64)"
      ]
     },
     "execution_count": 57,
     "metadata": {},
     "output_type": "execute_result"
    }
   ],
   "source": [
    "clf.classes_"
   ]
  },
  {
   "cell_type": "code",
   "execution_count": 58,
   "metadata": {},
   "outputs": [
    {
     "name": "stdout",
     "output_type": "stream",
     "text": [
      "              precision    recall  f1-score   support\n",
      "\n",
      "           0       0.89      0.99      0.94     52331\n",
      "           1       0.67      0.13      0.21      4005\n",
      "           2       0.78      0.05      0.09       548\n",
      "           3       0.66      0.20      0.31       915\n",
      "           4       0.70      0.16      0.26      1097\n",
      "           5       0.61      0.11      0.19      1104\n",
      "\n",
      "    accuracy                           0.88     60000\n",
      "   macro avg       0.72      0.27      0.33     60000\n",
      "weighted avg       0.86      0.88      0.85     60000\n",
      "\n"
     ]
    }
   ],
   "source": [
    "print(classification_report(y_test, pred))"
   ]
  },
  {
   "cell_type": "code",
   "execution_count": 65,
   "metadata": {},
   "outputs": [
    {
     "name": "stdout",
     "output_type": "stream",
     "text": [
      "program_id: 11.163165211859917\n",
      "price: 8.251083565819348\n",
      "cart_month: 8.136060509182002\n",
      "cart_timestamp: 8.027525860028472\n",
      "control_month: 5.457576882256347\n",
      "id: 5.297300887263198\n",
      "student_id: 4.96599715234736\n",
      "age_indicator: 4.699769791108958\n",
      "cart_day: 3.899937714764899\n",
      "feedback_avg_d1: 3.3774513717865493\n",
      "feedback_avg_d3: 3.340787767616071\n",
      "feedback_avg_d5: 2.620671443979935\n",
      "feedback_avg_d4: 2.4716479203181994\n",
      "feedback_avg_d2: 2.293228850548491\n",
      "control_year: 1.8863248762453864\n",
      "support_feedback_avg: 1.5615924380687454\n",
      "ABC: 1.5614216448942053\n",
      "m_avg_duration: 1.3953319469145127\n",
      "communication_type: 1.2216362919061212\n",
      "gender: 1.2188608256412337\n",
      "m_total_duration: 1.0569587603917951\n",
      "m_was_conversations: 1.0403707775957642\n",
      "promo: 1.0053918457253956\n",
      "platform: 0.9169918573155971\n",
      "m_avg_talk_duration: 0.8961887632310213\n",
      "bought_avg_duration: 0.8178708502321239\n",
      "m_total_calls: 0.7723560173093221\n",
      "os: 0.7601543468826673\n",
      "m_missed_calls: 0.6902536964333753\n",
      "payment_type: 0.6758808991301997\n",
      "activity: 0.5939465980541138\n",
      "spent_time_total: 0.5801719303994484\n",
      "auto_payment: 0.523790957606932\n",
      "webinars: 0.5091433421066361\n",
      "lessons: 0.4472256986827782\n",
      "browser: 0.4333322015128005\n",
      "speed_recall: 0.43016193460158747\n",
      "p_avg_talk_duration: 0.40159786361032546\n",
      "hw_leader: 0.3889927805761626\n",
      "p_total_duration: 0.32257637803778116\n",
      "bought_d1: 0.31880973008563895\n",
      "p_total_calls: 0.31720698848482204\n",
      "reworked_hw: 0.3102193149252775\n",
      "failed_hw: 0.3058304517217585\n",
      "p_avg_duration: 0.28381619267325064\n",
      "bought_d5: 0.26242532736796054\n",
      "test_with_good_mark: 0.25373688064364786\n",
      "p_was_conversations: 0.23243470950095077\n",
      "country: 0.22575716318602268\n",
      "cart_year: 0.18398012609581638\n",
      "completed_hw: 0.15951231382998424\n",
      "test_with_great_mark: 0.15889712618223362\n",
      "avg_quiz_result: 0.15525007672659444\n",
      "p_missed_calls: 0.15155648313092854\n",
      "bought_d3: 0.12148381207599415\n",
      "spent_time_to_complete_hw: 0.10967362129329603\n",
      "notes: 0.10122491192563685\n",
      "interacted_hw: 0.08779340735467214\n",
      "bought_d4: 0.07814229240905433\n",
      "bought_d2: 0.06641653497405715\n",
      "avg_hw_mark: 0.00510208342671894\n"
     ]
    }
   ],
   "source": [
    "train_pool = Pool(X, y, cat_features=[\"ABC\", \"promo\", \"communication_type\", \"browser\", \"os\", \"platform\", \"country\", \"gender\", \"payment_type\"])\n",
    "feature_importances = clf.get_feature_importance(train_pool)\n",
    "feature_names = X.columns\n",
    "for score, name in sorted(zip(feature_importances, feature_names), reverse=True):\n",
    "    print('{}: {}'.format(name, score))"
   ]
  },
  {
   "cell_type": "markdown",
   "metadata": {},
   "source": [
    "#Validation"
   ]
  },
  {
   "cell_type": "code",
   "execution_count": null,
   "metadata": {},
   "outputs": [],
   "source": [
    "df_test = pd.read_csv(\"./content/test.csv\")"
   ]
  },
  {
   "cell_type": "code",
   "execution_count": null,
   "metadata": {},
   "outputs": [],
   "source": [
    "df_test[\"ABC\"] = abc_le.transform(df_test[\"ABC\"])"
   ]
  },
  {
   "cell_type": "code",
   "execution_count": null,
   "metadata": {},
   "outputs": [],
   "source": [
    "df_test['control_year'] = pd.to_datetime(df_test['month_id']).dt.strftime(\"%Y\").astype(int)\n",
    "df_test['control_month'] = pd.to_datetime(df_test['month_id']).dt.strftime(\"%m\").astype(int)\n",
    "\n",
    "df_test['cart_day'] = pd.to_datetime(df_test['carts_created_at']).dt.strftime(\"%d\").astype(int)\n",
    "df_test['cart_month'] = pd.to_datetime(df_test['carts_created_at']).dt.strftime(\"%m\").astype(int)\n",
    "df_test['cart_year'] = pd.to_datetime(df_test['carts_created_at']).dt.strftime(\"%Y\").astype(int)\n",
    "df_test['cart_timestamp'] = df_test['carts_created_at'].apply(lambda d: time.mktime(datetime.strptime(d, \"%m/%d/%Y\").timetuple()))"
   ]
  },
  {
   "cell_type": "code",
   "execution_count": null,
   "metadata": {},
   "outputs": [],
   "source": [
    "df_test['promo']=df['promo'].apply(lambda promo: promo =='+').astype(int)"
   ]
  },
  {
   "cell_type": "code",
   "execution_count": null,
   "metadata": {},
   "outputs": [],
   "source": [
    "df_test[\"communication_type\"] = ct_le.transform(df_test[\"communication_type\"])"
   ]
  },
  {
   "cell_type": "code",
   "execution_count": null,
   "metadata": {},
   "outputs": [],
   "source": [
    "df_test[\"os\"] = os_le.transform(df_test[\"os\"])\n",
    "df_test[\"platform\"] = platform_le.transform(df_test[\"platform\"])"
   ]
  },
  {
   "cell_type": "code",
   "execution_count": null,
   "metadata": {},
   "outputs": [],
   "source": [
    "browser_le_dict = dict(zip(browser_le.classes_, browser_le.transform(browser_le.classes_)))\n",
    "df_test['browser'] = df_test['browser'].apply(lambda browser: browser_le_dict.get(browser, -1))"
   ]
  },
  {
   "cell_type": "code",
   "execution_count": null,
   "metadata": {},
   "outputs": [],
   "source": [
    "df_test = df_test.apply(lambda row: replace_country(row), axis=1)"
   ]
  },
  {
   "cell_type": "code",
   "execution_count": null,
   "metadata": {},
   "outputs": [],
   "source": [
    "df_test[\"country\"] = country_le.transform(df_test[\"country\"])"
   ]
  },
  {
   "cell_type": "code",
   "execution_count": null,
   "metadata": {},
   "outputs": [],
   "source": [
    "df_test.info()"
   ]
  },
  {
   "cell_type": "code",
   "execution_count": null,
   "metadata": {},
   "outputs": [],
   "source": [
    "df_test = df_test.fillna(df_test.mean())"
   ]
  },
  {
   "cell_type": "code",
   "execution_count": null,
   "metadata": {},
   "outputs": [],
   "source": [
    "mass_object_v = mass_object[mass_object!=\"target\"]"
   ]
  },
  {
   "cell_type": "code",
   "execution_count": null,
   "metadata": {},
   "outputs": [],
   "source": [
    "X_val = df_test.drop(mass_object_v, axis = 1)"
   ]
  },
  {
   "cell_type": "code",
   "execution_count": null,
   "metadata": {},
   "outputs": [],
   "source": [
    "# X_val.drop(columns=[\"id\", \"student_id\", \"spent_time_to_complete_hw\"], inplace=True)"
   ]
  },
  {
   "cell_type": "code",
   "execution_count": null,
   "metadata": {},
   "outputs": [],
   "source": [
    "pred_test = clf.predict(X_val)"
   ]
  },
  {
   "cell_type": "code",
   "execution_count": null,
   "metadata": {},
   "outputs": [],
   "source": [
    "df_test[\"target\"] = pred_test"
   ]
  },
  {
   "cell_type": "code",
   "execution_count": null,
   "metadata": {},
   "outputs": [],
   "source": [
    "df_test=df_test[[\"id\", \"target\"]]"
   ]
  },
  {
   "cell_type": "code",
   "execution_count": null,
   "metadata": {},
   "outputs": [],
   "source": [
    "df_test.to_csv(\"./content/pred.csv\", index=False)"
   ]
  },
  {
   "cell_type": "code",
   "execution_count": null,
   "metadata": {},
   "outputs": [],
   "source": []
  }
 ],
 "metadata": {
  "colab": {
   "collapsed_sections": [],
   "name": "Нетология_baseline.ipynb",
   "provenance": []
  },
  "kernelspec": {
   "display_name": "Python 3 (ipykernel)",
   "language": "python",
   "name": "python3"
  },
  "language_info": {
   "codemirror_mode": {
    "name": "ipython",
    "version": 3
   },
   "file_extension": ".py",
   "mimetype": "text/x-python",
   "name": "python",
   "nbconvert_exporter": "python",
   "pygments_lexer": "ipython3",
   "version": "3.9.13"
  }
 },
 "nbformat": 4,
 "nbformat_minor": 1
}
