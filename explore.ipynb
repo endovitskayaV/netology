{
 "cells": [
  {
   "cell_type": "code",
   "execution_count": 3,
   "metadata": {
    "id": "MTgpe_1quUDs",
    "pycharm": {
     "is_executing": true,
     "name": "#%%\n"
    }
   },
   "outputs": [],
   "source": [
    "import pandas as pd\n",
    "import seaborn as sns\n",
    "import matplotlib.pyplot as plt\n",
    "from sklearn.model_selection import train_test_split\n",
    "from sklearn.ensemble import RandomForestClassifier\n",
    "from sklearn import tree\n",
    "import numpy as np\n",
    "from sklearn.metrics import recall_score, precision_score\n",
    "from sklearn.metrics import classification_report\n",
    "from sklearn import preprocessing\n",
    "%matplotlib inline\n",
    "\n",
    "import time\n",
    "from datetime import datetime"
   ]
  },
  {
   "cell_type": "code",
   "execution_count": 4,
   "metadata": {
    "id": "o9N4JbcWudk2",
    "pycharm": {
     "name": "#%%\n"
    }
   },
   "outputs": [],
   "source": [
    "df = pd.read_csv(\"./content/train_enriched.csv\")"
   ]
  },
  {
   "cell_type": "code",
   "execution_count": null,
   "metadata": {},
   "outputs": [],
   "source": []
  },
  {
   "cell_type": "code",
   "execution_count": 47,
   "metadata": {},
   "outputs": [],
   "source": [
    "df=df[df.target==0]"
   ]
  },
  {
   "cell_type": "code",
   "execution_count": 56,
   "metadata": {},
   "outputs": [
    {
     "data": {
      "text/html": [
       "<div>\n",
       "<style scoped>\n",
       "    .dataframe tbody tr th:only-of-type {\n",
       "        vertical-align: middle;\n",
       "    }\n",
       "\n",
       "    .dataframe tbody tr th {\n",
       "        vertical-align: top;\n",
       "    }\n",
       "\n",
       "    .dataframe thead th {\n",
       "        text-align: right;\n",
       "    }\n",
       "</style>\n",
       "<table border=\"1\" class=\"dataframe\">\n",
       "  <thead>\n",
       "    <tr style=\"text-align: right;\">\n",
       "      <th></th>\n",
       "      <th>ABC</th>\n",
       "      <th>activity</th>\n",
       "      <th>age_indicator</th>\n",
       "      <th>auto_payment</th>\n",
       "      <th>available_program_starts_on</th>\n",
       "      <th>avg_hw_mark</th>\n",
       "      <th>avg_quiz_result</th>\n",
       "      <th>bought_avg_duration</th>\n",
       "      <th>bought_d1</th>\n",
       "      <th>bought_d2</th>\n",
       "      <th>...</th>\n",
       "      <th>reworked_hw</th>\n",
       "      <th>speed_recall</th>\n",
       "      <th>spent_time_to_complete_hw</th>\n",
       "      <th>spent_time_total</th>\n",
       "      <th>student_id</th>\n",
       "      <th>support_feedback_avg</th>\n",
       "      <th>target</th>\n",
       "      <th>test_with_good_mark</th>\n",
       "      <th>test_with_great_mark</th>\n",
       "      <th>webinars</th>\n",
       "    </tr>\n",
       "  </thead>\n",
       "  <tbody>\n",
       "    <tr>\n",
       "      <th>0</th>\n",
       "      <td>D</td>\n",
       "      <td>32.0</td>\n",
       "      <td>32.0</td>\n",
       "      <td>0</td>\n",
       "      <td>2020-10-12</td>\n",
       "      <td>100.0</td>\n",
       "      <td>NaN</td>\n",
       "      <td>NaN</td>\n",
       "      <td>0</td>\n",
       "      <td>0</td>\n",
       "      <td>...</td>\n",
       "      <td>17.0</td>\n",
       "      <td>NaN</td>\n",
       "      <td>0.0</td>\n",
       "      <td>163.0</td>\n",
       "      <td>6694527</td>\n",
       "      <td>4.0</td>\n",
       "      <td>0</td>\n",
       "      <td>12.0</td>\n",
       "      <td>8.0</td>\n",
       "      <td>0.0</td>\n",
       "    </tr>\n",
       "    <tr>\n",
       "      <th>1</th>\n",
       "      <td>A</td>\n",
       "      <td>NaN</td>\n",
       "      <td>NaN</td>\n",
       "      <td>1</td>\n",
       "      <td>NaN</td>\n",
       "      <td>NaN</td>\n",
       "      <td>NaN</td>\n",
       "      <td>NaN</td>\n",
       "      <td>0</td>\n",
       "      <td>0</td>\n",
       "      <td>...</td>\n",
       "      <td>NaN</td>\n",
       "      <td>1.0</td>\n",
       "      <td>NaN</td>\n",
       "      <td>NaN</td>\n",
       "      <td>6712877</td>\n",
       "      <td>NaN</td>\n",
       "      <td>0</td>\n",
       "      <td>NaN</td>\n",
       "      <td>NaN</td>\n",
       "      <td>NaN</td>\n",
       "    </tr>\n",
       "    <tr>\n",
       "      <th>2</th>\n",
       "      <td>D</td>\n",
       "      <td>NaN</td>\n",
       "      <td>NaN</td>\n",
       "      <td>0</td>\n",
       "      <td>2022-08-04</td>\n",
       "      <td>NaN</td>\n",
       "      <td>NaN</td>\n",
       "      <td>NaN</td>\n",
       "      <td>0</td>\n",
       "      <td>0</td>\n",
       "      <td>...</td>\n",
       "      <td>NaN</td>\n",
       "      <td>NaN</td>\n",
       "      <td>NaN</td>\n",
       "      <td>NaN</td>\n",
       "      <td>6659444</td>\n",
       "      <td>NaN</td>\n",
       "      <td>0</td>\n",
       "      <td>NaN</td>\n",
       "      <td>NaN</td>\n",
       "      <td>NaN</td>\n",
       "    </tr>\n",
       "    <tr>\n",
       "      <th>3</th>\n",
       "      <td>B</td>\n",
       "      <td>NaN</td>\n",
       "      <td>1.0</td>\n",
       "      <td>1</td>\n",
       "      <td>2022-09-26</td>\n",
       "      <td>NaN</td>\n",
       "      <td>NaN</td>\n",
       "      <td>NaN</td>\n",
       "      <td>0</td>\n",
       "      <td>0</td>\n",
       "      <td>...</td>\n",
       "      <td>NaN</td>\n",
       "      <td>NaN</td>\n",
       "      <td>NaN</td>\n",
       "      <td>NaN</td>\n",
       "      <td>7151591</td>\n",
       "      <td>NaN</td>\n",
       "      <td>0</td>\n",
       "      <td>NaN</td>\n",
       "      <td>NaN</td>\n",
       "      <td>NaN</td>\n",
       "    </tr>\n",
       "    <tr>\n",
       "      <th>4</th>\n",
       "      <td>A</td>\n",
       "      <td>NaN</td>\n",
       "      <td>30.0</td>\n",
       "      <td>1</td>\n",
       "      <td>NaN</td>\n",
       "      <td>NaN</td>\n",
       "      <td>NaN</td>\n",
       "      <td>NaN</td>\n",
       "      <td>0</td>\n",
       "      <td>0</td>\n",
       "      <td>...</td>\n",
       "      <td>NaN</td>\n",
       "      <td>NaN</td>\n",
       "      <td>NaN</td>\n",
       "      <td>NaN</td>\n",
       "      <td>6705666</td>\n",
       "      <td>NaN</td>\n",
       "      <td>0</td>\n",
       "      <td>NaN</td>\n",
       "      <td>NaN</td>\n",
       "      <td>NaN</td>\n",
       "    </tr>\n",
       "    <tr>\n",
       "      <th>...</th>\n",
       "      <td>...</td>\n",
       "      <td>...</td>\n",
       "      <td>...</td>\n",
       "      <td>...</td>\n",
       "      <td>...</td>\n",
       "      <td>...</td>\n",
       "      <td>...</td>\n",
       "      <td>...</td>\n",
       "      <td>...</td>\n",
       "      <td>...</td>\n",
       "      <td>...</td>\n",
       "      <td>...</td>\n",
       "      <td>...</td>\n",
       "      <td>...</td>\n",
       "      <td>...</td>\n",
       "      <td>...</td>\n",
       "      <td>...</td>\n",
       "      <td>...</td>\n",
       "      <td>...</td>\n",
       "      <td>...</td>\n",
       "      <td>...</td>\n",
       "    </tr>\n",
       "    <tr>\n",
       "      <th>199995</th>\n",
       "      <td>D</td>\n",
       "      <td>NaN</td>\n",
       "      <td>27.0</td>\n",
       "      <td>1</td>\n",
       "      <td>NaN</td>\n",
       "      <td>NaN</td>\n",
       "      <td>NaN</td>\n",
       "      <td>40.0</td>\n",
       "      <td>1</td>\n",
       "      <td>0</td>\n",
       "      <td>...</td>\n",
       "      <td>NaN</td>\n",
       "      <td>NaN</td>\n",
       "      <td>NaN</td>\n",
       "      <td>NaN</td>\n",
       "      <td>6816668</td>\n",
       "      <td>5.0</td>\n",
       "      <td>0</td>\n",
       "      <td>NaN</td>\n",
       "      <td>NaN</td>\n",
       "      <td>NaN</td>\n",
       "    </tr>\n",
       "    <tr>\n",
       "      <th>199996</th>\n",
       "      <td>D</td>\n",
       "      <td>NaN</td>\n",
       "      <td>NaN</td>\n",
       "      <td>0</td>\n",
       "      <td>2022-04-25</td>\n",
       "      <td>NaN</td>\n",
       "      <td>NaN</td>\n",
       "      <td>NaN</td>\n",
       "      <td>0</td>\n",
       "      <td>0</td>\n",
       "      <td>...</td>\n",
       "      <td>NaN</td>\n",
       "      <td>NaN</td>\n",
       "      <td>NaN</td>\n",
       "      <td>NaN</td>\n",
       "      <td>6984939</td>\n",
       "      <td>NaN</td>\n",
       "      <td>0</td>\n",
       "      <td>NaN</td>\n",
       "      <td>NaN</td>\n",
       "      <td>NaN</td>\n",
       "    </tr>\n",
       "    <tr>\n",
       "      <th>199997</th>\n",
       "      <td>D</td>\n",
       "      <td>0.0</td>\n",
       "      <td>17.0</td>\n",
       "      <td>0</td>\n",
       "      <td>2022-08-11</td>\n",
       "      <td>NaN</td>\n",
       "      <td>NaN</td>\n",
       "      <td>NaN</td>\n",
       "      <td>0</td>\n",
       "      <td>0</td>\n",
       "      <td>...</td>\n",
       "      <td>0.0</td>\n",
       "      <td>NaN</td>\n",
       "      <td>NaN</td>\n",
       "      <td>NaN</td>\n",
       "      <td>6670084</td>\n",
       "      <td>3.0</td>\n",
       "      <td>0</td>\n",
       "      <td>0.0</td>\n",
       "      <td>0.0</td>\n",
       "      <td>0.0</td>\n",
       "    </tr>\n",
       "    <tr>\n",
       "      <th>199998</th>\n",
       "      <td>A</td>\n",
       "      <td>NaN</td>\n",
       "      <td>NaN</td>\n",
       "      <td>1</td>\n",
       "      <td>NaN</td>\n",
       "      <td>NaN</td>\n",
       "      <td>NaN</td>\n",
       "      <td>NaN</td>\n",
       "      <td>0</td>\n",
       "      <td>0</td>\n",
       "      <td>...</td>\n",
       "      <td>NaN</td>\n",
       "      <td>NaN</td>\n",
       "      <td>NaN</td>\n",
       "      <td>NaN</td>\n",
       "      <td>6917324</td>\n",
       "      <td>NaN</td>\n",
       "      <td>0</td>\n",
       "      <td>NaN</td>\n",
       "      <td>NaN</td>\n",
       "      <td>NaN</td>\n",
       "    </tr>\n",
       "    <tr>\n",
       "      <th>199999</th>\n",
       "      <td>A</td>\n",
       "      <td>NaN</td>\n",
       "      <td>18.0</td>\n",
       "      <td>1</td>\n",
       "      <td>2022-08-12</td>\n",
       "      <td>NaN</td>\n",
       "      <td>NaN</td>\n",
       "      <td>NaN</td>\n",
       "      <td>0</td>\n",
       "      <td>0</td>\n",
       "      <td>...</td>\n",
       "      <td>NaN</td>\n",
       "      <td>NaN</td>\n",
       "      <td>NaN</td>\n",
       "      <td>NaN</td>\n",
       "      <td>7057970</td>\n",
       "      <td>NaN</td>\n",
       "      <td>0</td>\n",
       "      <td>NaN</td>\n",
       "      <td>NaN</td>\n",
       "      <td>NaN</td>\n",
       "    </tr>\n",
       "  </tbody>\n",
       "</table>\n",
       "<p>174301 rows × 67 columns</p>\n",
       "</div>"
      ],
      "text/plain": [
       "       ABC  activity  age_indicator  auto_payment available_program_starts_on  \\\n",
       "0        D      32.0           32.0             0                  2020-10-12   \n",
       "1        A       NaN            NaN             1                         NaN   \n",
       "2        D       NaN            NaN             0                  2022-08-04   \n",
       "3        B       NaN            1.0             1                  2022-09-26   \n",
       "4        A       NaN           30.0             1                         NaN   \n",
       "...     ..       ...            ...           ...                         ...   \n",
       "199995   D       NaN           27.0             1                         NaN   \n",
       "199996   D       NaN            NaN             0                  2022-04-25   \n",
       "199997   D       0.0           17.0             0                  2022-08-11   \n",
       "199998   A       NaN            NaN             1                         NaN   \n",
       "199999   A       NaN           18.0             1                  2022-08-12   \n",
       "\n",
       "        avg_hw_mark  avg_quiz_result  bought_avg_duration  bought_d1  \\\n",
       "0             100.0              NaN                  NaN          0   \n",
       "1               NaN              NaN                  NaN          0   \n",
       "2               NaN              NaN                  NaN          0   \n",
       "3               NaN              NaN                  NaN          0   \n",
       "4               NaN              NaN                  NaN          0   \n",
       "...             ...              ...                  ...        ...   \n",
       "199995          NaN              NaN                 40.0          1   \n",
       "199996          NaN              NaN                  NaN          0   \n",
       "199997          NaN              NaN                  NaN          0   \n",
       "199998          NaN              NaN                  NaN          0   \n",
       "199999          NaN              NaN                  NaN          0   \n",
       "\n",
       "        bought_d2  ...  reworked_hw  speed_recall  spent_time_to_complete_hw  \\\n",
       "0               0  ...         17.0           NaN                        0.0   \n",
       "1               0  ...          NaN           1.0                        NaN   \n",
       "2               0  ...          NaN           NaN                        NaN   \n",
       "3               0  ...          NaN           NaN                        NaN   \n",
       "4               0  ...          NaN           NaN                        NaN   \n",
       "...           ...  ...          ...           ...                        ...   \n",
       "199995          0  ...          NaN           NaN                        NaN   \n",
       "199996          0  ...          NaN           NaN                        NaN   \n",
       "199997          0  ...          0.0           NaN                        NaN   \n",
       "199998          0  ...          NaN           NaN                        NaN   \n",
       "199999          0  ...          NaN           NaN                        NaN   \n",
       "\n",
       "       spent_time_total student_id support_feedback_avg target  \\\n",
       "0                 163.0    6694527                  4.0      0   \n",
       "1                   NaN    6712877                  NaN      0   \n",
       "2                   NaN    6659444                  NaN      0   \n",
       "3                   NaN    7151591                  NaN      0   \n",
       "4                   NaN    6705666                  NaN      0   \n",
       "...                 ...        ...                  ...    ...   \n",
       "199995              NaN    6816668                  5.0      0   \n",
       "199996              NaN    6984939                  NaN      0   \n",
       "199997              NaN    6670084                  3.0      0   \n",
       "199998              NaN    6917324                  NaN      0   \n",
       "199999              NaN    7057970                  NaN      0   \n",
       "\n",
       "        test_with_good_mark test_with_great_mark webinars  \n",
       "0                      12.0                  8.0      0.0  \n",
       "1                       NaN                  NaN      NaN  \n",
       "2                       NaN                  NaN      NaN  \n",
       "3                       NaN                  NaN      NaN  \n",
       "4                       NaN                  NaN      NaN  \n",
       "...                     ...                  ...      ...  \n",
       "199995                  NaN                  NaN      NaN  \n",
       "199996                  NaN                  NaN      NaN  \n",
       "199997                  0.0                  0.0      0.0  \n",
       "199998                  NaN                  NaN      NaN  \n",
       "199999                  NaN                  NaN      NaN  \n",
       "\n",
       "[174301 rows x 67 columns]"
      ]
     },
     "execution_count": 56,
     "metadata": {},
     "output_type": "execute_result"
    }
   ],
   "source": [
    "df"
   ]
  },
  {
   "cell_type": "code",
   "execution_count": 48,
   "metadata": {},
   "outputs": [
    {
     "data": {
      "text/plain": [
       "ABC                                 0\n",
       "activity                        92469\n",
       "age_indicator                   36610\n",
       "auto_payment                        0\n",
       "available_program_starts_on      9960\n",
       "                                ...  \n",
       "support_feedback_avg           143720\n",
       "target                              0\n",
       "test_with_good_mark             92469\n",
       "test_with_great_mark            92469\n",
       "webinars                        92469\n",
       "Length: 67, dtype: int64"
      ]
     },
     "execution_count": 48,
     "metadata": {},
     "output_type": "execute_result"
    }
   ],
   "source": [
    "df.isna().sum()"
   ]
  },
  {
   "cell_type": "code",
   "execution_count": 5,
   "metadata": {},
   "outputs": [
    {
     "data": {
      "text/plain": [
       "0         27\n",
       "1         45\n",
       "2         41\n",
       "3         37\n",
       "4         44\n",
       "          ..\n",
       "199995    38\n",
       "199996    40\n",
       "199997    27\n",
       "199998    34\n",
       "199999    31\n",
       "Length: 174301, dtype: int64"
      ]
     },
     "execution_count": 5,
     "metadata": {},
     "output_type": "execute_result"
    }
   ],
   "source": [
    "n=df[df.target==0].isnull().sum(axis=1)\n",
    "n"
   ]
  },
  {
   "cell_type": "code",
   "execution_count": 50,
   "metadata": {},
   "outputs": [
    {
     "data": {
      "image/png": "[encoded data removed]",
      "text/plain": [
       "<Figure size 1440x864 with 1 Axes>"
      ]
     },
     "metadata": {
      "needs_background": "light"
     },
     "output_type": "display_data"
    }
   ],
   "source": [
    "_ = df.isnull().sum(axis=1).hist(figsize=(20,12))"
   ]
  },
  {
   "cell_type": "code",
   "execution_count": 7,
   "metadata": {},
   "outputs": [
    {
     "data": {
      "text/plain": [
       "Int64Index([     1,      2,      4,      7,      9,     13,     21,     24,\n",
       "                31,     37,\n",
       "            ...\n",
       "            199972, 199973, 199974, 199975, 199976, 199979, 199987, 199990,\n",
       "            199991, 199996],\n",
       "           dtype='int64', length=55006)"
      ]
     },
     "execution_count": 7,
     "metadata": {},
     "output_type": "execute_result"
    }
   ],
   "source": [
    "n[n>38].index"
   ]
  },
  {
   "cell_type": "code",
   "execution_count": 43,
   "metadata": {},
   "outputs": [
    {
     "data": {
      "text/plain": [
       "[(0, 174301), (1, 13512), (5, 3678), (4, 3659), (3, 3027), (2, 1823)]"
      ]
     },
     "execution_count": 43,
     "metadata": {},
     "output_type": "execute_result"
    }
   ],
   "source": [
    "from collections import Counter\n",
    "class_counts = Counter(df.target).most_common()\n",
    "class_counts"
   ]
  },
  {
   "cell_type": "code",
   "execution_count": null,
   "metadata": {},
   "outputs": [],
   "source": [
    "df"
   ]
  },
  {
   "cell_type": "code",
   "execution_count": 44,
   "metadata": {},
   "outputs": [
    {
     "data": {
      "text/plain": [
       "{0: 174301, 1: 13512, 5: 3678, 4: 3659, 3: 3027, 2: 1823}"
      ]
     },
     "execution_count": 44,
     "metadata": {},
     "output_type": "execute_result"
    }
   ],
   "source": [
    "dict([(cl[0], cl[1]) for cl in class_counts])"
   ]
  },
  {
   "cell_type": "code",
   "execution_count": 34,
   "metadata": {},
   "outputs": [
    {
     "data": {
      "text/plain": [
       "array([14., nan,  3.,  2., 15., 11.,  1.,  4., 22., 31., 16.,  5.,  8.,\n",
       "        9., 12., 23., 10., 13., 26.,  6.,  7., 18., 24., 20., 28., 17.,\n",
       "       21., 19., 27., 29., 34., 47., 32., 42., 30., 25., 36., 43., 37.,\n",
       "       40., 35., 45., 48., 33., 39., 56., 49., 44., 38., 83., 58., 41.,\n",
       "       46., 52., 61., 50., 67., 51., 57., 62., 75., 84., 54.])"
      ]
     },
     "execution_count": 34,
     "metadata": {},
     "output_type": "execute_result"
    }
   ],
   "source": [
    "df.lessons.unique()"
   ]
  },
  {
   "cell_type": "code",
   "execution_count": null,
   "metadata": {},
   "outputs": [],
   "source": []
  },
  {
   "cell_type": "code",
   "execution_count": 35,
   "metadata": {},
   "outputs": [
    {
     "data": {
      "text/plain": [
       "102401"
      ]
     },
     "execution_count": 35,
     "metadata": {},
     "output_type": "execute_result"
    }
   ],
   "source": [
    "df.lessons.isna().sum()"
   ]
  },
  {
   "cell_type": "code",
   "execution_count": 36,
   "metadata": {},
   "outputs": [
    {
     "data": {
      "text/html": [
       "<div>\n",
       "<style scoped>\n",
       "    .dataframe tbody tr th:only-of-type {\n",
       "        vertical-align: middle;\n",
       "    }\n",
       "\n",
       "    .dataframe tbody tr th {\n",
       "        vertical-align: top;\n",
       "    }\n",
       "\n",
       "    .dataframe thead th {\n",
       "        text-align: right;\n",
       "    }\n",
       "</style>\n",
       "<table border=\"1\" class=\"dataframe\">\n",
       "  <thead>\n",
       "    <tr style=\"text-align: right;\">\n",
       "      <th></th>\n",
       "      <th>ABC</th>\n",
       "      <th>activity</th>\n",
       "      <th>age_indicator</th>\n",
       "      <th>auto_payment</th>\n",
       "      <th>available_program_starts_on</th>\n",
       "      <th>avg_hw_mark</th>\n",
       "      <th>avg_quiz_result</th>\n",
       "      <th>bought_avg_duration</th>\n",
       "      <th>bought_d1</th>\n",
       "      <th>bought_d2</th>\n",
       "      <th>...</th>\n",
       "      <th>speed_recall</th>\n",
       "      <th>spent_time_to_complete_hw</th>\n",
       "      <th>spent_time_total</th>\n",
       "      <th>student_id</th>\n",
       "      <th>support_feedback_avg</th>\n",
       "      <th>target</th>\n",
       "      <th>test_with_good_mark</th>\n",
       "      <th>test_with_great_mark</th>\n",
       "      <th>webinars</th>\n",
       "      <th>notes_bin</th>\n",
       "    </tr>\n",
       "  </thead>\n",
       "  <tbody>\n",
       "    <tr>\n",
       "      <th>5</th>\n",
       "      <td>A</td>\n",
       "      <td>2.0</td>\n",
       "      <td>NaN</td>\n",
       "      <td>1</td>\n",
       "      <td>2022-08-11</td>\n",
       "      <td>NaN</td>\n",
       "      <td>NaN</td>\n",
       "      <td>NaN</td>\n",
       "      <td>0</td>\n",
       "      <td>0</td>\n",
       "      <td>...</td>\n",
       "      <td>NaN</td>\n",
       "      <td>NaN</td>\n",
       "      <td>9.0</td>\n",
       "      <td>6784019</td>\n",
       "      <td>5.0</td>\n",
       "      <td>0</td>\n",
       "      <td>0.0</td>\n",
       "      <td>0.0</td>\n",
       "      <td>0.0</td>\n",
       "      <td>0</td>\n",
       "    </tr>\n",
       "    <tr>\n",
       "      <th>6</th>\n",
       "      <td>C</td>\n",
       "      <td>11.0</td>\n",
       "      <td>5.0</td>\n",
       "      <td>1</td>\n",
       "      <td>2022-08-05</td>\n",
       "      <td>NaN</td>\n",
       "      <td>97.000000</td>\n",
       "      <td>NaN</td>\n",
       "      <td>0</td>\n",
       "      <td>0</td>\n",
       "      <td>...</td>\n",
       "      <td>NaN</td>\n",
       "      <td>NaN</td>\n",
       "      <td>28.0</td>\n",
       "      <td>6409144</td>\n",
       "      <td>NaN</td>\n",
       "      <td>0</td>\n",
       "      <td>0.0</td>\n",
       "      <td>0.0</td>\n",
       "      <td>3.0</td>\n",
       "      <td>0</td>\n",
       "    </tr>\n",
       "    <tr>\n",
       "      <th>8</th>\n",
       "      <td>A</td>\n",
       "      <td>0.0</td>\n",
       "      <td>30.0</td>\n",
       "      <td>1</td>\n",
       "      <td>2022-08-19</td>\n",
       "      <td>NaN</td>\n",
       "      <td>NaN</td>\n",
       "      <td>NaN</td>\n",
       "      <td>0</td>\n",
       "      <td>0</td>\n",
       "      <td>...</td>\n",
       "      <td>NaN</td>\n",
       "      <td>NaN</td>\n",
       "      <td>NaN</td>\n",
       "      <td>6880163</td>\n",
       "      <td>5.0</td>\n",
       "      <td>3</td>\n",
       "      <td>0.0</td>\n",
       "      <td>0.0</td>\n",
       "      <td>0.0</td>\n",
       "      <td>0</td>\n",
       "    </tr>\n",
       "    <tr>\n",
       "      <th>10</th>\n",
       "      <td>B</td>\n",
       "      <td>38.0</td>\n",
       "      <td>32.0</td>\n",
       "      <td>1</td>\n",
       "      <td>2022-09-26</td>\n",
       "      <td>NaN</td>\n",
       "      <td>72.750000</td>\n",
       "      <td>NaN</td>\n",
       "      <td>0</td>\n",
       "      <td>0</td>\n",
       "      <td>...</td>\n",
       "      <td>NaN</td>\n",
       "      <td>NaN</td>\n",
       "      <td>102.0</td>\n",
       "      <td>7171931</td>\n",
       "      <td>NaN</td>\n",
       "      <td>0</td>\n",
       "      <td>0.0</td>\n",
       "      <td>0.0</td>\n",
       "      <td>8.0</td>\n",
       "      <td>0</td>\n",
       "    </tr>\n",
       "    <tr>\n",
       "      <th>11</th>\n",
       "      <td>A</td>\n",
       "      <td>0.0</td>\n",
       "      <td>NaN</td>\n",
       "      <td>1</td>\n",
       "      <td>2022-08-16</td>\n",
       "      <td>NaN</td>\n",
       "      <td>NaN</td>\n",
       "      <td>NaN</td>\n",
       "      <td>0</td>\n",
       "      <td>0</td>\n",
       "      <td>...</td>\n",
       "      <td>NaN</td>\n",
       "      <td>NaN</td>\n",
       "      <td>2.0</td>\n",
       "      <td>6661892</td>\n",
       "      <td>NaN</td>\n",
       "      <td>0</td>\n",
       "      <td>0.0</td>\n",
       "      <td>0.0</td>\n",
       "      <td>0.0</td>\n",
       "      <td>0</td>\n",
       "    </tr>\n",
       "    <tr>\n",
       "      <th>...</th>\n",
       "      <td>...</td>\n",
       "      <td>...</td>\n",
       "      <td>...</td>\n",
       "      <td>...</td>\n",
       "      <td>...</td>\n",
       "      <td>...</td>\n",
       "      <td>...</td>\n",
       "      <td>...</td>\n",
       "      <td>...</td>\n",
       "      <td>...</td>\n",
       "      <td>...</td>\n",
       "      <td>...</td>\n",
       "      <td>...</td>\n",
       "      <td>...</td>\n",
       "      <td>...</td>\n",
       "      <td>...</td>\n",
       "      <td>...</td>\n",
       "      <td>...</td>\n",
       "      <td>...</td>\n",
       "      <td>...</td>\n",
       "      <td>...</td>\n",
       "    </tr>\n",
       "    <tr>\n",
       "      <th>199989</th>\n",
       "      <td>D</td>\n",
       "      <td>13.0</td>\n",
       "      <td>NaN</td>\n",
       "      <td>0</td>\n",
       "      <td>2022-09-12</td>\n",
       "      <td>100.0</td>\n",
       "      <td>NaN</td>\n",
       "      <td>NaN</td>\n",
       "      <td>0</td>\n",
       "      <td>0</td>\n",
       "      <td>...</td>\n",
       "      <td>NaN</td>\n",
       "      <td>0.0</td>\n",
       "      <td>336.0</td>\n",
       "      <td>7281452</td>\n",
       "      <td>NaN</td>\n",
       "      <td>0</td>\n",
       "      <td>0.0</td>\n",
       "      <td>0.0</td>\n",
       "      <td>2.0</td>\n",
       "      <td>0</td>\n",
       "    </tr>\n",
       "    <tr>\n",
       "      <th>199992</th>\n",
       "      <td>D</td>\n",
       "      <td>9.0</td>\n",
       "      <td>20.0</td>\n",
       "      <td>1</td>\n",
       "      <td>2022-08-25</td>\n",
       "      <td>NaN</td>\n",
       "      <td>NaN</td>\n",
       "      <td>NaN</td>\n",
       "      <td>0</td>\n",
       "      <td>0</td>\n",
       "      <td>...</td>\n",
       "      <td>4.0</td>\n",
       "      <td>NaN</td>\n",
       "      <td>2.0</td>\n",
       "      <td>5374325</td>\n",
       "      <td>NaN</td>\n",
       "      <td>4</td>\n",
       "      <td>4.0</td>\n",
       "      <td>4.0</td>\n",
       "      <td>0.0</td>\n",
       "      <td>0</td>\n",
       "    </tr>\n",
       "    <tr>\n",
       "      <th>199993</th>\n",
       "      <td>C</td>\n",
       "      <td>19.0</td>\n",
       "      <td>21.0</td>\n",
       "      <td>1</td>\n",
       "      <td>2022-08-24</td>\n",
       "      <td>100.0</td>\n",
       "      <td>NaN</td>\n",
       "      <td>NaN</td>\n",
       "      <td>0</td>\n",
       "      <td>0</td>\n",
       "      <td>...</td>\n",
       "      <td>NaN</td>\n",
       "      <td>0.0</td>\n",
       "      <td>29.0</td>\n",
       "      <td>7310456</td>\n",
       "      <td>NaN</td>\n",
       "      <td>0</td>\n",
       "      <td>0.0</td>\n",
       "      <td>0.0</td>\n",
       "      <td>23.0</td>\n",
       "      <td>0</td>\n",
       "    </tr>\n",
       "    <tr>\n",
       "      <th>199994</th>\n",
       "      <td>A</td>\n",
       "      <td>19.0</td>\n",
       "      <td>10.0</td>\n",
       "      <td>0</td>\n",
       "      <td>2022-08-15</td>\n",
       "      <td>100.0</td>\n",
       "      <td>81.641667</td>\n",
       "      <td>NaN</td>\n",
       "      <td>0</td>\n",
       "      <td>0</td>\n",
       "      <td>...</td>\n",
       "      <td>NaN</td>\n",
       "      <td>0.0</td>\n",
       "      <td>37.0</td>\n",
       "      <td>7320106</td>\n",
       "      <td>NaN</td>\n",
       "      <td>0</td>\n",
       "      <td>8.0</td>\n",
       "      <td>6.0</td>\n",
       "      <td>2.0</td>\n",
       "      <td>0</td>\n",
       "    </tr>\n",
       "    <tr>\n",
       "      <th>199997</th>\n",
       "      <td>D</td>\n",
       "      <td>0.0</td>\n",
       "      <td>17.0</td>\n",
       "      <td>0</td>\n",
       "      <td>2022-08-11</td>\n",
       "      <td>NaN</td>\n",
       "      <td>NaN</td>\n",
       "      <td>NaN</td>\n",
       "      <td>0</td>\n",
       "      <td>0</td>\n",
       "      <td>...</td>\n",
       "      <td>NaN</td>\n",
       "      <td>NaN</td>\n",
       "      <td>NaN</td>\n",
       "      <td>6670084</td>\n",
       "      <td>3.0</td>\n",
       "      <td>0</td>\n",
       "      <td>0.0</td>\n",
       "      <td>0.0</td>\n",
       "      <td>0.0</td>\n",
       "      <td>0</td>\n",
       "    </tr>\n",
       "  </tbody>\n",
       "</table>\n",
       "<p>90797 rows × 68 columns</p>\n",
       "</div>"
      ],
      "text/plain": [
       "       ABC  activity  age_indicator  auto_payment available_program_starts_on  \\\n",
       "5        A       2.0            NaN             1                  2022-08-11   \n",
       "6        C      11.0            5.0             1                  2022-08-05   \n",
       "8        A       0.0           30.0             1                  2022-08-19   \n",
       "10       B      38.0           32.0             1                  2022-09-26   \n",
       "11       A       0.0            NaN             1                  2022-08-16   \n",
       "...     ..       ...            ...           ...                         ...   \n",
       "199989   D      13.0            NaN             0                  2022-09-12   \n",
       "199992   D       9.0           20.0             1                  2022-08-25   \n",
       "199993   C      19.0           21.0             1                  2022-08-24   \n",
       "199994   A      19.0           10.0             0                  2022-08-15   \n",
       "199997   D       0.0           17.0             0                  2022-08-11   \n",
       "\n",
       "        avg_hw_mark  avg_quiz_result  bought_avg_duration  bought_d1  \\\n",
       "5               NaN              NaN                  NaN          0   \n",
       "6               NaN        97.000000                  NaN          0   \n",
       "8               NaN              NaN                  NaN          0   \n",
       "10              NaN        72.750000                  NaN          0   \n",
       "11              NaN              NaN                  NaN          0   \n",
       "...             ...              ...                  ...        ...   \n",
       "199989        100.0              NaN                  NaN          0   \n",
       "199992          NaN              NaN                  NaN          0   \n",
       "199993        100.0              NaN                  NaN          0   \n",
       "199994        100.0        81.641667                  NaN          0   \n",
       "199997          NaN              NaN                  NaN          0   \n",
       "\n",
       "        bought_d2  ...  speed_recall  spent_time_to_complete_hw  \\\n",
       "5               0  ...           NaN                        NaN   \n",
       "6               0  ...           NaN                        NaN   \n",
       "8               0  ...           NaN                        NaN   \n",
       "10              0  ...           NaN                        NaN   \n",
       "11              0  ...           NaN                        NaN   \n",
       "...           ...  ...           ...                        ...   \n",
       "199989          0  ...           NaN                        0.0   \n",
       "199992          0  ...           4.0                        NaN   \n",
       "199993          0  ...           NaN                        0.0   \n",
       "199994          0  ...           NaN                        0.0   \n",
       "199997          0  ...           NaN                        NaN   \n",
       "\n",
       "        spent_time_total student_id support_feedback_avg target  \\\n",
       "5                    9.0    6784019                  5.0      0   \n",
       "6                   28.0    6409144                  NaN      0   \n",
       "8                    NaN    6880163                  5.0      3   \n",
       "10                 102.0    7171931                  NaN      0   \n",
       "11                   2.0    6661892                  NaN      0   \n",
       "...                  ...        ...                  ...    ...   \n",
       "199989             336.0    7281452                  NaN      0   \n",
       "199992               2.0    5374325                  NaN      4   \n",
       "199993              29.0    7310456                  NaN      0   \n",
       "199994              37.0    7320106                  NaN      0   \n",
       "199997               NaN    6670084                  3.0      0   \n",
       "\n",
       "       test_with_good_mark  test_with_great_mark webinars notes_bin  \n",
       "5                      0.0                   0.0      0.0         0  \n",
       "6                      0.0                   0.0      3.0         0  \n",
       "8                      0.0                   0.0      0.0         0  \n",
       "10                     0.0                   0.0      8.0         0  \n",
       "11                     0.0                   0.0      0.0         0  \n",
       "...                    ...                   ...      ...       ...  \n",
       "199989                 0.0                   0.0      2.0         0  \n",
       "199992                 4.0                   4.0      0.0         0  \n",
       "199993                 0.0                   0.0     23.0         0  \n",
       "199994                 8.0                   6.0      2.0         0  \n",
       "199997                 0.0                   0.0      0.0         0  \n",
       "\n",
       "[90797 rows x 68 columns]"
      ]
     },
     "execution_count": 36,
     "metadata": {},
     "output_type": "execute_result"
    }
   ],
   "source": [
    "df[df.notes ==0]"
   ]
  },
  {
   "cell_type": "code",
   "execution_count": 27,
   "metadata": {},
   "outputs": [],
   "source": [
    "df['notes_bin']=df['notes'].apply(lambda n: n>0).astype(int)"
   ]
  },
  {
   "cell_type": "code",
   "execution_count": 28,
   "metadata": {},
   "outputs": [
    {
     "data": {
      "text/html": [
       "<div>\n",
       "<style scoped>\n",
       "    .dataframe tbody tr th:only-of-type {\n",
       "        vertical-align: middle;\n",
       "    }\n",
       "\n",
       "    .dataframe tbody tr th {\n",
       "        vertical-align: top;\n",
       "    }\n",
       "\n",
       "    .dataframe thead th {\n",
       "        text-align: right;\n",
       "    }\n",
       "</style>\n",
       "<table border=\"1\" class=\"dataframe\">\n",
       "  <thead>\n",
       "    <tr style=\"text-align: right;\">\n",
       "      <th></th>\n",
       "      <th>ABC</th>\n",
       "      <th>activity</th>\n",
       "      <th>age_indicator</th>\n",
       "      <th>auto_payment</th>\n",
       "      <th>available_program_starts_on</th>\n",
       "      <th>avg_hw_mark</th>\n",
       "      <th>avg_quiz_result</th>\n",
       "      <th>bought_avg_duration</th>\n",
       "      <th>bought_d1</th>\n",
       "      <th>bought_d2</th>\n",
       "      <th>...</th>\n",
       "      <th>speed_recall</th>\n",
       "      <th>spent_time_to_complete_hw</th>\n",
       "      <th>spent_time_total</th>\n",
       "      <th>student_id</th>\n",
       "      <th>support_feedback_avg</th>\n",
       "      <th>target</th>\n",
       "      <th>test_with_good_mark</th>\n",
       "      <th>test_with_great_mark</th>\n",
       "      <th>webinars</th>\n",
       "      <th>notes_bin</th>\n",
       "    </tr>\n",
       "  </thead>\n",
       "  <tbody>\n",
       "    <tr>\n",
       "      <th>0</th>\n",
       "      <td>D</td>\n",
       "      <td>32.0</td>\n",
       "      <td>32.0</td>\n",
       "      <td>0</td>\n",
       "      <td>2020-10-12</td>\n",
       "      <td>100.0</td>\n",
       "      <td>NaN</td>\n",
       "      <td>NaN</td>\n",
       "      <td>0</td>\n",
       "      <td>0</td>\n",
       "      <td>...</td>\n",
       "      <td>NaN</td>\n",
       "      <td>0.0</td>\n",
       "      <td>163.0</td>\n",
       "      <td>6694527</td>\n",
       "      <td>4.000000</td>\n",
       "      <td>0</td>\n",
       "      <td>12.0</td>\n",
       "      <td>8.0</td>\n",
       "      <td>0.0</td>\n",
       "      <td>1</td>\n",
       "    </tr>\n",
       "    <tr>\n",
       "      <th>36</th>\n",
       "      <td>B</td>\n",
       "      <td>29.0</td>\n",
       "      <td>40.0</td>\n",
       "      <td>1</td>\n",
       "      <td>2022-08-15</td>\n",
       "      <td>100.0</td>\n",
       "      <td>NaN</td>\n",
       "      <td>NaN</td>\n",
       "      <td>0</td>\n",
       "      <td>0</td>\n",
       "      <td>...</td>\n",
       "      <td>NaN</td>\n",
       "      <td>0.0</td>\n",
       "      <td>109.0</td>\n",
       "      <td>7398188</td>\n",
       "      <td>NaN</td>\n",
       "      <td>0</td>\n",
       "      <td>0.0</td>\n",
       "      <td>0.0</td>\n",
       "      <td>0.0</td>\n",
       "      <td>1</td>\n",
       "    </tr>\n",
       "    <tr>\n",
       "      <th>53</th>\n",
       "      <td>D</td>\n",
       "      <td>5.0</td>\n",
       "      <td>5.0</td>\n",
       "      <td>1</td>\n",
       "      <td>2022-08-03</td>\n",
       "      <td>NaN</td>\n",
       "      <td>NaN</td>\n",
       "      <td>NaN</td>\n",
       "      <td>0</td>\n",
       "      <td>0</td>\n",
       "      <td>...</td>\n",
       "      <td>NaN</td>\n",
       "      <td>NaN</td>\n",
       "      <td>38.0</td>\n",
       "      <td>7311012</td>\n",
       "      <td>NaN</td>\n",
       "      <td>0</td>\n",
       "      <td>0.0</td>\n",
       "      <td>0.0</td>\n",
       "      <td>6.0</td>\n",
       "      <td>1</td>\n",
       "    </tr>\n",
       "    <tr>\n",
       "      <th>76</th>\n",
       "      <td>A</td>\n",
       "      <td>31.0</td>\n",
       "      <td>33.0</td>\n",
       "      <td>1</td>\n",
       "      <td>2022-08-08</td>\n",
       "      <td>100.0</td>\n",
       "      <td>NaN</td>\n",
       "      <td>NaN</td>\n",
       "      <td>0</td>\n",
       "      <td>0</td>\n",
       "      <td>...</td>\n",
       "      <td>NaN</td>\n",
       "      <td>0.0</td>\n",
       "      <td>323.0</td>\n",
       "      <td>6687564</td>\n",
       "      <td>4.000000</td>\n",
       "      <td>1</td>\n",
       "      <td>28.0</td>\n",
       "      <td>28.0</td>\n",
       "      <td>1.0</td>\n",
       "      <td>1</td>\n",
       "    </tr>\n",
       "    <tr>\n",
       "      <th>132</th>\n",
       "      <td>C</td>\n",
       "      <td>26.0</td>\n",
       "      <td>18.0</td>\n",
       "      <td>0</td>\n",
       "      <td>2022-08-01</td>\n",
       "      <td>100.0</td>\n",
       "      <td>97.0</td>\n",
       "      <td>NaN</td>\n",
       "      <td>0</td>\n",
       "      <td>0</td>\n",
       "      <td>...</td>\n",
       "      <td>NaN</td>\n",
       "      <td>0.0</td>\n",
       "      <td>70.0</td>\n",
       "      <td>7211140</td>\n",
       "      <td>4.666667</td>\n",
       "      <td>1</td>\n",
       "      <td>12.0</td>\n",
       "      <td>10.0</td>\n",
       "      <td>8.0</td>\n",
       "      <td>1</td>\n",
       "    </tr>\n",
       "    <tr>\n",
       "      <th>...</th>\n",
       "      <td>...</td>\n",
       "      <td>...</td>\n",
       "      <td>...</td>\n",
       "      <td>...</td>\n",
       "      <td>...</td>\n",
       "      <td>...</td>\n",
       "      <td>...</td>\n",
       "      <td>...</td>\n",
       "      <td>...</td>\n",
       "      <td>...</td>\n",
       "      <td>...</td>\n",
       "      <td>...</td>\n",
       "      <td>...</td>\n",
       "      <td>...</td>\n",
       "      <td>...</td>\n",
       "      <td>...</td>\n",
       "      <td>...</td>\n",
       "      <td>...</td>\n",
       "      <td>...</td>\n",
       "      <td>...</td>\n",
       "      <td>...</td>\n",
       "    </tr>\n",
       "    <tr>\n",
       "      <th>199898</th>\n",
       "      <td>D</td>\n",
       "      <td>1.0</td>\n",
       "      <td>NaN</td>\n",
       "      <td>0</td>\n",
       "      <td>2022-08-08</td>\n",
       "      <td>NaN</td>\n",
       "      <td>NaN</td>\n",
       "      <td>NaN</td>\n",
       "      <td>0</td>\n",
       "      <td>0</td>\n",
       "      <td>...</td>\n",
       "      <td>NaN</td>\n",
       "      <td>NaN</td>\n",
       "      <td>0.0</td>\n",
       "      <td>6672747</td>\n",
       "      <td>NaN</td>\n",
       "      <td>0</td>\n",
       "      <td>0.0</td>\n",
       "      <td>0.0</td>\n",
       "      <td>0.0</td>\n",
       "      <td>1</td>\n",
       "    </tr>\n",
       "    <tr>\n",
       "      <th>199932</th>\n",
       "      <td>D</td>\n",
       "      <td>12.0</td>\n",
       "      <td>31.0</td>\n",
       "      <td>1</td>\n",
       "      <td>2022-08-09</td>\n",
       "      <td>100.0</td>\n",
       "      <td>NaN</td>\n",
       "      <td>NaN</td>\n",
       "      <td>0</td>\n",
       "      <td>0</td>\n",
       "      <td>...</td>\n",
       "      <td>NaN</td>\n",
       "      <td>0.0</td>\n",
       "      <td>129.0</td>\n",
       "      <td>6570723</td>\n",
       "      <td>NaN</td>\n",
       "      <td>0</td>\n",
       "      <td>28.0</td>\n",
       "      <td>24.0</td>\n",
       "      <td>0.0</td>\n",
       "      <td>1</td>\n",
       "    </tr>\n",
       "    <tr>\n",
       "      <th>199950</th>\n",
       "      <td>B</td>\n",
       "      <td>58.0</td>\n",
       "      <td>31.0</td>\n",
       "      <td>0</td>\n",
       "      <td>2022-08-15</td>\n",
       "      <td>100.0</td>\n",
       "      <td>97.0</td>\n",
       "      <td>NaN</td>\n",
       "      <td>0</td>\n",
       "      <td>0</td>\n",
       "      <td>...</td>\n",
       "      <td>NaN</td>\n",
       "      <td>0.0</td>\n",
       "      <td>199.0</td>\n",
       "      <td>7236752</td>\n",
       "      <td>NaN</td>\n",
       "      <td>0</td>\n",
       "      <td>12.0</td>\n",
       "      <td>2.0</td>\n",
       "      <td>1.0</td>\n",
       "      <td>1</td>\n",
       "    </tr>\n",
       "    <tr>\n",
       "      <th>199981</th>\n",
       "      <td>D</td>\n",
       "      <td>37.0</td>\n",
       "      <td>30.0</td>\n",
       "      <td>0</td>\n",
       "      <td>2022-08-15</td>\n",
       "      <td>100.0</td>\n",
       "      <td>97.0</td>\n",
       "      <td>NaN</td>\n",
       "      <td>0</td>\n",
       "      <td>0</td>\n",
       "      <td>...</td>\n",
       "      <td>NaN</td>\n",
       "      <td>0.0</td>\n",
       "      <td>281.0</td>\n",
       "      <td>6184852</td>\n",
       "      <td>NaN</td>\n",
       "      <td>5</td>\n",
       "      <td>28.0</td>\n",
       "      <td>22.0</td>\n",
       "      <td>2.0</td>\n",
       "      <td>1</td>\n",
       "    </tr>\n",
       "    <tr>\n",
       "      <th>199983</th>\n",
       "      <td>B</td>\n",
       "      <td>20.0</td>\n",
       "      <td>19.0</td>\n",
       "      <td>1</td>\n",
       "      <td>2022-08-15</td>\n",
       "      <td>NaN</td>\n",
       "      <td>NaN</td>\n",
       "      <td>NaN</td>\n",
       "      <td>0</td>\n",
       "      <td>0</td>\n",
       "      <td>...</td>\n",
       "      <td>NaN</td>\n",
       "      <td>NaN</td>\n",
       "      <td>51.0</td>\n",
       "      <td>6425728</td>\n",
       "      <td>NaN</td>\n",
       "      <td>0</td>\n",
       "      <td>16.0</td>\n",
       "      <td>14.0</td>\n",
       "      <td>6.0</td>\n",
       "      <td>1</td>\n",
       "    </tr>\n",
       "  </tbody>\n",
       "</table>\n",
       "<p>6802 rows × 68 columns</p>\n",
       "</div>"
      ],
      "text/plain": [
       "       ABC  activity  age_indicator  auto_payment available_program_starts_on  \\\n",
       "0        D      32.0           32.0             0                  2020-10-12   \n",
       "36       B      29.0           40.0             1                  2022-08-15   \n",
       "53       D       5.0            5.0             1                  2022-08-03   \n",
       "76       A      31.0           33.0             1                  2022-08-08   \n",
       "132      C      26.0           18.0             0                  2022-08-01   \n",
       "...     ..       ...            ...           ...                         ...   \n",
       "199898   D       1.0            NaN             0                  2022-08-08   \n",
       "199932   D      12.0           31.0             1                  2022-08-09   \n",
       "199950   B      58.0           31.0             0                  2022-08-15   \n",
       "199981   D      37.0           30.0             0                  2022-08-15   \n",
       "199983   B      20.0           19.0             1                  2022-08-15   \n",
       "\n",
       "        avg_hw_mark  avg_quiz_result  bought_avg_duration  bought_d1  \\\n",
       "0             100.0              NaN                  NaN          0   \n",
       "36            100.0              NaN                  NaN          0   \n",
       "53              NaN              NaN                  NaN          0   \n",
       "76            100.0              NaN                  NaN          0   \n",
       "132           100.0             97.0                  NaN          0   \n",
       "...             ...              ...                  ...        ...   \n",
       "199898          NaN              NaN                  NaN          0   \n",
       "199932        100.0              NaN                  NaN          0   \n",
       "199950        100.0             97.0                  NaN          0   \n",
       "199981        100.0             97.0                  NaN          0   \n",
       "199983          NaN              NaN                  NaN          0   \n",
       "\n",
       "        bought_d2  ...  speed_recall  spent_time_to_complete_hw  \\\n",
       "0               0  ...           NaN                        0.0   \n",
       "36              0  ...           NaN                        0.0   \n",
       "53              0  ...           NaN                        NaN   \n",
       "76              0  ...           NaN                        0.0   \n",
       "132             0  ...           NaN                        0.0   \n",
       "...           ...  ...           ...                        ...   \n",
       "199898          0  ...           NaN                        NaN   \n",
       "199932          0  ...           NaN                        0.0   \n",
       "199950          0  ...           NaN                        0.0   \n",
       "199981          0  ...           NaN                        0.0   \n",
       "199983          0  ...           NaN                        NaN   \n",
       "\n",
       "        spent_time_total student_id support_feedback_avg target  \\\n",
       "0                  163.0    6694527             4.000000      0   \n",
       "36                 109.0    7398188                  NaN      0   \n",
       "53                  38.0    7311012                  NaN      0   \n",
       "76                 323.0    6687564             4.000000      1   \n",
       "132                 70.0    7211140             4.666667      1   \n",
       "...                  ...        ...                  ...    ...   \n",
       "199898               0.0    6672747                  NaN      0   \n",
       "199932             129.0    6570723                  NaN      0   \n",
       "199950             199.0    7236752                  NaN      0   \n",
       "199981             281.0    6184852                  NaN      5   \n",
       "199983              51.0    6425728                  NaN      0   \n",
       "\n",
       "       test_with_good_mark  test_with_great_mark webinars notes_bin  \n",
       "0                     12.0                   8.0      0.0         1  \n",
       "36                     0.0                   0.0      0.0         1  \n",
       "53                     0.0                   0.0      6.0         1  \n",
       "76                    28.0                  28.0      1.0         1  \n",
       "132                   12.0                  10.0      8.0         1  \n",
       "...                    ...                   ...      ...       ...  \n",
       "199898                 0.0                   0.0      0.0         1  \n",
       "199932                28.0                  24.0      0.0         1  \n",
       "199950                12.0                   2.0      1.0         1  \n",
       "199981                28.0                  22.0      2.0         1  \n",
       "199983                16.0                  14.0      6.0         1  \n",
       "\n",
       "[6802 rows x 68 columns]"
      ]
     },
     "execution_count": 28,
     "metadata": {},
     "output_type": "execute_result"
    }
   ],
   "source": [
    "df[df['notes_bin']==1]"
   ]
  },
  {
   "cell_type": "code",
   "execution_count": 37,
   "metadata": {},
   "outputs": [
    {
     "data": {
      "image/png": "[encoded data removed]",
      "text/plain": [
       "<Figure size 1440x864 with 1 Axes>"
      ]
     },
     "metadata": {
      "needs_background": "light"
     },
     "output_type": "display_data"
    }
   ],
   "source": [
    "_ = df[[\"lessons\"]].hist(figsize=(20,12))"
   ]
  },
  {
   "cell_type": "code",
   "execution_count": null,
   "metadata": {},
   "outputs": [],
   "source": []
  },
  {
   "cell_type": "code",
   "execution_count": 124,
   "metadata": {},
   "outputs": [],
   "source": [
    "cats = ['Windows', 'Mac OS X', 'iOS', 'Android', 'Linux', 'Ubuntu',\n",
    "       'Chrome OS', 'Fedora']\n",
    "def os_trans(row):\n",
    "    os = row.os\n",
    "    if os == 'iOS':\n",
    "        os='Mac OS X'\n",
    "    elif os=='Ubuntu'    or os=='Fedora':\n",
    "        os='Linux'   \n",
    "    row[\"os\"]=os\n",
    "    return row"
   ]
  },
  {
   "cell_type": "code",
   "execution_count": 125,
   "metadata": {},
   "outputs": [],
   "source": [
    "df=df.apply(lambda row: os_trans(row), axis=1)"
   ]
  },
  {
   "cell_type": "code",
   "execution_count": 91,
   "metadata": {},
   "outputs": [],
   "source": [
    "df[\"bought_total\"] = df.bought_d1+df.bought_d2 + df.bought_d3+df.bought_d4+df.bought_d5"
   ]
  },
  {
   "cell_type": "code",
   "execution_count": null,
   "metadata": {},
   "outputs": [],
   "source": [
    "df.platform=df.platform.apply(lambda p: 'mobile' if p =='tablet' else p)"
   ]
  },
  {
   "cell_type": "code",
   "execution_count": 126,
   "metadata": {},
   "outputs": [
    {
     "data": {
      "text/plain": [
       "array([nan, 'Windows', 'Mac OS X', 'Android', 'Linux', 'Chrome OS'],\n",
       "      dtype=object)"
      ]
     },
     "execution_count": 126,
     "metadata": {},
     "output_type": "execute_result"
    }
   ],
   "source": [
    "df.os.unique()"
   ]
  },
  {
   "cell_type": "code",
   "execution_count": 104,
   "metadata": {},
   "outputs": [
    {
     "data": {
      "text/plain": [
       "122639"
      ]
     },
     "execution_count": 104,
     "metadata": {},
     "output_type": "execute_result"
    }
   ],
   "source": [
    "df.platform.isna().sum()"
   ]
  },
  {
   "cell_type": "code",
   "execution_count": 113,
   "metadata": {},
   "outputs": [],
   "source": [
    "df.platform=df.platform.apply(lambda p: 'mobile' if p =='tablet' else p)"
   ]
  },
  {
   "cell_type": "code",
   "execution_count": 114,
   "metadata": {},
   "outputs": [
    {
     "data": {
      "text/plain": [
       "array([nan, 'pc', 'mobile'], dtype=object)"
      ]
     },
     "execution_count": 114,
     "metadata": {},
     "output_type": "execute_result"
    }
   ],
   "source": [
    "df.platform.unique()"
   ]
  },
  {
   "cell_type": "code",
   "execution_count": 116,
   "metadata": {},
   "outputs": [],
   "source": [
    "os_le = preprocessing.LabelEncoder()\n",
    "df[\"os\"] = os_le.fit_transform(df[\"os\"])"
   ]
  },
  {
   "cell_type": "code",
   "execution_count": 117,
   "metadata": {},
   "outputs": [
    {
     "data": {
      "text/plain": [
       "{'Android': 0,\n",
       " 'Chrome OS': 1,\n",
       " 'Fedora': 2,\n",
       " 'Linux': 3,\n",
       " 'Mac OS X': 4,\n",
       " 'Ubuntu': 5,\n",
       " 'Windows': 6,\n",
       " 'iOS': 7,\n",
       " nan: 8}"
      ]
     },
     "execution_count": 117,
     "metadata": {},
     "output_type": "execute_result"
    }
   ],
   "source": [
    "os_le_dict = dict(zip(os_le.classes_, os_le.transform(os_le.classes_)))\n",
    "os_le_dict"
   ]
  },
  {
   "cell_type": "code",
   "execution_count": 118,
   "metadata": {},
   "outputs": [
    {
     "data": {
      "image/png": "[encoded data removed]",
      "text/plain": [
       "<Figure size 1440x864 with 1 Axes>"
      ]
     },
     "metadata": {
      "needs_background": "light"
     },
     "output_type": "display_data"
    }
   ],
   "source": [
    "_ = df[[\"os\"]].hist(figsize=(20,12))"
   ]
  },
  {
   "cell_type": "code",
   "execution_count": 102,
   "metadata": {},
   "outputs": [
    {
     "data": {
      "text/html": [
       "<div>\n",
       "<style scoped>\n",
       "    .dataframe tbody tr th:only-of-type {\n",
       "        vertical-align: middle;\n",
       "    }\n",
       "\n",
       "    .dataframe tbody tr th {\n",
       "        vertical-align: top;\n",
       "    }\n",
       "\n",
       "    .dataframe thead th {\n",
       "        text-align: right;\n",
       "    }\n",
       "</style>\n",
       "<table border=\"1\" class=\"dataframe\">\n",
       "  <thead>\n",
       "    <tr style=\"text-align: right;\">\n",
       "      <th></th>\n",
       "      <th>ABC</th>\n",
       "      <th>activity</th>\n",
       "      <th>age_indicator</th>\n",
       "      <th>auto_payment</th>\n",
       "      <th>available_program_starts_on</th>\n",
       "      <th>avg_hw_mark</th>\n",
       "      <th>avg_quiz_result</th>\n",
       "      <th>bought_avg_duration</th>\n",
       "      <th>bought_d1</th>\n",
       "      <th>bought_d2</th>\n",
       "      <th>...</th>\n",
       "      <th>reworked_hw</th>\n",
       "      <th>speed_recall</th>\n",
       "      <th>spent_time_to_complete_hw</th>\n",
       "      <th>spent_time_total</th>\n",
       "      <th>student_id</th>\n",
       "      <th>support_feedback_avg</th>\n",
       "      <th>target</th>\n",
       "      <th>test_with_good_mark</th>\n",
       "      <th>test_with_great_mark</th>\n",
       "      <th>webinars</th>\n",
       "    </tr>\n",
       "  </thead>\n",
       "  <tbody>\n",
       "    <tr>\n",
       "      <th>0</th>\n",
       "      <td>D</td>\n",
       "      <td>32.0</td>\n",
       "      <td>32.0</td>\n",
       "      <td>0</td>\n",
       "      <td>2020-10-12</td>\n",
       "      <td>100.0</td>\n",
       "      <td>NaN</td>\n",
       "      <td>NaN</td>\n",
       "      <td>0</td>\n",
       "      <td>0</td>\n",
       "      <td>...</td>\n",
       "      <td>17.0</td>\n",
       "      <td>NaN</td>\n",
       "      <td>0.0</td>\n",
       "      <td>163.0</td>\n",
       "      <td>6694527</td>\n",
       "      <td>4.0</td>\n",
       "      <td>0</td>\n",
       "      <td>12.0</td>\n",
       "      <td>8.0</td>\n",
       "      <td>0.0</td>\n",
       "    </tr>\n",
       "    <tr>\n",
       "      <th>1</th>\n",
       "      <td>A</td>\n",
       "      <td>NaN</td>\n",
       "      <td>NaN</td>\n",
       "      <td>1</td>\n",
       "      <td>NaN</td>\n",
       "      <td>NaN</td>\n",
       "      <td>NaN</td>\n",
       "      <td>NaN</td>\n",
       "      <td>0</td>\n",
       "      <td>0</td>\n",
       "      <td>...</td>\n",
       "      <td>NaN</td>\n",
       "      <td>1.0</td>\n",
       "      <td>NaN</td>\n",
       "      <td>NaN</td>\n",
       "      <td>6712877</td>\n",
       "      <td>NaN</td>\n",
       "      <td>0</td>\n",
       "      <td>NaN</td>\n",
       "      <td>NaN</td>\n",
       "      <td>NaN</td>\n",
       "    </tr>\n",
       "    <tr>\n",
       "      <th>2</th>\n",
       "      <td>D</td>\n",
       "      <td>NaN</td>\n",
       "      <td>NaN</td>\n",
       "      <td>0</td>\n",
       "      <td>2022-08-04</td>\n",
       "      <td>NaN</td>\n",
       "      <td>NaN</td>\n",
       "      <td>NaN</td>\n",
       "      <td>0</td>\n",
       "      <td>0</td>\n",
       "      <td>...</td>\n",
       "      <td>NaN</td>\n",
       "      <td>NaN</td>\n",
       "      <td>NaN</td>\n",
       "      <td>NaN</td>\n",
       "      <td>6659444</td>\n",
       "      <td>NaN</td>\n",
       "      <td>0</td>\n",
       "      <td>NaN</td>\n",
       "      <td>NaN</td>\n",
       "      <td>NaN</td>\n",
       "    </tr>\n",
       "    <tr>\n",
       "      <th>4</th>\n",
       "      <td>A</td>\n",
       "      <td>NaN</td>\n",
       "      <td>30.0</td>\n",
       "      <td>1</td>\n",
       "      <td>NaN</td>\n",
       "      <td>NaN</td>\n",
       "      <td>NaN</td>\n",
       "      <td>NaN</td>\n",
       "      <td>0</td>\n",
       "      <td>0</td>\n",
       "      <td>...</td>\n",
       "      <td>NaN</td>\n",
       "      <td>NaN</td>\n",
       "      <td>NaN</td>\n",
       "      <td>NaN</td>\n",
       "      <td>6705666</td>\n",
       "      <td>NaN</td>\n",
       "      <td>0</td>\n",
       "      <td>NaN</td>\n",
       "      <td>NaN</td>\n",
       "      <td>NaN</td>\n",
       "    </tr>\n",
       "    <tr>\n",
       "      <th>7</th>\n",
       "      <td>A</td>\n",
       "      <td>NaN</td>\n",
       "      <td>NaN</td>\n",
       "      <td>1</td>\n",
       "      <td>2022-08-25</td>\n",
       "      <td>NaN</td>\n",
       "      <td>NaN</td>\n",
       "      <td>NaN</td>\n",
       "      <td>0</td>\n",
       "      <td>0</td>\n",
       "      <td>...</td>\n",
       "      <td>NaN</td>\n",
       "      <td>NaN</td>\n",
       "      <td>NaN</td>\n",
       "      <td>NaN</td>\n",
       "      <td>6314133</td>\n",
       "      <td>NaN</td>\n",
       "      <td>0</td>\n",
       "      <td>NaN</td>\n",
       "      <td>NaN</td>\n",
       "      <td>NaN</td>\n",
       "    </tr>\n",
       "    <tr>\n",
       "      <th>...</th>\n",
       "      <td>...</td>\n",
       "      <td>...</td>\n",
       "      <td>...</td>\n",
       "      <td>...</td>\n",
       "      <td>...</td>\n",
       "      <td>...</td>\n",
       "      <td>...</td>\n",
       "      <td>...</td>\n",
       "      <td>...</td>\n",
       "      <td>...</td>\n",
       "      <td>...</td>\n",
       "      <td>...</td>\n",
       "      <td>...</td>\n",
       "      <td>...</td>\n",
       "      <td>...</td>\n",
       "      <td>...</td>\n",
       "      <td>...</td>\n",
       "      <td>...</td>\n",
       "      <td>...</td>\n",
       "      <td>...</td>\n",
       "      <td>...</td>\n",
       "    </tr>\n",
       "    <tr>\n",
       "      <th>199990</th>\n",
       "      <td>D</td>\n",
       "      <td>NaN</td>\n",
       "      <td>27.0</td>\n",
       "      <td>0</td>\n",
       "      <td>2022-08-08</td>\n",
       "      <td>NaN</td>\n",
       "      <td>NaN</td>\n",
       "      <td>NaN</td>\n",
       "      <td>0</td>\n",
       "      <td>0</td>\n",
       "      <td>...</td>\n",
       "      <td>NaN</td>\n",
       "      <td>1.0</td>\n",
       "      <td>NaN</td>\n",
       "      <td>NaN</td>\n",
       "      <td>5724556</td>\n",
       "      <td>NaN</td>\n",
       "      <td>0</td>\n",
       "      <td>NaN</td>\n",
       "      <td>NaN</td>\n",
       "      <td>NaN</td>\n",
       "    </tr>\n",
       "    <tr>\n",
       "      <th>199991</th>\n",
       "      <td>D</td>\n",
       "      <td>NaN</td>\n",
       "      <td>NaN</td>\n",
       "      <td>1</td>\n",
       "      <td>2022-08-24</td>\n",
       "      <td>NaN</td>\n",
       "      <td>NaN</td>\n",
       "      <td>NaN</td>\n",
       "      <td>0</td>\n",
       "      <td>0</td>\n",
       "      <td>...</td>\n",
       "      <td>NaN</td>\n",
       "      <td>1.0</td>\n",
       "      <td>NaN</td>\n",
       "      <td>NaN</td>\n",
       "      <td>6725999</td>\n",
       "      <td>NaN</td>\n",
       "      <td>0</td>\n",
       "      <td>NaN</td>\n",
       "      <td>NaN</td>\n",
       "      <td>NaN</td>\n",
       "    </tr>\n",
       "    <tr>\n",
       "      <th>199992</th>\n",
       "      <td>D</td>\n",
       "      <td>9.0</td>\n",
       "      <td>20.0</td>\n",
       "      <td>1</td>\n",
       "      <td>2022-08-25</td>\n",
       "      <td>NaN</td>\n",
       "      <td>NaN</td>\n",
       "      <td>NaN</td>\n",
       "      <td>0</td>\n",
       "      <td>0</td>\n",
       "      <td>...</td>\n",
       "      <td>0.0</td>\n",
       "      <td>4.0</td>\n",
       "      <td>NaN</td>\n",
       "      <td>2.0</td>\n",
       "      <td>5374325</td>\n",
       "      <td>NaN</td>\n",
       "      <td>4</td>\n",
       "      <td>4.0</td>\n",
       "      <td>4.0</td>\n",
       "      <td>0.0</td>\n",
       "    </tr>\n",
       "    <tr>\n",
       "      <th>199995</th>\n",
       "      <td>D</td>\n",
       "      <td>NaN</td>\n",
       "      <td>27.0</td>\n",
       "      <td>1</td>\n",
       "      <td>NaN</td>\n",
       "      <td>NaN</td>\n",
       "      <td>NaN</td>\n",
       "      <td>40.0</td>\n",
       "      <td>1</td>\n",
       "      <td>0</td>\n",
       "      <td>...</td>\n",
       "      <td>NaN</td>\n",
       "      <td>NaN</td>\n",
       "      <td>NaN</td>\n",
       "      <td>NaN</td>\n",
       "      <td>6816668</td>\n",
       "      <td>5.0</td>\n",
       "      <td>0</td>\n",
       "      <td>NaN</td>\n",
       "      <td>NaN</td>\n",
       "      <td>NaN</td>\n",
       "    </tr>\n",
       "    <tr>\n",
       "      <th>199997</th>\n",
       "      <td>D</td>\n",
       "      <td>0.0</td>\n",
       "      <td>17.0</td>\n",
       "      <td>0</td>\n",
       "      <td>2022-08-11</td>\n",
       "      <td>NaN</td>\n",
       "      <td>NaN</td>\n",
       "      <td>NaN</td>\n",
       "      <td>0</td>\n",
       "      <td>0</td>\n",
       "      <td>...</td>\n",
       "      <td>0.0</td>\n",
       "      <td>NaN</td>\n",
       "      <td>NaN</td>\n",
       "      <td>NaN</td>\n",
       "      <td>6670084</td>\n",
       "      <td>3.0</td>\n",
       "      <td>0</td>\n",
       "      <td>0.0</td>\n",
       "      <td>0.0</td>\n",
       "      <td>0.0</td>\n",
       "    </tr>\n",
       "  </tbody>\n",
       "</table>\n",
       "<p>122626 rows × 67 columns</p>\n",
       "</div>"
      ],
      "text/plain": [
       "       ABC  activity  age_indicator  auto_payment available_program_starts_on  \\\n",
       "0        D      32.0           32.0             0                  2020-10-12   \n",
       "1        A       NaN            NaN             1                         NaN   \n",
       "2        D       NaN            NaN             0                  2022-08-04   \n",
       "4        A       NaN           30.0             1                         NaN   \n",
       "7        A       NaN            NaN             1                  2022-08-25   \n",
       "...     ..       ...            ...           ...                         ...   \n",
       "199990   D       NaN           27.0             0                  2022-08-08   \n",
       "199991   D       NaN            NaN             1                  2022-08-24   \n",
       "199992   D       9.0           20.0             1                  2022-08-25   \n",
       "199995   D       NaN           27.0             1                         NaN   \n",
       "199997   D       0.0           17.0             0                  2022-08-11   \n",
       "\n",
       "        avg_hw_mark  avg_quiz_result  bought_avg_duration  bought_d1  \\\n",
       "0             100.0              NaN                  NaN          0   \n",
       "1               NaN              NaN                  NaN          0   \n",
       "2               NaN              NaN                  NaN          0   \n",
       "4               NaN              NaN                  NaN          0   \n",
       "7               NaN              NaN                  NaN          0   \n",
       "...             ...              ...                  ...        ...   \n",
       "199990          NaN              NaN                  NaN          0   \n",
       "199991          NaN              NaN                  NaN          0   \n",
       "199992          NaN              NaN                  NaN          0   \n",
       "199995          NaN              NaN                 40.0          1   \n",
       "199997          NaN              NaN                  NaN          0   \n",
       "\n",
       "        bought_d2  ...  reworked_hw  speed_recall  spent_time_to_complete_hw  \\\n",
       "0               0  ...         17.0           NaN                        0.0   \n",
       "1               0  ...          NaN           1.0                        NaN   \n",
       "2               0  ...          NaN           NaN                        NaN   \n",
       "4               0  ...          NaN           NaN                        NaN   \n",
       "7               0  ...          NaN           NaN                        NaN   \n",
       "...           ...  ...          ...           ...                        ...   \n",
       "199990          0  ...          NaN           1.0                        NaN   \n",
       "199991          0  ...          NaN           1.0                        NaN   \n",
       "199992          0  ...          0.0           4.0                        NaN   \n",
       "199995          0  ...          NaN           NaN                        NaN   \n",
       "199997          0  ...          0.0           NaN                        NaN   \n",
       "\n",
       "       spent_time_total student_id support_feedback_avg target  \\\n",
       "0                 163.0    6694527                  4.0      0   \n",
       "1                   NaN    6712877                  NaN      0   \n",
       "2                   NaN    6659444                  NaN      0   \n",
       "4                   NaN    6705666                  NaN      0   \n",
       "7                   NaN    6314133                  NaN      0   \n",
       "...                 ...        ...                  ...    ...   \n",
       "199990              NaN    5724556                  NaN      0   \n",
       "199991              NaN    6725999                  NaN      0   \n",
       "199992              2.0    5374325                  NaN      4   \n",
       "199995              NaN    6816668                  5.0      0   \n",
       "199997              NaN    6670084                  3.0      0   \n",
       "\n",
       "        test_with_good_mark test_with_great_mark webinars  \n",
       "0                      12.0                  8.0      0.0  \n",
       "1                       NaN                  NaN      NaN  \n",
       "2                       NaN                  NaN      NaN  \n",
       "4                       NaN                  NaN      NaN  \n",
       "7                       NaN                  NaN      NaN  \n",
       "...                     ...                  ...      ...  \n",
       "199990                  NaN                  NaN      NaN  \n",
       "199991                  NaN                  NaN      NaN  \n",
       "199992                  4.0                  4.0      0.0  \n",
       "199995                  NaN                  NaN      NaN  \n",
       "199997                  0.0                  0.0      0.0  \n",
       "\n",
       "[122626 rows x 67 columns]"
      ]
     },
     "execution_count": 102,
     "metadata": {},
     "output_type": "execute_result"
    }
   ],
   "source": [
    "df[df.os==8]"
   ]
  },
  {
   "cell_type": "code",
   "execution_count": 93,
   "metadata": {},
   "outputs": [
    {
     "data": {
      "text/plain": [
       "189641"
      ]
     },
     "execution_count": 93,
     "metadata": {},
     "output_type": "execute_result"
    }
   ],
   "source": [
    "df.bought_avg_duration.isna().sum()"
   ]
  },
  {
   "cell_type": "code",
   "execution_count": 73,
   "metadata": {},
   "outputs": [
    {
     "data": {
      "text/plain": [
       "0         1\n",
       "1         0\n",
       "2         0\n",
       "3         1\n",
       "4         1\n",
       "         ..\n",
       "199995    1\n",
       "199996    0\n",
       "199997    1\n",
       "199998    0\n",
       "199999    1\n",
       "Name: gender, Length: 200000, dtype: int32"
      ]
     },
     "execution_count": 73,
     "metadata": {},
     "output_type": "execute_result"
    }
   ],
   "source": [
    "df.gender.astype(int)"
   ]
  },
  {
   "cell_type": "code",
   "execution_count": 64,
   "metadata": {},
   "outputs": [
    {
     "data": {
      "text/plain": [
       "0"
      ]
     },
     "execution_count": 64,
     "metadata": {},
     "output_type": "execute_result"
    }
   ],
   "source": [
    "df.carts_created_at.isna().sum()"
   ]
  },
  {
   "cell_type": "code",
   "execution_count": 57,
   "metadata": {},
   "outputs": [
    {
     "data": {
      "text/plain": [
       "1358"
      ]
     },
     "execution_count": 57,
     "metadata": {},
     "output_type": "execute_result"
    }
   ],
   "source": [
    "df[cols].isna().all(axis=1).sum()"
   ]
  },
  {
   "cell_type": "code",
   "execution_count": 60,
   "metadata": {},
   "outputs": [],
   "source": [
    "d=df[~df[cols].isna().all(axis=1)]"
   ]
  },
  {
   "cell_type": "code",
   "execution_count": 61,
   "metadata": {},
   "outputs": [
    {
     "data": {
      "text/html": [
       "<div>\n",
       "<style scoped>\n",
       "    .dataframe tbody tr th:only-of-type {\n",
       "        vertical-align: middle;\n",
       "    }\n",
       "\n",
       "    .dataframe tbody tr th {\n",
       "        vertical-align: top;\n",
       "    }\n",
       "\n",
       "    .dataframe thead th {\n",
       "        text-align: right;\n",
       "    }\n",
       "</style>\n",
       "<table border=\"1\" class=\"dataframe\">\n",
       "  <thead>\n",
       "    <tr style=\"text-align: right;\">\n",
       "      <th></th>\n",
       "      <th>ABC</th>\n",
       "      <th>activity</th>\n",
       "      <th>age_indicator</th>\n",
       "      <th>auto_payment</th>\n",
       "      <th>available_program_starts_on</th>\n",
       "      <th>avg_hw_mark</th>\n",
       "      <th>avg_quiz_result</th>\n",
       "      <th>bought_avg_duration</th>\n",
       "      <th>bought_d1</th>\n",
       "      <th>bought_d2</th>\n",
       "      <th>...</th>\n",
       "      <th>reworked_hw</th>\n",
       "      <th>speed_recall</th>\n",
       "      <th>spent_time_to_complete_hw</th>\n",
       "      <th>spent_time_total</th>\n",
       "      <th>student_id</th>\n",
       "      <th>support_feedback_avg</th>\n",
       "      <th>target</th>\n",
       "      <th>test_with_good_mark</th>\n",
       "      <th>test_with_great_mark</th>\n",
       "      <th>webinars</th>\n",
       "    </tr>\n",
       "  </thead>\n",
       "  <tbody>\n",
       "    <tr>\n",
       "      <th>0</th>\n",
       "      <td>D</td>\n",
       "      <td>32.0</td>\n",
       "      <td>32.0</td>\n",
       "      <td>0</td>\n",
       "      <td>2020-10-12</td>\n",
       "      <td>100.0</td>\n",
       "      <td>NaN</td>\n",
       "      <td>NaN</td>\n",
       "      <td>0</td>\n",
       "      <td>0</td>\n",
       "      <td>...</td>\n",
       "      <td>17.0</td>\n",
       "      <td>NaN</td>\n",
       "      <td>0.0</td>\n",
       "      <td>163.0</td>\n",
       "      <td>6694527</td>\n",
       "      <td>4.0</td>\n",
       "      <td>0</td>\n",
       "      <td>12.0</td>\n",
       "      <td>8.0</td>\n",
       "      <td>0.0</td>\n",
       "    </tr>\n",
       "    <tr>\n",
       "      <th>2</th>\n",
       "      <td>D</td>\n",
       "      <td>NaN</td>\n",
       "      <td>NaN</td>\n",
       "      <td>0</td>\n",
       "      <td>2022-08-04</td>\n",
       "      <td>NaN</td>\n",
       "      <td>NaN</td>\n",
       "      <td>NaN</td>\n",
       "      <td>0</td>\n",
       "      <td>0</td>\n",
       "      <td>...</td>\n",
       "      <td>NaN</td>\n",
       "      <td>NaN</td>\n",
       "      <td>NaN</td>\n",
       "      <td>NaN</td>\n",
       "      <td>6659444</td>\n",
       "      <td>NaN</td>\n",
       "      <td>0</td>\n",
       "      <td>NaN</td>\n",
       "      <td>NaN</td>\n",
       "      <td>NaN</td>\n",
       "    </tr>\n",
       "    <tr>\n",
       "      <th>3</th>\n",
       "      <td>B</td>\n",
       "      <td>NaN</td>\n",
       "      <td>1.0</td>\n",
       "      <td>1</td>\n",
       "      <td>2022-09-26</td>\n",
       "      <td>NaN</td>\n",
       "      <td>NaN</td>\n",
       "      <td>NaN</td>\n",
       "      <td>0</td>\n",
       "      <td>0</td>\n",
       "      <td>...</td>\n",
       "      <td>NaN</td>\n",
       "      <td>NaN</td>\n",
       "      <td>NaN</td>\n",
       "      <td>NaN</td>\n",
       "      <td>7151591</td>\n",
       "      <td>NaN</td>\n",
       "      <td>0</td>\n",
       "      <td>NaN</td>\n",
       "      <td>NaN</td>\n",
       "      <td>NaN</td>\n",
       "    </tr>\n",
       "    <tr>\n",
       "      <th>4</th>\n",
       "      <td>A</td>\n",
       "      <td>NaN</td>\n",
       "      <td>30.0</td>\n",
       "      <td>1</td>\n",
       "      <td>NaN</td>\n",
       "      <td>NaN</td>\n",
       "      <td>NaN</td>\n",
       "      <td>NaN</td>\n",
       "      <td>0</td>\n",
       "      <td>0</td>\n",
       "      <td>...</td>\n",
       "      <td>NaN</td>\n",
       "      <td>NaN</td>\n",
       "      <td>NaN</td>\n",
       "      <td>NaN</td>\n",
       "      <td>6705666</td>\n",
       "      <td>NaN</td>\n",
       "      <td>0</td>\n",
       "      <td>NaN</td>\n",
       "      <td>NaN</td>\n",
       "      <td>NaN</td>\n",
       "    </tr>\n",
       "    <tr>\n",
       "      <th>5</th>\n",
       "      <td>A</td>\n",
       "      <td>2.0</td>\n",
       "      <td>NaN</td>\n",
       "      <td>1</td>\n",
       "      <td>2022-08-11</td>\n",
       "      <td>NaN</td>\n",
       "      <td>NaN</td>\n",
       "      <td>NaN</td>\n",
       "      <td>0</td>\n",
       "      <td>0</td>\n",
       "      <td>...</td>\n",
       "      <td>0.0</td>\n",
       "      <td>NaN</td>\n",
       "      <td>NaN</td>\n",
       "      <td>9.0</td>\n",
       "      <td>6784019</td>\n",
       "      <td>5.0</td>\n",
       "      <td>0</td>\n",
       "      <td>0.0</td>\n",
       "      <td>0.0</td>\n",
       "      <td>0.0</td>\n",
       "    </tr>\n",
       "    <tr>\n",
       "      <th>...</th>\n",
       "      <td>...</td>\n",
       "      <td>...</td>\n",
       "      <td>...</td>\n",
       "      <td>...</td>\n",
       "      <td>...</td>\n",
       "      <td>...</td>\n",
       "      <td>...</td>\n",
       "      <td>...</td>\n",
       "      <td>...</td>\n",
       "      <td>...</td>\n",
       "      <td>...</td>\n",
       "      <td>...</td>\n",
       "      <td>...</td>\n",
       "      <td>...</td>\n",
       "      <td>...</td>\n",
       "      <td>...</td>\n",
       "      <td>...</td>\n",
       "      <td>...</td>\n",
       "      <td>...</td>\n",
       "      <td>...</td>\n",
       "      <td>...</td>\n",
       "    </tr>\n",
       "    <tr>\n",
       "      <th>199995</th>\n",
       "      <td>D</td>\n",
       "      <td>NaN</td>\n",
       "      <td>27.0</td>\n",
       "      <td>1</td>\n",
       "      <td>NaN</td>\n",
       "      <td>NaN</td>\n",
       "      <td>NaN</td>\n",
       "      <td>40.0</td>\n",
       "      <td>1</td>\n",
       "      <td>0</td>\n",
       "      <td>...</td>\n",
       "      <td>NaN</td>\n",
       "      <td>NaN</td>\n",
       "      <td>NaN</td>\n",
       "      <td>NaN</td>\n",
       "      <td>6816668</td>\n",
       "      <td>5.0</td>\n",
       "      <td>0</td>\n",
       "      <td>NaN</td>\n",
       "      <td>NaN</td>\n",
       "      <td>NaN</td>\n",
       "    </tr>\n",
       "    <tr>\n",
       "      <th>199996</th>\n",
       "      <td>D</td>\n",
       "      <td>NaN</td>\n",
       "      <td>NaN</td>\n",
       "      <td>0</td>\n",
       "      <td>2022-04-25</td>\n",
       "      <td>NaN</td>\n",
       "      <td>NaN</td>\n",
       "      <td>NaN</td>\n",
       "      <td>0</td>\n",
       "      <td>0</td>\n",
       "      <td>...</td>\n",
       "      <td>NaN</td>\n",
       "      <td>NaN</td>\n",
       "      <td>NaN</td>\n",
       "      <td>NaN</td>\n",
       "      <td>6984939</td>\n",
       "      <td>NaN</td>\n",
       "      <td>0</td>\n",
       "      <td>NaN</td>\n",
       "      <td>NaN</td>\n",
       "      <td>NaN</td>\n",
       "    </tr>\n",
       "    <tr>\n",
       "      <th>199997</th>\n",
       "      <td>D</td>\n",
       "      <td>0.0</td>\n",
       "      <td>17.0</td>\n",
       "      <td>0</td>\n",
       "      <td>2022-08-11</td>\n",
       "      <td>NaN</td>\n",
       "      <td>NaN</td>\n",
       "      <td>NaN</td>\n",
       "      <td>0</td>\n",
       "      <td>0</td>\n",
       "      <td>...</td>\n",
       "      <td>0.0</td>\n",
       "      <td>NaN</td>\n",
       "      <td>NaN</td>\n",
       "      <td>NaN</td>\n",
       "      <td>6670084</td>\n",
       "      <td>3.0</td>\n",
       "      <td>0</td>\n",
       "      <td>0.0</td>\n",
       "      <td>0.0</td>\n",
       "      <td>0.0</td>\n",
       "    </tr>\n",
       "    <tr>\n",
       "      <th>199998</th>\n",
       "      <td>A</td>\n",
       "      <td>NaN</td>\n",
       "      <td>NaN</td>\n",
       "      <td>1</td>\n",
       "      <td>NaN</td>\n",
       "      <td>NaN</td>\n",
       "      <td>NaN</td>\n",
       "      <td>NaN</td>\n",
       "      <td>0</td>\n",
       "      <td>0</td>\n",
       "      <td>...</td>\n",
       "      <td>NaN</td>\n",
       "      <td>NaN</td>\n",
       "      <td>NaN</td>\n",
       "      <td>NaN</td>\n",
       "      <td>6917324</td>\n",
       "      <td>NaN</td>\n",
       "      <td>0</td>\n",
       "      <td>NaN</td>\n",
       "      <td>NaN</td>\n",
       "      <td>NaN</td>\n",
       "    </tr>\n",
       "    <tr>\n",
       "      <th>199999</th>\n",
       "      <td>A</td>\n",
       "      <td>NaN</td>\n",
       "      <td>18.0</td>\n",
       "      <td>1</td>\n",
       "      <td>2022-08-12</td>\n",
       "      <td>NaN</td>\n",
       "      <td>NaN</td>\n",
       "      <td>NaN</td>\n",
       "      <td>0</td>\n",
       "      <td>0</td>\n",
       "      <td>...</td>\n",
       "      <td>NaN</td>\n",
       "      <td>NaN</td>\n",
       "      <td>NaN</td>\n",
       "      <td>NaN</td>\n",
       "      <td>7057970</td>\n",
       "      <td>NaN</td>\n",
       "      <td>0</td>\n",
       "      <td>NaN</td>\n",
       "      <td>NaN</td>\n",
       "      <td>NaN</td>\n",
       "    </tr>\n",
       "  </tbody>\n",
       "</table>\n",
       "<p>198642 rows × 67 columns</p>\n",
       "</div>"
      ],
      "text/plain": [
       "       ABC  activity  age_indicator  auto_payment available_program_starts_on  \\\n",
       "0        D      32.0           32.0             0                  2020-10-12   \n",
       "2        D       NaN            NaN             0                  2022-08-04   \n",
       "3        B       NaN            1.0             1                  2022-09-26   \n",
       "4        A       NaN           30.0             1                         NaN   \n",
       "5        A       2.0            NaN             1                  2022-08-11   \n",
       "...     ..       ...            ...           ...                         ...   \n",
       "199995   D       NaN           27.0             1                         NaN   \n",
       "199996   D       NaN            NaN             0                  2022-04-25   \n",
       "199997   D       0.0           17.0             0                  2022-08-11   \n",
       "199998   A       NaN            NaN             1                         NaN   \n",
       "199999   A       NaN           18.0             1                  2022-08-12   \n",
       "\n",
       "        avg_hw_mark  avg_quiz_result  bought_avg_duration  bought_d1  \\\n",
       "0             100.0              NaN                  NaN          0   \n",
       "2               NaN              NaN                  NaN          0   \n",
       "3               NaN              NaN                  NaN          0   \n",
       "4               NaN              NaN                  NaN          0   \n",
       "5               NaN              NaN                  NaN          0   \n",
       "...             ...              ...                  ...        ...   \n",
       "199995          NaN              NaN                 40.0          1   \n",
       "199996          NaN              NaN                  NaN          0   \n",
       "199997          NaN              NaN                  NaN          0   \n",
       "199998          NaN              NaN                  NaN          0   \n",
       "199999          NaN              NaN                  NaN          0   \n",
       "\n",
       "        bought_d2  ...  reworked_hw  speed_recall  spent_time_to_complete_hw  \\\n",
       "0               0  ...         17.0           NaN                        0.0   \n",
       "2               0  ...          NaN           NaN                        NaN   \n",
       "3               0  ...          NaN           NaN                        NaN   \n",
       "4               0  ...          NaN           NaN                        NaN   \n",
       "5               0  ...          0.0           NaN                        NaN   \n",
       "...           ...  ...          ...           ...                        ...   \n",
       "199995          0  ...          NaN           NaN                        NaN   \n",
       "199996          0  ...          NaN           NaN                        NaN   \n",
       "199997          0  ...          0.0           NaN                        NaN   \n",
       "199998          0  ...          NaN           NaN                        NaN   \n",
       "199999          0  ...          NaN           NaN                        NaN   \n",
       "\n",
       "       spent_time_total student_id support_feedback_avg target  \\\n",
       "0                 163.0    6694527                  4.0      0   \n",
       "2                   NaN    6659444                  NaN      0   \n",
       "3                   NaN    7151591                  NaN      0   \n",
       "4                   NaN    6705666                  NaN      0   \n",
       "5                   9.0    6784019                  5.0      0   \n",
       "...                 ...        ...                  ...    ...   \n",
       "199995              NaN    6816668                  5.0      0   \n",
       "199996              NaN    6984939                  NaN      0   \n",
       "199997              NaN    6670084                  3.0      0   \n",
       "199998              NaN    6917324                  NaN      0   \n",
       "199999              NaN    7057970                  NaN      0   \n",
       "\n",
       "        test_with_good_mark test_with_great_mark webinars  \n",
       "0                      12.0                  8.0      0.0  \n",
       "2                       NaN                  NaN      NaN  \n",
       "3                       NaN                  NaN      NaN  \n",
       "4                       NaN                  NaN      NaN  \n",
       "5                       0.0                  0.0      0.0  \n",
       "...                     ...                  ...      ...  \n",
       "199995                  NaN                  NaN      NaN  \n",
       "199996                  NaN                  NaN      NaN  \n",
       "199997                  0.0                  0.0      0.0  \n",
       "199998                  NaN                  NaN      NaN  \n",
       "199999                  NaN                  NaN      NaN  \n",
       "\n",
       "[198642 rows x 67 columns]"
      ]
     },
     "execution_count": 61,
     "metadata": {},
     "output_type": "execute_result"
    }
   ],
   "source": [
    "d"
   ]
  },
  {
   "cell_type": "code",
   "execution_count": 55,
   "metadata": {},
   "outputs": [],
   "source": [
    "cols =[\n",
    "    \"age_indicator\",\n",
    "\"feedback_avg_d1\",\n",
    "\"feedback_avg_d3\",\n",
    "\"feedback_avg_d5\",\n",
    "\"feedback_avg_d4\",\n",
    "\"feedback_avg_d2\",\n",
    "\"support_feedback_avg\",\n",
    "\"bought_avg_duration\",\n",
    "\"m_was_conversations\",\n",
    "\"p_was_conversations\",\n",
    "\"current_program_starts_on\",\n",
    "]"
   ]
  },
  {
   "cell_type": "code",
   "execution_count": 46,
   "metadata": {},
   "outputs": [
    {
     "data": {
      "text/plain": [
       "1358"
      ]
     },
     "execution_count": 46,
     "metadata": {},
     "output_type": "execute_result"
    }
   ],
   "source": [
    "df_n.isna().all(axis=1).sum()"
   ]
  },
  {
   "cell_type": "code",
   "execution_count": 48,
   "metadata": {},
   "outputs": [],
   "source": [
    "nu=df[df_n.isna().all(axis=1)]\n"
   ]
  },
  {
   "cell_type": "code",
   "execution_count": 49,
   "metadata": {},
   "outputs": [
    {
     "data": {
      "image/png": "[encoded data removed]",
      "text/plain": [
       "<Figure size 1440x864 with 1 Axes>"
      ]
     },
     "metadata": {
      "needs_background": "light"
     },
     "output_type": "display_data"
    }
   ],
   "source": [
    "_ = nu[[\"target\"]].hist(figsize=(20,12))"
   ]
  },
  {
   "cell_type": "code",
   "execution_count": 51,
   "metadata": {},
   "outputs": [
    {
     "data": {
      "text/html": [
       "<div>\n",
       "<style scoped>\n",
       "    .dataframe tbody tr th:only-of-type {\n",
       "        vertical-align: middle;\n",
       "    }\n",
       "\n",
       "    .dataframe tbody tr th {\n",
       "        vertical-align: top;\n",
       "    }\n",
       "\n",
       "    .dataframe thead th {\n",
       "        text-align: right;\n",
       "    }\n",
       "</style>\n",
       "<table border=\"1\" class=\"dataframe\">\n",
       "  <thead>\n",
       "    <tr style=\"text-align: right;\">\n",
       "      <th></th>\n",
       "      <th>ABC</th>\n",
       "      <th>activity</th>\n",
       "      <th>age_indicator</th>\n",
       "      <th>auto_payment</th>\n",
       "      <th>available_program_starts_on</th>\n",
       "      <th>avg_hw_mark</th>\n",
       "      <th>avg_quiz_result</th>\n",
       "      <th>bought_avg_duration</th>\n",
       "      <th>bought_d1</th>\n",
       "      <th>bought_d2</th>\n",
       "      <th>...</th>\n",
       "      <th>reworked_hw</th>\n",
       "      <th>speed_recall</th>\n",
       "      <th>spent_time_to_complete_hw</th>\n",
       "      <th>spent_time_total</th>\n",
       "      <th>student_id</th>\n",
       "      <th>support_feedback_avg</th>\n",
       "      <th>target</th>\n",
       "      <th>test_with_good_mark</th>\n",
       "      <th>test_with_great_mark</th>\n",
       "      <th>webinars</th>\n",
       "    </tr>\n",
       "  </thead>\n",
       "  <tbody>\n",
       "    <tr>\n",
       "      <th>12</th>\n",
       "      <td>B</td>\n",
       "      <td>NaN</td>\n",
       "      <td>18.0</td>\n",
       "      <td>0</td>\n",
       "      <td>2022-08-08</td>\n",
       "      <td>NaN</td>\n",
       "      <td>NaN</td>\n",
       "      <td>NaN</td>\n",
       "      <td>0</td>\n",
       "      <td>0</td>\n",
       "      <td>...</td>\n",
       "      <td>NaN</td>\n",
       "      <td>NaN</td>\n",
       "      <td>NaN</td>\n",
       "      <td>NaN</td>\n",
       "      <td>7087690</td>\n",
       "      <td>NaN</td>\n",
       "      <td>1</td>\n",
       "      <td>NaN</td>\n",
       "      <td>NaN</td>\n",
       "      <td>NaN</td>\n",
       "    </tr>\n",
       "    <tr>\n",
       "      <th>14</th>\n",
       "      <td>D</td>\n",
       "      <td>30.0</td>\n",
       "      <td>30.0</td>\n",
       "      <td>0</td>\n",
       "      <td>2022-08-08</td>\n",
       "      <td>NaN</td>\n",
       "      <td>NaN</td>\n",
       "      <td>NaN</td>\n",
       "      <td>0</td>\n",
       "      <td>0</td>\n",
       "      <td>...</td>\n",
       "      <td>0.0</td>\n",
       "      <td>NaN</td>\n",
       "      <td>NaN</td>\n",
       "      <td>69.0</td>\n",
       "      <td>6849570</td>\n",
       "      <td>NaN</td>\n",
       "      <td>1</td>\n",
       "      <td>0.0</td>\n",
       "      <td>0.0</td>\n",
       "      <td>0.0</td>\n",
       "    </tr>\n",
       "    <tr>\n",
       "      <th>17</th>\n",
       "      <td>D</td>\n",
       "      <td>NaN</td>\n",
       "      <td>NaN</td>\n",
       "      <td>1</td>\n",
       "      <td>2021-10-27</td>\n",
       "      <td>NaN</td>\n",
       "      <td>NaN</td>\n",
       "      <td>NaN</td>\n",
       "      <td>0</td>\n",
       "      <td>0</td>\n",
       "      <td>...</td>\n",
       "      <td>NaN</td>\n",
       "      <td>NaN</td>\n",
       "      <td>NaN</td>\n",
       "      <td>NaN</td>\n",
       "      <td>6945634</td>\n",
       "      <td>NaN</td>\n",
       "      <td>1</td>\n",
       "      <td>NaN</td>\n",
       "      <td>NaN</td>\n",
       "      <td>NaN</td>\n",
       "    </tr>\n",
       "    <tr>\n",
       "      <th>19</th>\n",
       "      <td>A</td>\n",
       "      <td>39.0</td>\n",
       "      <td>NaN</td>\n",
       "      <td>1</td>\n",
       "      <td>NaN</td>\n",
       "      <td>NaN</td>\n",
       "      <td>NaN</td>\n",
       "      <td>NaN</td>\n",
       "      <td>0</td>\n",
       "      <td>0</td>\n",
       "      <td>...</td>\n",
       "      <td>0.0</td>\n",
       "      <td>NaN</td>\n",
       "      <td>NaN</td>\n",
       "      <td>120.0</td>\n",
       "      <td>6839888</td>\n",
       "      <td>NaN</td>\n",
       "      <td>1</td>\n",
       "      <td>0.0</td>\n",
       "      <td>0.0</td>\n",
       "      <td>0.0</td>\n",
       "    </tr>\n",
       "    <tr>\n",
       "      <th>57</th>\n",
       "      <td>A</td>\n",
       "      <td>12.0</td>\n",
       "      <td>37.0</td>\n",
       "      <td>1</td>\n",
       "      <td>2022-08-11</td>\n",
       "      <td>NaN</td>\n",
       "      <td>NaN</td>\n",
       "      <td>NaN</td>\n",
       "      <td>0</td>\n",
       "      <td>0</td>\n",
       "      <td>...</td>\n",
       "      <td>0.0</td>\n",
       "      <td>NaN</td>\n",
       "      <td>NaN</td>\n",
       "      <td>201.0</td>\n",
       "      <td>6984343</td>\n",
       "      <td>NaN</td>\n",
       "      <td>1</td>\n",
       "      <td>8.0</td>\n",
       "      <td>8.0</td>\n",
       "      <td>0.0</td>\n",
       "    </tr>\n",
       "    <tr>\n",
       "      <th>...</th>\n",
       "      <td>...</td>\n",
       "      <td>...</td>\n",
       "      <td>...</td>\n",
       "      <td>...</td>\n",
       "      <td>...</td>\n",
       "      <td>...</td>\n",
       "      <td>...</td>\n",
       "      <td>...</td>\n",
       "      <td>...</td>\n",
       "      <td>...</td>\n",
       "      <td>...</td>\n",
       "      <td>...</td>\n",
       "      <td>...</td>\n",
       "      <td>...</td>\n",
       "      <td>...</td>\n",
       "      <td>...</td>\n",
       "      <td>...</td>\n",
       "      <td>...</td>\n",
       "      <td>...</td>\n",
       "      <td>...</td>\n",
       "      <td>...</td>\n",
       "    </tr>\n",
       "    <tr>\n",
       "      <th>199819</th>\n",
       "      <td>B</td>\n",
       "      <td>NaN</td>\n",
       "      <td>NaN</td>\n",
       "      <td>0</td>\n",
       "      <td>2022-08-01</td>\n",
       "      <td>NaN</td>\n",
       "      <td>NaN</td>\n",
       "      <td>NaN</td>\n",
       "      <td>0</td>\n",
       "      <td>0</td>\n",
       "      <td>...</td>\n",
       "      <td>NaN</td>\n",
       "      <td>NaN</td>\n",
       "      <td>NaN</td>\n",
       "      <td>NaN</td>\n",
       "      <td>7119934</td>\n",
       "      <td>5.0</td>\n",
       "      <td>1</td>\n",
       "      <td>NaN</td>\n",
       "      <td>NaN</td>\n",
       "      <td>NaN</td>\n",
       "    </tr>\n",
       "    <tr>\n",
       "      <th>199892</th>\n",
       "      <td>D</td>\n",
       "      <td>NaN</td>\n",
       "      <td>5.0</td>\n",
       "      <td>0</td>\n",
       "      <td>2020-10-12</td>\n",
       "      <td>NaN</td>\n",
       "      <td>NaN</td>\n",
       "      <td>NaN</td>\n",
       "      <td>0</td>\n",
       "      <td>0</td>\n",
       "      <td>...</td>\n",
       "      <td>NaN</td>\n",
       "      <td>1.0</td>\n",
       "      <td>NaN</td>\n",
       "      <td>NaN</td>\n",
       "      <td>6327006</td>\n",
       "      <td>NaN</td>\n",
       "      <td>1</td>\n",
       "      <td>NaN</td>\n",
       "      <td>NaN</td>\n",
       "      <td>NaN</td>\n",
       "    </tr>\n",
       "    <tr>\n",
       "      <th>199899</th>\n",
       "      <td>D</td>\n",
       "      <td>0.0</td>\n",
       "      <td>11.0</td>\n",
       "      <td>0</td>\n",
       "      <td>2022-08-29</td>\n",
       "      <td>100.0</td>\n",
       "      <td>NaN</td>\n",
       "      <td>NaN</td>\n",
       "      <td>0</td>\n",
       "      <td>0</td>\n",
       "      <td>...</td>\n",
       "      <td>0.0</td>\n",
       "      <td>NaN</td>\n",
       "      <td>NaN</td>\n",
       "      <td>NaN</td>\n",
       "      <td>6918711</td>\n",
       "      <td>NaN</td>\n",
       "      <td>1</td>\n",
       "      <td>0.0</td>\n",
       "      <td>0.0</td>\n",
       "      <td>0.0</td>\n",
       "    </tr>\n",
       "    <tr>\n",
       "      <th>199921</th>\n",
       "      <td>D</td>\n",
       "      <td>2.0</td>\n",
       "      <td>NaN</td>\n",
       "      <td>1</td>\n",
       "      <td>2022-08-11</td>\n",
       "      <td>NaN</td>\n",
       "      <td>NaN</td>\n",
       "      <td>NaN</td>\n",
       "      <td>0</td>\n",
       "      <td>0</td>\n",
       "      <td>...</td>\n",
       "      <td>0.0</td>\n",
       "      <td>NaN</td>\n",
       "      <td>NaN</td>\n",
       "      <td>1.0</td>\n",
       "      <td>6798177</td>\n",
       "      <td>NaN</td>\n",
       "      <td>1</td>\n",
       "      <td>0.0</td>\n",
       "      <td>0.0</td>\n",
       "      <td>0.0</td>\n",
       "    </tr>\n",
       "    <tr>\n",
       "      <th>199922</th>\n",
       "      <td>B</td>\n",
       "      <td>NaN</td>\n",
       "      <td>27.0</td>\n",
       "      <td>0</td>\n",
       "      <td>2022-08-15</td>\n",
       "      <td>NaN</td>\n",
       "      <td>NaN</td>\n",
       "      <td>106.0</td>\n",
       "      <td>1</td>\n",
       "      <td>0</td>\n",
       "      <td>...</td>\n",
       "      <td>NaN</td>\n",
       "      <td>NaN</td>\n",
       "      <td>NaN</td>\n",
       "      <td>NaN</td>\n",
       "      <td>6849651</td>\n",
       "      <td>NaN</td>\n",
       "      <td>1</td>\n",
       "      <td>NaN</td>\n",
       "      <td>NaN</td>\n",
       "      <td>NaN</td>\n",
       "    </tr>\n",
       "  </tbody>\n",
       "</table>\n",
       "<p>13512 rows × 67 columns</p>\n",
       "</div>"
      ],
      "text/plain": [
       "       ABC  activity  age_indicator  auto_payment available_program_starts_on  \\\n",
       "12       B       NaN           18.0             0                  2022-08-08   \n",
       "14       D      30.0           30.0             0                  2022-08-08   \n",
       "17       D       NaN            NaN             1                  2021-10-27   \n",
       "19       A      39.0            NaN             1                         NaN   \n",
       "57       A      12.0           37.0             1                  2022-08-11   \n",
       "...     ..       ...            ...           ...                         ...   \n",
       "199819   B       NaN            NaN             0                  2022-08-01   \n",
       "199892   D       NaN            5.0             0                  2020-10-12   \n",
       "199899   D       0.0           11.0             0                  2022-08-29   \n",
       "199921   D       2.0            NaN             1                  2022-08-11   \n",
       "199922   B       NaN           27.0             0                  2022-08-15   \n",
       "\n",
       "        avg_hw_mark  avg_quiz_result  bought_avg_duration  bought_d1  \\\n",
       "12              NaN              NaN                  NaN          0   \n",
       "14              NaN              NaN                  NaN          0   \n",
       "17              NaN              NaN                  NaN          0   \n",
       "19              NaN              NaN                  NaN          0   \n",
       "57              NaN              NaN                  NaN          0   \n",
       "...             ...              ...                  ...        ...   \n",
       "199819          NaN              NaN                  NaN          0   \n",
       "199892          NaN              NaN                  NaN          0   \n",
       "199899        100.0              NaN                  NaN          0   \n",
       "199921          NaN              NaN                  NaN          0   \n",
       "199922          NaN              NaN                106.0          1   \n",
       "\n",
       "        bought_d2  ...  reworked_hw  speed_recall  spent_time_to_complete_hw  \\\n",
       "12              0  ...          NaN           NaN                        NaN   \n",
       "14              0  ...          0.0           NaN                        NaN   \n",
       "17              0  ...          NaN           NaN                        NaN   \n",
       "19              0  ...          0.0           NaN                        NaN   \n",
       "57              0  ...          0.0           NaN                        NaN   \n",
       "...           ...  ...          ...           ...                        ...   \n",
       "199819          0  ...          NaN           NaN                        NaN   \n",
       "199892          0  ...          NaN           1.0                        NaN   \n",
       "199899          0  ...          0.0           NaN                        NaN   \n",
       "199921          0  ...          0.0           NaN                        NaN   \n",
       "199922          0  ...          NaN           NaN                        NaN   \n",
       "\n",
       "       spent_time_total student_id support_feedback_avg target  \\\n",
       "12                  NaN    7087690                  NaN      1   \n",
       "14                 69.0    6849570                  NaN      1   \n",
       "17                  NaN    6945634                  NaN      1   \n",
       "19                120.0    6839888                  NaN      1   \n",
       "57                201.0    6984343                  NaN      1   \n",
       "...                 ...        ...                  ...    ...   \n",
       "199819              NaN    7119934                  5.0      1   \n",
       "199892              NaN    6327006                  NaN      1   \n",
       "199899              NaN    6918711                  NaN      1   \n",
       "199921              1.0    6798177                  NaN      1   \n",
       "199922              NaN    6849651                  NaN      1   \n",
       "\n",
       "        test_with_good_mark test_with_great_mark webinars  \n",
       "12                      NaN                  NaN      NaN  \n",
       "14                      0.0                  0.0      0.0  \n",
       "17                      NaN                  NaN      NaN  \n",
       "19                      0.0                  0.0      0.0  \n",
       "57                      8.0                  8.0      0.0  \n",
       "...                     ...                  ...      ...  \n",
       "199819                  NaN                  NaN      NaN  \n",
       "199892                  NaN                  NaN      NaN  \n",
       "199899                  0.0                  0.0      0.0  \n",
       "199921                  0.0                  0.0      0.0  \n",
       "199922                  NaN                  NaN      NaN  \n",
       "\n",
       "[13512 rows x 67 columns]"
      ]
     },
     "execution_count": 51,
     "metadata": {},
     "output_type": "execute_result"
    }
   ],
   "source": [
    "df[df.target==1]"
   ]
  },
  {
   "cell_type": "code",
   "execution_count": 52,
   "metadata": {},
   "outputs": [
    {
     "data": {
      "text/html": [
       "<div>\n",
       "<style scoped>\n",
       "    .dataframe tbody tr th:only-of-type {\n",
       "        vertical-align: middle;\n",
       "    }\n",
       "\n",
       "    .dataframe tbody tr th {\n",
       "        vertical-align: top;\n",
       "    }\n",
       "\n",
       "    .dataframe thead th {\n",
       "        text-align: right;\n",
       "    }\n",
       "</style>\n",
       "<table border=\"1\" class=\"dataframe\">\n",
       "  <thead>\n",
       "    <tr style=\"text-align: right;\">\n",
       "      <th></th>\n",
       "      <th>ABC</th>\n",
       "      <th>activity</th>\n",
       "      <th>age_indicator</th>\n",
       "      <th>auto_payment</th>\n",
       "      <th>available_program_starts_on</th>\n",
       "      <th>avg_hw_mark</th>\n",
       "      <th>avg_quiz_result</th>\n",
       "      <th>bought_avg_duration</th>\n",
       "      <th>bought_d1</th>\n",
       "      <th>bought_d2</th>\n",
       "      <th>...</th>\n",
       "      <th>reworked_hw</th>\n",
       "      <th>speed_recall</th>\n",
       "      <th>spent_time_to_complete_hw</th>\n",
       "      <th>spent_time_total</th>\n",
       "      <th>student_id</th>\n",
       "      <th>support_feedback_avg</th>\n",
       "      <th>target</th>\n",
       "      <th>test_with_good_mark</th>\n",
       "      <th>test_with_great_mark</th>\n",
       "      <th>webinars</th>\n",
       "    </tr>\n",
       "  </thead>\n",
       "  <tbody>\n",
       "    <tr>\n",
       "      <th>19</th>\n",
       "      <td>A</td>\n",
       "      <td>39.0</td>\n",
       "      <td>NaN</td>\n",
       "      <td>1</td>\n",
       "      <td>NaN</td>\n",
       "      <td>NaN</td>\n",
       "      <td>NaN</td>\n",
       "      <td>NaN</td>\n",
       "      <td>0</td>\n",
       "      <td>0</td>\n",
       "      <td>...</td>\n",
       "      <td>0.0</td>\n",
       "      <td>NaN</td>\n",
       "      <td>NaN</td>\n",
       "      <td>120.0</td>\n",
       "      <td>6839888</td>\n",
       "      <td>NaN</td>\n",
       "      <td>1</td>\n",
       "      <td>0.0</td>\n",
       "      <td>0.0</td>\n",
       "      <td>0.0</td>\n",
       "    </tr>\n",
       "    <tr>\n",
       "      <th>593</th>\n",
       "      <td>A</td>\n",
       "      <td>NaN</td>\n",
       "      <td>NaN</td>\n",
       "      <td>1</td>\n",
       "      <td>NaN</td>\n",
       "      <td>NaN</td>\n",
       "      <td>NaN</td>\n",
       "      <td>NaN</td>\n",
       "      <td>0</td>\n",
       "      <td>0</td>\n",
       "      <td>...</td>\n",
       "      <td>NaN</td>\n",
       "      <td>NaN</td>\n",
       "      <td>NaN</td>\n",
       "      <td>NaN</td>\n",
       "      <td>6839888</td>\n",
       "      <td>NaN</td>\n",
       "      <td>1</td>\n",
       "      <td>NaN</td>\n",
       "      <td>NaN</td>\n",
       "      <td>NaN</td>\n",
       "    </tr>\n",
       "    <tr>\n",
       "      <th>5298</th>\n",
       "      <td>B</td>\n",
       "      <td>NaN</td>\n",
       "      <td>NaN</td>\n",
       "      <td>0</td>\n",
       "      <td>NaN</td>\n",
       "      <td>NaN</td>\n",
       "      <td>NaN</td>\n",
       "      <td>NaN</td>\n",
       "      <td>0</td>\n",
       "      <td>0</td>\n",
       "      <td>...</td>\n",
       "      <td>NaN</td>\n",
       "      <td>NaN</td>\n",
       "      <td>NaN</td>\n",
       "      <td>NaN</td>\n",
       "      <td>6210807</td>\n",
       "      <td>NaN</td>\n",
       "      <td>1</td>\n",
       "      <td>NaN</td>\n",
       "      <td>NaN</td>\n",
       "      <td>NaN</td>\n",
       "    </tr>\n",
       "    <tr>\n",
       "      <th>6438</th>\n",
       "      <td>A</td>\n",
       "      <td>NaN</td>\n",
       "      <td>NaN</td>\n",
       "      <td>1</td>\n",
       "      <td>NaN</td>\n",
       "      <td>NaN</td>\n",
       "      <td>NaN</td>\n",
       "      <td>NaN</td>\n",
       "      <td>0</td>\n",
       "      <td>0</td>\n",
       "      <td>...</td>\n",
       "      <td>NaN</td>\n",
       "      <td>NaN</td>\n",
       "      <td>NaN</td>\n",
       "      <td>NaN</td>\n",
       "      <td>6989032</td>\n",
       "      <td>NaN</td>\n",
       "      <td>1</td>\n",
       "      <td>NaN</td>\n",
       "      <td>NaN</td>\n",
       "      <td>NaN</td>\n",
       "    </tr>\n",
       "    <tr>\n",
       "      <th>11459</th>\n",
       "      <td>B</td>\n",
       "      <td>NaN</td>\n",
       "      <td>NaN</td>\n",
       "      <td>0</td>\n",
       "      <td>NaN</td>\n",
       "      <td>NaN</td>\n",
       "      <td>NaN</td>\n",
       "      <td>NaN</td>\n",
       "      <td>0</td>\n",
       "      <td>0</td>\n",
       "      <td>...</td>\n",
       "      <td>NaN</td>\n",
       "      <td>NaN</td>\n",
       "      <td>NaN</td>\n",
       "      <td>NaN</td>\n",
       "      <td>7076989</td>\n",
       "      <td>NaN</td>\n",
       "      <td>1</td>\n",
       "      <td>NaN</td>\n",
       "      <td>NaN</td>\n",
       "      <td>NaN</td>\n",
       "    </tr>\n",
       "    <tr>\n",
       "      <th>...</th>\n",
       "      <td>...</td>\n",
       "      <td>...</td>\n",
       "      <td>...</td>\n",
       "      <td>...</td>\n",
       "      <td>...</td>\n",
       "      <td>...</td>\n",
       "      <td>...</td>\n",
       "      <td>...</td>\n",
       "      <td>...</td>\n",
       "      <td>...</td>\n",
       "      <td>...</td>\n",
       "      <td>...</td>\n",
       "      <td>...</td>\n",
       "      <td>...</td>\n",
       "      <td>...</td>\n",
       "      <td>...</td>\n",
       "      <td>...</td>\n",
       "      <td>...</td>\n",
       "      <td>...</td>\n",
       "      <td>...</td>\n",
       "      <td>...</td>\n",
       "    </tr>\n",
       "    <tr>\n",
       "      <th>193491</th>\n",
       "      <td>A</td>\n",
       "      <td>2.0</td>\n",
       "      <td>NaN</td>\n",
       "      <td>1</td>\n",
       "      <td>NaN</td>\n",
       "      <td>NaN</td>\n",
       "      <td>NaN</td>\n",
       "      <td>NaN</td>\n",
       "      <td>0</td>\n",
       "      <td>0</td>\n",
       "      <td>...</td>\n",
       "      <td>0.0</td>\n",
       "      <td>NaN</td>\n",
       "      <td>NaN</td>\n",
       "      <td>0.0</td>\n",
       "      <td>5294315</td>\n",
       "      <td>NaN</td>\n",
       "      <td>1</td>\n",
       "      <td>0.0</td>\n",
       "      <td>0.0</td>\n",
       "      <td>0.0</td>\n",
       "    </tr>\n",
       "    <tr>\n",
       "      <th>194874</th>\n",
       "      <td>C</td>\n",
       "      <td>NaN</td>\n",
       "      <td>NaN</td>\n",
       "      <td>0</td>\n",
       "      <td>NaN</td>\n",
       "      <td>NaN</td>\n",
       "      <td>NaN</td>\n",
       "      <td>NaN</td>\n",
       "      <td>0</td>\n",
       "      <td>0</td>\n",
       "      <td>...</td>\n",
       "      <td>NaN</td>\n",
       "      <td>NaN</td>\n",
       "      <td>NaN</td>\n",
       "      <td>NaN</td>\n",
       "      <td>7038836</td>\n",
       "      <td>NaN</td>\n",
       "      <td>1</td>\n",
       "      <td>NaN</td>\n",
       "      <td>NaN</td>\n",
       "      <td>NaN</td>\n",
       "    </tr>\n",
       "    <tr>\n",
       "      <th>196332</th>\n",
       "      <td>A</td>\n",
       "      <td>NaN</td>\n",
       "      <td>NaN</td>\n",
       "      <td>1</td>\n",
       "      <td>NaN</td>\n",
       "      <td>NaN</td>\n",
       "      <td>NaN</td>\n",
       "      <td>NaN</td>\n",
       "      <td>0</td>\n",
       "      <td>0</td>\n",
       "      <td>...</td>\n",
       "      <td>NaN</td>\n",
       "      <td>NaN</td>\n",
       "      <td>NaN</td>\n",
       "      <td>NaN</td>\n",
       "      <td>7191172</td>\n",
       "      <td>NaN</td>\n",
       "      <td>1</td>\n",
       "      <td>NaN</td>\n",
       "      <td>NaN</td>\n",
       "      <td>NaN</td>\n",
       "    </tr>\n",
       "    <tr>\n",
       "      <th>196404</th>\n",
       "      <td>A</td>\n",
       "      <td>0.0</td>\n",
       "      <td>NaN</td>\n",
       "      <td>1</td>\n",
       "      <td>NaN</td>\n",
       "      <td>NaN</td>\n",
       "      <td>NaN</td>\n",
       "      <td>NaN</td>\n",
       "      <td>0</td>\n",
       "      <td>0</td>\n",
       "      <td>...</td>\n",
       "      <td>0.0</td>\n",
       "      <td>NaN</td>\n",
       "      <td>NaN</td>\n",
       "      <td>NaN</td>\n",
       "      <td>5294315</td>\n",
       "      <td>NaN</td>\n",
       "      <td>1</td>\n",
       "      <td>0.0</td>\n",
       "      <td>0.0</td>\n",
       "      <td>0.0</td>\n",
       "    </tr>\n",
       "    <tr>\n",
       "      <th>198731</th>\n",
       "      <td>D</td>\n",
       "      <td>NaN</td>\n",
       "      <td>NaN</td>\n",
       "      <td>1</td>\n",
       "      <td>NaN</td>\n",
       "      <td>NaN</td>\n",
       "      <td>NaN</td>\n",
       "      <td>NaN</td>\n",
       "      <td>0</td>\n",
       "      <td>0</td>\n",
       "      <td>...</td>\n",
       "      <td>NaN</td>\n",
       "      <td>NaN</td>\n",
       "      <td>NaN</td>\n",
       "      <td>NaN</td>\n",
       "      <td>1961533</td>\n",
       "      <td>NaN</td>\n",
       "      <td>1</td>\n",
       "      <td>NaN</td>\n",
       "      <td>NaN</td>\n",
       "      <td>NaN</td>\n",
       "    </tr>\n",
       "  </tbody>\n",
       "</table>\n",
       "<p>136 rows × 67 columns</p>\n",
       "</div>"
      ],
      "text/plain": [
       "       ABC  activity  age_indicator  auto_payment available_program_starts_on  \\\n",
       "19       A      39.0            NaN             1                         NaN   \n",
       "593      A       NaN            NaN             1                         NaN   \n",
       "5298     B       NaN            NaN             0                         NaN   \n",
       "6438     A       NaN            NaN             1                         NaN   \n",
       "11459    B       NaN            NaN             0                         NaN   \n",
       "...     ..       ...            ...           ...                         ...   \n",
       "193491   A       2.0            NaN             1                         NaN   \n",
       "194874   C       NaN            NaN             0                         NaN   \n",
       "196332   A       NaN            NaN             1                         NaN   \n",
       "196404   A       0.0            NaN             1                         NaN   \n",
       "198731   D       NaN            NaN             1                         NaN   \n",
       "\n",
       "        avg_hw_mark  avg_quiz_result  bought_avg_duration  bought_d1  \\\n",
       "19              NaN              NaN                  NaN          0   \n",
       "593             NaN              NaN                  NaN          0   \n",
       "5298            NaN              NaN                  NaN          0   \n",
       "6438            NaN              NaN                  NaN          0   \n",
       "11459           NaN              NaN                  NaN          0   \n",
       "...             ...              ...                  ...        ...   \n",
       "193491          NaN              NaN                  NaN          0   \n",
       "194874          NaN              NaN                  NaN          0   \n",
       "196332          NaN              NaN                  NaN          0   \n",
       "196404          NaN              NaN                  NaN          0   \n",
       "198731          NaN              NaN                  NaN          0   \n",
       "\n",
       "        bought_d2  ...  reworked_hw  speed_recall  spent_time_to_complete_hw  \\\n",
       "19              0  ...          0.0           NaN                        NaN   \n",
       "593             0  ...          NaN           NaN                        NaN   \n",
       "5298            0  ...          NaN           NaN                        NaN   \n",
       "6438            0  ...          NaN           NaN                        NaN   \n",
       "11459           0  ...          NaN           NaN                        NaN   \n",
       "...           ...  ...          ...           ...                        ...   \n",
       "193491          0  ...          0.0           NaN                        NaN   \n",
       "194874          0  ...          NaN           NaN                        NaN   \n",
       "196332          0  ...          NaN           NaN                        NaN   \n",
       "196404          0  ...          0.0           NaN                        NaN   \n",
       "198731          0  ...          NaN           NaN                        NaN   \n",
       "\n",
       "       spent_time_total student_id support_feedback_avg target  \\\n",
       "19                120.0    6839888                  NaN      1   \n",
       "593                 NaN    6839888                  NaN      1   \n",
       "5298                NaN    6210807                  NaN      1   \n",
       "6438                NaN    6989032                  NaN      1   \n",
       "11459               NaN    7076989                  NaN      1   \n",
       "...                 ...        ...                  ...    ...   \n",
       "193491              0.0    5294315                  NaN      1   \n",
       "194874              NaN    7038836                  NaN      1   \n",
       "196332              NaN    7191172                  NaN      1   \n",
       "196404              NaN    5294315                  NaN      1   \n",
       "198731              NaN    1961533                  NaN      1   \n",
       "\n",
       "        test_with_good_mark test_with_great_mark webinars  \n",
       "19                      0.0                  0.0      0.0  \n",
       "593                     NaN                  NaN      NaN  \n",
       "5298                    NaN                  NaN      NaN  \n",
       "6438                    NaN                  NaN      NaN  \n",
       "11459                   NaN                  NaN      NaN  \n",
       "...                     ...                  ...      ...  \n",
       "193491                  0.0                  0.0      0.0  \n",
       "194874                  NaN                  NaN      NaN  \n",
       "196332                  NaN                  NaN      NaN  \n",
       "196404                  0.0                  0.0      0.0  \n",
       "198731                  NaN                  NaN      NaN  \n",
       "\n",
       "[136 rows x 67 columns]"
      ]
     },
     "execution_count": 52,
     "metadata": {},
     "output_type": "execute_result"
    }
   ],
   "source": [
    "nu[nu.target==1]"
   ]
  },
  {
   "cell_type": "code",
   "execution_count": 22,
   "metadata": {},
   "outputs": [],
   "source": [
    "df_test = pd.read_csv(\"./content/test_enriched.csv\")"
   ]
  },
  {
   "cell_type": "code",
   "execution_count": 23,
   "metadata": {},
   "outputs": [
    {
     "data": {
      "text/plain": [
       "(200000, 67)"
      ]
     },
     "execution_count": 23,
     "metadata": {},
     "output_type": "execute_result"
    }
   ],
   "source": [
    "df.shape"
   ]
  },
  {
   "cell_type": "code",
   "execution_count": 24,
   "metadata": {},
   "outputs": [
    {
     "data": {
      "text/plain": [
       "(84997, 66)"
      ]
     },
     "execution_count": 24,
     "metadata": {},
     "output_type": "execute_result"
    }
   ],
   "source": [
    "df_test.shape"
   ]
  },
  {
   "cell_type": "code",
   "execution_count": 25,
   "metadata": {},
   "outputs": [
    {
     "data": {
      "text/plain": [
       "31153"
      ]
     },
     "execution_count": 25,
     "metadata": {},
     "output_type": "execute_result"
    }
   ],
   "source": [
    "len(set(list(df.student_id.unique())))"
   ]
  },
  {
   "cell_type": "code",
   "execution_count": 26,
   "metadata": {},
   "outputs": [
    {
     "data": {
      "text/plain": [
       "{7532547,\n",
       " 7536644,\n",
       " 7475205,\n",
       " 7012358,\n",
       " 7524359,\n",
       " 7217161,\n",
       " 7557130,\n",
       " 7557134,\n",
       " 7086096,\n",
       " 7544849,\n",
       " 7483411,\n",
       " 7489556,\n",
       " 7522325,\n",
       " 7272468,\n",
       " 7567386,\n",
       " 7571483,\n",
       " 7581724,\n",
       " 7567389,\n",
       " 6219806,\n",
       " 7548960,\n",
       " 7540770,\n",
       " 7583780,\n",
       " 7168038,\n",
       " 7557164,\n",
       " 7522349,\n",
       " 7544881,\n",
       " 7567411,\n",
       " 7508021,\n",
       " 7561269,\n",
       " 4945975,\n",
       " 7426106,\n",
       " 7538687,\n",
       " 7538747,\n",
       " 7557179,\n",
       " 7514174,\n",
       " 7436346,\n",
       " 7579707,\n",
       " 7583804,\n",
       " 7563331,\n",
       " 7542852,\n",
       " 7542855,\n",
       " 7497802,\n",
       " 7561290,\n",
       " 7567434,\n",
       " 6623309,\n",
       " 7475278,\n",
       " 7563342,\n",
       " 7514193,\n",
       " 7544914,\n",
       " 7497811,\n",
       " 7387219,\n",
       " 7497813,\n",
       " 7379029,\n",
       " 7532631,\n",
       " 7534679,\n",
       " 7536728,\n",
       " 7538771,\n",
       " 7559251,\n",
       " 4946006,\n",
       " 7567447,\n",
       " 7522398,\n",
       " 7569502,\n",
       " 7491680,\n",
       " 6836320,\n",
       " 7557217,\n",
       " 7440475,\n",
       " 7311460,\n",
       " 7583839,\n",
       " 5793895,\n",
       " 7524459,\n",
       " 7569518,\n",
       " 7540848,\n",
       " 7557232,\n",
       " 7161970,\n",
       " 7565424,\n",
       " 7569522,\n",
       " 7514229,\n",
       " 7555189,\n",
       " 6789236,\n",
       " 7446644,\n",
       " 5392506,\n",
       " 7569530,\n",
       " 7549053,\n",
       " 7532673,\n",
       " 7547010,\n",
       " 7467140,\n",
       " 7553158,\n",
       " 7440519,\n",
       " 6469768,\n",
       " 7475337,\n",
       " 7575686,\n",
       " 7442571,\n",
       " 7569548,\n",
       " 7530639,\n",
       " 7555217,\n",
       " 7100564,\n",
       " 7495829,\n",
       " 7516311,\n",
       " 7522455,\n",
       " 7538840,\n",
       " 7544984,\n",
       " 7549081,\n",
       " 5337241,\n",
       " 7434394,\n",
       " 7352481,\n",
       " 7553185,\n",
       " 6254755,\n",
       " 7583909,\n",
       " 7544998,\n",
       " 6064299,\n",
       " 7571627,\n",
       " 7510189,\n",
       " 7272621,\n",
       " 7551156,\n",
       " 7510199,\n",
       " 7565496,\n",
       " 7551161,\n",
       " 7446712,\n",
       " 6080699,\n",
       " 7532732,\n",
       " 7551164,\n",
       " 7542975,\n",
       " 7551168,\n",
       " 7518401,\n",
       " 7471298,\n",
       " 7551170,\n",
       " 5990592,\n",
       " 7090373,\n",
       " 7577793,\n",
       " 6049991,\n",
       " 7565511,\n",
       " 7483593,\n",
       " 7532746,\n",
       " 7579845,\n",
       " 7570059,\n",
       " 7463117,\n",
       " 5777614,\n",
       " 5523662,\n",
       " 6865102,\n",
       " 7401682,\n",
       " 6820052,\n",
       " 7557334,\n",
       " 7540951,\n",
       " 7491806,\n",
       " 7547105,\n",
       " 7145698,\n",
       " 7475428,\n",
       " 5558500,\n",
       " 7170281,\n",
       " 7538924,\n",
       " 7551216,\n",
       " 7573745,\n",
       " 7497972,\n",
       " 6678772,\n",
       " 7565558,\n",
       " 7540983,\n",
       " 7565560,\n",
       " 7569658,\n",
       " 7577853,\n",
       " 7516415,\n",
       " 6832385,\n",
       " 7510274,\n",
       " 7553283,\n",
       " 7223556,\n",
       " 7522564,\n",
       " 7555329,\n",
       " 5456135,\n",
       " 7536908,\n",
       " 7549201,\n",
       " 6420755,\n",
       " 7571732,\n",
       " 7549208,\n",
       " 7320956,\n",
       " 5835035,\n",
       " 7473444,\n",
       " 7553317,\n",
       " 6928678,\n",
       " 7061798,\n",
       " 7532840,\n",
       " 7538986,\n",
       " 7495983,\n",
       " 7463216,\n",
       " 7538993,\n",
       " 7268658,\n",
       " 7295284,\n",
       " 7547189,\n",
       " 7557429,\n",
       " 7422270,\n",
       " 5318977,\n",
       " 7547203,\n",
       " 6535492,\n",
       " 7442760,\n",
       " 7571785,\n",
       " 7489874,\n",
       " 7520597,\n",
       " 7438678,\n",
       " 7569750,\n",
       " 7520601,\n",
       " 7547227,\n",
       " 31070,\n",
       " 7305567,\n",
       " 7541088,\n",
       " 7319902,\n",
       " 7510374,\n",
       " 7522663,\n",
       " 7467367,\n",
       " 7485801,\n",
       " 7555433,\n",
       " 7537004,\n",
       " 7575916,\n",
       " 7520623,\n",
       " 7453040,\n",
       " 7563634,\n",
       " 7459186,\n",
       " 7569780,\n",
       " 6367605,\n",
       " 7567737,\n",
       " 7541115,\n",
       " 6453628,\n",
       " 7569789,\n",
       " 7489918,\n",
       " 7549310,\n",
       " 7522691,\n",
       " 6091139,\n",
       " 7498117,\n",
       " 6082950,\n",
       " 7557508,\n",
       " 7563656,\n",
       " 7571846,\n",
       " 7496074,\n",
       " 7459206,\n",
       " 7526796,\n",
       " 7469445,\n",
       " 7522702,\n",
       " 7528847,\n",
       " 7557518,\n",
       " 7569808,\n",
       " 7551379,\n",
       " 7401879,\n",
       " 7555481,\n",
       " 6457755,\n",
       " 7532955,\n",
       " 7426462,\n",
       " 7557536,\n",
       " 7541153,\n",
       " 7213475,\n",
       " 7438755,\n",
       " 5515685,\n",
       " 7352743,\n",
       " 6207911,\n",
       " 7559598,\n",
       " 7559601,\n",
       " 5368241,\n",
       " 6615475,\n",
       " 7365044,\n",
       " 7465400,\n",
       " 6418872,\n",
       " 7547323,\n",
       " 7432642,\n",
       " 7528899,\n",
       " 7530947,\n",
       " 7408071,\n",
       " 7551433,\n",
       " 7578058,\n",
       " 7561678,\n",
       " 7520720,\n",
       " 5839315,\n",
       " 7545300,\n",
       " 7500248,\n",
       " 7549402,\n",
       " 7213538,\n",
       " 7520739,\n",
       " 7522788,\n",
       " 7553509,\n",
       " 6396388,\n",
       " 7295463,\n",
       " 7549419,\n",
       " 7131628,\n",
       " 7401964,\n",
       " 7203310,\n",
       " 7574000,\n",
       " 7541235,\n",
       " 166388,\n",
       " 7512565,\n",
       " 7530996,\n",
       " 6967799,\n",
       " 7543287,\n",
       " 7447027,\n",
       " 7250426,\n",
       " 7555579,\n",
       " 7569916,\n",
       " 6701565,\n",
       " 6685182,\n",
       " 7469566,\n",
       " 7514624,\n",
       " 7522817,\n",
       " 7395840,\n",
       " 7533057,\n",
       " 7549440,\n",
       " 6525446,\n",
       " 7549447,\n",
       " 7522833,\n",
       " 7547409,\n",
       " 7547412,\n",
       " 7522837,\n",
       " 7551511,\n",
       " 7559706,\n",
       " 7488028,\n",
       " 7514653,\n",
       " 7522845,\n",
       " 7420447,\n",
       " 7578143,\n",
       " 5894691,\n",
       " 7541284,\n",
       " 7520808,\n",
       " 7316009,\n",
       " 6281776,\n",
       " 7498289,\n",
       " 5775922,\n",
       " 7125553,\n",
       " 7555634,\n",
       " 6384180,\n",
       " 7563831,\n",
       " 3549756,\n",
       " 7529021,\n",
       " 7244352,\n",
       " 7553603,\n",
       " 6519364,\n",
       " 7440969,\n",
       " 7541322,\n",
       " 7391819,\n",
       " 7549515,\n",
       " 7553613,\n",
       " 7381582,\n",
       " 7520849,\n",
       " 7535185,\n",
       " 7535193,\n",
       " 7141982,\n",
       " 5964383,\n",
       " 7545439,\n",
       " 7549535,\n",
       " 7553634,\n",
       " 7555683,\n",
       " 7522918,\n",
       " 7527017,\n",
       " 7490157,\n",
       " 7531117,\n",
       " 7567981,\n",
       " 7432817,\n",
       " 7375474,\n",
       " 7549554,\n",
       " 6771318,\n",
       " 7498360,\n",
       " 7463548,\n",
       " 7570045,\n",
       " 7531134,\n",
       " 7563905,\n",
       " 7549570,\n",
       " 7414403,\n",
       " 7443077,\n",
       " 5546633,\n",
       " 7520906,\n",
       " 7529098,\n",
       " 7549577,\n",
       " 7549580,\n",
       " 7551627,\n",
       " 7424652,\n",
       " 7426701,\n",
       " 7565966,\n",
       " 7096978,\n",
       " 7557779,\n",
       " 6382228,\n",
       " 6781585,\n",
       " 7570064,\n",
       " 7535255,\n",
       " 7572112,\n",
       " 7533214,\n",
       " 5423776,\n",
       " 7529121,\n",
       " 6056614,\n",
       " 7414438,\n",
       " 7551655,\n",
       " 7551656,\n",
       " 7531178,\n",
       " 7580328,\n",
       " 7174828,\n",
       " 7570096,\n",
       " 7529137,\n",
       " 7535282,\n",
       " 5442229,\n",
       " 7445175,\n",
       " 7310008,\n",
       " 7377594,\n",
       " 7531196,\n",
       " 7500477,\n",
       " 7514815,\n",
       " 7523008,\n",
       " 5468866,\n",
       " 7555781,\n",
       " 4672198,\n",
       " 7570119,\n",
       " 7582409,\n",
       " 7475916,\n",
       " 7463629,\n",
       " 7559890,\n",
       " 6427347,\n",
       " 7508693,\n",
       " 6320856,\n",
       " 7543513,\n",
       " 7539427,\n",
       " 7529188,\n",
       " 7541477,\n",
       " 6378214,\n",
       " 7095015,\n",
       " 6681327,\n",
       " 7019248,\n",
       " 7131889,\n",
       " 7549682,\n",
       " 7566065,\n",
       " 7535348,\n",
       " 7527157,\n",
       " 7547636,\n",
       " 7568113,\n",
       " 7516921,\n",
       " 7547644,\n",
       " 7555837,\n",
       " 7553790,\n",
       " 7478015,\n",
       " 7170812,\n",
       " 7574269,\n",
       " 7432964,\n",
       " 7541509,\n",
       " 7484169,\n",
       " 5737225,\n",
       " 7408398,\n",
       " 7531281,\n",
       " 7518995,\n",
       " 7525143,\n",
       " 7412503,\n",
       " 7557915,\n",
       " 7478044,\n",
       " 7482140,\n",
       " 7547680,\n",
       " 7437088,\n",
       " 7457570,\n",
       " 7471907,\n",
       " 7523112,\n",
       " 7480105,\n",
       " 7551789,\n",
       " 7363374,\n",
       " 7287606,\n",
       " 7516984,\n",
       " 5712696,\n",
       " 7531322,\n",
       " 7549755,\n",
       " 7422777,\n",
       " 7566148,\n",
       " 7541573,\n",
       " 7465804,\n",
       " 7860417,\n",
       " 7545684,\n",
       " 5821272,\n",
       " 7549785,\n",
       " 7535450,\n",
       " 7549787,\n",
       " 6329182,\n",
       " 7519071,\n",
       " 7539555,\n",
       " 7408484,\n",
       " 5770085,\n",
       " 7547747,\n",
       " 7463780,\n",
       " 7549801,\n",
       " 7375723,\n",
       " 7359340,\n",
       " 7521133,\n",
       " 6624107,\n",
       " 7545708,\n",
       " 7291756,\n",
       " 7582571,\n",
       " 7549810,\n",
       " 7582573,\n",
       " 7048052,\n",
       " 7574390,\n",
       " 7541623,\n",
       " 7412600,\n",
       " 7566203,\n",
       " 7523196,\n",
       " 7580543,\n",
       " 7523200,\n",
       " 7222145,\n",
       " 7549824,\n",
       " 7555970,\n",
       " 7525252,\n",
       " 7555979,\n",
       " 7447436,\n",
       " 7566222,\n",
       " 5718928,\n",
       " 7541649,\n",
       " 7535515,\n",
       " 5477279,\n",
       " 6331298,\n",
       " 7553955,\n",
       " 7545767,\n",
       " 7007144,\n",
       " 7318439,\n",
       " 7078827,\n",
       " 7556011,\n",
       " 7492525,\n",
       " 7519149,\n",
       " 7406511,\n",
       " 6890413,\n",
       " 7547825,\n",
       " 7486386,\n",
       " 7463851,\n",
       " 7541694,\n",
       " 7564224,\n",
       " 7543745,\n",
       " 7545793,\n",
       " 7547845,\n",
       " 7498695,\n",
       " 7504843,\n",
       " 7556045,\n",
       " 7381966,\n",
       " 7523278,\n",
       " 7488464,\n",
       " 6433745,\n",
       " 7556048,\n",
       " 7115733,\n",
       " 7523285,\n",
       " 7490519,\n",
       " 7523287,\n",
       " 7523290,\n",
       " 5735386,\n",
       " 7470043,\n",
       " 6867935,\n",
       " 5637092,\n",
       " 7529447,\n",
       " 7564264,\n",
       " 7556077,\n",
       " 7564274,\n",
       " 7554035,\n",
       " 7562228,\n",
       " 7480310,\n",
       " 7556088,\n",
       " 7525369,\n",
       " 7551993,\n",
       " 6642683,\n",
       " 7451644,\n",
       " 7547901,\n",
       " 7533566,\n",
       " 7547905,\n",
       " 7431169,\n",
       " 6812677,\n",
       " 7560200,\n",
       " 6675469,\n",
       " 7513103,\n",
       " 7533585,\n",
       " 7461905,\n",
       " 7576595,\n",
       " 7394324,\n",
       " 7545881,\n",
       " 7560218,\n",
       " 7554075,\n",
       " 7484444,\n",
       " 7578649,\n",
       " 7549982,\n",
       " 7474207,\n",
       " 3142685,\n",
       " 5559330,\n",
       " 5620838,\n",
       " 7547940,\n",
       " 7429157,\n",
       " 7461923,\n",
       " 7513133,\n",
       " 7566386,\n",
       " 7091251,\n",
       " 7535668,\n",
       " 7470135,\n",
       " 7511099,\n",
       " 7492670,\n",
       " 7476287,\n",
       " 5696575,\n",
       " 7531585,\n",
       " 7533634,\n",
       " 7527491,\n",
       " 7463998,\n",
       " 7535686,\n",
       " 7392327,\n",
       " 7523401,\n",
       " 7558217,\n",
       " 7527500,\n",
       " 7566414,\n",
       " 7312462,\n",
       " 7574607,\n",
       " 7566419,\n",
       " 7359572,\n",
       " 7576667,\n",
       " 7541853,\n",
       " 7521374,\n",
       " 7523423,\n",
       " 7515233,\n",
       " 7482466,\n",
       " 7529571,\n",
       " 7230566,\n",
       " 7552103,\n",
       " 7568486,\n",
       " 7580777,\n",
       " 7519338,\n",
       " 7523434,\n",
       " 7541868,\n",
       " 7582826,\n",
       " 7545966,\n",
       " 7556206,\n",
       " 7541872,\n",
       " 7445614,\n",
       " 7552115,\n",
       " 7582835,\n",
       " 7502968,\n",
       " 7455864,\n",
       " 7576698,\n",
       " 7343227,\n",
       " 6587518,\n",
       " 6407296,\n",
       " 7527554,\n",
       " 7560323,\n",
       " 7502980,\n",
       " 7572611,\n",
       " 7529607,\n",
       " 7490696,\n",
       " 5051528,\n",
       " 6671877,\n",
       " 7539851,\n",
       " 7134349,\n",
       " 7564429,\n",
       " 6720655,\n",
       " 7001232,\n",
       " 6438035,\n",
       " 7496853,\n",
       " 7371926,\n",
       " 7541911,\n",
       " 7550103,\n",
       " 7570582,\n",
       " 7469710,\n",
       " 7308445,\n",
       " 7568542,\n",
       " 7447711,\n",
       " 7541920,\n",
       " 7578785,\n",
       " 6116514,\n",
       " 7523494,\n",
       " 7228583,\n",
       " 7529639,\n",
       " 7423143,\n",
       " 7556263,\n",
       " 6565036,\n",
       " 7525552,\n",
       " 7498931,\n",
       " 7527604,\n",
       " 7412919,\n",
       " 7378106,\n",
       " 7541948,\n",
       " 7564481,\n",
       " 7560387,\n",
       " 7412932,\n",
       " 7519429,\n",
       " 7531717,\n",
       " 7558341,\n",
       " 7523529,\n",
       " 7533772,\n",
       " 7494862,\n",
       " 7523535,\n",
       " 7570638,\n",
       " 7464144,\n",
       " 7537874,\n",
       " 7544019,\n",
       " 6237396,\n",
       " 7562450,\n",
       " 7550166,\n",
       " 7570647,\n",
       " 7482587,\n",
       " 7523549,\n",
       " 7371999,\n",
       " 7541983,\n",
       " 5403876,\n",
       " 7255269,\n",
       " 7515366,\n",
       " 7511273,\n",
       " 7570667,\n",
       " 7472367,\n",
       " 7521520,\n",
       " 7515377,\n",
       " 7523568,\n",
       " 7273711,\n",
       " 7546100,\n",
       " 7519477,\n",
       " 7156979,\n",
       " 7509239,\n",
       " 7523575,\n",
       " 7539959,\n",
       " 7523579,\n",
       " 7546107,\n",
       " 7554301,\n",
       " 7556348,\n",
       " 7550207,\n",
       " 7539968,\n",
       " 7494913,\n",
       " 7523586,\n",
       " 7558399,\n",
       " 6395140,\n",
       " 7580936,\n",
       " 7582985,\n",
       " 7460104,\n",
       " 7523595,\n",
       " 7464200,\n",
       " 7578894,\n",
       " 7267601,\n",
       " 6974739,\n",
       " 7413011,\n",
       " 7529751,\n",
       " 7492888,\n",
       " 7572720,\n",
       " 6712602,\n",
       " 7515419,\n",
       " 7527708,\n",
       " 7554333,\n",
       " 6907162,\n",
       " 7570718,\n",
       " 7576855,\n",
       " 7513378,\n",
       " 7593252,\n",
       " 6133030,\n",
       " 7548199,\n",
       " 7542058,\n",
       " 7550250,\n",
       " 7558443,\n",
       " 7499053,\n",
       " 7333165,\n",
       " 7521584,\n",
       " 7523632,\n",
       " 7529776,\n",
       " 7447856,\n",
       " 7583024,\n",
       " 6907193,\n",
       " 7499070,\n",
       " 7533887,\n",
       " 7576897,\n",
       " 7439682,\n",
       " 6155592,\n",
       " 7554388,\n",
       " 7476568,\n",
       " 7470425,\n",
       " 7501146,\n",
       " 6681948,\n",
       " 7507294,\n",
       " 7535968,\n",
       " 7490913,\n",
       " 7558499,\n",
       " 7447912,\n",
       " 7060846,\n",
       " 7515503,\n",
       " 7566705,\n",
       " 7542133,\n",
       " 7501174,\n",
       " 7540086,\n",
       " 7548279,\n",
       " 7529850,\n",
       " 7542139,\n",
       " 6761852,\n",
       " 7574907,\n",
       " 7009662,\n",
       " 5503,\n",
       " 7533950,\n",
       " 7542142,\n",
       " 7554432,\n",
       " 7521667,\n",
       " 7417220,\n",
       " 7165314,\n",
       " 5758336,\n",
       " 7468425,\n",
       " 7566733,\n",
       " 7544207,\n",
       " 17809,\n",
       " 7472532,\n",
       " 3050902,\n",
       " 7568792,\n",
       " 7525788,\n",
       " 7523741,\n",
       " 7542175,\n",
       " 7503264,\n",
       " 7515552,\n",
       " 7568799,\n",
       " 7583138,\n",
       " 7452067,\n",
       " 7511461,\n",
       " 7515558,\n",
       " 7581094,\n",
       " 7364008,\n",
       " 7564712,\n",
       " 7507373,\n",
       " 7511469,\n",
       " 7523760,\n",
       " 7501233,\n",
       " 7245233,\n",
       " 7409072,\n",
       " 7566771,\n",
       " 7499189,\n",
       " 7527862,\n",
       " 7546295,\n",
       " 7552438,\n",
       " 7579056,\n",
       " 7583743,\n",
       " 7593405,\n",
       " 7566782,\n",
       " 7462335,\n",
       " 7439809,\n",
       " 7579075,\n",
       " 7409092,\n",
       " 7558596,\n",
       " 7538118,\n",
       " 7540170,\n",
       " 7509453,\n",
       " 6815184,\n",
       " 7568851,\n",
       " 7546325,\n",
       " 7552469,\n",
       " 7566806,\n",
       " 6510041,\n",
       " 7245274,\n",
       " 7499227,\n",
       " 7364061,\n",
       " 7540189,\n",
       " 7501283,\n",
       " 5758437,\n",
       " 7413222,\n",
       " 7470568,\n",
       " 6329833,\n",
       " 6157802,\n",
       " 7443947,\n",
       " 7556591,\n",
       " 7476721,\n",
       " 7532017,\n",
       " 7536114,\n",
       " 7540209,\n",
       " 7501301,\n",
       " 7413233,\n",
       " 7542263,\n",
       " 7284210,\n",
       " 7527929,\n",
       " 7548403,\n",
       " 7548405,\n",
       " 7519740,\n",
       " 7464436,\n",
       " 7540222,\n",
       " 7489026,\n",
       " 7509507,\n",
       " 7511555,\n",
       " 7525891,\n",
       " 7568900,\n",
       " 7540231,\n",
       " 6276614,\n",
       " 7534089,\n",
       " 7583241,\n",
       " 7525899,\n",
       " 7486988,\n",
       " 7532044,\n",
       " 7542283,\n",
       " 6946309,\n",
       " 7542288,\n",
       " 6374930,\n",
       " 6473236,\n",
       " 7548436,\n",
       " 7466936,\n",
       " 7536152,\n",
       " 7534106,\n",
       " 7521819,\n",
       " 7523868,\n",
       " 6884890,\n",
       " 5547550,\n",
       " 5889564,\n",
       " 7546400,\n",
       " 7357985,\n",
       " 5500445,\n",
       " 7554596,\n",
       " 7546406,\n",
       " 6317608,\n",
       " 7511592,\n",
       " 7345706,\n",
       " 7536169,\n",
       " 5860912,\n",
       " 7470640,\n",
       " 7527986,\n",
       " 7333427,\n",
       " 7562806,\n",
       " 7564855,\n",
       " 6065721,\n",
       " 5951035,\n",
       " 7525947,\n",
       " 2145853,\n",
       " 7519805,\n",
       " 7501376,\n",
       " 7550530,\n",
       " 2362947,\n",
       " 7556677,\n",
       " 7378506,\n",
       " 7292491,\n",
       " 7546445,\n",
       " 7525968,\n",
       " 7554640,\n",
       " 7566928,\n",
       " 7474773,\n",
       " 7415382,\n",
       " 6372951,\n",
       " 7538267,\n",
       " 7546459,\n",
       " 7513697,\n",
       " 6999650,\n",
       " 7554658,\n",
       " 7474788,\n",
       " 7407207,\n",
       " 7556713,\n",
       " 7525994,\n",
       " 7525995,\n",
       " 6635116,\n",
       " 7140973,\n",
       " 7411313,\n",
       " 6329972,\n",
       " 7532148,\n",
       " 7550581,\n",
       " 7528055,\n",
       " 7546489,\n",
       " 7468668,\n",
       " 7558781,\n",
       " 7439998,\n",
       " 7554687,\n",
       " 6125183,\n",
       " 7552642,\n",
       " 7489158,\n",
       " 7566982,\n",
       " 7493256,\n",
       " 7542409,\n",
       " 5770890,\n",
       " 7417486,\n",
       " 7526032,\n",
       " 7546512,\n",
       " 6354578,\n",
       " 7523988,\n",
       " 7540373,\n",
       " 7560859,\n",
       " 6510236,\n",
       " 7356061,\n",
       " 7542430,\n",
       " 7548575,\n",
       " 7308959,\n",
       " 7558817,\n",
       " 7493286,\n",
       " 7497383,\n",
       " 7446185,\n",
       " 7544490,\n",
       " 7534251,\n",
       " 7546539,\n",
       " 7571118,\n",
       " 6882991,\n",
       " 7550639,\n",
       " 7474865,\n",
       " 6358705,\n",
       " 7546547,\n",
       " 7542452,\n",
       " 7409333,\n",
       " 7548595,\n",
       " 7552687,\n",
       " 7554737,\n",
       " 7425724,\n",
       " 7476927,\n",
       " 7526082,\n",
       " 7560898,\n",
       " 7089862,\n",
       " 7562950,\n",
       " 7554762,\n",
       " 7569099,\n",
       " 7554764,\n",
       " 7573195,\n",
       " 6801098,\n",
       " 7079632,\n",
       " 6186704,\n",
       " 7542482,\n",
       " 7544528,\n",
       " 7546579,\n",
       " 7569104,\n",
       " 7554774,\n",
       " 7558870,\n",
       " 7538392,\n",
       " 7319255,\n",
       " 7538397,\n",
       " 7532257,\n",
       " 7536353,\n",
       " 7542503,\n",
       " 7546600,\n",
       " 7532266,\n",
       " 7579370,\n",
       " ...}"
      ]
     },
     "execution_count": 26,
     "metadata": {},
     "output_type": "execute_result"
    }
   ],
   "source": [
    "diff=set(list(df_test.student_id.unique())) - set(list(df.student_id.unique()))\n",
    "diff"
   ]
  },
  {
   "cell_type": "code",
   "execution_count": 27,
   "metadata": {},
   "outputs": [
    {
     "data": {
      "text/plain": [
       "26833"
      ]
     },
     "execution_count": 27,
     "metadata": {},
     "output_type": "execute_result"
    }
   ],
   "source": [
    "len(set(list(df_test.student_id.unique())))"
   ]
  },
  {
   "cell_type": "code",
   "execution_count": 28,
   "metadata": {},
   "outputs": [
    {
     "data": {
      "text/plain": [
       "1158"
      ]
     },
     "execution_count": 28,
     "metadata": {},
     "output_type": "execute_result"
    }
   ],
   "source": [
    "len(diff)"
   ]
  },
  {
   "cell_type": "code",
   "execution_count": 17,
   "metadata": {},
   "outputs": [
    {
     "data": {
      "text/plain": [
       "0         2020-10-12\n",
       "1                NaN\n",
       "2         2022-08-04\n",
       "3         2022-09-26\n",
       "4                NaN\n",
       "             ...    \n",
       "199995           NaN\n",
       "199996    2022-04-25\n",
       "199997    2022-08-11\n",
       "199998           NaN\n",
       "199999    2022-08-12\n",
       "Name: current_program_starts_on, Length: 200000, dtype: object"
      ]
     },
     "execution_count": 17,
     "metadata": {},
     "output_type": "execute_result"
    }
   ],
   "source": [
    "df.current_program_starts_on"
   ]
  },
  {
   "cell_type": "code",
   "execution_count": 214,
   "metadata": {},
   "outputs": [],
   "source": [
    "df['current_program_starts_on_day'] = pd.to_datetime(df['current_program_starts_on']).dt.strftime(\"%d\")\n",
    "df['current_program_starts_on_month'] = pd.to_datetime(df['current_program_starts_on']).dt.strftime(\"%m\")\n",
    "df['current_program_starts_on_year'] = pd.to_datetime(df['current_program_starts_on']).dt.strftime(\"%Y\")"
   ]
  },
  {
   "cell_type": "code",
   "execution_count": 215,
   "metadata": {},
   "outputs": [
    {
     "data": {
      "text/plain": [
       "0          10\n",
       "1         NaN\n",
       "2          08\n",
       "3          09\n",
       "4         NaN\n",
       "         ... \n",
       "199995    NaN\n",
       "199996     04\n",
       "199997     08\n",
       "199998    NaN\n",
       "199999     08\n",
       "Name: current_program_starts_on_month, Length: 200000, dtype: object"
      ]
     },
     "execution_count": 215,
     "metadata": {},
     "output_type": "execute_result"
    }
   ],
   "source": [
    "df['current_program_starts_on_month'] "
   ]
  },
  {
   "cell_type": "code",
   "execution_count": 194,
   "metadata": {},
   "outputs": [],
   "source": [
    "df[['program_duration']]=df[['program_duration']].fillna('0 недель')"
   ]
  },
  {
   "cell_type": "code",
   "execution_count": 198,
   "metadata": {},
   "outputs": [
    {
     "data": {
      "text/plain": [
       "0          0\n",
       "1          0\n",
       "2         48\n",
       "3         16\n",
       "4          0\n",
       "          ..\n",
       "199995     0\n",
       "199996     0\n",
       "199997    32\n",
       "199998     8\n",
       "199999    60\n",
       "Name: program_duration, Length: 200000, dtype: int64"
      ]
     },
     "execution_count": 198,
     "metadata": {},
     "output_type": "execute_result"
    }
   ],
   "source": [
    "df.program_duration"
   ]
  },
  {
   "cell_type": "code",
   "execution_count": 173,
   "metadata": {},
   "outputs": [
    {
     "data": {
      "text/html": [
       "<div>\n",
       "<style scoped>\n",
       "    .dataframe tbody tr th:only-of-type {\n",
       "        vertical-align: middle;\n",
       "    }\n",
       "\n",
       "    .dataframe tbody tr th {\n",
       "        vertical-align: top;\n",
       "    }\n",
       "\n",
       "    .dataframe thead th {\n",
       "        text-align: right;\n",
       "    }\n",
       "</style>\n",
       "<table border=\"1\" class=\"dataframe\">\n",
       "  <thead>\n",
       "    <tr style=\"text-align: right;\">\n",
       "      <th></th>\n",
       "      <th>ABC</th>\n",
       "      <th>activity</th>\n",
       "      <th>age_indicator</th>\n",
       "      <th>auto_payment</th>\n",
       "      <th>available_program_starts_on</th>\n",
       "      <th>avg_hw_mark</th>\n",
       "      <th>avg_quiz_result</th>\n",
       "      <th>bought_avg_duration</th>\n",
       "      <th>bought_d1</th>\n",
       "      <th>bought_d2</th>\n",
       "      <th>...</th>\n",
       "      <th>reworked_hw</th>\n",
       "      <th>speed_recall</th>\n",
       "      <th>spent_time_to_complete_hw</th>\n",
       "      <th>spent_time_total</th>\n",
       "      <th>student_id</th>\n",
       "      <th>support_feedback_avg</th>\n",
       "      <th>target</th>\n",
       "      <th>test_with_good_mark</th>\n",
       "      <th>test_with_great_mark</th>\n",
       "      <th>webinars</th>\n",
       "    </tr>\n",
       "  </thead>\n",
       "  <tbody>\n",
       "    <tr>\n",
       "      <th>0</th>\n",
       "      <td>D</td>\n",
       "      <td>32</td>\n",
       "      <td>32</td>\n",
       "      <td>0</td>\n",
       "      <td>2020-10-12</td>\n",
       "      <td>100</td>\n",
       "      <td>NaN</td>\n",
       "      <td>NaN</td>\n",
       "      <td>0</td>\n",
       "      <td>0</td>\n",
       "      <td>...</td>\n",
       "      <td>17</td>\n",
       "      <td>NaN</td>\n",
       "      <td>0</td>\n",
       "      <td>163</td>\n",
       "      <td>6694527</td>\n",
       "      <td>4</td>\n",
       "      <td>0</td>\n",
       "      <td>12</td>\n",
       "      <td>8</td>\n",
       "      <td>0</td>\n",
       "    </tr>\n",
       "    <tr>\n",
       "      <th>1</th>\n",
       "      <td>A</td>\n",
       "      <td>NaN</td>\n",
       "      <td>NaN</td>\n",
       "      <td>1</td>\n",
       "      <td>NaN</td>\n",
       "      <td>NaN</td>\n",
       "      <td>NaN</td>\n",
       "      <td>NaN</td>\n",
       "      <td>0</td>\n",
       "      <td>0</td>\n",
       "      <td>...</td>\n",
       "      <td>NaN</td>\n",
       "      <td>1</td>\n",
       "      <td>NaN</td>\n",
       "      <td>NaN</td>\n",
       "      <td>6712877</td>\n",
       "      <td>NaN</td>\n",
       "      <td>0</td>\n",
       "      <td>NaN</td>\n",
       "      <td>NaN</td>\n",
       "      <td>NaN</td>\n",
       "    </tr>\n",
       "    <tr>\n",
       "      <th>4</th>\n",
       "      <td>A</td>\n",
       "      <td>NaN</td>\n",
       "      <td>30</td>\n",
       "      <td>1</td>\n",
       "      <td>NaN</td>\n",
       "      <td>NaN</td>\n",
       "      <td>NaN</td>\n",
       "      <td>NaN</td>\n",
       "      <td>0</td>\n",
       "      <td>0</td>\n",
       "      <td>...</td>\n",
       "      <td>NaN</td>\n",
       "      <td>NaN</td>\n",
       "      <td>NaN</td>\n",
       "      <td>NaN</td>\n",
       "      <td>6705666</td>\n",
       "      <td>NaN</td>\n",
       "      <td>0</td>\n",
       "      <td>NaN</td>\n",
       "      <td>NaN</td>\n",
       "      <td>NaN</td>\n",
       "    </tr>\n",
       "    <tr>\n",
       "      <th>13</th>\n",
       "      <td>D</td>\n",
       "      <td>NaN</td>\n",
       "      <td>NaN</td>\n",
       "      <td>0</td>\n",
       "      <td>2022-09-12</td>\n",
       "      <td>NaN</td>\n",
       "      <td>NaN</td>\n",
       "      <td>NaN</td>\n",
       "      <td>0</td>\n",
       "      <td>0</td>\n",
       "      <td>...</td>\n",
       "      <td>NaN</td>\n",
       "      <td>NaN</td>\n",
       "      <td>NaN</td>\n",
       "      <td>NaN</td>\n",
       "      <td>6677993</td>\n",
       "      <td>NaN</td>\n",
       "      <td>0</td>\n",
       "      <td>NaN</td>\n",
       "      <td>NaN</td>\n",
       "      <td>NaN</td>\n",
       "    </tr>\n",
       "    <tr>\n",
       "      <th>17</th>\n",
       "      <td>D</td>\n",
       "      <td>NaN</td>\n",
       "      <td>NaN</td>\n",
       "      <td>1</td>\n",
       "      <td>2021-10-27</td>\n",
       "      <td>NaN</td>\n",
       "      <td>NaN</td>\n",
       "      <td>NaN</td>\n",
       "      <td>0</td>\n",
       "      <td>0</td>\n",
       "      <td>...</td>\n",
       "      <td>NaN</td>\n",
       "      <td>NaN</td>\n",
       "      <td>NaN</td>\n",
       "      <td>NaN</td>\n",
       "      <td>6945634</td>\n",
       "      <td>NaN</td>\n",
       "      <td>1</td>\n",
       "      <td>NaN</td>\n",
       "      <td>NaN</td>\n",
       "      <td>NaN</td>\n",
       "    </tr>\n",
       "    <tr>\n",
       "      <th>...</th>\n",
       "      <td>...</td>\n",
       "      <td>...</td>\n",
       "      <td>...</td>\n",
       "      <td>...</td>\n",
       "      <td>...</td>\n",
       "      <td>...</td>\n",
       "      <td>...</td>\n",
       "      <td>...</td>\n",
       "      <td>...</td>\n",
       "      <td>...</td>\n",
       "      <td>...</td>\n",
       "      <td>...</td>\n",
       "      <td>...</td>\n",
       "      <td>...</td>\n",
       "      <td>...</td>\n",
       "      <td>...</td>\n",
       "      <td>...</td>\n",
       "      <td>...</td>\n",
       "      <td>...</td>\n",
       "      <td>...</td>\n",
       "      <td>...</td>\n",
       "    </tr>\n",
       "    <tr>\n",
       "      <th>199972</th>\n",
       "      <td>D</td>\n",
       "      <td>NaN</td>\n",
       "      <td>19</td>\n",
       "      <td>0</td>\n",
       "      <td>2021-02-15</td>\n",
       "      <td>NaN</td>\n",
       "      <td>NaN</td>\n",
       "      <td>NaN</td>\n",
       "      <td>0</td>\n",
       "      <td>0</td>\n",
       "      <td>...</td>\n",
       "      <td>NaN</td>\n",
       "      <td>NaN</td>\n",
       "      <td>NaN</td>\n",
       "      <td>NaN</td>\n",
       "      <td>6905728</td>\n",
       "      <td>NaN</td>\n",
       "      <td>0</td>\n",
       "      <td>NaN</td>\n",
       "      <td>NaN</td>\n",
       "      <td>NaN</td>\n",
       "    </tr>\n",
       "    <tr>\n",
       "      <th>199978</th>\n",
       "      <td>D</td>\n",
       "      <td>1</td>\n",
       "      <td>10</td>\n",
       "      <td>0</td>\n",
       "      <td>2022-09-12</td>\n",
       "      <td>NaN</td>\n",
       "      <td>NaN</td>\n",
       "      <td>NaN</td>\n",
       "      <td>0</td>\n",
       "      <td>0</td>\n",
       "      <td>...</td>\n",
       "      <td>0</td>\n",
       "      <td>NaN</td>\n",
       "      <td>0</td>\n",
       "      <td>0</td>\n",
       "      <td>6788959</td>\n",
       "      <td>NaN</td>\n",
       "      <td>0</td>\n",
       "      <td>0</td>\n",
       "      <td>0</td>\n",
       "      <td>0</td>\n",
       "    </tr>\n",
       "    <tr>\n",
       "      <th>199990</th>\n",
       "      <td>D</td>\n",
       "      <td>NaN</td>\n",
       "      <td>27</td>\n",
       "      <td>0</td>\n",
       "      <td>2022-08-08</td>\n",
       "      <td>NaN</td>\n",
       "      <td>NaN</td>\n",
       "      <td>NaN</td>\n",
       "      <td>0</td>\n",
       "      <td>0</td>\n",
       "      <td>...</td>\n",
       "      <td>NaN</td>\n",
       "      <td>1</td>\n",
       "      <td>NaN</td>\n",
       "      <td>NaN</td>\n",
       "      <td>5724556</td>\n",
       "      <td>NaN</td>\n",
       "      <td>0</td>\n",
       "      <td>NaN</td>\n",
       "      <td>NaN</td>\n",
       "      <td>NaN</td>\n",
       "    </tr>\n",
       "    <tr>\n",
       "      <th>199995</th>\n",
       "      <td>D</td>\n",
       "      <td>NaN</td>\n",
       "      <td>27</td>\n",
       "      <td>1</td>\n",
       "      <td>NaN</td>\n",
       "      <td>NaN</td>\n",
       "      <td>NaN</td>\n",
       "      <td>40</td>\n",
       "      <td>1</td>\n",
       "      <td>0</td>\n",
       "      <td>...</td>\n",
       "      <td>NaN</td>\n",
       "      <td>NaN</td>\n",
       "      <td>NaN</td>\n",
       "      <td>NaN</td>\n",
       "      <td>6816668</td>\n",
       "      <td>5</td>\n",
       "      <td>0</td>\n",
       "      <td>NaN</td>\n",
       "      <td>NaN</td>\n",
       "      <td>NaN</td>\n",
       "    </tr>\n",
       "    <tr>\n",
       "      <th>199996</th>\n",
       "      <td>D</td>\n",
       "      <td>NaN</td>\n",
       "      <td>NaN</td>\n",
       "      <td>0</td>\n",
       "      <td>2022-04-25</td>\n",
       "      <td>NaN</td>\n",
       "      <td>NaN</td>\n",
       "      <td>NaN</td>\n",
       "      <td>0</td>\n",
       "      <td>0</td>\n",
       "      <td>...</td>\n",
       "      <td>NaN</td>\n",
       "      <td>NaN</td>\n",
       "      <td>NaN</td>\n",
       "      <td>NaN</td>\n",
       "      <td>6984939</td>\n",
       "      <td>NaN</td>\n",
       "      <td>0</td>\n",
       "      <td>NaN</td>\n",
       "      <td>NaN</td>\n",
       "      <td>NaN</td>\n",
       "    </tr>\n",
       "  </tbody>\n",
       "</table>\n",
       "<p>61315 rows × 67 columns</p>\n",
       "</div>"
      ],
      "text/plain": [
       "       ABC             activity        age_indicator  auto_payment  \\\n",
       "0        D                   32                   32             0   \n",
       "1        A                  NaN                  NaN             1   \n",
       "4        A                  NaN                   30             1   \n",
       "13       D                  NaN                  NaN             0   \n",
       "17       D                  NaN                  NaN             1   \n",
       "...     ..                  ...                  ...           ...   \n",
       "199972   D                  NaN                   19             0   \n",
       "199978   D                    1                   10             0   \n",
       "199990   D                  NaN                   27             0   \n",
       "199995   D                  NaN                   27             1   \n",
       "199996   D                  NaN                  NaN             0   \n",
       "\n",
       "       available_program_starts_on          avg_hw_mark  avg_quiz_result  \\\n",
       "0                       2020-10-12                  100              NaN   \n",
       "1                              NaN                  NaN              NaN   \n",
       "4                              NaN                  NaN              NaN   \n",
       "13                      2022-09-12                  NaN              NaN   \n",
       "17                      2021-10-27                  NaN              NaN   \n",
       "...                            ...                  ...              ...   \n",
       "199972                  2021-02-15                  NaN              NaN   \n",
       "199978                  2022-09-12                  NaN              NaN   \n",
       "199990                  2022-08-08                  NaN              NaN   \n",
       "199995                         NaN                  NaN              NaN   \n",
       "199996                  2022-04-25                  NaN              NaN   \n",
       "\n",
       "        bought_avg_duration  bought_d1  bought_d2  ...          reworked_hw  \\\n",
       "0                       NaN          0          0  ...                   17   \n",
       "1                       NaN          0          0  ...                  NaN   \n",
       "4                       NaN          0          0  ...                  NaN   \n",
       "13                      NaN          0          0  ...                  NaN   \n",
       "17                      NaN          0          0  ...                  NaN   \n",
       "...                     ...        ...        ...  ...                  ...   \n",
       "199972                  NaN          0          0  ...                  NaN   \n",
       "199978                  NaN          0          0  ...                    0   \n",
       "199990                  NaN          0          0  ...                  NaN   \n",
       "199995                   40          1          0  ...                  NaN   \n",
       "199996                  NaN          0          0  ...                  NaN   \n",
       "\n",
       "               speed_recall  spent_time_to_complete_hw     spent_time_total  \\\n",
       "0                       NaN                          0                  163   \n",
       "1                         1                        NaN                  NaN   \n",
       "4                       NaN                        NaN                  NaN   \n",
       "13                      NaN                        NaN                  NaN   \n",
       "17                      NaN                        NaN                  NaN   \n",
       "...                     ...                        ...                  ...   \n",
       "199972                  NaN                        NaN                  NaN   \n",
       "199978                  NaN                          0                    0   \n",
       "199990                    1                        NaN                  NaN   \n",
       "199995                  NaN                        NaN                  NaN   \n",
       "199996                  NaN                        NaN                  NaN   \n",
       "\n",
       "       student_id support_feedback_avg target  test_with_good_mark  \\\n",
       "0         6694527                    4      0                   12   \n",
       "1         6712877                  NaN      0                  NaN   \n",
       "4         6705666                  NaN      0                  NaN   \n",
       "13        6677993                  NaN      0                  NaN   \n",
       "17        6945634                  NaN      1                  NaN   \n",
       "...           ...                  ...    ...                  ...   \n",
       "199972    6905728                  NaN      0                  NaN   \n",
       "199978    6788959                  NaN      0                    0   \n",
       "199990    5724556                  NaN      0                  NaN   \n",
       "199995    6816668                    5      0                  NaN   \n",
       "199996    6984939                  NaN      0                  NaN   \n",
       "\n",
       "       test_with_great_mark             webinars  \n",
       "0                         8                    0  \n",
       "1                       NaN                  NaN  \n",
       "4                       NaN                  NaN  \n",
       "13                      NaN                  NaN  \n",
       "17                      NaN                  NaN  \n",
       "...                     ...                  ...  \n",
       "199972                  NaN                  NaN  \n",
       "199978                    0                    0  \n",
       "199990                  NaN                  NaN  \n",
       "199995                  NaN                  NaN  \n",
       "199996                  NaN                  NaN  \n",
       "\n",
       "[61315 rows x 67 columns]"
      ]
     },
     "execution_count": 173,
     "metadata": {},
     "output_type": "execute_result"
    }
   ],
   "source": [
    "df[df.program_duration.isna()]"
   ]
  },
  {
   "cell_type": "code",
   "execution_count": 196,
   "metadata": {},
   "outputs": [],
   "source": [
    "def transform_duration(row):\n",
    "    program_duration = str(row.program_duration)\n",
    "    splt =  program_duration.split(' ')\n",
    "    unit = splt[1][0:3]\n",
    "    number = int(splt[0])\n",
    "    if unit =='мес':\n",
    "        number=number*4\n",
    "    row['program_duration'] =     number\n",
    "    return row\n"
   ]
  },
  {
   "cell_type": "code",
   "execution_count": 197,
   "metadata": {},
   "outputs": [],
   "source": [
    "#df[['program_duration']]=df[['program_duration']].fillna('0 недель')\n",
    "df=df.apply(lambda row: transform_duration(row), axis=1)\n"
   ]
  },
  {
   "cell_type": "code",
   "execution_count": 168,
   "metadata": {},
   "outputs": [],
   "source": [
    "program_starting_soon_le = preprocessing.LabelEncoder()\n",
    "df[\"program_starting_soon\"] = program_starting_soon_le.fit_transform(df[\"program_starting_soon\"])\n"
   ]
  },
  {
   "cell_type": "code",
   "execution_count": 169,
   "metadata": {},
   "outputs": [
    {
     "data": {
      "text/plain": [
       "0         2\n",
       "1         2\n",
       "2         1\n",
       "3         0\n",
       "4         2\n",
       "         ..\n",
       "199995    2\n",
       "199996    2\n",
       "199997    0\n",
       "199998    0\n",
       "199999    0\n",
       "Name: program_starting_soon, Length: 200000, dtype: int32"
      ]
     },
     "execution_count": 169,
     "metadata": {},
     "output_type": "execute_result"
    }
   ],
   "source": [
    "df.program_starting_soon"
   ]
  },
  {
   "cell_type": "code",
   "execution_count": 32,
   "metadata": {},
   "outputs": [
    {
     "data": {
      "image/png": "[encoded data removed]",
      "text/plain": [
       "<Figure size 1440x864 with 1 Axes>"
      ]
     },
     "metadata": {
      "needs_background": "light"
     },
     "output_type": "display_data"
    }
   ],
   "source": [
    "_ = df[[\"age_indicator\"]].hist(figsize=(20,12))"
   ]
  },
  {
   "cell_type": "code",
   "execution_count": 127,
   "metadata": {},
   "outputs": [
    {
     "data": {
      "text/plain": [
       "array([1469, 1392,  376, 1160,  952,  789,  242,  998,  459,  871, 1688,\n",
       "       1287, 1609,  508, 1059, 1605,  887, 1230, 1523, 1248,  836,  581,\n",
       "       1756,  138,  485,  490, 1685, 1470, 2097,  518, 1602, 1131, 1304,\n",
       "        643,  724,  580, 1635, 1045,  176, 1697, 1049,  552,  489,  223,\n",
       "       1360,  791,   73,  711,  366, 1330, 2395,  999, 1209,  166, 1193,\n",
       "       2067,  617, 1540, 1110,  562, 1227,  381,  784, 1839, 1233, 1026,\n",
       "        229,  211,  916, 1562,  910,  551, 1991, 2008, 1595, 1461,  584,\n",
       "        365,  913,   84, 1153, 1683, 1757, 1987,  469, 1157, 1966,   47,\n",
       "        245, 2361,  288,  239,  909,  929, 1394, 1126, 1725, 1545, 1166,\n",
       "        434,  642,  476, 1543,  806, 1104,  549, 1891, 1008, 1158,  928,\n",
       "       1239,  505, 1777, 2127, 1774, 1661,  516,  807,  943, 1050,  751,\n",
       "       1539,   12,  991, 1100, 1510, 1452, 1711,   80, 1125, 1169, 1792,\n",
       "       1954, 1584, 1138, 2114, 1917, 1395, 1374, 1773, 2013, 1718,  423,\n",
       "       1336, 1051, 1796,  318, 2057,  924, 1036, 1517, 1383, 1651, 1170,\n",
       "       1380,  460,  583, 1495, 1823, 1897, 1547,  657, 1877, 2279, 1046,\n",
       "        446, 1420,  960, 1840, 1382, 2355, 1591,   33, 1180, 2388, 1967,\n",
       "       1608, 1111, 1484, 1134, 1108, 1043, 1996,  885, 1548, 1442, 1509,\n",
       "       2224, 1842, 1155,  903, 2545,  761, 1978,  863, 1876, 1961,  334,\n",
       "        517,  475, 1824, 2437, 1968, 2302, 2310,  877, 2141, 1589, 1375,\n",
       "       1945, 2406, 2349, 1370, 1121, 1314, 1328, 2333, 1109,  766, 1371,\n",
       "       2331, 1610, 2427, 1154, 2429, 1852, 2068,  709, 1047, 1298,  379,\n",
       "       2400, 1793, 2467, 2350, 2288, 1542,  680, 2662, 2396, 2233, 2381,\n",
       "       1256, 1522, 1551, 2513, 2190, 2055,  708, 2704, 1984, 1995, 2066,\n",
       "       2234, 2636, 2571, 2562, 2401, 2456, 2235, 2426, 2611, 2598, 2407,\n",
       "       2699, 2515, 2714], dtype=int64)"
      ]
     },
     "execution_count": 127,
     "metadata": {},
     "output_type": "execute_result"
    }
   ],
   "source": [
    "df.program_id.unique()"
   ]
  },
  {
   "cell_type": "code",
   "execution_count": 129,
   "metadata": {},
   "outputs": [
    {
     "data": {
      "text/plain": [
       "array([0, 3, 1, 4, 5, 2], dtype=int64)"
      ]
     },
     "execution_count": 129,
     "metadata": {},
     "output_type": "execute_result"
    }
   ],
   "source": [
    "df.target.unique()"
   ]
  },
  {
   "cell_type": "code",
   "execution_count": 128,
   "metadata": {},
   "outputs": [
    {
     "data": {
      "text/plain": [
       "267"
      ]
     },
     "execution_count": 128,
     "metadata": {},
     "output_type": "execute_result"
    }
   ],
   "source": [
    "df.program_id.unique().size"
   ]
  },
  {
   "cell_type": "code",
   "execution_count": 122,
   "metadata": {},
   "outputs": [],
   "source": [
    "df['age_indicator'].fillna((df['age_indicator'].median()), inplace=True)"
   ]
  },
  {
   "cell_type": "code",
   "execution_count": 123,
   "metadata": {},
   "outputs": [
    {
     "data": {
      "image/png": "[encoded data removed]",
      "text/plain": [
       "<Figure size 1440x864 with 1 Axes>"
      ]
     },
     "metadata": {
      "needs_background": "light"
     },
     "output_type": "display_data"
    }
   ],
   "source": [
    "_ = df[[\"age_indicator\"]].hist(figsize=(20,12))"
   ]
  },
  {
   "cell_type": "code",
   "execution_count": null,
   "metadata": {},
   "outputs": [],
   "source": []
  },
  {
   "cell_type": "code",
   "execution_count": null,
   "metadata": {},
   "outputs": [],
   "source": []
  },
  {
   "cell_type": "code",
   "execution_count": null,
   "metadata": {},
   "outputs": [],
   "source": []
  },
  {
   "cell_type": "code",
   "execution_count": 63,
   "metadata": {},
   "outputs": [],
   "source": [
    "df_test = pd.read_csv(\"./content/test.csv\")"
   ]
  },
  {
   "cell_type": "code",
   "execution_count": 114,
   "metadata": {},
   "outputs": [
    {
     "data": {
      "text/plain": [
       "array([nan, 'pc', 'mobile', 'tablet'], dtype=object)"
      ]
     },
     "execution_count": 114,
     "metadata": {},
     "output_type": "execute_result"
    }
   ],
   "source": [
    "df[\"platform\"].unique()"
   ]
  },
  {
   "cell_type": "code",
   "execution_count": 115,
   "metadata": {},
   "outputs": [
    {
     "data": {
      "text/plain": [
       "array(['pc', 'mobile', nan, 'tablet'], dtype=object)"
      ]
     },
     "execution_count": 115,
     "metadata": {},
     "output_type": "execute_result"
    }
   ],
   "source": [
    "df_test[\"platform\"].unique()"
   ]
  },
  {
   "cell_type": "code",
   "execution_count": 81,
   "metadata": {},
   "outputs": [
    {
     "data": {
      "text/plain": [
       "array([nan, 'Москва', 'Балашиха', 'Пермь', 'Красноярск', 'Пенза',\n",
       "       'Санкт-Петербург', 'Самара', ' Пенза', 'Уфа', 'Иннополис',\n",
       "       'Ногинск', 'Бостон', 'Люберцы', 'Astana', 'Минск', 'Кемерово',\n",
       "       'Ленинградская область', 'Ростов-на-Дону', 'Дмитров',\n",
       "       'Ханты-Мансийск', 'казань', 'Волжский', 'Магнитогорск',\n",
       "       'Губкинский', 'Новосибирск', 'КЧР, Урупский р-н, пгт Медногорский',\n",
       "       'Бийск', 'Волгоград', 'Лобня', 'Краснодар', 'Оренбург', 'Юрмала',\n",
       "       'Нурлат', 'Астана', 'Владивосток', 'Донецк', 'Благовещенск',\n",
       "       'Иркутск', 'п. Каинская заимка', 'г. Волгоград', 'Севастополь',\n",
       "       'Екатеринбург', 'Электросталь', 'Воронеж', 'Череповец',\n",
       "       'Нижний Новгород', 'Караганда', 'СПб', 'Moscow', 'Петрозаводск11',\n",
       "       'Симферополь', 'Brussels', 'Новомосковск', 'Московская область',\n",
       "       'Бишкек', 'Нижний Тагил', 'Новоуральск', 'Киев', 'Ульяновск',\n",
       "       'Омск', 'Калуга', 'Ижевск', 'Красногорск', 'Прага', 'Рязань',\n",
       "       'Йошкар-Ола', 'Тула', 'Тюмень', 'Бахмут', 'Калининград',\n",
       "       'Санкт петербург', 'Хабаровск', 'Мытищи', 'Ивантеевка', 'Белгород',\n",
       "       'Курган', 'Улан-Удэ', 'Жуковский', 'Вильнюс', 'Крым', 'Алматы',\n",
       "       'Химки', 'Лозанна', 'Новокузнецк', 'Тверь', 'г. Москва', 'Хайфа',\n",
       "       'Саратов', 'г. Кулебаки', 'Кызыл', 'Реутов', 'Сочи', 'Mocква',\n",
       "       'Cанкт-Петербург', 'Шымкент', 'Щелково', 'Ярославль', 'Рига',\n",
       "       'Брянск', ' посёлок Щеглово', 'Новоалтайск', 'Челябинск', 'Выборг',\n",
       "       'Томск', 'Лимасол', 'Тамбов', 'Петрозаводск', 'Гулькевичи',\n",
       "       'чебоксары', 'Нант', 'Троицк', 'Иваново', 'Варшава', 'Якутск',\n",
       "       'Обнинск', 'Гурьевск', 'Набережные Челны', 'Домодедово', 'Курск',\n",
       "       'Торонто', 'Санкт-Петербург-Москва', 'Дубна', 'Павлово',\n",
       "       'Лесной Городок', 'г. Кудрово', '   Саратов', 'Одесса', 'Мрсква',\n",
       "       'Подольск', 'липецк', 'Даугавпилс', 'Астрахань',\n",
       "       'Чувашская Республика, г.Чебоксары', 'Северодвинск', 'Киров',\n",
       "       'Пушкино', 'Архангельск', 'Ефремов', 'Токио', 'Пекин',\n",
       "       'Тамбовская область', 'ZAPORIZHZHYA', 'Магадан', 'Махачкала',\n",
       "       'сургут', 'Чистополь', 'Франкфурт', 'пос. Приморск', 'Костанай',\n",
       "       'Гродно', 'Саянск', 'Москава', 'Мурманск', 'Смоленск', 'Брно',\n",
       "       'д. Кульнево', 'Санкт ~Петербург ', 'Куйбышев', 'Красноармейск',\n",
       "       'Барнаул', 'Дубна МО', 'Вологда', 'Одинцово', 'Фрязино', 'Луганск',\n",
       "       'Брест', 'Кировск', 'Чернигов', 'Анталья', 'Миасс', 'Видное',\n",
       "       'Санкт-Петербрг', '   Киров', 'Новочеркасск ', 'Йоэнсуу',\n",
       "       'Владимир', 'Муравленко', 'Соликамск', 'Ставрополь', 'Budva',\n",
       "       'Наро-Фоминск', 'Таганрог', 'Железнодорожный', 'Rouen',\n",
       "       ' Севастополь', 'Bysk', 'Новороссийск', 'Коломна', 'Воркута',\n",
       "       'Пятигорск', 'Енисейск', 'Жалал-Абад', 'St Louis', 'London',\n",
       "       'Южно-Сахалинск', 'Феодосия', 'Клин', 'Лимассол', 'Omsk', 'Цуг',\n",
       "       'Пукон', 'Харцызск', 'Бердск', 'Шанхай', 'Комсомольск-на-Амуре',\n",
       "       'Сергиев Посад', 'Рыбинск', 'Комсомольск -на -Амуре',\n",
       "       'Долгопрудный', 'г. Реутов', 'Люксембург',\n",
       "       'Зеленодольск,Республика Татарстан', 'Учалы', 'Республика Алтай',\n",
       "       'Кострома', 'Владикавказ', 'Гомель', 'Limassol', 'Дюссельдорф',\n",
       "       'Чампино ', 'Апатиты', 'Отрадный', 'Саранск', 'Мирный', 'Гамбург',\n",
       "       'Псков', 'Серпухов', 'Солнечногорск', 'Протвино ', 'Tallinn',\n",
       "       'Bratislava', 'Мыищи', 'г.Москва', 'Сыктывкар', 'Perm',\n",
       "       'Александров', 'Бари', 'Зеленоград, Москва', 'бУЙНАСКС',\n",
       "       'Тирасполь', 'Винница', 'Млсква', 'Королев', 'Амстердам',\n",
       "       'Краснодарский край, г. Кореновск', 'Сантьяго', 'Москва, MOW',\n",
       "       'Малага', 'Ульяновская область', 'Зеленоград', ' Москва',\n",
       "       'Большой Сочи', 'Шарыпово', 'Иерусалим, Петербург', 'Байконур',\n",
       "       'Piestany', 'Козловка', 'Каменск-Шахтинский'], dtype=object)"
      ]
     },
     "execution_count": 81,
     "metadata": {},
     "output_type": "execute_result"
    }
   ],
   "source": [
    "df_test['city'].unique()"
   ]
  },
  {
   "cell_type": "code",
   "execution_count": 109,
   "metadata": {},
   "outputs": [
    {
     "data": {
      "text/plain": [
       "array([nan, 'Россия', 'Украина', 'Беларусь', 'Кипр', 'РФ', 'Казахстан',\n",
       "       'Канада', 'Германия', 'Чешская Республика', 'Росссия', 'Латвия',\n",
       "       'Кыргызская Республика', 'Франция', '<span>Россия</span>',\n",
       "       'Польша', 'США', 'Кыргызстан', 'Швейцария', 'Япония', 'Узбекистан',\n",
       "       'Эстония', 'Чили', 'Великобритания', 'Netherlands', 'Бельгия',\n",
       "       'Нидерланды', 'Латвия ', 'Китай', 'Испания', 'Молдова', 'Израиль',\n",
       "       'Турция', 'Словакия', 'Люксембург', 'Республика Беларусь',\n",
       "       'Финляндия', 'Литва', 'Италия', 'Черногория'], dtype=object)"
      ]
     },
     "execution_count": 109,
     "metadata": {},
     "output_type": "execute_result"
    }
   ],
   "source": [
    "df['country'].unique()"
   ]
  },
  {
   "cell_type": "code",
   "execution_count": 100,
   "metadata": {},
   "outputs": [],
   "source": [
    "def replace_country(row):\n",
    "    country=row['country']\n",
    "    if country in ['Россия', '<span>Россия</span>', 'Росссия','РФ']:\n",
    "         row['country']= \"Россия\"\n",
    "    return row"
   ]
  },
  {
   "cell_type": "code",
   "execution_count": 110,
   "metadata": {},
   "outputs": [
    {
     "data": {
      "text/plain": [
       "'Россия'"
      ]
     },
     "execution_count": 110,
     "metadata": {},
     "output_type": "execute_result"
    }
   ],
   "source": [
    "df = df.apply(lambda row: replace_country(row), axis=1)\n",
    "df['country'][16]"
   ]
  },
  {
   "cell_type": "code",
   "execution_count": 112,
   "metadata": {},
   "outputs": [
    {
     "data": {
      "text/plain": [
       "'Украина'"
      ]
     },
     "execution_count": 112,
     "metadata": {},
     "output_type": "execute_result"
    }
   ],
   "source": [
    "df['country'][55]"
   ]
  },
  {
   "cell_type": "code",
   "execution_count": 80,
   "metadata": {},
   "outputs": [],
   "source": [
    "os_le = preprocessing.LabelEncoder()\n",
    "df[\"os\"] = os_le.fit_transform(df[\"os\"])\n",
    "\n",
    "browser_le = preprocessing.LabelEncoder()\n",
    "df[\"browser\"] = browser_le.fit_transform(df[\"browser\"])\n",
    "\n",
    "platform_le = preprocessing.LabelEncoder()\n",
    "df[\"platform\"] = platform_le.fit_transform(df[\"platform\"])"
   ]
  },
  {
   "cell_type": "code",
   "execution_count": 67,
   "metadata": {},
   "outputs": [
    {
     "data": {
      "text/plain": [
       "0         1\n",
       "1         0\n",
       "2         1\n",
       "3         0\n",
       "4         0\n",
       "         ..\n",
       "199995    1\n",
       "199996    0\n",
       "199997    1\n",
       "199998    0\n",
       "199999    0\n",
       "Name: promo, Length: 200000, dtype: int32"
      ]
     },
     "execution_count": 67,
     "metadata": {},
     "output_type": "execute_result"
    }
   ],
   "source": [
    "df['promo']=df['promo'].apply(lambda promo: promo =='+').astype(int)"
   ]
  },
  {
   "cell_type": "code",
   "execution_count": null,
   "metadata": {},
   "outputs": [],
   "source": [
    "ct_le = preprocessing.LabelEncoder()\n",
    "df[\"communication_type\"] = ct_le.fit_transform(df[\"communication_type\"])"
   ]
  },
  {
   "cell_type": "code",
   "execution_count": 69,
   "metadata": {},
   "outputs": [
    {
     "data": {
      "text/plain": [
       "array(['order', 'web', 'phone', nan], dtype=object)"
      ]
     },
     "execution_count": 69,
     "metadata": {},
     "output_type": "execute_result"
    }
   ],
   "source": [
    "df_test['communication_type'].unique()"
   ]
  },
  {
   "cell_type": "code",
   "execution_count": 74,
   "metadata": {},
   "outputs": [
    {
     "data": {
      "text/plain": [
       "0     1\n",
       "1     0\n",
       "2     2\n",
       "3     0\n",
       "4     0\n",
       "5     0\n",
       "6     2\n",
       "7     0\n",
       "8     0\n",
       "9     0\n",
       "10    1\n",
       "11    3\n",
       "Name: communication_type, dtype: int64"
      ]
     },
     "execution_count": 74,
     "metadata": {},
     "output_type": "execute_result"
    }
   ],
   "source": [
    "ct_le = preprocessing.LabelEncoder()\n",
    "df[\"communication_type\"] = ct_le.fit_transform(df[\"communication_type\"])"
   ]
  },
  {
   "cell_type": "code",
   "execution_count": 72,
   "metadata": {},
   "outputs": [
    {
     "data": {
      "text/plain": [
       "['order', 'phone', 'web', nan]"
      ]
     },
     "execution_count": 72,
     "metadata": {},
     "output_type": "execute_result"
    }
   ],
   "source": [
    "list(ct_le.classes_)"
   ]
  },
  {
   "cell_type": "code",
   "execution_count": 3,
   "metadata": {
    "colab": {
     "base_uri": "https://localhost:8080/"
    },
    "id": "DfQqkXCOueeM",
    "outputId": "0bcd8542-2f69-4671-b88b-c60bd966b766",
    "pycharm": {
     "name": "#%%\n"
    }
   },
   "outputs": [
    {
     "data": {
      "text/plain": [
       "(200000, 59)"
      ]
     },
     "execution_count": 3,
     "metadata": {},
     "output_type": "execute_result"
    }
   ],
   "source": [
    "df.shape"
   ]
  },
  {
   "cell_type": "code",
   "execution_count": 4,
   "metadata": {},
   "outputs": [
    {
     "data": {
      "text/plain": [
       "31153"
      ]
     },
     "execution_count": 4,
     "metadata": {},
     "output_type": "execute_result"
    }
   ],
   "source": [
    "df.student_id.unique().size"
   ]
  },
  {
   "cell_type": "code",
   "execution_count": 5,
   "metadata": {},
   "outputs": [
    {
     "data": {
      "text/plain": [
       "267"
      ]
     },
     "execution_count": 5,
     "metadata": {},
     "output_type": "execute_result"
    }
   ],
   "source": [
    "df.program_id.unique().size"
   ]
  },
  {
   "cell_type": "code",
   "execution_count": 6,
   "metadata": {},
   "outputs": [
    {
     "data": {
      "text/plain": [
       "student_id  program_id\n",
       "492         1360          11\n",
       "771         998           11\n",
       "838         73            14\n",
       "883         84            10\n",
       "            223           14\n",
       "                          ..\n",
       "7947725     1757           4\n",
       "7969075     2429           1\n",
       "7981619     1635           3\n",
       "7999554     1635           4\n",
       "8010481     784            3\n",
       "Name: program_id, Length: 32853, dtype: int64"
      ]
     },
     "execution_count": 6,
     "metadata": {},
     "output_type": "execute_result"
    }
   ],
   "source": [
    "df.groupby(['student_id', 'program_id'])['program_id'].count()"
   ]
  },
  {
   "cell_type": "code",
   "execution_count": 7,
   "metadata": {},
   "outputs": [
    {
     "data": {
      "text/plain": [
       "array(['D', 'A', 'B', 'C'], dtype=object)"
      ]
     },
     "execution_count": 7,
     "metadata": {},
     "output_type": "execute_result"
    }
   ],
   "source": [
    "df.ABC.unique()"
   ]
  },
  {
   "cell_type": "code",
   "execution_count": 8,
   "metadata": {},
   "outputs": [],
   "source": [
    "abc_le = preprocessing.LabelEncoder()\n",
    "df[\"ABC\"] = abc_le.fit_transform(df[\"ABC\"])"
   ]
  },
  {
   "cell_type": "code",
   "execution_count": 11,
   "metadata": {},
   "outputs": [
    {
     "data": {
      "image/png": "[encoded data removed]",
      "text/plain": [
       "<Figure size 1440x864 with 1 Axes>"
      ]
     },
     "metadata": {
      "needs_background": "light"
     },
     "output_type": "display_data"
    }
   ],
   "source": [
    "_ = df[[\"ABC\"]].hist(figsize=(20,12))"
   ]
  },
  {
   "cell_type": "code",
   "execution_count": 19,
   "metadata": {},
   "outputs": [],
   "source": [
    "df['control_year'] = pd.to_datetime(df['month_id']).dt.strftime(\"%y\").astype(int)"
   ]
  },
  {
   "cell_type": "code",
   "execution_count": null,
   "metadata": {},
   "outputs": [],
   "source": [
    "df['control_month'] = pd.to_datetime(df['month_id']).dt.strftime(\"%m\").astype(int)"
   ]
  },
  {
   "cell_type": "code",
   "execution_count": 28,
   "metadata": {},
   "outputs": [],
   "source": [
    "df['cart_day'] = pd.to_datetime(df['carts_created_at']).dt.strftime(\"%d\").astype(int)"
   ]
  },
  {
   "cell_type": "code",
   "execution_count": 29,
   "metadata": {},
   "outputs": [
    {
     "data": {
      "text/plain": [
       "0         20\n",
       "1         20\n",
       "2         20\n",
       "3         21\n",
       "4         20\n",
       "          ..\n",
       "199995    20\n",
       "199996    21\n",
       "199997    20\n",
       "199998    20\n",
       "199999    21\n",
       "Name: day, Length: 200000, dtype: int32"
      ]
     },
     "execution_count": 29,
     "metadata": {},
     "output_type": "execute_result"
    }
   ],
   "source": [
    "df['cart_month'] = pd.to_datetime(df['carts_created_at']).dt.strftime(\"%m\").astype(int)"
   ]
  },
  {
   "cell_type": "code",
   "execution_count": 54,
   "metadata": {},
   "outputs": [],
   "source": [
    "df['cart_year'] = pd.to_datetime(df['carts_created_at']).dt.strftime(\"%Y\").astype(int)"
   ]
  },
  {
   "cell_type": "code",
   "execution_count": 55,
   "metadata": {},
   "outputs": [
    {
     "data": {
      "text/plain": [
       "0         2020\n",
       "1         2020\n",
       "2         2020\n",
       "3         2021\n",
       "4         2020\n",
       "          ... \n",
       "199995    2020\n",
       "199996    2021\n",
       "199997    2020\n",
       "199998    2020\n",
       "199999    2021\n",
       "Name: cart_year, Length: 200000, dtype: int32"
      ]
     },
     "execution_count": 55,
     "metadata": {},
     "output_type": "execute_result"
    }
   ],
   "source": [
    "df['cart_year']"
   ]
  },
  {
   "cell_type": "code",
   "execution_count": 42,
   "metadata": {},
   "outputs": [
    {
     "data": {
      "text/plain": [
       "datetime.datetime(2020, 12, 20, 0, 0)"
      ]
     },
     "execution_count": 42,
     "metadata": {},
     "output_type": "execute_result"
    }
   ],
   "source": [
    "datetime.strptime(\"12/20/2020\", \"%m/%d/%Y\")"
   ]
  },
  {
   "cell_type": "code",
   "execution_count": 43,
   "metadata": {},
   "outputs": [],
   "source": [
    "df['cart_timestamp'] = df['carts_created_at'].apply(\n",
    "    lambda d: time.mktime(datetime.strptime(d, \"%m/%d/%Y\").timetuple()))"
   ]
  },
  {
   "cell_type": "code",
   "execution_count": 49,
   "metadata": {},
   "outputs": [],
   "source": [
    "pd.set_option('display.float_format', '{:20.0f}'.format)"
   ]
  },
  {
   "cell_type": "code",
   "execution_count": 51,
   "metadata": {},
   "outputs": [
    {
     "data": {
      "text/plain": [
       "0          8/26/2020\n",
       "1           8/5/2020\n",
       "2          6/20/2020\n",
       "3          4/14/2021\n",
       "4          7/19/2020\n",
       "             ...    \n",
       "199995    10/16/2020\n",
       "199996      1/2/2021\n",
       "199997     6/29/2020\n",
       "199998     12/7/2020\n",
       "199999     2/24/2021\n",
       "Name: carts_created_at, Length: 200000, dtype: object"
      ]
     },
     "execution_count": 51,
     "metadata": {},
     "output_type": "execute_result"
    }
   ],
   "source": [
    "df['carts_created_at']"
   ]
  },
  {
   "cell_type": "code",
   "execution_count": 30,
   "metadata": {},
   "outputs": [
    {
     "data": {
      "image/png": "[encoded data removed]",
      "text/plain": [
       "<Figure size 1440x864 with 1 Axes>"
      ]
     },
     "metadata": {
      "needs_background": "light"
     },
     "output_type": "display_data"
    }
   ],
   "source": [
    "_ = df[[\"day\"]].hist(figsize=(20,12))"
   ]
  },
  {
   "cell_type": "code",
   "execution_count": null,
   "metadata": {},
   "outputs": [],
   "source": []
  },
  {
   "cell_type": "code",
   "execution_count": 9,
   "metadata": {
    "colab": {
     "base_uri": "https://localhost:8080/"
    },
    "id": "NUHy7c-tuegn",
    "outputId": "91ae5ab5-7104-4a34-853e-3a4dd4b6832e",
    "pycharm": {
     "name": "#%%\n"
    }
   },
   "outputs": [
    {
     "name": "stdout",
     "output_type": "stream",
     "text": [
      "<class 'pandas.core.frame.DataFrame'>\n",
      "RangeIndex: 200000 entries, 0 to 199999\n",
      "Data columns (total 59 columns):\n",
      " #   Column                     Non-Null Count   Dtype  \n",
      "---  ------                     --------------   -----  \n",
      " 0   id                         200000 non-null  int64  \n",
      " 1   age_indicator              159123 non-null  float64\n",
      " 2   month_id                   200000 non-null  object \n",
      " 3   student_id                 200000 non-null  int64  \n",
      " 4   program_id                 200000 non-null  int64  \n",
      " 5   carts_created_at           200000 non-null  object \n",
      " 6   spent_time_total           86309 non-null   float64\n",
      " 7   spent_time_to_complete_hw  42467 non-null   float64\n",
      " 8   completed_hw               97599 non-null   float64\n",
      " 9   failed_hw                  97599 non-null   float64\n",
      " 10  reworked_hw                97599 non-null   float64\n",
      " 11  interacted_hw              97599 non-null   float64\n",
      " 12  avg_hw_mark                44496 non-null   float64\n",
      " 13  test_with_good_mark        97599 non-null   float64\n",
      " 14  test_with_great_mark       97599 non-null   float64\n",
      " 15  webinars                   97599 non-null   float64\n",
      " 16  avg_quiz_result            16259 non-null   float64\n",
      " 17  notes                      97599 non-null   float64\n",
      " 18  hw_leader                  97599 non-null   float64\n",
      " 19  lessons                    97599 non-null   float64\n",
      " 20  activity                   97599 non-null   float64\n",
      " 21  bought_d1                  200000 non-null  int64  \n",
      " 22  bought_d2                  200000 non-null  int64  \n",
      " 23  bought_d3                  200000 non-null  int64  \n",
      " 24  bought_d4                  200000 non-null  int64  \n",
      " 25  bought_d5                  200000 non-null  int64  \n",
      " 26  bought_avg_duration        10359 non-null   float64\n",
      " 27  payment_type               200000 non-null  int64  \n",
      " 28  promo                      200000 non-null  object \n",
      " 29  price                      200000 non-null  float64\n",
      " 30  communication_type         198595 non-null  object \n",
      " 31  auto_payment               200000 non-null  int64  \n",
      " 32  ABC                        200000 non-null  int32  \n",
      " 33  city                       13592 non-null   object \n",
      " 34  country                    12944 non-null   object \n",
      " 35  gender                     199940 non-null  float64\n",
      " 36  speed_recall               21880 non-null   float64\n",
      " 37  os                         77374 non-null   object \n",
      " 38  browser                    77374 non-null   object \n",
      " 39  platform                   77361 non-null   object \n",
      " 40  m_avg_talk_duration        51537 non-null   float64\n",
      " 41  m_avg_duration             45764 non-null   float64\n",
      " 42  m_missed_calls             51537 non-null   float64\n",
      " 43  m_total_calls              51537 non-null   float64\n",
      " 44  m_was_conversations        51537 non-null   float64\n",
      " 45  m_total_duration           51537 non-null   float64\n",
      " 46  p_avg_talk_duration        16453 non-null   float64\n",
      " 47  p_avg_duration             13488 non-null   float64\n",
      " 48  p_missed_calls             16453 non-null   float64\n",
      " 49  p_total_calls              16453 non-null   float64\n",
      " 50  p_was_conversations        16453 non-null   float64\n",
      " 51  p_total_duration           16453 non-null   float64\n",
      " 52  support_feedback_avg       37557 non-null   float64\n",
      " 53  feedback_avg_d1            48496 non-null   float64\n",
      " 54  feedback_avg_d2            14805 non-null   float64\n",
      " 55  feedback_avg_d3            17778 non-null   float64\n",
      " 56  feedback_avg_d4            25076 non-null   float64\n",
      " 57  feedback_avg_d5            15733 non-null   float64\n",
      " 58  target                     200000 non-null  int64  \n",
      "dtypes: float64(38), int32(1), int64(11), object(9)\n",
      "memory usage: 89.3+ MB\n"
     ]
    }
   ],
   "source": [
    "df.info()"
   ]
  },
  {
   "cell_type": "code",
   "execution_count": 244,
   "metadata": {
    "colab": {
     "base_uri": "https://localhost:8080/"
    },
    "id": "DI5s6M6NvFKj",
    "outputId": "484022b7-2468-418a-e47b-c2a6f56627a3",
    "pycharm": {
     "name": "#%%\n"
    }
   },
   "outputs": [
    {
     "data": {
      "text/plain": [
       "12/30/2020    2940\n",
       "8/24/2020     1806\n",
       "8/27/2020     1770\n",
       "12/31/2020    1738\n",
       "8/31/2020     1724\n",
       "              ... \n",
       "11/16/2021      28\n",
       "6/8/2020        24\n",
       "6/6/2020        22\n",
       "6/9/2020        13\n",
       "6/5/2020        13\n",
       "Name: carts_created_at, Length: 447, dtype: int64"
      ]
     },
     "execution_count": 244,
     "metadata": {},
     "output_type": "execute_result"
    }
   ],
   "source": [
    "df.carts_created_at.value_counts()                   "
   ]
  },
  {
   "cell_type": "code",
   "execution_count": 245,
   "metadata": {
    "colab": {
     "base_uri": "https://localhost:8080/"
    },
    "id": "Dqw2k-RGveDE",
    "outputId": "3bba57cf-e03e-41bd-ead0-344112656f1f",
    "pycharm": {
     "name": "#%%\n"
    }
   },
   "outputs": [
    {
     "data": {
      "text/plain": [
       "order    120786\n",
       "web       49759\n",
       "phone     28050\n",
       "Name: communication_type, dtype: int64"
      ]
     },
     "execution_count": 245,
     "metadata": {},
     "output_type": "execute_result"
    }
   ],
   "source": [
    "df.communication_type.value_counts()                   "
   ]
  },
  {
   "cell_type": "markdown",
   "metadata": {
    "id": "IjTGeJP3u1-4",
    "pycharm": {
     "name": "#%% md\n"
    }
   },
   "source": [
    "Заменим все пропуски в данных"
   ]
  },
  {
   "cell_type": "code",
   "execution_count": 246,
   "metadata": {
    "id": "sWf6o_06uei9",
    "pycharm": {
     "name": "#%%\n"
    }
   },
   "outputs": [],
   "source": [
    "df = df.fillna(0)"
   ]
  },
  {
   "cell_type": "markdown",
   "metadata": {
    "id": "4cxnT51gu5fJ",
    "pycharm": {
     "name": "#%% md\n"
    }
   },
   "source": [
    "Пострим на распределение данных"
   ]
  },
  {
   "cell_type": "code",
   "execution_count": 247,
   "metadata": {
    "colab": {
     "base_uri": "https://localhost:8080/",
     "height": 313
    },
    "id": "205eCTRPu3Au",
    "outputId": "b35b3048-6e15-431c-d206-344e488f29ef",
    "pycharm": {
     "name": "#%%\n"
    }
   },
   "outputs": [
    {
     "data": {
      "text/plain": [
       "Text(0.5, 1.0, 'Распределение предсказываемой величены')"
      ]
     },
     "execution_count": 247,
     "metadata": {},
     "output_type": "execute_result"
    },
    {
     "data": {
      "image/png": "[encoded data removed]",
      "text/plain": [
       "<Figure size 432x288 with 1 Axes>"
      ]
     },
     "metadata": {
      "needs_background": "light"
     },
     "output_type": "display_data"
    }
   ],
   "source": [
    "sns.countplot(x = \"target\" , data  = df).set_title('Распределение предсказываемой величены')"
   ]
  },
  {
   "cell_type": "code",
   "execution_count": 248,
   "metadata": {
    "colab": {
     "base_uri": "https://localhost:8080/",
     "height": 299
    },
    "id": "0hNUU0Dvu3DC",
    "outputId": "0b1d7247-30a1-4f97-b8a2-0023aef3af6a",
    "pycharm": {
     "name": "#%%\n"
    }
   },
   "outputs": [
    {
     "data": {
      "text/plain": [
       "Text(0.5, 1.0, 'Распределение возраста')"
      ]
     },
     "execution_count": 248,
     "metadata": {},
     "output_type": "execute_result"
    },
    {
     "data": {
      "image/png": "[encoded data removed]",
      "text/plain": [
       "<Figure size 432x288 with 1 Axes>"
      ]
     },
     "metadata": {
      "needs_background": "light"
     },
     "output_type": "display_data"
    }
   ],
   "source": [
    "df[\"age_indicator\"].hist(bins = 40).set_title('Распределение возраста')"
   ]
  },
  {
   "cell_type": "code",
   "execution_count": 249,
   "metadata": {
    "colab": {
     "base_uri": "https://localhost:8080/"
    },
    "id": "uvH50JTDu3Fd",
    "outputId": "497a2b32-aa22-4c19-efd6-8d7e0a66c755",
    "pycharm": {
     "name": "#%%\n"
    }
   },
   "outputs": [
    {
     "data": {
      "text/plain": [
       "40.0"
      ]
     },
     "execution_count": 249,
     "metadata": {},
     "output_type": "execute_result"
    }
   ],
   "source": [
    "max(df[\"age_indicator\"])"
   ]
  },
  {
   "cell_type": "markdown",
   "metadata": {
    "id": "Q0CkiEzGwusL",
    "pycharm": {
     "name": "#%% md\n"
    }
   },
   "source": [
    "Взглянем на несколько величин сразу"
   ]
  },
  {
   "cell_type": "code",
   "execution_count": 250,
   "metadata": {
    "colab": {
     "base_uri": "https://localhost:8080/"
    },
    "id": "rliZR2Asw6HW",
    "outputId": "a2f8aec8-ab76-4c92-f294-ee60599e0da1",
    "pycharm": {
     "name": "#%%\n"
    }
   },
   "outputs": [
    {
     "data": {
      "text/plain": [
       "Index(['id', 'age_indicator', 'month_id', 'student_id', 'program_id',\n",
       "       'carts_created_at', 'spent_time_total', 'spent_time_to_complete_hw',\n",
       "       'completed_hw', 'failed_hw', 'reworked_hw', 'interacted_hw',\n",
       "       'avg_hw_mark', 'test_with_good_mark', 'test_with_great_mark',\n",
       "       'webinars', 'avg_quiz_result', 'notes', 'hw_leader', 'lessons',\n",
       "       'activity', 'bought_d1', 'bought_d2', 'bought_d3', 'bought_d4',\n",
       "       'bought_d5', 'bought_avg_duration', 'payment_type', 'promo', 'price',\n",
       "       'communication_type', 'auto_payment', 'ABC', 'city', 'country',\n",
       "       'gender', 'speed_recall', 'os', 'browser', 'platform',\n",
       "       'm_avg_talk_duration', 'm_avg_duration', 'm_missed_calls',\n",
       "       'm_total_calls', 'm_was_conversations', 'm_total_duration',\n",
       "       'p_avg_talk_duration', 'p_avg_duration', 'p_missed_calls',\n",
       "       'p_total_calls', 'p_was_conversations', 'p_total_duration',\n",
       "       'support_feedback_avg', 'feedback_avg_d1', 'feedback_avg_d2',\n",
       "       'feedback_avg_d3', 'feedback_avg_d4', 'feedback_avg_d5', 'target'],\n",
       "      dtype='object')"
      ]
     },
     "execution_count": 250,
     "metadata": {},
     "output_type": "execute_result"
    }
   ],
   "source": [
    "df.columns"
   ]
  },
  {
   "cell_type": "code",
   "execution_count": 124,
   "metadata": {
    "colab": {
     "base_uri": "https://localhost:8080/",
     "height": 610
    },
    "id": "NM_Cufl3u3H0",
    "outputId": "4fa28ac9-a7ea-419e-9b2b-c4058093b229",
    "pycharm": {
     "name": "#%%\n"
    }
   },
   "outputs": [
    {
     "data": {
      "image/png": "[encoded data removed]",
      "text/plain": [
       "<Figure size 1440x864 with 6 Axes>"
      ]
     },
     "metadata": {
      "needs_background": "light"
     },
     "output_type": "display_data"
    }
   ],
   "source": [
    "features = list(set(['bought_d1', 'bought_d2', 'bought_d3', 'bought_d4',\n",
    "       'bought_d5', 'bought_avg_duration']))\n",
    "\n",
    "_ = df[features].hist(figsize=(20,12))"
   ]
  },
  {
   "cell_type": "markdown",
   "metadata": {
    "id": "zr-31zZQxUwx",
    "pycharm": {
     "name": "#%% md\n"
    }
   },
   "source": [
    "Обратим внимание на часть столбцов с постоянными значениями"
   ]
  },
  {
   "cell_type": "code",
   "execution_count": 252,
   "metadata": {
    "colab": {
     "base_uri": "https://localhost:8080/"
    },
    "id": "qw4IcQ2fu3KL",
    "outputId": "bef6cdfb-0a6d-480a-a409-8d78e0fd5bd7",
    "pycharm": {
     "name": "#%%\n"
    }
   },
   "outputs": [
    {
     "data": {
      "text/plain": [
       " 0.0    199999\n",
       "-1.0         1\n",
       "Name: spent_time_to_complete_hw, dtype: int64"
      ]
     },
     "execution_count": 252,
     "metadata": {},
     "output_type": "execute_result"
    }
   ],
   "source": [
    "df.spent_time_to_complete_hw.value_counts()"
   ]
  },
  {
   "cell_type": "code",
   "execution_count": 253,
   "metadata": {
    "colab": {
     "base_uri": "https://localhost:8080/"
    },
    "id": "m1D4sPQzxS5l",
    "outputId": "08698ac5-3f45-4fb8-c326-3d84315a4de9",
    "pycharm": {
     "name": "#%%\n"
    }
   },
   "outputs": [
    {
     "data": {
      "text/plain": [
       "0    198694\n",
       "1      1262\n",
       "3        40\n",
       "4         4\n",
       "Name: bought_d4, dtype: int64"
      ]
     },
     "execution_count": 253,
     "metadata": {},
     "output_type": "execute_result"
    }
   ],
   "source": [
    "df.bought_d4.value_counts()"
   ]
  },
  {
   "cell_type": "code",
   "execution_count": 254,
   "metadata": {
    "colab": {
     "base_uri": "https://localhost:8080/",
     "height": 892
    },
    "id": "VnDPAAahyOnw",
    "outputId": "03611d17-0300-4e1f-fbba-4305a4b2868a",
    "pycharm": {
     "name": "#%%\n"
    }
   },
   "outputs": [
    {
     "data": {
      "image/png": "[encoded data removed]",
      "text/plain": [
       "<Figure size 1080x1080 with 2 Axes>"
      ]
     },
     "metadata": {
      "needs_background": "light"
     },
     "output_type": "display_data"
    }
   ],
   "source": [
    "plt.rcParams['figure.figsize']=(15,15)\n",
    "\n",
    "df_corr = df[[\"target\",'age_indicator',\n",
    "       'carts_created_at', 'spent_time_total',\n",
    "       'completed_hw', 'failed_hw', 'reworked_hw', 'interacted_hw',\n",
    "       'avg_hw_mark', 'test_with_good_mark', 'test_with_great_mark',\n",
    "       'webinars', 'avg_quiz_result', 'notes', 'hw_leader', 'lessons',\n",
    "       'activity', 'bought_d1', 'bought_d2', 'bought_d3',\n",
    "       'bought_d5', 'bought_avg_duration']]\n",
    "\n",
    "g = sns.heatmap(df_corr.corr(), square = True, annot=True)"
   ]
  },
  {
   "cell_type": "markdown",
   "metadata": {
    "id": "VLOa56f5zfUg",
    "pycharm": {
     "name": "#%% md\n"
    }
   },
   "source": [
    "## Выделим выборки"
   ]
  },
  {
   "cell_type": "code",
   "execution_count": 255,
   "metadata": {
    "colab": {
     "base_uri": "https://localhost:8080/"
    },
    "id": "T5wEuIQ50ibJ",
    "outputId": "a00aaeab-3343-42b2-d797-e37186f150e7",
    "pycharm": {
     "name": "#%%\n"
    }
   },
   "outputs": [
    {
     "data": {
      "text/plain": [
       "array([dtype('O'), dtype('O'), dtype('O'), dtype('O'), dtype('O'),\n",
       "       dtype('O'), dtype('O'), dtype('O'), dtype('O')], dtype=object)"
      ]
     },
     "execution_count": 255,
     "metadata": {},
     "output_type": "execute_result"
    }
   ],
   "source": [
    "df.dtypes[df.dtypes == \"object\"].values"
   ]
  },
  {
   "cell_type": "markdown",
   "metadata": {
    "id": "845Wf3zJ1dhc",
    "pycharm": {
     "name": "#%% md\n"
    }
   },
   "source": [
    "Поместим все столбцы object в массив, для их дальнейшего удаления"
   ]
  },
  {
   "cell_type": "code",
   "execution_count": 256,
   "metadata": {
    "id": "Poa1_MKE08xs",
    "pycharm": {
     "name": "#%%\n"
    }
   },
   "outputs": [],
   "source": [
    "mass_object = df.dtypes[df.dtypes == \"object\"].index.values"
   ]
  },
  {
   "cell_type": "code",
   "execution_count": 257,
   "metadata": {
    "id": "mAhVoVTj1l-D",
    "pycharm": {
     "name": "#%%\n"
    }
   },
   "outputs": [],
   "source": [
    "mass_object = np.append(mass_object, \"target\")"
   ]
  },
  {
   "cell_type": "code",
   "execution_count": 258,
   "metadata": {
    "id": "czsoZexkyyTw",
    "pycharm": {
     "name": "#%%\n"
    }
   },
   "outputs": [],
   "source": [
    "X = df.drop(mass_object, axis = 1)\n",
    "y = df[[\"target\"]]"
   ]
  },
  {
   "cell_type": "code",
   "execution_count": 259,
   "metadata": {
    "colab": {
     "base_uri": "https://localhost:8080/"
    },
    "id": "BSNwra3e07wI",
    "outputId": "f7cdbe8c-ee72-4757-c28a-4c6b5ae38040",
    "pycharm": {
     "name": "#%%\n"
    }
   },
   "outputs": [
    {
     "data": {
      "text/plain": [
       "(200000, 49)"
      ]
     },
     "execution_count": 259,
     "metadata": {},
     "output_type": "execute_result"
    }
   ],
   "source": [
    "X.shape"
   ]
  },
  {
   "cell_type": "code",
   "execution_count": 260,
   "metadata": {},
   "outputs": [
    {
     "data": {
      "text/plain": [
       "Index(['id', 'age_indicator', 'student_id', 'program_id', 'spent_time_total',\n",
       "       'spent_time_to_complete_hw', 'completed_hw', 'failed_hw', 'reworked_hw',\n",
       "       'interacted_hw', 'avg_hw_mark', 'test_with_good_mark',\n",
       "       'test_with_great_mark', 'webinars', 'avg_quiz_result', 'notes',\n",
       "       'hw_leader', 'lessons', 'activity', 'bought_d1', 'bought_d2',\n",
       "       'bought_d3', 'bought_d4', 'bought_d5', 'bought_avg_duration',\n",
       "       'payment_type', 'price', 'auto_payment', 'ABC', 'gender',\n",
       "       'speed_recall', 'm_avg_talk_duration', 'm_avg_duration',\n",
       "       'm_missed_calls', 'm_total_calls', 'm_was_conversations',\n",
       "       'm_total_duration', 'p_avg_talk_duration', 'p_avg_duration',\n",
       "       'p_missed_calls', 'p_total_calls', 'p_was_conversations',\n",
       "       'p_total_duration', 'support_feedback_avg', 'feedback_avg_d1',\n",
       "       'feedback_avg_d2', 'feedback_avg_d3', 'feedback_avg_d4',\n",
       "       'feedback_avg_d5'],\n",
       "      dtype='object')"
      ]
     },
     "execution_count": 260,
     "metadata": {},
     "output_type": "execute_result"
    }
   ],
   "source": [
    "X.columns"
   ]
  },
  {
   "cell_type": "code",
   "execution_count": 261,
   "metadata": {},
   "outputs": [],
   "source": [
    "# X.drop(columns=[\"id\", \"student_id\", \"spent_time_to_complete_hw\"], inplace=True)"
   ]
  },
  {
   "cell_type": "code",
   "execution_count": 262,
   "metadata": {
    "id": "E-LfoARf2WGZ",
    "pycharm": {
     "name": "#%%\n"
    }
   },
   "outputs": [],
   "source": [
    "X_train, X_test, y_train, y_test = train_test_split(X, y, test_size=0.3, random_state=42)"
   ]
  },
  {
   "cell_type": "markdown",
   "metadata": {
    "id": "X_HOvpXy2e3S",
    "pycharm": {
     "name": "#%% md\n"
    }
   },
   "source": [
    "## Обучение модели"
   ]
  },
  {
   "cell_type": "code",
   "execution_count": 263,
   "metadata": {
    "id": "1ypNSGoK2czB",
    "pycharm": {
     "name": "#%%\n"
    }
   },
   "outputs": [],
   "source": [
    "clf = RandomForestClassifier(random_state=0, max_depth=50, n_estimators=500, max_features = 25)"
   ]
  },
  {
   "cell_type": "code",
   "execution_count": null,
   "metadata": {
    "colab": {
     "base_uri": "https://localhost:8080/"
    },
    "id": "8K_JDzCJ2glP",
    "outputId": "2862d0a9-a937-4909-aff0-11e079abdb42",
    "pycharm": {
     "name": "#%%\n"
    }
   },
   "outputs": [
    {
     "name": "stderr",
     "output_type": "stream",
     "text": [
      "C:\\Users\\evvEn\\AppData\\Local\\Temp\\ipykernel_5632\\2395142735.py:1: DataConversionWarning: A column-vector y was passed when a 1d array was expected. Please change the shape of y to (n_samples,), for example using ravel().\n",
      "  clf.fit(X_train, y_train)\n"
     ]
    }
   ],
   "source": [
    "clf.fit(X_train, y_train)"
   ]
  },
  {
   "cell_type": "markdown",
   "metadata": {
    "id": "aqxTaUVm2iiP",
    "pycharm": {
     "name": "#%% md\n"
    }
   },
   "source": [
    "## Оценка точности"
   ]
  },
  {
   "cell_type": "code",
   "execution_count": null,
   "metadata": {
    "id": "aJt5-Okm2h3I",
    "pycharm": {
     "name": "#%%\n"
    }
   },
   "outputs": [],
   "source": [
    "pred = clf.predict(X_test)"
   ]
  },
  {
   "cell_type": "code",
   "execution_count": null,
   "metadata": {
    "colab": {
     "base_uri": "https://localhost:8080/",
     "height": 143
    },
    "id": "1_6H6poY2l-A",
    "outputId": "76149ab1-f8a6-4148-e300-bb523dc370d6",
    "pycharm": {
     "name": "#%%\n"
    }
   },
   "outputs": [],
   "source": [
    "y_test.head(3)"
   ]
  },
  {
   "cell_type": "code",
   "execution_count": null,
   "metadata": {
    "colab": {
     "base_uri": "https://localhost:8080/"
    },
    "id": "Vz2JrMW32m3N",
    "outputId": "3056b516-013c-4b58-e1f1-f203feab9a2a",
    "pycharm": {
     "name": "#%%\n"
    }
   },
   "outputs": [],
   "source": [
    "0.2* recall_score(y_test, pred, average='macro') + 0.8* precision_score(y_test, pred, average='macro')"
   ]
  },
  {
   "cell_type": "code",
   "execution_count": null,
   "metadata": {},
   "outputs": [],
   "source": [
    "clf.classes_"
   ]
  },
  {
   "cell_type": "code",
   "execution_count": null,
   "metadata": {},
   "outputs": [],
   "source": [
    "print(classification_report(y_test, pred))"
   ]
  },
  {
   "cell_type": "code",
   "execution_count": null,
   "metadata": {},
   "outputs": [],
   "source": [
    "importance_df = pd.DataFrame(clf.feature_importances_, columns=[\"value\"],\n",
    "                             index=clf.feature_names_in_).sort_values(by=\"value\", ascending=False)\n",
    "importance_df"
   ]
  },
  {
   "cell_type": "markdown",
   "metadata": {},
   "source": [
    "#Validation"
   ]
  },
  {
   "cell_type": "code",
   "execution_count": null,
   "metadata": {},
   "outputs": [],
   "source": [
    "df_test = pd.read_csv(\"./content/test.csv\")"
   ]
  },
  {
   "cell_type": "code",
   "execution_count": null,
   "metadata": {},
   "outputs": [],
   "source": [
    "mass_object = mass_object[mass_object!=\"target\"]"
   ]
  },
  {
   "cell_type": "code",
   "execution_count": null,
   "metadata": {},
   "outputs": [],
   "source": [
    "df_test = df_test.fillna(-10)"
   ]
  },
  {
   "cell_type": "code",
   "execution_count": null,
   "metadata": {},
   "outputs": [],
   "source": [
    "X_val = df_test.drop(mass_object, axis = 1)"
   ]
  },
  {
   "cell_type": "code",
   "execution_count": null,
   "metadata": {},
   "outputs": [],
   "source": [
    "# X_val.drop(columns=[\"id\", \"student_id\", \"spent_time_to_complete_hw\"], inplace=True)"
   ]
  },
  {
   "cell_type": "code",
   "execution_count": null,
   "metadata": {},
   "outputs": [],
   "source": [
    "pred_test = clf.predict(X_val)"
   ]
  },
  {
   "cell_type": "code",
   "execution_count": null,
   "metadata": {},
   "outputs": [],
   "source": [
    "df_test[\"target\"] = pred_test"
   ]
  },
  {
   "cell_type": "code",
   "execution_count": null,
   "metadata": {},
   "outputs": [],
   "source": [
    "df_test=df_test[[\"id\", \"target\"]]"
   ]
  },
  {
   "cell_type": "code",
   "execution_count": null,
   "metadata": {},
   "outputs": [],
   "source": [
    "df_test.to_csv(\"./content/pred.csv\", index=False)"
   ]
  },
  {
   "cell_type": "code",
   "execution_count": null,
   "metadata": {},
   "outputs": [],
   "source": []
  }
 ],
 "metadata": {
  "colab": {
   "collapsed_sections": [],
   "name": "Нетология_baseline.ipynb",
   "provenance": []
  },
  "kernelspec": {
   "display_name": "Python 3 (ipykernel)",
   "language": "python",
   "name": "python3"
  },
  "language_info": {
   "codemirror_mode": {
    "name": "ipython",
    "version": 3
   },
   "file_extension": ".py",
   "mimetype": "text/x-python",
   "name": "python",
   "nbconvert_exporter": "python",
   "pygments_lexer": "ipython3",
   "version": "3.9.13"
  }
 },
 "nbformat": 4,
 "nbformat_minor": 1
}
