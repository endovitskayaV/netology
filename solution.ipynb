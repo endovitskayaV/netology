{
 "cells": [
  {
   "cell_type": "code",
   "execution_count": 208,
   "metadata": {
    "id": "MTgpe_1quUDs",
    "pycharm": {
     "is_executing": true,
     "name": "#%%\n"
    }
   },
   "outputs": [],
   "source": [
    "import pandas as pd\n",
    "import seaborn as sns\n",
    "import matplotlib.pyplot as plt\n",
    "from sklearn.model_selection import train_test_split\n",
    "from sklearn.ensemble import RandomForestClassifier\n",
    "from sklearn import tree\n",
    "import numpy as np\n",
    "from sklearn.metrics import recall_score, precision_score\n",
    "from sklearn.metrics import classification_report\n",
    "from sklearn import preprocessing\n",
    "\n",
    "import time\n",
    "from datetime import datetime\n",
    "\n",
    "from sklearn.experimental import enable_iterative_imputer\n",
    "from sklearn.impute import IterativeImputer\n",
    "\n",
    "%matplotlib inline\n",
    "\n",
    "from catboost import CatBoostClassifier"
   ]
  },
  {
   "cell_type": "code",
   "execution_count": 209,
   "metadata": {
    "id": "o9N4JbcWudk2",
    "pycharm": {
     "name": "#%%\n"
    }
   },
   "outputs": [],
   "source": [
    "df = pd.read_csv(\"./content/train_enriched.csv\")"
   ]
  },
  {
   "cell_type": "code",
   "execution_count": 210,
   "metadata": {
    "pycharm": {
     "name": "#%%\n"
    }
   },
   "outputs": [],
   "source": [
    "abc_le = preprocessing.LabelEncoder()\n",
    "df[\"ABC\"] = abc_le.fit_transform(df[\"ABC\"])"
   ]
  },
  {
   "cell_type": "code",
   "execution_count": 211,
   "metadata": {
    "pycharm": {
     "name": "#%%\n"
    }
   },
   "outputs": [],
   "source": [
    "df['control_year'] = pd.to_datetime(df['month_id']).dt.strftime(\"%Y\").astype(int)\n",
    "df['control_month'] = pd.to_datetime(df['month_id']).dt.strftime(\"%m\").astype(int)\n",
    "df['control_timestamp'] = df['month_id'].apply(lambda d: time.mktime(datetime.strptime(d, \"%m/%d/%Y\").timetuple()))\n",
    "\n",
    "df['cart_day'] = pd.to_datetime(df['carts_created_at']).dt.strftime(\"%d\").astype(int)\n",
    "df['cart_month'] = pd.to_datetime(df['carts_created_at']).dt.strftime(\"%m\").astype(int)\n",
    "df['cart_year'] = pd.to_datetime(df['carts_created_at']).dt.strftime(\"%Y\").astype(int)\n",
    "df['cart_timestamp'] = df['carts_created_at'].apply(lambda d: time.mktime(datetime.strptime(d, \"%m/%d/%Y\").timetuple()))"
   ]
  },
  {
   "cell_type": "code",
   "execution_count": 212,
   "metadata": {
    "pycharm": {
     "name": "#%%\n"
    }
   },
   "outputs": [],
   "source": [
    "df['promo']=df['promo'].apply(lambda promo: promo =='+').astype(int)"
   ]
  },
  {
   "cell_type": "code",
   "execution_count": 213,
   "metadata": {
    "pycharm": {
     "name": "#%%\n"
    }
   },
   "outputs": [],
   "source": [
    "ct_le = preprocessing.LabelEncoder()\n",
    "df[\"communication_type\"] = ct_le.fit_transform(df[\"communication_type\"])"
   ]
  },
  {
   "cell_type": "code",
   "execution_count": 214,
   "metadata": {
    "pycharm": {
     "name": "#%%\n"
    }
   },
   "outputs": [],
   "source": [
    "os_le = preprocessing.LabelEncoder()\n",
    "df[\"os\"] = os_le.fit_transform(df[\"os\"])\n",
    "\n",
    "browser_le = preprocessing.LabelEncoder()\n",
    "df[\"browser\"] = browser_le.fit_transform(df[\"browser\"])\n",
    "\n",
    "platform_le = preprocessing.LabelEncoder()\n",
    "df[\"platform\"] = platform_le.fit_transform(df[\"platform\"])\n",
    "\n",
    "program_family_price_type_le = preprocessing.LabelEncoder()\n",
    "df[\"program_family_price_type\"] = program_family_price_type_le.fit_transform(df[\"program_family_price_type\"])\n",
    "\n",
    "program_type_le = preprocessing.LabelEncoder()\n",
    "df[\"program_type\"] = program_type_le.fit_transform(df[\"program_type\"])\n",
    "\n",
    "program_starting_soon_le = preprocessing.LabelEncoder()\n",
    "df[\"program_starting_soon\"] = program_starting_soon_le.fit_transform(df[\"program_starting_soon\"])"
   ]
  },
  {
   "cell_type": "code",
   "execution_count": 215,
   "metadata": {
    "pycharm": {
     "name": "#%%\n"
    }
   },
   "outputs": [],
   "source": [
    "df['current_program_starts_on_day'] = pd.to_datetime(df['current_program_starts_on']).dt.strftime(\"%d\")\n",
    "df['current_program_starts_on_month'] = pd.to_datetime(df['current_program_starts_on']).dt.strftime(\"%m\")\n",
    "df['current_program_starts_on_year'] = pd.to_datetime(df['current_program_starts_on']).dt.strftime(\"%Y\")"
   ]
  },
  {
   "cell_type": "code",
   "execution_count": 216,
   "metadata": {
    "pycharm": {
     "name": "#%%\n"
    }
   },
   "outputs": [],
   "source": [
    "def to_timestamp(d):\n",
    "    if not isinstance(d, float):\n",
    "        d = time.mktime(datetime.strptime(d, \"%Y-%m-%d\").timetuple())\n",
    "    return d"
   ]
  },
  {
   "cell_type": "code",
   "execution_count": 217,
   "metadata": {
    "pycharm": {
     "name": "#%%\n"
    }
   },
   "outputs": [],
   "source": [
    "df['current_program_starts_on_timestamp'] = df['current_program_starts_on'].apply(lambda d: to_timestamp(d))"
   ]
  },
  {
   "cell_type": "code",
   "execution_count": 218,
   "metadata": {
    "pycharm": {
     "name": "#%%\n"
    }
   },
   "outputs": [
    {
     "data": {
      "text/plain": [
       "0         1.602450e+09\n",
       "1                  NaN\n",
       "2         1.659560e+09\n",
       "3         1.664140e+09\n",
       "4                  NaN\n",
       "              ...     \n",
       "199995             NaN\n",
       "199996    1.650834e+09\n",
       "199997    1.660165e+09\n",
       "199998             NaN\n",
       "199999    1.660252e+09\n",
       "Name: current_program_starts_on_timestamp, Length: 200000, dtype: float64"
      ]
     },
     "execution_count": 218,
     "metadata": {},
     "output_type": "execute_result"
    }
   ],
   "source": [
    "df['current_program_starts_on_timestamp']"
   ]
  },
  {
   "cell_type": "code",
   "execution_count": 219,
   "metadata": {
    "pycharm": {
     "name": "#%%\n"
    }
   },
   "outputs": [],
   "source": [
    "def transform_duration(row):\n",
    "    program_duration = str(row.program_duration)\n",
    "    splt =  program_duration.split(' ')\n",
    "    unit = splt[1][0:3]\n",
    "    number = int(splt[0])\n",
    "    if unit =='мес':\n",
    "        number=number * 4\n",
    "    row['program_duration'] = number\n",
    "    return row\n"
   ]
  },
  {
   "cell_type": "code",
   "execution_count": 220,
   "metadata": {
    "pycharm": {
     "name": "#%%\n"
    }
   },
   "outputs": [],
   "source": [
    "df[['program_duration']]=df[['program_duration']].fillna('0 недель')\n",
    "df=df.apply(lambda row: transform_duration(row), axis=1)"
   ]
  },
  {
   "cell_type": "code",
   "execution_count": 221,
   "metadata": {
    "pycharm": {
     "name": "#%%\n"
    }
   },
   "outputs": [],
   "source": [
    "def replace_country(row):\n",
    "    country=row['country']\n",
    "    if country in ['Россия', '<span>Россия</span>', 'Росссия','РФ']:\n",
    "         row['country']= \"Россия\"\n",
    "    return row"
   ]
  },
  {
   "cell_type": "code",
   "execution_count": 222,
   "metadata": {
    "pycharm": {
     "name": "#%%\n"
    }
   },
   "outputs": [],
   "source": [
    "# df = df.apply(lambda row: replace_country(row), axis=1)"
   ]
  },
  {
   "cell_type": "code",
   "execution_count": 223,
   "metadata": {
    "pycharm": {
     "name": "#%%\n"
    }
   },
   "outputs": [],
   "source": [
    "# country_le = preprocessing.LabelEncoder()\n",
    "# df[\"country\"] = country_le.fit_transform(df[\"country\"])"
   ]
  },
  {
   "cell_type": "code",
   "execution_count": 224,
   "metadata": {
    "pycharm": {
     "name": "#%%\n"
    }
   },
   "outputs": [
    {
     "name": "stdout",
     "output_type": "stream",
     "text": [
      "<class 'pandas.core.frame.DataFrame'>\n",
      "RangeIndex: 200000 entries, 0 to 199999\n",
      "Data columns (total 78 columns):\n",
      " #   Column                               Non-Null Count   Dtype  \n",
      "---  ------                               --------------   -----  \n",
      " 0   ABC                                  200000 non-null  int64  \n",
      " 1   activity                             97599 non-null   float64\n",
      " 2   age_indicator                        159123 non-null  float64\n",
      " 3   auto_payment                         200000 non-null  int64  \n",
      " 4   available_program_starts_on          188693 non-null  object \n",
      " 5   avg_hw_mark                          44496 non-null   float64\n",
      " 6   avg_quiz_result                      16259 non-null   float64\n",
      " 7   bought_avg_duration                  10359 non-null   float64\n",
      " 8   bought_d1                            200000 non-null  int64  \n",
      " 9   bought_d2                            200000 non-null  int64  \n",
      " 10  bought_d3                            200000 non-null  int64  \n",
      " 11  bought_d4                            200000 non-null  int64  \n",
      " 12  bought_d5                            200000 non-null  int64  \n",
      " 13  browser                              200000 non-null  int64  \n",
      " 14  carts_created_at                     200000 non-null  object \n",
      " 15  city                                 13592 non-null   object \n",
      " 16  communication_type                   200000 non-null  int64  \n",
      " 17  completed_hw                         97599 non-null   float64\n",
      " 18  country                              12944 non-null   object \n",
      " 19  current_program_starts_on            188693 non-null  object \n",
      " 20  failed_hw                            97599 non-null   float64\n",
      " 21  feedback_avg_d1                      48496 non-null   float64\n",
      " 22  feedback_avg_d2                      14805 non-null   float64\n",
      " 23  feedback_avg_d3                      17778 non-null   float64\n",
      " 24  feedback_avg_d4                      25076 non-null   float64\n",
      " 25  feedback_avg_d5                      15733 non-null   float64\n",
      " 26  gender                               199940 non-null  float64\n",
      " 27  hw_leader                            97599 non-null   float64\n",
      " 28  id                                   200000 non-null  int64  \n",
      " 29  interacted_hw                        97599 non-null   float64\n",
      " 30  lessons                              97599 non-null   float64\n",
      " 31  m_avg_duration                       45764 non-null   float64\n",
      " 32  m_avg_talk_duration                  51537 non-null   float64\n",
      " 33  m_missed_calls                       51537 non-null   float64\n",
      " 34  m_total_calls                        51537 non-null   float64\n",
      " 35  m_total_duration                     51537 non-null   float64\n",
      " 36  m_was_conversations                  51537 non-null   float64\n",
      " 37  month_id                             200000 non-null  object \n",
      " 38  notes                                97599 non-null   float64\n",
      " 39  os                                   200000 non-null  int64  \n",
      " 40  p_avg_duration                       13488 non-null   float64\n",
      " 41  p_avg_talk_duration                  16453 non-null   float64\n",
      " 42  p_missed_calls                       16453 non-null   float64\n",
      " 43  p_total_calls                        16453 non-null   float64\n",
      " 44  p_total_duration                     16453 non-null   float64\n",
      " 45  p_was_conversations                  16453 non-null   float64\n",
      " 46  payment_type                         200000 non-null  int64  \n",
      " 47  platform                             200000 non-null  int64  \n",
      " 48  price                                200000 non-null  float64\n",
      " 49  program_duration                     200000 non-null  int64  \n",
      " 50  program_family_main_direction_id     200000 non-null  int64  \n",
      " 51  program_family_price_type            200000 non-null  int64  \n",
      " 52  program_id                           200000 non-null  int64  \n",
      " 53  program_price_type                   138691 non-null  object \n",
      " 54  program_starting_soon                200000 non-null  int64  \n",
      " 55  program_type                         200000 non-null  int64  \n",
      " 56  promo                                200000 non-null  int64  \n",
      " 57  reworked_hw                          97599 non-null   float64\n",
      " 58  speed_recall                         21880 non-null   float64\n",
      " 59  spent_time_to_complete_hw            42467 non-null   float64\n",
      " 60  spent_time_total                     86309 non-null   float64\n",
      " 61  student_id                           200000 non-null  int64  \n",
      " 62  support_feedback_avg                 37557 non-null   float64\n",
      " 63  target                               200000 non-null  int64  \n",
      " 64  test_with_good_mark                  97599 non-null   float64\n",
      " 65  test_with_great_mark                 97599 non-null   float64\n",
      " 66  webinars                             97599 non-null   float64\n",
      " 67  control_year                         200000 non-null  int64  \n",
      " 68  control_month                        200000 non-null  int64  \n",
      " 69  control_timestamp                    200000 non-null  float64\n",
      " 70  cart_day                             200000 non-null  int64  \n",
      " 71  cart_month                           200000 non-null  int64  \n",
      " 72  cart_year                            200000 non-null  int64  \n",
      " 73  cart_timestamp                       200000 non-null  float64\n",
      " 74  current_program_starts_on_day        188693 non-null  object \n",
      " 75  current_program_starts_on_month      188693 non-null  object \n",
      " 76  current_program_starts_on_year       188693 non-null  object \n",
      " 77  current_program_starts_on_timestamp  188693 non-null  float64\n",
      "dtypes: float64(41), int64(27), object(10)\n",
      "memory usage: 119.0+ MB\n"
     ]
    }
   ],
   "source": [
    "df.info()"
   ]
  },
  {
   "cell_type": "code",
   "execution_count": 225,
   "metadata": {
    "colab": {
     "base_uri": "https://localhost:8080/"
    },
    "id": "T5wEuIQ50ibJ",
    "outputId": "a00aaeab-3343-42b2-d797-e37186f150e7",
    "pycharm": {
     "name": "#%%\n"
    }
   },
   "outputs": [
    {
     "data": {
      "text/plain": [
       "array([dtype('O'), dtype('O'), dtype('O'), dtype('O'), dtype('O'),\n",
       "       dtype('O'), dtype('O'), dtype('O'), dtype('O'), dtype('O')],\n",
       "      dtype=object)"
      ]
     },
     "execution_count": 225,
     "metadata": {},
     "output_type": "execute_result"
    }
   ],
   "source": [
    "df.dtypes[df.dtypes == \"object\"].values"
   ]
  },
  {
   "cell_type": "code",
   "execution_count": 226,
   "metadata": {
    "id": "Poa1_MKE08xs",
    "pycharm": {
     "name": "#%%\n"
    }
   },
   "outputs": [],
   "source": [
    "mass_object = df.dtypes[df.dtypes == \"object\"].index.values"
   ]
  },
  {
   "cell_type": "code",
   "execution_count": 227,
   "metadata": {
    "id": "mAhVoVTj1l-D",
    "pycharm": {
     "name": "#%%\n"
    }
   },
   "outputs": [
    {
     "data": {
      "text/plain": [
       "array(['available_program_starts_on', 'carts_created_at', 'city',\n",
       "       'country', 'current_program_starts_on', 'month_id',\n",
       "       'program_price_type', 'current_program_starts_on_day',\n",
       "       'current_program_starts_on_month',\n",
       "       'current_program_starts_on_year'], dtype=object)"
      ]
     },
     "execution_count": 227,
     "metadata": {},
     "output_type": "execute_result"
    }
   ],
   "source": [
    "mass_object"
   ]
  },
  {
   "cell_type": "code",
   "execution_count": 228,
   "metadata": {
    "pycharm": {
     "name": "#%%\n"
    }
   },
   "outputs": [],
   "source": [
    "# df = df.drop(['available_program_starts_on', 'carts_created_at', 'city',\n",
    "#        'current_program_starts_on', 'month_id',], axis = 1)"
   ]
  },
  {
   "cell_type": "code",
   "execution_count": null,
   "outputs": [],
   "source": [
    "x_feats=[\"program_id\",\n",
    "\"price\",\n",
    " \"cart_timestamp\",\n",
    "\"control_month\",\n",
    "\"student_id\",\n",
    "\"age_indicator\",\n",
    "\"feedback_avg_d1\",\n",
    "\"feedback_avg_d3\",\n",
    "\"feedback_avg_d5\",\n",
    "\"feedback_avg_d4\",\n",
    "\"feedback_avg_d2\",\n",
    "\"control_year\",\n",
    "\"support_feedback_avg\",\n",
    "\"ABC\",\n",
    "\"promo\" , \n",
    "       'bought_d1', 'bought_d2', 'bought_d3', 'bought_d4',\n",
    "       'bought_d5', 'bought_avg_duration',\"m_was_conversations\",\"p_was_conversations\",\n",
    "  \n",
    "       \"program_family_main_direction_id\",\n",
    "       \"program_type\", \"program_starting_soon\",\n",
    "#         \"current_program_starts_on_day\", \"current_program_starts_on_month\", \"current_program_starts_on_year\",\n",
    "       \"current_program_starts_on_timestamp\", \n",
    "         \"time_diff\"\n",
    "     ]\n",
    "feats=x_feats+[   \"target\" ]"
   ],
   "metadata": {
    "collapsed": false,
    "pycharm": {
     "name": "#%%\n"
    }
   }
  },
  {
   "cell_type": "code",
   "execution_count": null,
   "outputs": [],
   "source": [
    "feats"
   ],
   "metadata": {
    "collapsed": false,
    "pycharm": {
     "name": "#%%\n"
    }
   }
  },
  {
   "cell_type": "code",
   "execution_count": null,
   "outputs": [],
   "source": [
    "df.info()"
   ],
   "metadata": {
    "collapsed": false,
    "pycharm": {
     "name": "#%%\n"
    }
   }
  },
  {
   "cell_type": "code",
   "execution_count": null,
   "outputs": [],
   "source": [
    "df = df.fillna(0)\n",
    "\n",
    "# imp = IterativeImputer(initial_strategy='median')\n",
    "# df = pd.DataFrame(data=imp.fit_transform(df), columns=df.columns)\n",
    "\n",
    "#df = df.dropna()"
   ],
   "metadata": {
    "collapsed": false,
    "pycharm": {
     "name": "#%%\n"
    }
   }
  },
  {
   "cell_type": "code",
   "execution_count": null,
   "outputs": [],
   "source": [
    "df[\"time_diff\"] = df[\"current_program_starts_on_timestamp\"] - df[\"cart_timestamp\"]"
   ],
   "metadata": {
    "collapsed": false,
    "pycharm": {
     "name": "#%%\n"
    }
   }
  },
  {
   "cell_type": "code",
   "execution_count": null,
   "outputs": [],
   "source": [
    "df=df[feats]"
   ],
   "metadata": {
    "collapsed": false,
    "pycharm": {
     "name": "#%%\n"
    }
   }
  },
  {
   "cell_type": "code",
   "execution_count": null,
   "outputs": [],
   "source": [
    "# df['current_program_starts_on_day'] = df['current_program_starts_on_day'].astype(int)\n",
    "# df['current_program_starts_on_month'] = df['current_program_starts_on_month'].astype(int)\n",
    "# df['current_program_starts_on_year'] = df['current_program_starts_on_year'].astype(int)"
   ],
   "metadata": {
    "collapsed": false,
    "pycharm": {
     "name": "#%%\n"
    }
   }
  },
  {
   "cell_type": "code",
   "execution_count": null,
   "outputs": [],
   "source": [
    "df.info()"
   ],
   "metadata": {
    "collapsed": false,
    "pycharm": {
     "name": "#%%\n"
    }
   }
  },
  {
   "cell_type": "code",
   "execution_count": null,
   "outputs": [],
   "source": [
    "df"
   ],
   "metadata": {
    "collapsed": false,
    "pycharm": {
     "name": "#%%\n"
    }
   }
  },
  {
   "cell_type": "code",
   "execution_count": null,
   "outputs": [],
   "source": [
    "X =  df.drop([\"target\"], axis = 1)\n",
    "y = df[[\"target\"]]"
   ],
   "metadata": {
    "collapsed": false,
    "pycharm": {
     "name": "#%%\n"
    }
   }
  },
  {
   "cell_type": "code",
   "execution_count": null,
   "outputs": [],
   "source": [
    "X.columns"
   ],
   "metadata": {
    "collapsed": false,
    "pycharm": {
     "name": "#%%\n"
    }
   }
  },
  {
   "cell_type": "code",
   "execution_count": null,
   "outputs": [],
   "source": [
    "X_train, X_test, y_train, y_test = train_test_split(X, y, test_size=0.3, random_state=42)"
   ],
   "metadata": {
    "collapsed": false,
    "pycharm": {
     "name": "#%%\n"
    }
   }
  },
  {
   "cell_type": "code",
   "execution_count": null,
   "outputs": [],
   "source": [
    "clf = RandomForestClassifier(random_state=0, max_depth=50, n_estimators=500)"
   ],
   "metadata": {
    "collapsed": false,
    "pycharm": {
     "name": "#%%\n"
    }
   }
  },
  {
   "cell_type": "code",
   "execution_count": null,
   "outputs": [],
   "source": [
    "clf.fit(X_train, y_train)"
   ],
   "metadata": {
    "collapsed": false,
    "pycharm": {
     "name": "#%%\n"
    }
   }
  },
  {
   "cell_type": "code",
   "execution_count": null,
   "outputs": [],
   "source": [
    "pred = clf.predict(X_test)"
   ],
   "metadata": {
    "collapsed": false,
    "pycharm": {
     "name": "#%%\n"
    }
   }
  },
  {
   "cell_type": "code",
   "execution_count": null,
   "outputs": [],
   "source": [
    "0.2* recall_score(y_test, pred, average='macro') + 0.8* precision_score(y_test, pred, average='macro')"
   ],
   "metadata": {
    "collapsed": false,
    "pycharm": {
     "name": "#%%\n"
    }
   }
  },
  {
   "cell_type": "code",
   "execution_count": null,
   "outputs": [],
   "source": [
    "clf.classes_"
   ],
   "metadata": {
    "collapsed": false,
    "pycharm": {
     "name": "#%%\n"
    }
   }
  },
  {
   "cell_type": "code",
   "execution_count": null,
   "outputs": [],
   "source": [
    "print(classification_report(y_test, pred))"
   ],
   "metadata": {
    "collapsed": false,
    "pycharm": {
     "name": "#%%\n"
    }
   }
  },
  {
   "cell_type": "code",
   "execution_count": null,
   "outputs": [],
   "source": [
    "importance_df = pd.DataFrame(clf.feature_importances_, columns=[\"value\"],\n",
    "                             index=clf.feature_names_in_).sort_values(by=\"value\", ascending=False)\n",
    "importance_df"
   ],
   "metadata": {
    "collapsed": false,
    "pycharm": {
     "name": "#%%\n"
    }
   }
  },
  {
   "cell_type": "markdown",
   "source": [
    "#Validation"
   ],
   "metadata": {
    "collapsed": false,
    "pycharm": {
     "name": "#%% md\n"
    }
   }
  },
  {
   "cell_type": "code",
   "execution_count": null,
   "outputs": [],
   "source": [
    "df_test = pd.read_csv(\"./content/test_enriched.csv\")"
   ],
   "metadata": {
    "collapsed": false,
    "pycharm": {
     "name": "#%%\n"
    }
   }
  },
  {
   "cell_type": "code",
   "execution_count": null,
   "outputs": [],
   "source": [
    "df_test[\"ABC\"] = abc_le.transform(df_test[\"ABC\"])"
   ],
   "metadata": {
    "collapsed": false,
    "pycharm": {
     "name": "#%%\n"
    }
   }
  },
  {
   "cell_type": "code",
   "execution_count": null,
   "outputs": [],
   "source": [
    "df_test['control_year'] = pd.to_datetime(df_test['month_id']).dt.strftime(\"%Y\").astype(int)\n",
    "df_test['control_month'] = pd.to_datetime(df_test['month_id']).dt.strftime(\"%m\").astype(int)\n",
    "df_test['control_timestamp'] = df_test['month_id'].apply(lambda d: time.mktime(datetime.strptime(d, \"%m/%d/%Y\").timetuple()))\n",
    "\n",
    "df_test['cart_day'] = pd.to_datetime(df_test['carts_created_at']).dt.strftime(\"%d\").astype(int)\n",
    "df_test['cart_month'] = pd.to_datetime(df_test['carts_created_at']).dt.strftime(\"%m\").astype(int)\n",
    "df_test['cart_year'] = pd.to_datetime(df_test['carts_created_at']).dt.strftime(\"%Y\").astype(int)\n",
    "df_test['cart_timestamp'] = df_test['carts_created_at'].apply(lambda d: time.mktime(datetime.strptime(d, \"%m/%d/%Y\").timetuple()))"
   ],
   "metadata": {
    "collapsed": false,
    "pycharm": {
     "name": "#%%\n"
    }
   }
  },
  {
   "cell_type": "code",
   "execution_count": null,
   "outputs": [],
   "source": [
    "df_test['promo']=df['promo'].apply(lambda promo: promo =='+').astype(int)"
   ],
   "metadata": {
    "collapsed": false,
    "pycharm": {
     "name": "#%%\n"
    }
   }
  },
  {
   "cell_type": "code",
   "execution_count": null,
   "outputs": [],
   "source": [
    "df_test[\"communication_type\"] = ct_le.transform(df_test[\"communication_type\"])"
   ],
   "metadata": {
    "collapsed": false,
    "pycharm": {
     "name": "#%%\n"
    }
   }
  },
  {
   "cell_type": "code",
   "execution_count": null,
   "outputs": [],
   "source": [
    "df_test[\"os\"] = os_le.transform(df_test[\"os\"])\n",
    "df_test[\"platform\"] = platform_le.transform(df_test[\"platform\"])"
   ],
   "metadata": {
    "collapsed": false,
    "pycharm": {
     "name": "#%%\n"
    }
   }
  },
  {
   "cell_type": "code",
   "execution_count": null,
   "outputs": [],
   "source": [
    "df_test[\"program_type\"] = program_type_le.transform(df_test[\"program_type\"])\n",
    "df_test[\"program_starting_soon\"] = program_starting_soon_le.transform(df_test[\"program_starting_soon\"])"
   ],
   "metadata": {
    "collapsed": false,
    "pycharm": {
     "name": "#%%\n"
    }
   }
  },
  {
   "cell_type": "code",
   "execution_count": null,
   "outputs": [],
   "source": [
    "program_family_price_type_le_dict = dict(zip(program_family_price_type_le.classes_, program_family_price_type_le.transform(program_family_price_type_le.classes_)))\n",
    "df_test['program_family_price_type'] = df_test['program_family_price_type'].apply(lambda program_family_price_type: program_family_price_type_le_dict.get(program_family_price_type, -1))"
   ],
   "metadata": {
    "collapsed": false,
    "pycharm": {
     "name": "#%%\n"
    }
   }
  },
  {
   "cell_type": "code",
   "execution_count": null,
   "outputs": [],
   "source": [
    "df_test['current_program_starts_on_day'] = pd.to_datetime(df_test['current_program_starts_on']).dt.strftime(\"%d\")\n",
    "df_test['current_program_starts_on_month'] = pd.to_datetime(df_test['current_program_starts_on']).dt.strftime(\"%m\")\n",
    "df_test['current_program_starts_on_year'] = pd.to_datetime(df_test['current_program_starts_on']).dt.strftime(\"%Y\")"
   ],
   "metadata": {
    "collapsed": false,
    "pycharm": {
     "name": "#%%\n"
    }
   }
  },
  {
   "cell_type": "code",
   "execution_count": null,
   "outputs": [],
   "source": [
    "df_test['current_program_starts_on_timestamp'] = df_test['current_program_starts_on'].apply(lambda d: to_timestamp(d))"
   ],
   "metadata": {
    "collapsed": false,
    "pycharm": {
     "name": "#%%\n"
    }
   }
  },
  {
   "cell_type": "code",
   "execution_count": null,
   "outputs": [],
   "source": [
    "df_test[['program_duration']]=df_test[['program_duration']].fillna('0 недель')\n",
    "df_test=df_test.apply(lambda row: transform_duration(row), axis=1)"
   ],
   "metadata": {
    "collapsed": false,
    "pycharm": {
     "name": "#%%\n"
    }
   }
  },
  {
   "cell_type": "code",
   "execution_count": null,
   "outputs": [],
   "source": [
    "browser_le_dict = dict(zip(browser_le.classes_, browser_le.transform(browser_le.classes_)))\n",
    "df_test['browser'] = df_test['browser'].apply(lambda browser: browser_le_dict.get(browser, -1))"
   ],
   "metadata": {
    "collapsed": false,
    "pycharm": {
     "name": "#%%\n"
    }
   }
  },
  {
   "cell_type": "code",
   "execution_count": null,
   "outputs": [],
   "source": [],
   "metadata": {
    "collapsed": false,
    "pycharm": {
     "name": "#%%\n"
    }
   }
  },
  {
   "cell_type": "code",
   "execution_count": null,
   "outputs": [],
   "source": [
    "df_test = df_test.apply(lambda row: replace_country(row), axis=1)"
   ],
   "metadata": {
    "collapsed": false,
    "pycharm": {
     "name": "#%%\n"
    }
   }
  },
  {
   "cell_type": "code",
   "execution_count": null,
   "outputs": [],
   "source": [
    "# df_test[\"country\"] = country_le.transform(df_test[\"country\"])"
   ],
   "metadata": {
    "collapsed": false,
    "pycharm": {
     "name": "#%%\n"
    }
   }
  },
  {
   "cell_type": "code",
   "execution_count": null,
   "outputs": [],
   "source": [
    "df_test.info()"
   ],
   "metadata": {
    "collapsed": false,
    "pycharm": {
     "name": "#%%\n"
    }
   }
  },
  {
   "cell_type": "code",
   "execution_count": null,
   "outputs": [],
   "source": [
    "mass_object_v = mass_object[mass_object!=\"target\"]"
   ],
   "metadata": {
    "collapsed": false,
    "pycharm": {
     "name": "#%%\n"
    }
   }
  },
  {
   "cell_type": "code",
   "execution_count": null,
   "outputs": [],
   "source": [
    "# X_val = df_test.drop(mass_object_v, axis = 1)"
   ],
   "metadata": {
    "collapsed": false,
    "pycharm": {
     "name": "#%%\n"
    }
   }
  },
  {
   "cell_type": "code",
   "execution_count": null,
   "outputs": [],
   "source": [
    "df_test = df_test.fillna(0)"
   ],
   "metadata": {
    "collapsed": false,
    "pycharm": {
     "name": "#%%\n"
    }
   }
  },
  {
   "cell_type": "code",
   "execution_count": null,
   "outputs": [],
   "source": [
    "df_test[\"time_diff\"] = df_test[\"current_program_starts_on_timestamp\"] - df_test[\"cart_timestamp\"]"
   ],
   "metadata": {
    "collapsed": false,
    "pycharm": {
     "name": "#%%\n"
    }
   }
  },
  {
   "cell_type": "code",
   "execution_count": null,
   "outputs": [],
   "source": [
    "X_val=df_test[x_feats]"
   ],
   "metadata": {
    "collapsed": false,
    "pycharm": {
     "name": "#%%\n"
    }
   }
  },
  {
   "cell_type": "code",
   "execution_count": 267,
   "metadata": {},
   "outputs": [],
   "source": [
    "X_val=df_test[x_feats]"
   ]
  },
  {
   "cell_type": "code",
   "execution_count": 268,
   "metadata": {
    "pycharm": {
     "name": "#%%\n"
    }
   },
   "outputs": [],
   "source": [
    "pred_test = clf.predict(X_val)"
   ]
  },
  {
   "cell_type": "code",
   "execution_count": 269,
   "metadata": {
    "pycharm": {
     "name": "#%%\n"
    }
   },
   "outputs": [],
   "source": [
    "df_test[\"target\"] = pred_test"
   ]
  },
  {
   "cell_type": "code",
   "execution_count": 270,
   "metadata": {
    "pycharm": {
     "name": "#%%\n"
    }
   },
   "outputs": [],
   "source": [
    "df_test=df_test[[\"id\", \"target\"]]"
   ]
  },
  {
   "cell_type": "code",
   "execution_count": 271,
   "metadata": {
    "pycharm": {
     "name": "#%%\n"
    }
   },
   "outputs": [],
   "source": [
    "df_test.to_csv(\"./content/pred.csv\", index=False)"
   ]
  },
  {
   "cell_type": "code",
   "execution_count": null,
   "metadata": {
    "pycharm": {
     "name": "#%%\n"
    }
   },
   "outputs": [],
   "source": []
  }
 ],
 "metadata": {
  "colab": {
   "collapsed_sections": [],
   "name": "Нетология_baseline.ipynb",
   "provenance": []
  },
  "kernelspec": {
   "display_name": "Python 3 (ipykernel)",
   "language": "python",
   "name": "python3"
  },
  "language_info": {
   "codemirror_mode": {
    "name": "ipython",
    "version": 3
   },
   "file_extension": ".py",
   "mimetype": "text/x-python",
   "name": "python",
   "nbconvert_exporter": "python",
   "pygments_lexer": "ipython3",
   "version": "3.9.13"
  }
 },
 "nbformat": 4,
 "nbformat_minor": 1
}