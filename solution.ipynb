{
 "cells": [
  {
   "cell_type": "code",
   "execution_count": 2119,
   "metadata": {
    "id": "MTgpe_1quUDs",
    "pycharm": {
     "is_executing": true,
     "name": "#%%\n"
    }
   },
   "outputs": [],
   "source": [
    "import pandas as pd\n",
    "import seaborn as sns\n",
    "import matplotlib.pyplot as plt\n",
    "from sklearn.model_selection import train_test_split\n",
    "from sklearn.ensemble import RandomForestClassifier\n",
    "from sklearn import tree\n",
    "import numpy as np\n",
    "from sklearn.metrics import recall_score, precision_score\n",
    "from sklearn.metrics import classification_report\n",
    "from sklearn import preprocessing\n",
    "\n",
    "import time\n",
    "from datetime import datetime\n",
    "\n",
    "from sklearn.experimental import enable_iterative_imputer\n",
    "from sklearn.impute import IterativeImputer\n",
    "\n",
    "%matplotlib inline\n",
    "\n",
    "from catboost import CatBoostClassifier"
   ]
  },
  {
   "cell_type": "code",
   "execution_count": 2120,
   "metadata": {
    "id": "o9N4JbcWudk2",
    "pycharm": {
     "name": "#%%\n"
    }
   },
   "outputs": [],
   "source": [
    "df = pd.read_csv(\"./content/train_enriched.csv\")"
   ]
  },
  {
   "cell_type": "code",
   "execution_count": 2121,
   "metadata": {
    "pycharm": {
     "name": "#%%\n"
    }
   },
   "outputs": [],
   "source": [
    "abc_le = preprocessing.LabelEncoder()\n",
    "df[\"ABC\"] = abc_le.fit_transform(df[\"ABC\"])"
   ]
  },
  {
   "cell_type": "code",
   "execution_count": 2122,
   "metadata": {
    "pycharm": {
     "name": "#%%\n"
    }
   },
   "outputs": [],
   "source": [
    "df['control_year'] = pd.to_datetime(df['month_id']).dt.strftime(\"%Y\").astype(int)\n",
    "df['control_month'] = pd.to_datetime(df['month_id']).dt.strftime(\"%m\").astype(int)\n",
    "df['control_timestamp'] = df['month_id'].apply(lambda d: time.mktime(datetime.strptime(d, \"%m/%d/%Y\").timetuple()))\n",
    "\n",
    "df['cart_day'] = pd.to_datetime(df['carts_created_at']).dt.strftime(\"%d\").astype(int)\n",
    "df['cart_month'] = pd.to_datetime(df['carts_created_at']).dt.strftime(\"%m\").astype(int)\n",
    "df['cart_year'] = pd.to_datetime(df['carts_created_at']).dt.strftime(\"%Y\").astype(int)\n",
    "df['cart_timestamp'] = df['carts_created_at'].apply(lambda d: time.mktime(datetime.strptime(d, \"%m/%d/%Y\").timetuple()))"
   ]
  },
  {
   "cell_type": "code",
   "execution_count": 2123,
   "metadata": {
    "pycharm": {
     "name": "#%%\n"
    }
   },
   "outputs": [],
   "source": [
    "df['promo']=df['promo'].apply(lambda promo: promo =='+').astype(int)"
   ]
  },
  {
   "cell_type": "code",
   "execution_count": 2124,
   "metadata": {
    "pycharm": {
     "name": "#%%\n"
    }
   },
   "outputs": [],
   "source": [
    "ct_le = preprocessing.LabelEncoder()\n",
    "df[\"communication_type\"] = ct_le.fit_transform(df[\"communication_type\"])"
   ]
  },
  {
   "cell_type": "code",
   "execution_count": null,
   "outputs": [],
   "source": [
    "cats = ['Windows', 'Mac OS X', 'iOS', 'Android', 'Linux', 'Ubuntu',\n",
    "       'Chrome OS', 'Fedora']\n",
    "def os_trans(row):\n",
    "    os = row.os\n",
    "    if os == 'iOS':\n",
    "        os='Mac OS X'\n",
    "    elif os=='Ubuntu'    or os=='Fedora':\n",
    "        os='Linux'   \n",
    "    row[\"os\"]=os\n",
    "    return row"
   ],
   "metadata": {
    "collapsed": false,
    "pycharm": {
     "name": "#%%\n"
    }
   }
  },
  {
   "cell_type": "code",
   "execution_count": null,
   "outputs": [],
   "source": [
    "os_le = preprocessing.LabelEncoder()\n",
    "df=df.apply(lambda row: os_trans(row), axis=1)\n",
    "df[\"os\"] = os_le.fit_transform(df[\"os\"])\n",
    "\n",
    "browser_le = preprocessing.LabelEncoder()\n",
    "df[\"browser\"] = browser_le.fit_transform(df[\"browser\"])\n",
    "\n",
    "platform_le = preprocessing.LabelEncoder()\n",
    "df.platform=df.platform.apply(lambda p: 'mobile' if p =='tablet' else p)\n",
    "df[\"platform\"] = platform_le.fit_transform(df[\"platform\"])\n",
    "\n",
    "program_family_price_type_le = preprocessing.LabelEncoder()\n",
    "df[\"program_family_price_type\"] = program_family_price_type_le.fit_transform(df[\"program_family_price_type\"])\n",
    "\n",
    "program_type_le = preprocessing.LabelEncoder()\n",
    "df[\"program_type\"] = program_type_le.fit_transform(df[\"program_type\"])\n",
    "\n",
    "program_starting_soon_le = preprocessing.LabelEncoder()\n",
    "df[\"program_starting_soon\"] = program_starting_soon_le.fit_transform(df[\"program_starting_soon\"])"
   ],
   "metadata": {
    "collapsed": false,
    "pycharm": {
     "name": "#%%\n"
    }
   }
  },
  {
   "cell_type": "code",
   "execution_count": null,
   "outputs": [],
   "source": [
    "df['current_program_starts_on_day'] = pd.to_datetime(df['current_program_starts_on']).dt.strftime(\"%d\")\n",
    "df['current_program_starts_on_month'] = pd.to_datetime(df['current_program_starts_on']).dt.strftime(\"%m\")\n",
    "df['current_program_starts_on_year'] = pd.to_datetime(df['current_program_starts_on']).dt.strftime(\"%Y\")"
   ],
   "metadata": {
    "collapsed": false,
    "pycharm": {
     "name": "#%%\n"
    }
   }
  },
  {
   "cell_type": "code",
   "execution_count": null,
   "outputs": [],
   "source": [
    "def to_timestamp(d):\n",
    "    if not isinstance(d, float):\n",
    "        d = time.mktime(datetime.strptime(d, \"%Y-%m-%d\").timetuple())\n",
    "    return d"
   ],
   "metadata": {
    "collapsed": false,
    "pycharm": {
     "name": "#%%\n"
    }
   }
  },
  {
   "cell_type": "code",
   "execution_count": null,
   "outputs": [],
   "source": [
    "df['current_program_starts_on_timestamp'] = df['current_program_starts_on'].apply(lambda d: to_timestamp(d))"
   ],
   "metadata": {
    "collapsed": false,
    "pycharm": {
     "name": "#%%\n"
    }
   }
  },
  {
   "cell_type": "code",
   "execution_count": null,
   "outputs": [],
   "source": [
    "df['current_program_starts_on_timestamp']"
   ],
   "metadata": {
    "collapsed": false,
    "pycharm": {
     "name": "#%%\n"
    }
   }
  },
  {
   "cell_type": "code",
   "execution_count": null,
   "outputs": [],
   "source": [
    "def transform_duration(row):\n",
    "    program_duration = str(row.program_duration)\n",
    "    splt =  program_duration.split(' ')\n",
    "    unit = splt[1][0:3]\n",
    "    number = int(splt[0])\n",
    "    if unit =='мес':\n",
    "        number=number * 4\n",
    "    row['program_duration'] = number\n",
    "    return row\n"
   ],
   "metadata": {
    "collapsed": false,
    "pycharm": {
     "name": "#%%\n"
    }
   }
  },
  {
   "cell_type": "code",
   "execution_count": null,
   "outputs": [],
   "source": [
    "df[['program_duration']]=df[['program_duration']].fillna('0 недель')\n",
    "df=df.apply(lambda row: transform_duration(row), axis=1)"
   ],
   "metadata": {
    "collapsed": false,
    "pycharm": {
     "name": "#%%\n"
    }
   }
  },
  {
   "cell_type": "code",
   "execution_count": null,
   "outputs": [],
   "source": [
    "def replace_country(row):\n",
    "    country=row['country']\n",
    "    if country in ['Россия', '<span>Россия</span>', 'Росссия','РФ']:\n",
    "         row['country']= \"Россия\"\n",
    "    return row"
   ],
   "metadata": {
    "collapsed": false,
    "pycharm": {
     "name": "#%%\n"
    }
   }
  },
  {
   "cell_type": "code",
   "execution_count": null,
   "outputs": [],
   "source": [
    "# df = df.apply(lambda row: replace_country(row), axis=1)"
   ],
   "metadata": {
    "collapsed": false,
    "pycharm": {
     "name": "#%%\n"
    }
   }
  },
  {
   "cell_type": "code",
   "execution_count": null,
   "outputs": [],
   "source": [
    "# country_le = preprocessing.LabelEncoder()\n",
    "# df[\"country\"] = country_le.fit_transform(df[\"country\"])"
   ],
   "metadata": {
    "collapsed": false,
    "pycharm": {
     "name": "#%%\n"
    }
   }
  },
  {
   "cell_type": "code",
   "execution_count": null,
   "outputs": [],
   "source": [
    "# df.info()"
   ],
   "metadata": {
    "collapsed": false,
    "pycharm": {
     "name": "#%%\n"
    }
   }
  },
  {
   "cell_type": "code",
   "execution_count": null,
   "outputs": [],
   "source": [
    "# df.dtypes[df.dtypes == \"object\"].values"
   ],
   "metadata": {
    "collapsed": false,
    "pycharm": {
     "name": "#%%\n"
    }
   }
  },
  {
   "cell_type": "code",
   "execution_count": null,
   "outputs": [],
   "source": [
    "# mass_object = df.dtypes[df.dtypes == \"object\"].index.values"
   ],
   "metadata": {
    "collapsed": false,
    "pycharm": {
     "name": "#%%\n"
    }
   }
  },
  {
   "cell_type": "code",
   "execution_count": null,
   "outputs": [],
   "source": [
    "# mass_object"
   ],
   "metadata": {
    "collapsed": false,
    "pycharm": {
     "name": "#%%\n"
    }
   }
  },
  {
   "cell_type": "code",
   "execution_count": null,
   "outputs": [],
   "source": [
    "# df = df.drop(['available_program_starts_on', 'carts_created_at', 'city',\n",
    "#        'current_program_starts_on', 'month_id',], axis = 1)"
   ],
   "metadata": {
    "collapsed": false,
    "pycharm": {
     "name": "#%%\n"
    }
   }
  },
  {
   "cell_type": "code",
   "execution_count": null,
   "outputs": [],
   "source": [
    "x_feats=[\"program_id\",\n",
    "\"price\",\n",
    " \"cart_timestamp\",\n",
    " \"control_month\",\n",
    "\"student_id\",\n",
    "\"age_indicator\",\n",
    "# \"feedback_avg_d1\",\n",
    "# \"feedback_avg_d3\",\n",
    "# \"feedback_avg_d5\",\n",
    "# \"feedback_avg_d4\",\n",
    "# \"feedback_avg_d2\",\n",
    " \"control_year\",\n",
    "# \"support_feedback_avg\",\n",
    "\"ABC\",\n",
    "\"promo\" , \n",
    "         \n",
    "       'bought_d1', 'bought_d2', 'bought_d3', 'bought_d4',\n",
    "       'bought_d5', \n",
    "         \n",
    "#           'bought_avg_duration',\n",
    "          \"m_was_conversations\",\n",
    "          \"p_was_conversations\",\n",
    "  \n",
    "       \"program_family_main_direction_id\",\n",
    "       \"program_type\",\n",
    "         \n",
    "#          \"program_starting_soon\",\n",
    "         \n",
    "       \"current_program_starts_on_timestamp\", \n",
    "          \"time_diff\",\n",
    "         \"auto_payment\",\n",
    "          \"gender\",\n",
    "         \"platform\",\n",
    "        \"os\",\n",
    "     ]\n",
    "feats=x_feats+[   \"target\" ]"
   ],
   "metadata": {
    "collapsed": false,
    "pycharm": {
     "name": "#%%\n"
    }
   }
  },
  {
   "cell_type": "code",
   "execution_count": null,
   "outputs": [],
   "source": [
    "feats"
   ],
   "metadata": {
    "collapsed": false,
    "pycharm": {
     "name": "#%%\n"
    }
   }
  },
  {
   "cell_type": "code",
   "execution_count": null,
   "outputs": [],
   "source": [
    "# df.info()"
   ],
   "metadata": {
    "collapsed": false,
    "pycharm": {
     "name": "#%%\n"
    }
   }
  },
  {
   "cell_type": "code",
   "execution_count": null,
   "outputs": [],
   "source": [
    "# df=df[feats]"
   ],
   "metadata": {
    "collapsed": false,
    "pycharm": {
     "name": "#%%\n"
    }
   }
  },
  {
   "cell_type": "code",
   "execution_count": null,
   "outputs": [],
   "source": [
    "# df.info()"
   ],
   "metadata": {
    "collapsed": false,
    "pycharm": {
     "name": "#%%\n"
    }
   }
  },
  {
   "cell_type": "code",
   "execution_count": null,
   "outputs": [],
   "source": [
    " df = df.fillna(0)\n",
    "\n",
    "# imp = IterativeImputer(initial_strategy='median')\n",
    "# df = pd.DataFrame(data=imp.fit_transform(df), columns=df.columns)\n",
    "\n",
    "#df = df.dropna()\n",
    "\n",
    "# cols =[\n",
    "#     \"age_indicator\",\n",
    "# \"feedback_avg_d1\",\n",
    "# \"feedback_avg_d3\",\n",
    "# \"feedback_avg_d5\",\n",
    "# \"feedback_avg_d4\",\n",
    "# \"feedback_avg_d2\",\n",
    "# \"support_feedback_avg\",\n",
    "# \"bought_avg_duration\",\n",
    "# \"m_was_conversations\",\n",
    "# \"p_was_conversations\",\n",
    "# \"current_program_starts_on_timestamp\",\n",
    "# ]\n",
    "\n",
    "# df=df[~df[cols].isna().all(axis=1)]"
   ],
   "metadata": {
    "collapsed": false,
    "pycharm": {
     "name": "#%%\n"
    }
   }
  },
  {
   "cell_type": "code",
   "execution_count": null,
   "outputs": [],
   "source": [
    "df[\"time_diff\"] = df[\"current_program_starts_on_timestamp\"] - df[\"cart_timestamp\"]"
   ],
   "metadata": {
    "collapsed": false,
    "pycharm": {
     "name": "#%%\n"
    }
   }
  },
  {
   "cell_type": "code",
   "execution_count": null,
   "outputs": [],
   "source": [
    "df.gender=df.gender.astype(int)"
   ],
   "metadata": {
    "collapsed": false,
    "pycharm": {
     "name": "#%%\n"
    }
   }
  },
  {
   "cell_type": "code",
   "execution_count": null,
   "outputs": [],
   "source": [
    "def price_trans(row):\n",
    "    price=row.price\n",
    "    cat=0\n",
    "    if price<=15000:\n",
    "        cat=0\n",
    "    elif price >15000 and price<=40000:\n",
    "        cat=1\n",
    "    elif price >40000 and price<=60000:\n",
    "        cat=2\n",
    "    else:\n",
    "        cat=4    \n",
    "    row[\"price\"]=cat\n",
    "    return row"
   ],
   "metadata": {
    "collapsed": false,
    "pycharm": {
     "name": "#%%\n"
    }
   }
  },
  {
   "cell_type": "code",
   "execution_count": null,
   "outputs": [],
   "source": [
    "# df=df.apply(lambda row: price_trans(row), axis=1)"
   ],
   "metadata": {
    "collapsed": false,
    "pycharm": {
     "name": "#%%\n"
    }
   }
  },
  {
   "cell_type": "code",
   "execution_count": null,
   "outputs": [],
   "source": [
    "_ = df[[\"price\"]].hist(figsize=(20,12))"
   ],
   "metadata": {
    "collapsed": false,
    "pycharm": {
     "name": "#%%\n"
    }
   }
  },
  {
   "cell_type": "code",
   "execution_count": null,
   "outputs": [],
   "source": [
    "# df[\"bought_total\"] = df.bought_d1+df.bought_d2 + df.bought_d3+df.bought_d4+df.bought_d5"
   ],
   "metadata": {
    "collapsed": false,
    "pycharm": {
     "name": "#%%\n"
    }
   }
  },
  {
   "cell_type": "code",
   "execution_count": null,
   "outputs": [],
   "source": [
    "# def age_transform(row):\n",
    "#     age = row.age_indicator\n",
    "#     if age<10:\n",
    "#         row['age_indicator']= 20\n",
    "#     return row"
   ],
   "metadata": {
    "collapsed": false,
    "pycharm": {
     "name": "#%%\n"
    }
   }
  },
  {
   "cell_type": "code",
   "execution_count": null,
   "outputs": [],
   "source": [
    "# df = df.apply(lambda row: age_transform(row), axis=1)"
   ],
   "metadata": {
    "collapsed": false,
    "pycharm": {
     "name": "#%%\n"
    }
   }
  },
  {
   "cell_type": "code",
   "execution_count": null,
   "outputs": [],
   "source": [],
   "metadata": {
    "collapsed": false,
    "pycharm": {
     "name": "#%%\n"
    }
   }
  },
  {
   "cell_type": "code",
   "execution_count": null,
   "outputs": [],
   "source": [
    "df=df[feats]"
   ],
   "metadata": {
    "collapsed": false,
    "pycharm": {
     "name": "#%%\n"
    }
   }
  },
  {
   "cell_type": "code",
   "execution_count": null,
   "outputs": [],
   "source": [
    "# df['current_program_starts_on_day'] = df['current_program_starts_on_day'].astype(int)\n",
    "# df['current_program_starts_on_month'] = df['current_program_starts_on_month'].astype(int)\n",
    "# df['current_program_starts_on_year'] = df['current_program_starts_on_year'].astype(int)"
   ],
   "metadata": {
    "collapsed": false,
    "pycharm": {
     "name": "#%%\n"
    }
   }
  },
  {
   "cell_type": "code",
   "execution_count": null,
   "outputs": [],
   "source": [
    "# df.info()"
   ],
   "metadata": {
    "collapsed": false,
    "pycharm": {
     "name": "#%%\n"
    }
   }
  },
  {
   "cell_type": "code",
   "execution_count": null,
   "outputs": [],
   "source": [
    "# df = df.fillna(0)"
   ],
   "metadata": {
    "collapsed": false,
    "pycharm": {
     "name": "#%%\n"
    }
   }
  },
  {
   "cell_type": "code",
   "execution_count": null,
   "outputs": [],
   "source": [
    "df"
   ],
   "metadata": {
    "collapsed": false,
    "pycharm": {
     "name": "#%%\n"
    }
   }
  },
  {
   "cell_type": "code",
   "execution_count": null,
   "outputs": [],
   "source": [],
   "metadata": {
    "collapsed": false,
    "pycharm": {
     "name": "#%%\n"
    }
   }
  },
  {
   "cell_type": "code",
   "execution_count": null,
   "outputs": [],
   "source": [
    "X =  df.drop([\"target\"], axis = 1)\n",
    "y = df[[\"target\"]]"
   ],
   "metadata": {
    "collapsed": false,
    "pycharm": {
     "name": "#%%\n"
    }
   }
  },
  {
   "cell_type": "code",
   "execution_count": null,
   "outputs": [],
   "source": [
    "X.columns"
   ],
   "metadata": {
    "collapsed": false,
    "pycharm": {
     "name": "#%%\n"
    }
   }
  },
  {
   "cell_type": "code",
   "execution_count": null,
   "outputs": [],
   "source": [
    "X_train, X_test, y_train, y_test = train_test_split(X, y, test_size=0.3, random_state=42)"
   ],
   "metadata": {
    "collapsed": false,
    "pycharm": {
     "name": "#%%\n"
    }
   }
  },
  {
   "cell_type": "code",
   "execution_count": null,
   "outputs": [],
   "source": [
    "clf = RandomForestClassifier(random_state=0, max_depth=50, n_estimators=500)"
   ],
   "metadata": {
    "collapsed": false,
    "pycharm": {
     "name": "#%%\n"
    }
   }
  },
  {
   "cell_type": "code",
   "execution_count": null,
   "outputs": [],
   "source": [
    "clf.fit(X_train, y_train)"
   ],
   "metadata": {
    "collapsed": false,
    "pycharm": {
     "name": "#%%\n"
    }
   }
  },
  {
   "cell_type": "code",
   "execution_count": null,
   "outputs": [],
   "source": [
    "pred = clf.predict(X_test)"
   ],
   "metadata": {
    "collapsed": false,
    "pycharm": {
     "name": "#%%\n"
    }
   }
  },
  {
   "cell_type": "code",
   "execution_count": null,
   "outputs": [],
   "source": [
    "0.2* recall_score(y_test, pred, average='macro') + 0.8* precision_score(y_test, pred, average='macro')"
   ],
   "metadata": {
    "collapsed": false,
    "pycharm": {
     "name": "#%%\n"
    }
   }
  },
  {
   "cell_type": "code",
   "execution_count": null,
   "outputs": [],
   "source": [
    "clf.classes_"
   ],
   "metadata": {
    "collapsed": false,
    "pycharm": {
     "name": "#%%\n"
    }
   }
  },
  {
   "cell_type": "code",
   "execution_count": null,
   "outputs": [],
   "source": [
    "print(classification_report(y_test, pred))"
   ],
   "metadata": {
    "collapsed": false,
    "pycharm": {
     "name": "#%%\n"
    }
   }
  },
  {
   "cell_type": "code",
   "execution_count": null,
   "outputs": [],
   "source": [
    "importance_df = pd.DataFrame(clf.feature_importances_, columns=[\"value\"],\n",
    "                             index=clf.feature_names_in_).sort_values(by=\"value\", ascending=False)\n",
    "importance_df"
   ],
   "metadata": {
    "collapsed": false,
    "pycharm": {
     "name": "#%%\n"
    }
   }
  },
  {
   "cell_type": "markdown",
   "source": [
    "#Validation"
   ],
   "metadata": {
    "collapsed": false,
    "pycharm": {
     "name": "#%% md\n"
    }
   }
  },
  {
   "cell_type": "code",
   "execution_count": null,
   "outputs": [],
   "source": [
    "df_test = pd.read_csv(\"./content/test_enriched.csv\")"
   ],
   "metadata": {
    "collapsed": false,
    "pycharm": {
     "name": "#%%\n"
    }
   }
  },
  {
   "cell_type": "code",
   "execution_count": null,
   "outputs": [],
   "source": [
    "df_test[\"ABC\"] = abc_le.transform(df_test[\"ABC\"])"
   ],
   "metadata": {
    "collapsed": false,
    "pycharm": {
     "name": "#%%\n"
    }
   }
  },
  {
   "cell_type": "code",
   "execution_count": null,
   "outputs": [],
   "source": [
    "df_test['control_year'] = pd.to_datetime(df_test['month_id']).dt.strftime(\"%Y\").astype(int)\n",
    "df_test['control_month'] = pd.to_datetime(df_test['month_id']).dt.strftime(\"%m\").astype(int)\n",
    "df_test['control_timestamp'] = df_test['month_id'].apply(lambda d: time.mktime(datetime.strptime(d, \"%m/%d/%Y\").timetuple()))\n",
    "\n",
    "df_test['cart_day'] = pd.to_datetime(df_test['carts_created_at']).dt.strftime(\"%d\").astype(int)\n",
    "df_test['cart_month'] = pd.to_datetime(df_test['carts_created_at']).dt.strftime(\"%m\").astype(int)\n",
    "df_test['cart_year'] = pd.to_datetime(df_test['carts_created_at']).dt.strftime(\"%Y\").astype(int)\n",
    "df_test['cart_timestamp'] = df_test['carts_created_at'].apply(lambda d: time.mktime(datetime.strptime(d, \"%m/%d/%Y\").timetuple()))"
   ],
   "metadata": {
    "collapsed": false,
    "pycharm": {
     "name": "#%%\n"
    }
   }
  },
  {
   "cell_type": "code",
   "execution_count": null,
   "outputs": [],
   "source": [
    "df_test['promo']=df['promo'].apply(lambda promo: promo =='+').astype(int)"
   ],
   "metadata": {
    "collapsed": false,
    "pycharm": {
     "name": "#%%\n"
    }
   }
  },
  {
   "cell_type": "code",
   "execution_count": null,
   "outputs": [],
   "source": [
    "df_test[\"communication_type\"] = ct_le.transform(df_test[\"communication_type\"])"
   ],
   "metadata": {
    "collapsed": false,
    "pycharm": {
     "name": "#%%\n"
    }
   }
  },
  {
   "cell_type": "code",
   "execution_count": null,
   "outputs": [],
   "source": [
    "df_test=df_test.apply(lambda row: os_trans(row), axis=1)\n",
    "df_test[\"os\"] = os_le.transform(df_test[\"os\"])\n",
    "df_test.platform=df_test.platform.apply(lambda p: 'mobile' if p =='tablet' else p)\n",
    "df_test[\"platform\"] = platform_le.transform(df_test[\"platform\"])"
   ],
   "metadata": {
    "collapsed": false,
    "pycharm": {
     "name": "#%%\n"
    }
   }
  },
  {
   "cell_type": "code",
   "execution_count": null,
   "outputs": [],
   "source": [
    "df_test[\"program_type\"] = program_type_le.transform(df_test[\"program_type\"])\n",
    "df_test[\"program_starting_soon\"] = program_starting_soon_le.transform(df_test[\"program_starting_soon\"])"
   ],
   "metadata": {
    "collapsed": false,
    "pycharm": {
     "name": "#%%\n"
    }
   }
  },
  {
   "cell_type": "code",
   "execution_count": null,
   "outputs": [],
   "source": [
    "program_family_price_type_le_dict = dict(zip(program_family_price_type_le.classes_, program_family_price_type_le.transform(program_family_price_type_le.classes_)))\n",
    "df_test['program_family_price_type'] = df_test['program_family_price_type'].apply(lambda program_family_price_type: program_family_price_type_le_dict.get(program_family_price_type, -1))"
   ],
   "metadata": {
    "collapsed": false,
    "pycharm": {
     "name": "#%%\n"
    }
   }
  },
  {
   "cell_type": "code",
   "execution_count": null,
   "outputs": [],
   "source": [
    "df_test['current_program_starts_on_day'] = pd.to_datetime(df_test['current_program_starts_on']).dt.strftime(\"%d\")\n",
    "df_test['current_program_starts_on_month'] = pd.to_datetime(df_test['current_program_starts_on']).dt.strftime(\"%m\")\n",
    "df_test['current_program_starts_on_year'] = pd.to_datetime(df_test['current_program_starts_on']).dt.strftime(\"%Y\")"
   ],
   "metadata": {
    "collapsed": false,
    "pycharm": {
     "name": "#%%\n"
    }
   }
  },
  {
   "cell_type": "code",
   "execution_count": null,
   "outputs": [],
   "source": [
    "df_test['current_program_starts_on_timestamp'] = df_test['current_program_starts_on'].apply(lambda d: to_timestamp(d))"
   ],
   "metadata": {
    "collapsed": false,
    "pycharm": {
     "name": "#%%\n"
    }
   }
  },
  {
   "cell_type": "code",
   "execution_count": null,
   "outputs": [],
   "source": [
    "df_test[['program_duration']]=df_test[['program_duration']].fillna('0 недель')\n",
    "df_test=df_test.apply(lambda row: transform_duration(row), axis=1)"
   ],
   "metadata": {
    "collapsed": false,
    "pycharm": {
     "name": "#%%\n"
    }
   }
  },
  {
   "cell_type": "code",
   "execution_count": null,
   "outputs": [],
   "source": [
    "browser_le_dict = dict(zip(browser_le.classes_, browser_le.transform(browser_le.classes_)))\n",
    "df_test['browser'] = df_test['browser'].apply(lambda browser: browser_le_dict.get(browser, -1))"
   ],
   "metadata": {
    "collapsed": false,
    "pycharm": {
     "name": "#%%\n"
    }
   }
  },
  {
   "cell_type": "code",
   "execution_count": null,
   "outputs": [],
   "source": [
    "# df_test = df_test.apply(lambda row: age_transform(row), axis=1)"
   ],
   "metadata": {
    "collapsed": false,
    "pycharm": {
     "name": "#%%\n"
    }
   }
  },
  {
   "cell_type": "code",
   "execution_count": null,
   "outputs": [],
   "source": [
    "# df_test = df_test.apply(lambda row: replace_country(row), axis=1)"
   ],
   "metadata": {
    "collapsed": false,
    "pycharm": {
     "name": "#%%\n"
    }
   }
  },
  {
   "cell_type": "code",
   "execution_count": null,
   "outputs": [],
   "source": [
    "# df_test[\"country\"] = country_le.transform(df_test[\"country\"])"
   ],
   "metadata": {
    "collapsed": false,
    "pycharm": {
     "name": "#%%\n"
    }
   }
  },
  {
   "cell_type": "code",
   "execution_count": null,
   "outputs": [],
   "source": [
    "df_test.info()"
   ],
   "metadata": {
    "collapsed": false,
    "pycharm": {
     "name": "#%%\n"
    }
   }
  },
  {
   "cell_type": "code",
   "execution_count": null,
   "outputs": [],
   "source": [
    "mass_object_v = mass_object[mass_object!=\"target\"]"
   ],
   "metadata": {
    "collapsed": false,
    "pycharm": {
     "name": "#%%\n"
    }
   }
  },
  {
   "cell_type": "code",
   "execution_count": null,
   "outputs": [],
   "source": [
    "# X_val = df_test.drop(mass_object_v, axis = 1)"
   ],
   "metadata": {
    "collapsed": false,
    "pycharm": {
     "name": "#%%\n"
    }
   }
  },
  {
   "cell_type": "code",
   "execution_count": null,
   "outputs": [],
   "source": [
    "df_test = df_test.fillna(0)"
   ],
   "metadata": {
    "collapsed": false,
    "pycharm": {
     "name": "#%%\n"
    }
   }
  },
  {
   "cell_type": "code",
   "execution_count": null,
   "outputs": [],
   "source": [
    "df_test[\"time_diff\"] = df_test[\"current_program_starts_on_timestamp\"] - df_test[\"cart_timestamp\"]"
   ],
   "metadata": {
    "collapsed": false,
    "pycharm": {
     "name": "#%%\n"
    }
   }
  },
  {
   "cell_type": "code",
   "execution_count": null,
   "outputs": [],
   "source": [
    "df_test.gender=df_test.gender.astype(int)"
   ],
   "metadata": {
    "collapsed": false,
    "pycharm": {
     "name": "#%%\n"
    }
   }
  },
  {
   "cell_type": "code",
   "execution_count": null,
   "outputs": [],
   "source": [
    "# df_test=df_test.apply(lambda row: price_trans(row), axis=1)"
   ],
   "metadata": {
    "collapsed": false,
    "pycharm": {
     "name": "#%%\n"
    }
   }
  },
  {
   "cell_type": "code",
   "execution_count": 2185,
   "metadata": {
    "pycharm": {
     "name": "#%%\n"
    }
   },
   "outputs": [
    {
     "name": "stdout",
     "output_type": "stream",
     "text": [
      "<class 'pandas.core.frame.DataFrame'>\n",
      "RangeIndex: 84997 entries, 0 to 84996\n",
      "Data columns (total 77 columns):\n",
      " #   Column                               Non-Null Count  Dtype  \n",
      "---  ------                               --------------  -----  \n",
      " 0   ABC                                  84997 non-null  int64  \n",
      " 1   activity                             41481 non-null  float64\n",
      " 2   age_indicator                        67548 non-null  float64\n",
      " 3   auto_payment                         84997 non-null  int64  \n",
      " 4   available_program_starts_on          80233 non-null  object \n",
      " 5   avg_hw_mark                          18909 non-null  float64\n",
      " 6   avg_quiz_result                      6954 non-null   float64\n",
      " 7   bought_avg_duration                  4277 non-null   float64\n",
      " 8   bought_d1                            84997 non-null  int64  \n",
      " 9   bought_d2                            84997 non-null  int64  \n",
      " 10  bought_d3                            84997 non-null  int64  \n",
      " 11  bought_d4                            84997 non-null  int64  \n",
      " 12  bought_d5                            84997 non-null  int64  \n",
      " 13  browser                              84997 non-null  int64  \n",
      " 14  carts_created_at                     84997 non-null  object \n",
      " 15  city                                 5669 non-null   object \n",
      " 16  communication_type                   84997 non-null  int64  \n",
      " 17  completed_hw                         41481 non-null  float64\n",
      " 18  country                              5423 non-null   object \n",
      " 19  current_program_starts_on            80233 non-null  object \n",
      " 20  failed_hw                            41481 non-null  float64\n",
      " 21  feedback_avg_d1                      20650 non-null  float64\n",
      " 22  feedback_avg_d2                      6237 non-null   float64\n",
      " 23  feedback_avg_d3                      7640 non-null   float64\n",
      " 24  feedback_avg_d4                      10678 non-null  float64\n",
      " 25  feedback_avg_d5                      6756 non-null   float64\n",
      " 26  gender                               84978 non-null  float64\n",
      " 27  hw_leader                            41481 non-null  float64\n",
      " 28  id                                   84997 non-null  int64  \n",
      " 29  interacted_hw                        41481 non-null  float64\n",
      " 30  lessons                              41481 non-null  float64\n",
      " 31  m_avg_duration                       19375 non-null  float64\n",
      " 32  m_avg_talk_duration                  21908 non-null  float64\n",
      " 33  m_missed_calls                       21908 non-null  float64\n",
      " 34  m_total_calls                        21908 non-null  float64\n",
      " 35  m_total_duration                     21908 non-null  float64\n",
      " 36  m_was_conversations                  21908 non-null  float64\n",
      " 37  month_id                             84997 non-null  object \n",
      " 38  notes                                41481 non-null  float64\n",
      " 39  os                                   84997 non-null  int64  \n",
      " 40  p_avg_duration                       5867 non-null   float64\n",
      " 41  p_avg_talk_duration                  7129 non-null   float64\n",
      " 42  p_missed_calls                       7129 non-null   float64\n",
      " 43  p_total_calls                        7129 non-null   float64\n",
      " 44  p_total_duration                     7129 non-null   float64\n",
      " 45  p_was_conversations                  7129 non-null   float64\n",
      " 46  payment_type                         84997 non-null  int64  \n",
      " 47  platform                             84997 non-null  int64  \n",
      " 48  price                                84997 non-null  float64\n",
      " 49  program_duration                     84997 non-null  int64  \n",
      " 50  program_family_main_direction_id     84994 non-null  float64\n",
      " 51  program_family_price_type            84997 non-null  int64  \n",
      " 52  program_id                           84997 non-null  int64  \n",
      " 53  program_price_type                   58914 non-null  object \n",
      " 54  program_starting_soon                84997 non-null  int64  \n",
      " 55  program_type                         84997 non-null  int64  \n",
      " 56  promo                                84997 non-null  int64  \n",
      " 57  reworked_hw                          41481 non-null  float64\n",
      " 58  speed_recall                         9283 non-null   float64\n",
      " 59  spent_time_to_complete_hw            18046 non-null  float64\n",
      " 60  spent_time_total                     36687 non-null  float64\n",
      " 61  student_id                           84997 non-null  int64  \n",
      " 62  support_feedback_avg                 15749 non-null  float64\n",
      " 63  test_with_good_mark                  41481 non-null  float64\n",
      " 64  test_with_great_mark                 41481 non-null  float64\n",
      " 65  webinars                             41481 non-null  float64\n",
      " 66  control_year                         84997 non-null  int64  \n",
      " 67  control_month                        84997 non-null  int64  \n",
      " 68  control_timestamp                    84997 non-null  float64\n",
      " 69  cart_day                             84997 non-null  int64  \n",
      " 70  cart_month                           84997 non-null  int64  \n",
      " 71  cart_year                            84997 non-null  int64  \n",
      " 72  cart_timestamp                       84997 non-null  float64\n",
      " 73  current_program_starts_on_day        80233 non-null  object \n",
      " 74  current_program_starts_on_month      80233 non-null  object \n",
      " 75  current_program_starts_on_year       80233 non-null  object \n",
      " 76  current_program_starts_on_timestamp  80233 non-null  float64\n",
      "dtypes: float64(42), int64(25), object(10)\n",
      "memory usage: 49.9+ MB\n"
     ]
    }
   ],
   "source": [
    "df_test.info()"
   ]
  },
  {
   "cell_type": "code",
   "execution_count": 2186,
   "metadata": {
    "pycharm": {
     "name": "#%%\n"
    }
   },
   "outputs": [],
   "source": [
    "mass_object_v = mass_object[mass_object!=\"target\"]"
   ]
  },
  {
   "cell_type": "code",
   "execution_count": 2187,
   "metadata": {
    "pycharm": {
     "name": "#%%\n"
    }
   },
   "outputs": [],
   "source": [
    "# X_val = df_test.drop(mass_object_v, axis = 1)"
   ]
  },
  {
   "cell_type": "code",
   "execution_count": 2188,
   "metadata": {
    "pycharm": {
     "name": "#%%\n"
    }
   },
   "outputs": [],
   "source": [
    "df_test = df_test.fillna(0)"
   ]
  },
  {
   "cell_type": "code",
   "execution_count": 2189,
   "metadata": {},
   "outputs": [],
   "source": [
    "df_test[\"time_diff\"] = df_test[\"current_program_starts_on_timestamp\"] - df_test[\"cart_timestamp\"]"
   ]
  },
  {
   "cell_type": "code",
   "execution_count": 2190,
   "metadata": {},
   "outputs": [],
   "source": [
    "df_test.gender=df_test.gender.astype(int)"
   ]
  },
  {
   "cell_type": "code",
   "execution_count": 2191,
   "metadata": {},
   "outputs": [],
   "source": [
    "# df_test=df_test.apply(lambda row: price_trans(row), axis=1)"
   ]
  },
  {
   "cell_type": "code",
   "execution_count": 2192,
   "metadata": {},
   "outputs": [],
   "source": [
    "X_val=df_test[x_feats]"
   ]
  },
  {
   "cell_type": "code",
   "execution_count": 2193,
   "metadata": {
    "pycharm": {
     "name": "#%%\n"
    }
   },
   "outputs": [],
   "source": [
    "pred_test = clf.predict(X_val)"
   ]
  },
  {
   "cell_type": "code",
   "execution_count": 2194,
   "metadata": {
    "pycharm": {
     "name": "#%%\n"
    }
   },
   "outputs": [],
   "source": [
    "df_test[\"target\"] = pred_test"
   ]
  },
  {
   "cell_type": "code",
   "execution_count": 2195,
   "metadata": {
    "pycharm": {
     "name": "#%%\n"
    }
   },
   "outputs": [],
   "source": [
    "df_test=df_test[[\"id\", \"target\"]]"
   ]
  },
  {
   "cell_type": "code",
   "execution_count": 2196,
   "metadata": {
    "pycharm": {
     "name": "#%%\n"
    }
   },
   "outputs": [],
   "source": [
    "df_test.to_csv(\"./content/pred.csv\", index=False)"
   ]
  },
  {
   "cell_type": "code",
   "execution_count": null,
   "metadata": {
    "pycharm": {
     "name": "#%%\n"
    }
   },
   "outputs": [],
   "source": []
  },
  {
   "cell_type": "code",
   "execution_count": null,
   "metadata": {},
   "outputs": [],
   "source": []
  }
 ],
 "metadata": {
  "colab": {
   "collapsed_sections": [],
   "name": "Нетология_baseline.ipynb",
   "provenance": []
  },
  "kernelspec": {
   "display_name": "Python 3 (ipykernel)",
   "language": "python",
   "name": "python3"
  },
  "language_info": {
   "codemirror_mode": {
    "name": "ipython",
    "version": 3
   },
   "file_extension": ".py",
   "mimetype": "text/x-python",
   "name": "python",
   "nbconvert_exporter": "python",
   "pygments_lexer": "ipython3",
   "version": "3.9.13"
  }
 },
 "nbformat": 4,
 "nbformat_minor": 1
}