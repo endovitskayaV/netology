{
 "cells": [
  {
   "cell_type": "code",
   "execution_count": 2216,
   "metadata": {
    "id": "MTgpe_1quUDs",
    "pycharm": {
     "is_executing": true,
     "name": "#%%\n"
    }
   },
   "outputs": [],
   "source": [
    "import pandas as pd\n",
    "import seaborn as sns\n",
    "import matplotlib.pyplot as plt\n",
    "from sklearn.model_selection import train_test_split\n",
    "from sklearn.ensemble import RandomForestClassifier\n",
    "from sklearn import tree\n",
    "import numpy as np\n",
    "from sklearn.metrics import recall_score, precision_score\n",
    "from sklearn.metrics import classification_report\n",
    "from sklearn import preprocessing\n",
    "\n",
    "import time\n",
    "from datetime import datetime\n",
    "\n",
    "from sklearn.experimental import enable_iterative_imputer\n",
    "from sklearn.impute import IterativeImputer\n",
    "\n",
    "%matplotlib inline\n",
    "\n",
    "from catboost import CatBoostClassifier"
   ]
  },
  {
   "cell_type": "code",
   "execution_count": 2217,
   "metadata": {
    "id": "o9N4JbcWudk2",
    "pycharm": {
     "name": "#%%\n"
    }
   },
   "outputs": [],
   "source": [
    "df = pd.read_csv(\"./content/train_enriched.csv\")"
   ]
  },
  {
   "cell_type": "code",
   "execution_count": 2218,
   "metadata": {
    "pycharm": {
     "name": "#%%\n"
    }
   },
   "outputs": [],
   "source": [
    "abc_le = preprocessing.LabelEncoder()\n",
    "df[\"ABC\"] = abc_le.fit_transform(df[\"ABC\"])"
   ]
  },
  {
   "cell_type": "code",
   "execution_count": 2219,
   "metadata": {
    "pycharm": {
     "name": "#%%\n"
    }
   },
   "outputs": [],
   "source": [
    "df['control_year'] = pd.to_datetime(df['month_id']).dt.strftime(\"%Y\").astype(int)\n",
    "df['control_month'] = pd.to_datetime(df['month_id']).dt.strftime(\"%m\").astype(int)\n",
    "df['control_timestamp'] = df['month_id'].apply(lambda d: time.mktime(datetime.strptime(d, \"%m/%d/%Y\").timetuple()))\n",
    "\n",
    "df['cart_day'] = pd.to_datetime(df['carts_created_at']).dt.strftime(\"%d\").astype(int)\n",
    "df['cart_month'] = pd.to_datetime(df['carts_created_at']).dt.strftime(\"%m\").astype(int)\n",
    "df['cart_year'] = pd.to_datetime(df['carts_created_at']).dt.strftime(\"%Y\").astype(int)\n",
    "df['cart_timestamp'] = df['carts_created_at'].apply(lambda d: time.mktime(datetime.strptime(d, \"%m/%d/%Y\").timetuple()))"
   ]
  },
  {
   "cell_type": "code",
   "execution_count": 2220,
   "metadata": {
    "pycharm": {
     "name": "#%%\n"
    }
   },
   "outputs": [],
   "source": [
    "df['promo']=df['promo'].apply(lambda promo: promo =='+').astype(int)"
   ]
  },
  {
   "cell_type": "code",
   "execution_count": 2221,
   "metadata": {
    "pycharm": {
     "name": "#%%\n"
    }
   },
   "outputs": [],
   "source": [
    "ct_le = preprocessing.LabelEncoder()\n",
    "df[\"communication_type\"] = ct_le.fit_transform(df[\"communication_type\"])"
   ]
  },
  {
   "cell_type": "code",
   "execution_count": 2222,
   "metadata": {
    "pycharm": {
     "name": "#%%\n"
    }
   },
   "outputs": [],
   "source": [
    "cats = ['Windows', 'Mac OS X', 'iOS', 'Android', 'Linux', 'Ubuntu',\n",
    "       'Chrome OS', 'Fedora']\n",
    "def os_trans(row):\n",
    "    os = row.os\n",
    "    if os == 'iOS':\n",
    "        os='Mac OS X'\n",
    "    elif os=='Ubuntu'    or os=='Fedora':\n",
    "        os='Linux'   \n",
    "    row[\"os\"]=os\n",
    "    return row"
   ]
  },
  {
   "cell_type": "code",
   "execution_count": 2223,
   "metadata": {
    "pycharm": {
     "name": "#%%\n"
    }
   },
   "outputs": [],
   "source": [
    "os_le = preprocessing.LabelEncoder()\n",
    "df=df.apply(lambda row: os_trans(row), axis=1)\n",
    "df[\"os\"] = os_le.fit_transform(df[\"os\"])\n",
    "\n",
    "browser_le = preprocessing.LabelEncoder()\n",
    "df[\"browser\"] = browser_le.fit_transform(df[\"browser\"])\n",
    "\n",
    "platform_le = preprocessing.LabelEncoder()\n",
    "df.platform=df.platform.apply(lambda p: 'mobile' if p =='tablet' else p)\n",
    "df[\"platform\"] = platform_le.fit_transform(df[\"platform\"])\n",
    "\n",
    "program_family_price_type_le = preprocessing.LabelEncoder()\n",
    "df[\"program_family_price_type\"] = program_family_price_type_le.fit_transform(df[\"program_family_price_type\"])\n",
    "\n",
    "program_type_le = preprocessing.LabelEncoder()\n",
    "df[\"program_type\"] = program_type_le.fit_transform(df[\"program_type\"])\n",
    "\n",
    "program_starting_soon_le = preprocessing.LabelEncoder()\n",
    "df[\"program_starting_soon\"] = program_starting_soon_le.fit_transform(df[\"program_starting_soon\"])"
   ]
  },
  {
   "cell_type": "code",
   "execution_count": 2224,
   "metadata": {
    "pycharm": {
     "name": "#%%\n"
    }
   },
   "outputs": [],
   "source": [
    "df['current_program_starts_on_day'] = pd.to_datetime(df['current_program_starts_on']).dt.strftime(\"%d\")\n",
    "df['current_program_starts_on_month'] = pd.to_datetime(df['current_program_starts_on']).dt.strftime(\"%m\")\n",
    "df['current_program_starts_on_year'] = pd.to_datetime(df['current_program_starts_on']).dt.strftime(\"%Y\")"
   ]
  },
  {
   "cell_type": "code",
   "execution_count": 2225,
   "metadata": {
    "pycharm": {
     "name": "#%%\n"
    }
   },
   "outputs": [],
   "source": [
    "def to_timestamp(d):\n",
    "    if not isinstance(d, float):\n",
    "        d = time.mktime(datetime.strptime(d, \"%Y-%m-%d\").timetuple())\n",
    "    return d"
   ]
  },
  {
   "cell_type": "code",
   "execution_count": 2226,
   "metadata": {
    "pycharm": {
     "name": "#%%\n"
    }
   },
   "outputs": [],
   "source": [
    "df['current_program_starts_on_timestamp'] = df['current_program_starts_on'].apply(lambda d: to_timestamp(d))"
   ]
  },
  {
   "cell_type": "code",
   "execution_count": 2227,
   "metadata": {
    "pycharm": {
     "name": "#%%\n"
    }
   },
   "outputs": [
    {
     "data": {
      "text/plain": [
       "0         1.602450e+09\n",
       "1                  NaN\n",
       "2         1.659560e+09\n",
       "3         1.664140e+09\n",
       "4                  NaN\n",
       "              ...     \n",
       "199995             NaN\n",
       "199996    1.650834e+09\n",
       "199997    1.660165e+09\n",
       "199998             NaN\n",
       "199999    1.660252e+09\n",
       "Name: current_program_starts_on_timestamp, Length: 200000, dtype: float64"
      ]
     },
     "execution_count": 2227,
     "metadata": {},
     "output_type": "execute_result"
    }
   ],
   "source": [
    "df['current_program_starts_on_timestamp']"
   ]
  },
  {
   "cell_type": "code",
   "execution_count": 2228,
   "metadata": {
    "pycharm": {
     "name": "#%%\n"
    }
   },
   "outputs": [],
   "source": [
    "def transform_duration(row):\n",
    "    program_duration = str(row.program_duration)\n",
    "    splt =  program_duration.split(' ')\n",
    "    unit = splt[1][0:3]\n",
    "    number = int(splt[0])\n",
    "    if unit =='мес':\n",
    "        number=number * 4\n",
    "    row['program_duration'] = number\n",
    "    return row\n"
   ]
  },
  {
   "cell_type": "code",
   "execution_count": 2229,
   "metadata": {
    "pycharm": {
     "name": "#%%\n"
    }
   },
   "outputs": [],
   "source": [
    "df[['program_duration']]=df[['program_duration']].fillna('0 недель')\n",
    "df=df.apply(lambda row: transform_duration(row), axis=1)"
   ]
  },
  {
   "cell_type": "code",
   "execution_count": 2230,
   "metadata": {
    "pycharm": {
     "name": "#%%\n"
    }
   },
   "outputs": [],
   "source": [
    "def replace_country(row):\n",
    "    country=row['country']\n",
    "    if country in ['Россия', '<span>Россия</span>', 'Росссия','РФ']:\n",
    "         row['country']= \"Россия\"\n",
    "    return row"
   ]
  },
  {
   "cell_type": "code",
   "execution_count": 2231,
   "metadata": {
    "pycharm": {
     "name": "#%%\n"
    }
   },
   "outputs": [],
   "source": [
    "# df = df.apply(lambda row: replace_country(row), axis=1)"
   ]
  },
  {
   "cell_type": "code",
   "execution_count": 2232,
   "metadata": {
    "pycharm": {
     "name": "#%%\n"
    }
   },
   "outputs": [],
   "source": [
    "# country_le = preprocessing.LabelEncoder()\n",
    "# df[\"country\"] = country_le.fit_transform(df[\"country\"])"
   ]
  },
  {
   "cell_type": "code",
   "execution_count": 2233,
   "metadata": {
    "pycharm": {
     "name": "#%%\n"
    }
   },
   "outputs": [],
   "source": [
    "# df.info()"
   ]
  },
  {
   "cell_type": "code",
   "execution_count": 2234,
   "metadata": {
    "pycharm": {
     "name": "#%%\n"
    }
   },
   "outputs": [],
   "source": [
    "# df.dtypes[df.dtypes == \"object\"].values"
   ]
  },
  {
   "cell_type": "code",
   "execution_count": 2235,
   "metadata": {
    "pycharm": {
     "name": "#%%\n"
    }
   },
   "outputs": [],
   "source": [
    "# mass_object = df.dtypes[df.dtypes == \"object\"].index.values"
   ]
  },
  {
   "cell_type": "code",
   "execution_count": 2236,
   "metadata": {
    "pycharm": {
     "name": "#%%\n"
    }
   },
   "outputs": [],
   "source": [
    "# mass_object"
   ]
  },
  {
   "cell_type": "code",
   "execution_count": 2237,
   "metadata": {
    "pycharm": {
     "name": "#%%\n"
    }
   },
   "outputs": [],
   "source": [
    "# df = df.drop(['available_program_starts_on', 'carts_created_at', 'city',\n",
    "#        'current_program_starts_on', 'month_id',], axis = 1)"
   ]
  },
  {
   "cell_type": "code",
   "execution_count": 2238,
   "metadata": {
    "pycharm": {
     "name": "#%%\n"
    }
   },
   "outputs": [],
   "source": [
    "x_feats=[\"program_id\",\n",
    "\"price\",\n",
    " \"cart_timestamp\",\n",
    " \"control_month\",\n",
    "\"student_id\",\n",
    "\"age_indicator\",\n",
    "\"feedback_avg_d1\",\n",
    "\"feedback_avg_d3\",\n",
    "\"feedback_avg_d5\",\n",
    "\"feedback_avg_d4\",\n",
    "\"feedback_avg_d2\",\n",
    " \"control_year\",\n",
    "\"support_feedback_avg\",\n",
    "\"ABC\",\n",
    "\"promo\" , \n",
    "         \n",
    "       'bought_d1', 'bought_d2', 'bought_d3', 'bought_d4',\n",
    "       'bought_d5', \n",
    "         \n",
    "           'bought_avg_duration',\n",
    "          \"m_was_conversations\",\n",
    "          \"p_was_conversations\",\n",
    "  \n",
    "       \"program_family_main_direction_id\",\n",
    "       \"program_type\",\n",
    "         \n",
    "          \"program_starting_soon\",\n",
    "         \n",
    "       \"current_program_starts_on_timestamp\", \n",
    "         \"current_program_starts_on_day\", \"current_program_starts_on_month\", \"current_program_starts_on_year\",\n",
    "          \"time_diff\",\n",
    "         \"auto_payment\",\n",
    "          \"gender\",\n",
    "         \"platform\",\n",
    "        \"os\",\n",
    "         \"program_duration\",\n",
    "         \"communication_type\",\n",
    "        \n",
    "     ]\n",
    "feats=x_feats+[   \"target\" ]"
   ]
  },
  {
   "cell_type": "code",
   "execution_count": 2239,
   "metadata": {
    "pycharm": {
     "name": "#%%\n"
    }
   },
   "outputs": [
    {
     "data": {
      "text/plain": [
       "['program_id',\n",
       " 'price',\n",
       " 'cart_timestamp',\n",
       " 'control_month',\n",
       " 'student_id',\n",
       " 'age_indicator',\n",
       " 'feedback_avg_d1',\n",
       " 'feedback_avg_d3',\n",
       " 'feedback_avg_d5',\n",
       " 'feedback_avg_d4',\n",
       " 'feedback_avg_d2',\n",
       " 'control_year',\n",
       " 'support_feedback_avg',\n",
       " 'ABC',\n",
       " 'promo',\n",
       " 'bought_d1',\n",
       " 'bought_d2',\n",
       " 'bought_d3',\n",
       " 'bought_d4',\n",
       " 'bought_d5',\n",
       " 'bought_avg_duration',\n",
       " 'm_was_conversations',\n",
       " 'p_was_conversations',\n",
       " 'program_family_main_direction_id',\n",
       " 'program_type',\n",
       " 'program_starting_soon',\n",
       " 'current_program_starts_on_timestamp',\n",
       " 'current_program_starts_on_day',\n",
       " 'current_program_starts_on_month',\n",
       " 'current_program_starts_on_year',\n",
       " 'time_diff',\n",
       " 'auto_payment',\n",
       " 'gender',\n",
       " 'platform',\n",
       " 'os',\n",
       " 'program_duration',\n",
       " 'communication_type',\n",
       " 'target']"
      ]
     },
     "execution_count": 2239,
     "metadata": {},
     "output_type": "execute_result"
    }
   ],
   "source": [
    "feats"
   ]
  },
  {
   "cell_type": "code",
   "execution_count": 2240,
   "metadata": {
    "pycharm": {
     "name": "#%%\n"
    }
   },
   "outputs": [],
   "source": [
    "# df.info()"
   ]
  },
  {
   "cell_type": "code",
   "execution_count": 2241,
   "metadata": {
    "pycharm": {
     "name": "#%%\n"
    }
   },
   "outputs": [],
   "source": [
    "# df=df[feats]"
   ]
  },
  {
   "cell_type": "code",
   "execution_count": 2242,
   "metadata": {
    "pycharm": {
     "name": "#%%\n"
    }
   },
   "outputs": [],
   "source": [
    "# df.info()"
   ]
  },
  {
   "cell_type": "code",
   "execution_count": 2243,
   "metadata": {
    "pycharm": {
     "name": "#%%\n"
    }
   },
   "outputs": [],
   "source": [
    "df = df.fillna(0)\n",
    "\n",
    "# imp = IterativeImputer(initial_strategy='median')\n",
    "# df = pd.DataFrame(data=imp.fit_transform(df), columns=df.columns)\n",
    "\n",
    "#df = df.dropna()\n",
    "\n",
    "# cols =[\n",
    "#     \"age_indicator\",\n",
    "# \"feedback_avg_d1\",\n",
    "# \"feedback_avg_d3\",\n",
    "# \"feedback_avg_d5\",\n",
    "# \"feedback_avg_d4\",\n",
    "# \"feedback_avg_d2\",\n",
    "# \"support_feedback_avg\",\n",
    "# \"bought_avg_duration\",\n",
    "# \"m_was_conversations\",\n",
    "# \"p_was_conversations\",\n",
    "# \"current_program_starts_on_timestamp\",\n",
    "# ]\n",
    "\n",
    "# df=df[~df[cols].isna().all(axis=1)]"
   ]
  },
  {
   "cell_type": "code",
   "execution_count": 2244,
   "metadata": {
    "pycharm": {
     "name": "#%%\n"
    }
   },
   "outputs": [],
   "source": [
    "df[\"time_diff\"] = df[\"current_program_starts_on_timestamp\"] - df[\"cart_timestamp\"]"
   ]
  },
  {
   "cell_type": "code",
   "execution_count": 2245,
   "metadata": {
    "pycharm": {
     "name": "#%%\n"
    }
   },
   "outputs": [],
   "source": [
    "df.gender=df.gender.astype(int)"
   ]
  },
  {
   "cell_type": "code",
   "execution_count": 2246,
   "metadata": {},
   "outputs": [],
   "source": [
    "# df['notes_bin']=df['notes'].apply(lambda n: n>0).astype(int)"
   ]
  },
  {
   "cell_type": "code",
   "execution_count": 2247,
   "metadata": {
    "pycharm": {
     "name": "#%%\n"
    }
   },
   "outputs": [],
   "source": [
    "def price_trans(row):\n",
    "    price=row.price\n",
    "    cat=0\n",
    "    if price<=15000:\n",
    "        cat=0\n",
    "    elif price >15000 and price<=40000:\n",
    "        cat=1\n",
    "    elif price >40000 and price<=60000:\n",
    "        cat=2\n",
    "    else:\n",
    "        cat=4    \n",
    "    row[\"price\"]=cat\n",
    "    return row"
   ]
  },
  {
   "cell_type": "code",
   "execution_count": 2248,
   "metadata": {
    "pycharm": {
     "name": "#%%\n"
    }
   },
   "outputs": [],
   "source": [
    "# df=df.apply(lambda row: price_trans(row), axis=1)"
   ]
  },
  {
   "cell_type": "code",
   "execution_count": 2249,
   "metadata": {
    "pycharm": {
     "name": "#%%\n"
    }
   },
   "outputs": [
    {
     "data": {
      "image/png": "[encoded data removed]",
      "text/plain": [
       "<Figure size 1440x864 with 1 Axes>"
      ]
     },
     "metadata": {
      "needs_background": "light"
     },
     "output_type": "display_data"
    }
   ],
   "source": [
    "_ = df[[\"price\"]].hist(figsize=(20,12))"
   ]
  },
  {
   "cell_type": "code",
   "execution_count": 2250,
   "metadata": {
    "pycharm": {
     "name": "#%%\n"
    }
   },
   "outputs": [],
   "source": [
    "# df[\"bought_total\"] = df.bought_d1+df.bought_d2 + df.bought_d3+df.bought_d4+df.bought_d5"
   ]
  },
  {
   "cell_type": "code",
   "execution_count": 2251,
   "metadata": {
    "pycharm": {
     "name": "#%%\n"
    }
   },
   "outputs": [],
   "source": [
    "# def age_transform(row):\n",
    "#     age = row.age_indicator\n",
    "#     if age<10:\n",
    "#         row['age_indicator']= 20\n",
    "#     return row"
   ]
  },
  {
   "cell_type": "code",
   "execution_count": 2252,
   "metadata": {
    "pycharm": {
     "name": "#%%\n"
    }
   },
   "outputs": [],
   "source": [
    "# df = df.apply(lambda row: age_transform(row), axis=1)"
   ]
  },
  {
   "cell_type": "code",
   "execution_count": null,
   "metadata": {
    "pycharm": {
     "name": "#%%\n"
    }
   },
   "outputs": [],
   "source": []
  },
  {
   "cell_type": "code",
   "execution_count": 2253,
   "metadata": {
    "pycharm": {
     "name": "#%%\n"
    }
   },
   "outputs": [],
   "source": [
    "df=df[feats]"
   ]
  },
  {
   "cell_type": "code",
   "execution_count": 2254,
   "metadata": {
    "pycharm": {
     "name": "#%%\n"
    }
   },
   "outputs": [],
   "source": [
    "df['current_program_starts_on_day'] = df['current_program_starts_on_day'].astype(int)\n",
    "df['current_program_starts_on_month'] = df['current_program_starts_on_month'].astype(int)\n",
    "df['current_program_starts_on_year'] = df['current_program_starts_on_year'].astype(int)"
   ]
  },
  {
   "cell_type": "code",
   "execution_count": 2255,
   "metadata": {
    "pycharm": {
     "name": "#%%\n"
    }
   },
   "outputs": [],
   "source": [
    "# df.info()"
   ]
  },
  {
   "cell_type": "code",
   "execution_count": 2256,
   "metadata": {
    "pycharm": {
     "name": "#%%\n"
    }
   },
   "outputs": [],
   "source": [
    "# df = df.fillna(0)"
   ]
  },
  {
   "cell_type": "code",
   "execution_count": 2257,
   "metadata": {
    "pycharm": {
     "name": "#%%\n"
    }
   },
   "outputs": [
    {
     "data": {
      "text/html": [
       "<div>\n",
       "<style scoped>\n",
       "    .dataframe tbody tr th:only-of-type {\n",
       "        vertical-align: middle;\n",
       "    }\n",
       "\n",
       "    .dataframe tbody tr th {\n",
       "        vertical-align: top;\n",
       "    }\n",
       "\n",
       "    .dataframe thead th {\n",
       "        text-align: right;\n",
       "    }\n",
       "</style>\n",
       "<table border=\"1\" class=\"dataframe\">\n",
       "  <thead>\n",
       "    <tr style=\"text-align: right;\">\n",
       "      <th></th>\n",
       "      <th>program_id</th>\n",
       "      <th>price</th>\n",
       "      <th>cart_timestamp</th>\n",
       "      <th>control_month</th>\n",
       "      <th>student_id</th>\n",
       "      <th>age_indicator</th>\n",
       "      <th>feedback_avg_d1</th>\n",
       "      <th>feedback_avg_d3</th>\n",
       "      <th>feedback_avg_d5</th>\n",
       "      <th>feedback_avg_d4</th>\n",
       "      <th>...</th>\n",
       "      <th>current_program_starts_on_month</th>\n",
       "      <th>current_program_starts_on_year</th>\n",
       "      <th>time_diff</th>\n",
       "      <th>auto_payment</th>\n",
       "      <th>gender</th>\n",
       "      <th>platform</th>\n",
       "      <th>os</th>\n",
       "      <th>program_duration</th>\n",
       "      <th>communication_type</th>\n",
       "      <th>target</th>\n",
       "    </tr>\n",
       "  </thead>\n",
       "  <tbody>\n",
       "    <tr>\n",
       "      <th>0</th>\n",
       "      <td>1469</td>\n",
       "      <td>20042.959300</td>\n",
       "      <td>1.598389e+09</td>\n",
       "      <td>9</td>\n",
       "      <td>6694527</td>\n",
       "      <td>32.0</td>\n",
       "      <td>5.0</td>\n",
       "      <td>0.0</td>\n",
       "      <td>0.0</td>\n",
       "      <td>0.0</td>\n",
       "      <td>...</td>\n",
       "      <td>10</td>\n",
       "      <td>2020</td>\n",
       "      <td>4.060800e+06</td>\n",
       "      <td>0</td>\n",
       "      <td>1</td>\n",
       "      <td>2</td>\n",
       "      <td>5</td>\n",
       "      <td>0</td>\n",
       "      <td>1</td>\n",
       "      <td>0</td>\n",
       "    </tr>\n",
       "    <tr>\n",
       "      <th>1</th>\n",
       "      <td>1392</td>\n",
       "      <td>15057.315000</td>\n",
       "      <td>1.596575e+09</td>\n",
       "      <td>6</td>\n",
       "      <td>6712877</td>\n",
       "      <td>0.0</td>\n",
       "      <td>0.0</td>\n",
       "      <td>0.0</td>\n",
       "      <td>0.0</td>\n",
       "      <td>0.0</td>\n",
       "      <td>...</td>\n",
       "      <td>0</td>\n",
       "      <td>0</td>\n",
       "      <td>-1.596575e+09</td>\n",
       "      <td>1</td>\n",
       "      <td>0</td>\n",
       "      <td>2</td>\n",
       "      <td>5</td>\n",
       "      <td>0</td>\n",
       "      <td>0</td>\n",
       "      <td>0</td>\n",
       "    </tr>\n",
       "    <tr>\n",
       "      <th>2</th>\n",
       "      <td>376</td>\n",
       "      <td>23389.029300</td>\n",
       "      <td>1.592600e+09</td>\n",
       "      <td>2</td>\n",
       "      <td>6659444</td>\n",
       "      <td>0.0</td>\n",
       "      <td>0.0</td>\n",
       "      <td>0.0</td>\n",
       "      <td>0.0</td>\n",
       "      <td>0.0</td>\n",
       "      <td>...</td>\n",
       "      <td>8</td>\n",
       "      <td>2022</td>\n",
       "      <td>6.696000e+07</td>\n",
       "      <td>0</td>\n",
       "      <td>0</td>\n",
       "      <td>2</td>\n",
       "      <td>5</td>\n",
       "      <td>48</td>\n",
       "      <td>2</td>\n",
       "      <td>0</td>\n",
       "    </tr>\n",
       "    <tr>\n",
       "      <th>3</th>\n",
       "      <td>1160</td>\n",
       "      <td>22260.632220</td>\n",
       "      <td>1.618348e+09</td>\n",
       "      <td>11</td>\n",
       "      <td>7151591</td>\n",
       "      <td>1.0</td>\n",
       "      <td>0.0</td>\n",
       "      <td>0.0</td>\n",
       "      <td>0.0</td>\n",
       "      <td>0.0</td>\n",
       "      <td>...</td>\n",
       "      <td>9</td>\n",
       "      <td>2022</td>\n",
       "      <td>4.579200e+07</td>\n",
       "      <td>1</td>\n",
       "      <td>1</td>\n",
       "      <td>1</td>\n",
       "      <td>4</td>\n",
       "      <td>16</td>\n",
       "      <td>0</td>\n",
       "      <td>0</td>\n",
       "    </tr>\n",
       "    <tr>\n",
       "      <th>4</th>\n",
       "      <td>952</td>\n",
       "      <td>7255.515915</td>\n",
       "      <td>1.595106e+09</td>\n",
       "      <td>10</td>\n",
       "      <td>6705666</td>\n",
       "      <td>30.0</td>\n",
       "      <td>5.0</td>\n",
       "      <td>0.0</td>\n",
       "      <td>0.0</td>\n",
       "      <td>0.0</td>\n",
       "      <td>...</td>\n",
       "      <td>0</td>\n",
       "      <td>0</td>\n",
       "      <td>-1.595106e+09</td>\n",
       "      <td>1</td>\n",
       "      <td>1</td>\n",
       "      <td>2</td>\n",
       "      <td>5</td>\n",
       "      <td>0</td>\n",
       "      <td>0</td>\n",
       "      <td>0</td>\n",
       "    </tr>\n",
       "    <tr>\n",
       "      <th>...</th>\n",
       "      <td>...</td>\n",
       "      <td>...</td>\n",
       "      <td>...</td>\n",
       "      <td>...</td>\n",
       "      <td>...</td>\n",
       "      <td>...</td>\n",
       "      <td>...</td>\n",
       "      <td>...</td>\n",
       "      <td>...</td>\n",
       "      <td>...</td>\n",
       "      <td>...</td>\n",
       "      <td>...</td>\n",
       "      <td>...</td>\n",
       "      <td>...</td>\n",
       "      <td>...</td>\n",
       "      <td>...</td>\n",
       "      <td>...</td>\n",
       "      <td>...</td>\n",
       "      <td>...</td>\n",
       "      <td>...</td>\n",
       "      <td>...</td>\n",
       "    </tr>\n",
       "    <tr>\n",
       "      <th>199995</th>\n",
       "      <td>1043</td>\n",
       "      <td>10263.967450</td>\n",
       "      <td>1.602796e+09</td>\n",
       "      <td>11</td>\n",
       "      <td>6816668</td>\n",
       "      <td>27.0</td>\n",
       "      <td>0.0</td>\n",
       "      <td>0.0</td>\n",
       "      <td>0.0</td>\n",
       "      <td>0.0</td>\n",
       "      <td>...</td>\n",
       "      <td>0</td>\n",
       "      <td>0</td>\n",
       "      <td>-1.602796e+09</td>\n",
       "      <td>1</td>\n",
       "      <td>1</td>\n",
       "      <td>2</td>\n",
       "      <td>5</td>\n",
       "      <td>0</td>\n",
       "      <td>0</td>\n",
       "      <td>0</td>\n",
       "    </tr>\n",
       "    <tr>\n",
       "      <th>199996</th>\n",
       "      <td>1635</td>\n",
       "      <td>35998.565400</td>\n",
       "      <td>1.609535e+09</td>\n",
       "      <td>9</td>\n",
       "      <td>6984939</td>\n",
       "      <td>0.0</td>\n",
       "      <td>4.5</td>\n",
       "      <td>0.0</td>\n",
       "      <td>0.0</td>\n",
       "      <td>0.0</td>\n",
       "      <td>...</td>\n",
       "      <td>4</td>\n",
       "      <td>2022</td>\n",
       "      <td>4.129920e+07</td>\n",
       "      <td>0</td>\n",
       "      <td>0</td>\n",
       "      <td>0</td>\n",
       "      <td>3</td>\n",
       "      <td>0</td>\n",
       "      <td>0</td>\n",
       "      <td>0</td>\n",
       "    </tr>\n",
       "    <tr>\n",
       "      <th>199997</th>\n",
       "      <td>789</td>\n",
       "      <td>22084.062000</td>\n",
       "      <td>1.593378e+09</td>\n",
       "      <td>3</td>\n",
       "      <td>6670084</td>\n",
       "      <td>17.0</td>\n",
       "      <td>0.0</td>\n",
       "      <td>0.0</td>\n",
       "      <td>0.0</td>\n",
       "      <td>4.0</td>\n",
       "      <td>...</td>\n",
       "      <td>8</td>\n",
       "      <td>2022</td>\n",
       "      <td>6.678720e+07</td>\n",
       "      <td>0</td>\n",
       "      <td>1</td>\n",
       "      <td>2</td>\n",
       "      <td>5</td>\n",
       "      <td>32</td>\n",
       "      <td>2</td>\n",
       "      <td>0</td>\n",
       "    </tr>\n",
       "    <tr>\n",
       "      <th>199998</th>\n",
       "      <td>476</td>\n",
       "      <td>14377.805400</td>\n",
       "      <td>1.607288e+09</td>\n",
       "      <td>6</td>\n",
       "      <td>6917324</td>\n",
       "      <td>0.0</td>\n",
       "      <td>0.0</td>\n",
       "      <td>0.0</td>\n",
       "      <td>0.0</td>\n",
       "      <td>0.0</td>\n",
       "      <td>...</td>\n",
       "      <td>0</td>\n",
       "      <td>0</td>\n",
       "      <td>-1.607288e+09</td>\n",
       "      <td>1</td>\n",
       "      <td>0</td>\n",
       "      <td>0</td>\n",
       "      <td>0</td>\n",
       "      <td>8</td>\n",
       "      <td>0</td>\n",
       "      <td>0</td>\n",
       "    </tr>\n",
       "    <tr>\n",
       "      <th>199999</th>\n",
       "      <td>1104</td>\n",
       "      <td>55596.240000</td>\n",
       "      <td>1.614114e+09</td>\n",
       "      <td>10</td>\n",
       "      <td>7057970</td>\n",
       "      <td>18.0</td>\n",
       "      <td>0.0</td>\n",
       "      <td>0.0</td>\n",
       "      <td>0.0</td>\n",
       "      <td>0.0</td>\n",
       "      <td>...</td>\n",
       "      <td>8</td>\n",
       "      <td>2022</td>\n",
       "      <td>4.613760e+07</td>\n",
       "      <td>1</td>\n",
       "      <td>1</td>\n",
       "      <td>1</td>\n",
       "      <td>3</td>\n",
       "      <td>60</td>\n",
       "      <td>0</td>\n",
       "      <td>0</td>\n",
       "    </tr>\n",
       "  </tbody>\n",
       "</table>\n",
       "<p>200000 rows × 38 columns</p>\n",
       "</div>"
      ],
      "text/plain": [
       "        program_id         price  cart_timestamp  control_month  student_id  \\\n",
       "0             1469  20042.959300    1.598389e+09              9     6694527   \n",
       "1             1392  15057.315000    1.596575e+09              6     6712877   \n",
       "2              376  23389.029300    1.592600e+09              2     6659444   \n",
       "3             1160  22260.632220    1.618348e+09             11     7151591   \n",
       "4              952   7255.515915    1.595106e+09             10     6705666   \n",
       "...            ...           ...             ...            ...         ...   \n",
       "199995        1043  10263.967450    1.602796e+09             11     6816668   \n",
       "199996        1635  35998.565400    1.609535e+09              9     6984939   \n",
       "199997         789  22084.062000    1.593378e+09              3     6670084   \n",
       "199998         476  14377.805400    1.607288e+09              6     6917324   \n",
       "199999        1104  55596.240000    1.614114e+09             10     7057970   \n",
       "\n",
       "        age_indicator  feedback_avg_d1  feedback_avg_d3  feedback_avg_d5  \\\n",
       "0                32.0              5.0              0.0              0.0   \n",
       "1                 0.0              0.0              0.0              0.0   \n",
       "2                 0.0              0.0              0.0              0.0   \n",
       "3                 1.0              0.0              0.0              0.0   \n",
       "4                30.0              5.0              0.0              0.0   \n",
       "...               ...              ...              ...              ...   \n",
       "199995           27.0              0.0              0.0              0.0   \n",
       "199996            0.0              4.5              0.0              0.0   \n",
       "199997           17.0              0.0              0.0              0.0   \n",
       "199998            0.0              0.0              0.0              0.0   \n",
       "199999           18.0              0.0              0.0              0.0   \n",
       "\n",
       "        feedback_avg_d4  ...  current_program_starts_on_month  \\\n",
       "0                   0.0  ...                               10   \n",
       "1                   0.0  ...                                0   \n",
       "2                   0.0  ...                                8   \n",
       "3                   0.0  ...                                9   \n",
       "4                   0.0  ...                                0   \n",
       "...                 ...  ...                              ...   \n",
       "199995              0.0  ...                                0   \n",
       "199996              0.0  ...                                4   \n",
       "199997              4.0  ...                                8   \n",
       "199998              0.0  ...                                0   \n",
       "199999              0.0  ...                                8   \n",
       "\n",
       "        current_program_starts_on_year     time_diff  auto_payment  gender  \\\n",
       "0                                 2020  4.060800e+06             0       1   \n",
       "1                                    0 -1.596575e+09             1       0   \n",
       "2                                 2022  6.696000e+07             0       0   \n",
       "3                                 2022  4.579200e+07             1       1   \n",
       "4                                    0 -1.595106e+09             1       1   \n",
       "...                                ...           ...           ...     ...   \n",
       "199995                               0 -1.602796e+09             1       1   \n",
       "199996                            2022  4.129920e+07             0       0   \n",
       "199997                            2022  6.678720e+07             0       1   \n",
       "199998                               0 -1.607288e+09             1       0   \n",
       "199999                            2022  4.613760e+07             1       1   \n",
       "\n",
       "        platform  os  program_duration  communication_type  target  \n",
       "0              2   5                 0                   1       0  \n",
       "1              2   5                 0                   0       0  \n",
       "2              2   5                48                   2       0  \n",
       "3              1   4                16                   0       0  \n",
       "4              2   5                 0                   0       0  \n",
       "...          ...  ..               ...                 ...     ...  \n",
       "199995         2   5                 0                   0       0  \n",
       "199996         0   3                 0                   0       0  \n",
       "199997         2   5                32                   2       0  \n",
       "199998         0   0                 8                   0       0  \n",
       "199999         1   3                60                   0       0  \n",
       "\n",
       "[200000 rows x 38 columns]"
      ]
     },
     "execution_count": 2257,
     "metadata": {},
     "output_type": "execute_result"
    }
   ],
   "source": [
    "df"
   ]
  },
  {
   "cell_type": "code",
   "execution_count": 2258,
   "metadata": {
    "pycharm": {
     "name": "#%%\n"
    }
   },
   "outputs": [],
   "source": [
    "X =  df.drop([\"target\"], axis = 1)\n",
    "y = df.target"
   ]
  },
  {
   "cell_type": "code",
   "execution_count": 2259,
   "metadata": {
    "pycharm": {
     "name": "#%%\n"
    }
   },
   "outputs": [
    {
     "data": {
      "text/plain": [
       "Index(['program_id', 'price', 'cart_timestamp', 'control_month', 'student_id',\n",
       "       'age_indicator', 'feedback_avg_d1', 'feedback_avg_d3',\n",
       "       'feedback_avg_d5', 'feedback_avg_d4', 'feedback_avg_d2', 'control_year',\n",
       "       'support_feedback_avg', 'ABC', 'promo', 'bought_d1', 'bought_d2',\n",
       "       'bought_d3', 'bought_d4', 'bought_d5', 'bought_avg_duration',\n",
       "       'm_was_conversations', 'p_was_conversations',\n",
       "       'program_family_main_direction_id', 'program_type',\n",
       "       'program_starting_soon', 'current_program_starts_on_timestamp',\n",
       "       'current_program_starts_on_day', 'current_program_starts_on_month',\n",
       "       'current_program_starts_on_year', 'time_diff', 'auto_payment', 'gender',\n",
       "       'platform', 'os', 'program_duration', 'communication_type'],\n",
       "      dtype='object')"
      ]
     },
     "execution_count": 2259,
     "metadata": {},
     "output_type": "execute_result"
    }
   ],
   "source": [
    "X.columns"
   ]
  },
  {
   "cell_type": "code",
   "execution_count": 2260,
   "metadata": {},
   "outputs": [
    {
     "data": {
      "text/plain": [
       "{0: 174301, 1: 13512, 5: 3678, 4: 3659, 3: 3027, 2: 1823}"
      ]
     },
     "execution_count": 2260,
     "metadata": {},
     "output_type": "execute_result"
    }
   ],
   "source": [
    "from collections import Counter\n",
    "class_counts = Counter(y).most_common()\n",
    "class_counts = dict([(cl[0], cl[1]) for cl in class_counts])\n",
    "class_counts"
   ]
  },
  {
   "cell_type": "code",
   "execution_count": 2261,
   "metadata": {},
   "outputs": [],
   "source": [
    "sample_class_counts = class_counts.copy()\n",
    "# sample_class_counts[1] = 50000\n",
    "# sample_class_counts[2] = 13600\n",
    "# sample_class_counts[3] = 14000\n",
    "# sample_class_counts[5] = 17000\n",
    "# sample_class_counts[4] = 15000"
   ]
  },
  {
   "cell_type": "code",
   "execution_count": 2262,
   "metadata": {},
   "outputs": [],
   "source": [
    "# from imblearn.over_sampling import RandomOverSampler\n",
    "# over_sampler: RandomOverSampler = RandomOverSampler(sample_class_counts)\n",
    "# X, y = over_sampler.fit_resample(X, y)    "
   ]
  },
  {
   "cell_type": "code",
   "execution_count": 2263,
   "metadata": {},
   "outputs": [],
   "source": [
    "sample_class_counts[0] = 100_000"
   ]
  },
  {
   "cell_type": "code",
   "execution_count": 2264,
   "metadata": {},
   "outputs": [],
   "source": [
    "# from imblearn.under_sampling import RandomUnderSampler\n",
    "# over_sampler: RandomUnderSampler = RandomUnderSampler(sample_class_counts)\n",
    "# X, y = over_sampler.fit_resample(X, y)    "
   ]
  },
  {
   "cell_type": "code",
   "execution_count": 2265,
   "metadata": {},
   "outputs": [
    {
     "data": {
      "text/plain": [
       "[(0, 174301), (1, 13512), (5, 3678), (4, 3659), (3, 3027), (2, 1823)]"
      ]
     },
     "execution_count": 2265,
     "metadata": {},
     "output_type": "execute_result"
    }
   ],
   "source": [
    "Counter(y).most_common()"
   ]
  },
  {
   "cell_type": "code",
   "execution_count": 2266,
   "metadata": {
    "pycharm": {
     "name": "#%%\n"
    }
   },
   "outputs": [],
   "source": [
    "X_train, X_test, y_train, y_test = train_test_split(X, y, test_size=0.3, random_state=42)"
   ]
  },
  {
   "cell_type": "code",
   "execution_count": 2267,
   "metadata": {
    "pycharm": {
     "name": "#%%\n"
    }
   },
   "outputs": [],
   "source": [
    "clf = RandomForestClassifier(random_state=0, max_depth=50, n_estimators=500)"
   ]
  },
  {
   "cell_type": "code",
   "execution_count": 2268,
   "metadata": {
    "pycharm": {
     "name": "#%%\n"
    }
   },
   "outputs": [
    {
     "data": {
      "text/html": [
       "<style>#sk-container-id-22 {color: black;background-color: white;}#sk-container-id-22 pre{padding: 0;}#sk-container-id-22 div.sk-toggleable {background-color: white;}#sk-container-id-22 label.sk-toggleable__label {cursor: pointer;display: block;width: 100%;margin-bottom: 0;padding: 0.3em;box-sizing: border-box;text-align: center;}#sk-container-id-22 label.sk-toggleable__label-arrow:before {content: \"▸\";float: left;margin-right: 0.25em;color: #696969;}#sk-container-id-22 label.sk-toggleable__label-arrow:hover:before {color: black;}#sk-container-id-22 div.sk-estimator:hover label.sk-toggleable__label-arrow:before {color: black;}#sk-container-id-22 div.sk-toggleable__content {max-height: 0;max-width: 0;overflow: hidden;text-align: left;background-color: #f0f8ff;}#sk-container-id-22 div.sk-toggleable__content pre {margin: 0.2em;color: black;border-radius: 0.25em;background-color: #f0f8ff;}#sk-container-id-22 input.sk-toggleable__control:checked~div.sk-toggleable__content {max-height: 200px;max-width: 100%;overflow: auto;}#sk-container-id-22 input.sk-toggleable__control:checked~label.sk-toggleable__label-arrow:before {content: \"▾\";}#sk-container-id-22 div.sk-estimator input.sk-toggleable__control:checked~label.sk-toggleable__label {background-color: #d4ebff;}#sk-container-id-22 div.sk-label input.sk-toggleable__control:checked~label.sk-toggleable__label {background-color: #d4ebff;}#sk-container-id-22 input.sk-hidden--visually {border: 0;clip: rect(1px 1px 1px 1px);clip: rect(1px, 1px, 1px, 1px);height: 1px;margin: -1px;overflow: hidden;padding: 0;position: absolute;width: 1px;}#sk-container-id-22 div.sk-estimator {font-family: monospace;background-color: #f0f8ff;border: 1px dotted black;border-radius: 0.25em;box-sizing: border-box;margin-bottom: 0.5em;}#sk-container-id-22 div.sk-estimator:hover {background-color: #d4ebff;}#sk-container-id-22 div.sk-parallel-item::after {content: \"\";width: 100%;border-bottom: 1px solid gray;flex-grow: 1;}#sk-container-id-22 div.sk-label:hover label.sk-toggleable__label {background-color: #d4ebff;}#sk-container-id-22 div.sk-serial::before {content: \"\";position: absolute;border-left: 1px solid gray;box-sizing: border-box;top: 0;bottom: 0;left: 50%;z-index: 0;}#sk-container-id-22 div.sk-serial {display: flex;flex-direction: column;align-items: center;background-color: white;padding-right: 0.2em;padding-left: 0.2em;position: relative;}#sk-container-id-22 div.sk-item {position: relative;z-index: 1;}#sk-container-id-22 div.sk-parallel {display: flex;align-items: stretch;justify-content: center;background-color: white;position: relative;}#sk-container-id-22 div.sk-item::before, #sk-container-id-22 div.sk-parallel-item::before {content: \"\";position: absolute;border-left: 1px solid gray;box-sizing: border-box;top: 0;bottom: 0;left: 50%;z-index: -1;}#sk-container-id-22 div.sk-parallel-item {display: flex;flex-direction: column;z-index: 1;position: relative;background-color: white;}#sk-container-id-22 div.sk-parallel-item:first-child::after {align-self: flex-end;width: 50%;}#sk-container-id-22 div.sk-parallel-item:last-child::after {align-self: flex-start;width: 50%;}#sk-container-id-22 div.sk-parallel-item:only-child::after {width: 0;}#sk-container-id-22 div.sk-dashed-wrapped {border: 1px dashed gray;margin: 0 0.4em 0.5em 0.4em;box-sizing: border-box;padding-bottom: 0.4em;background-color: white;}#sk-container-id-22 div.sk-label label {font-family: monospace;font-weight: bold;display: inline-block;line-height: 1.2em;}#sk-container-id-22 div.sk-label-container {text-align: center;}#sk-container-id-22 div.sk-container {/* jupyter's `normalize.less` sets `[hidden] { display: none; }` but bootstrap.min.css set `[hidden] { display: none !important; }` so we also need the `!important` here to be able to override the default hidden behavior on the sphinx rendered scikit-learn.org. See: https://github.com/scikit-learn/scikit-learn/issues/21755 */display: inline-block !important;position: relative;}#sk-container-id-22 div.sk-text-repr-fallback {display: none;}</style><div id=\"sk-container-id-22\" class=\"sk-top-container\"><div class=\"sk-text-repr-fallback\"><pre>RandomForestClassifier(max_depth=50, n_estimators=500, random_state=0)</pre><b>In a Jupyter environment, please rerun this cell to show the HTML representation or trust the notebook. <br />On GitHub, the HTML representation is unable to render, please try loading this page with nbviewer.org.</b></div><div class=\"sk-container\" hidden><div class=\"sk-item\"><div class=\"sk-estimator sk-toggleable\"><input class=\"sk-toggleable__control sk-hidden--visually\" id=\"sk-estimator-id-22\" type=\"checkbox\" checked><label for=\"sk-estimator-id-22\" class=\"sk-toggleable__label sk-toggleable__label-arrow\">RandomForestClassifier</label><div class=\"sk-toggleable__content\"><pre>RandomForestClassifier(max_depth=50, n_estimators=500, random_state=0)</pre></div></div></div></div></div>"
      ],
      "text/plain": [
       "RandomForestClassifier(max_depth=50, n_estimators=500, random_state=0)"
      ]
     },
     "execution_count": 2268,
     "metadata": {},
     "output_type": "execute_result"
    }
   ],
   "source": [
    "clf.fit(X_train, y_train)"
   ]
  },
  {
   "cell_type": "code",
   "execution_count": 2269,
   "metadata": {
    "pycharm": {
     "name": "#%%\n"
    }
   },
   "outputs": [],
   "source": [
    "pred = clf.predict(X_test)"
   ]
  },
  {
   "cell_type": "code",
   "execution_count": 2270,
   "metadata": {
    "pycharm": {
     "name": "#%%\n"
    }
   },
   "outputs": [
    {
     "data": {
      "text/plain": [
       "0.8913651534063769"
      ]
     },
     "execution_count": 2270,
     "metadata": {},
     "output_type": "execute_result"
    }
   ],
   "source": [
    "0.2* recall_score(y_test, pred, average='macro') + 0.8* precision_score(y_test, pred, average='macro')"
   ]
  },
  {
   "cell_type": "code",
   "execution_count": 2271,
   "metadata": {
    "pycharm": {
     "name": "#%%\n"
    }
   },
   "outputs": [
    {
     "data": {
      "text/plain": [
       "array([0, 1, 2, 3, 4, 5], dtype=int64)"
      ]
     },
     "execution_count": 2271,
     "metadata": {},
     "output_type": "execute_result"
    }
   ],
   "source": [
    "clf.classes_"
   ]
  },
  {
   "cell_type": "code",
   "execution_count": 2272,
   "metadata": {
    "pycharm": {
     "name": "#%%\n"
    }
   },
   "outputs": [
    {
     "name": "stdout",
     "output_type": "stream",
     "text": [
      "              precision    recall  f1-score   support\n",
      "\n",
      "           0       0.96      0.99      0.98     52331\n",
      "           1       0.94      0.69      0.79      4005\n",
      "           2       0.92      0.61      0.73       548\n",
      "           3       0.93      0.71      0.80       915\n",
      "           4       0.94      0.69      0.80      1097\n",
      "           5       0.91      0.68      0.78      1104\n",
      "\n",
      "    accuracy                           0.95     60000\n",
      "   macro avg       0.93      0.73      0.81     60000\n",
      "weighted avg       0.95      0.95      0.95     60000\n",
      "\n"
     ]
    }
   ],
   "source": [
    "print(classification_report(y_test, pred))"
   ]
  },
  {
   "cell_type": "code",
   "execution_count": 2273,
   "metadata": {
    "pycharm": {
     "name": "#%%\n"
    }
   },
   "outputs": [
    {
     "data": {
      "text/html": [
       "<div>\n",
       "<style scoped>\n",
       "    .dataframe tbody tr th:only-of-type {\n",
       "        vertical-align: middle;\n",
       "    }\n",
       "\n",
       "    .dataframe tbody tr th {\n",
       "        vertical-align: top;\n",
       "    }\n",
       "\n",
       "    .dataframe thead th {\n",
       "        text-align: right;\n",
       "    }\n",
       "</style>\n",
       "<table border=\"1\" class=\"dataframe\">\n",
       "  <thead>\n",
       "    <tr style=\"text-align: right;\">\n",
       "      <th></th>\n",
       "      <th>value</th>\n",
       "    </tr>\n",
       "  </thead>\n",
       "  <tbody>\n",
       "    <tr>\n",
       "      <th>control_month</th>\n",
       "      <td>0.112505</td>\n",
       "    </tr>\n",
       "    <tr>\n",
       "      <th>student_id</th>\n",
       "      <td>0.098128</td>\n",
       "    </tr>\n",
       "    <tr>\n",
       "      <th>cart_timestamp</th>\n",
       "      <td>0.097722</td>\n",
       "    </tr>\n",
       "    <tr>\n",
       "      <th>time_diff</th>\n",
       "      <td>0.085939</td>\n",
       "    </tr>\n",
       "    <tr>\n",
       "      <th>price</th>\n",
       "      <td>0.077541</td>\n",
       "    </tr>\n",
       "    <tr>\n",
       "      <th>age_indicator</th>\n",
       "      <td>0.068831</td>\n",
       "    </tr>\n",
       "    <tr>\n",
       "      <th>program_id</th>\n",
       "      <td>0.040413</td>\n",
       "    </tr>\n",
       "    <tr>\n",
       "      <th>current_program_starts_on_timestamp</th>\n",
       "      <td>0.028483</td>\n",
       "    </tr>\n",
       "    <tr>\n",
       "      <th>current_program_starts_on_day</th>\n",
       "      <td>0.027625</td>\n",
       "    </tr>\n",
       "    <tr>\n",
       "      <th>gender</th>\n",
       "      <td>0.025215</td>\n",
       "    </tr>\n",
       "    <tr>\n",
       "      <th>program_duration</th>\n",
       "      <td>0.024750</td>\n",
       "    </tr>\n",
       "    <tr>\n",
       "      <th>m_was_conversations</th>\n",
       "      <td>0.024621</td>\n",
       "    </tr>\n",
       "    <tr>\n",
       "      <th>feedback_avg_d1</th>\n",
       "      <td>0.024197</td>\n",
       "    </tr>\n",
       "    <tr>\n",
       "      <th>communication_type</th>\n",
       "      <td>0.020985</td>\n",
       "    </tr>\n",
       "    <tr>\n",
       "      <th>ABC</th>\n",
       "      <td>0.020903</td>\n",
       "    </tr>\n",
       "    <tr>\n",
       "      <th>support_feedback_avg</th>\n",
       "      <td>0.018423</td>\n",
       "    </tr>\n",
       "    <tr>\n",
       "      <th>os</th>\n",
       "      <td>0.018091</td>\n",
       "    </tr>\n",
       "    <tr>\n",
       "      <th>program_family_main_direction_id</th>\n",
       "      <td>0.017313</td>\n",
       "    </tr>\n",
       "    <tr>\n",
       "      <th>feedback_avg_d3</th>\n",
       "      <td>0.015287</td>\n",
       "    </tr>\n",
       "    <tr>\n",
       "      <th>promo</th>\n",
       "      <td>0.015177</td>\n",
       "    </tr>\n",
       "    <tr>\n",
       "      <th>auto_payment</th>\n",
       "      <td>0.015070</td>\n",
       "    </tr>\n",
       "    <tr>\n",
       "      <th>platform</th>\n",
       "      <td>0.014024</td>\n",
       "    </tr>\n",
       "    <tr>\n",
       "      <th>control_year</th>\n",
       "      <td>0.013943</td>\n",
       "    </tr>\n",
       "    <tr>\n",
       "      <th>feedback_avg_d4</th>\n",
       "      <td>0.013396</td>\n",
       "    </tr>\n",
       "    <tr>\n",
       "      <th>feedback_avg_d5</th>\n",
       "      <td>0.012568</td>\n",
       "    </tr>\n",
       "    <tr>\n",
       "      <th>bought_avg_duration</th>\n",
       "      <td>0.011157</td>\n",
       "    </tr>\n",
       "    <tr>\n",
       "      <th>p_was_conversations</th>\n",
       "      <td>0.009357</td>\n",
       "    </tr>\n",
       "    <tr>\n",
       "      <th>feedback_avg_d2</th>\n",
       "      <td>0.009114</td>\n",
       "    </tr>\n",
       "    <tr>\n",
       "      <th>current_program_starts_on_month</th>\n",
       "      <td>0.009073</td>\n",
       "    </tr>\n",
       "    <tr>\n",
       "      <th>program_type</th>\n",
       "      <td>0.008309</td>\n",
       "    </tr>\n",
       "    <tr>\n",
       "      <th>program_starting_soon</th>\n",
       "      <td>0.007665</td>\n",
       "    </tr>\n",
       "    <tr>\n",
       "      <th>bought_d1</th>\n",
       "      <td>0.003780</td>\n",
       "    </tr>\n",
       "    <tr>\n",
       "      <th>current_program_starts_on_year</th>\n",
       "      <td>0.003212</td>\n",
       "    </tr>\n",
       "    <tr>\n",
       "      <th>bought_d5</th>\n",
       "      <td>0.002561</td>\n",
       "    </tr>\n",
       "    <tr>\n",
       "      <th>bought_d3</th>\n",
       "      <td>0.001962</td>\n",
       "    </tr>\n",
       "    <tr>\n",
       "      <th>bought_d4</th>\n",
       "      <td>0.001360</td>\n",
       "    </tr>\n",
       "    <tr>\n",
       "      <th>bought_d2</th>\n",
       "      <td>0.001299</td>\n",
       "    </tr>\n",
       "  </tbody>\n",
       "</table>\n",
       "</div>"
      ],
      "text/plain": [
       "                                        value\n",
       "control_month                        0.112505\n",
       "student_id                           0.098128\n",
       "cart_timestamp                       0.097722\n",
       "time_diff                            0.085939\n",
       "price                                0.077541\n",
       "age_indicator                        0.068831\n",
       "program_id                           0.040413\n",
       "current_program_starts_on_timestamp  0.028483\n",
       "current_program_starts_on_day        0.027625\n",
       "gender                               0.025215\n",
       "program_duration                     0.024750\n",
       "m_was_conversations                  0.024621\n",
       "feedback_avg_d1                      0.024197\n",
       "communication_type                   0.020985\n",
       "ABC                                  0.020903\n",
       "support_feedback_avg                 0.018423\n",
       "os                                   0.018091\n",
       "program_family_main_direction_id     0.017313\n",
       "feedback_avg_d3                      0.015287\n",
       "promo                                0.015177\n",
       "auto_payment                         0.015070\n",
       "platform                             0.014024\n",
       "control_year                         0.013943\n",
       "feedback_avg_d4                      0.013396\n",
       "feedback_avg_d5                      0.012568\n",
       "bought_avg_duration                  0.011157\n",
       "p_was_conversations                  0.009357\n",
       "feedback_avg_d2                      0.009114\n",
       "current_program_starts_on_month      0.009073\n",
       "program_type                         0.008309\n",
       "program_starting_soon                0.007665\n",
       "bought_d1                            0.003780\n",
       "current_program_starts_on_year       0.003212\n",
       "bought_d5                            0.002561\n",
       "bought_d3                            0.001962\n",
       "bought_d4                            0.001360\n",
       "bought_d2                            0.001299"
      ]
     },
     "execution_count": 2273,
     "metadata": {},
     "output_type": "execute_result"
    }
   ],
   "source": [
    "importance_df = pd.DataFrame(clf.feature_importances_, columns=[\"value\"],\n",
    "                             index=clf.feature_names_in_).sort_values(by=\"value\", ascending=False)\n",
    "importance_df"
   ]
  },
  {
   "cell_type": "markdown",
   "metadata": {
    "pycharm": {
     "name": "#%% md\n"
    }
   },
   "source": [
    "#Validation"
   ]
  },
  {
   "cell_type": "code",
   "execution_count": 2274,
   "metadata": {
    "pycharm": {
     "name": "#%%\n"
    }
   },
   "outputs": [],
   "source": [
    "df_test = pd.read_csv(\"./content/test_enriched.csv\")"
   ]
  },
  {
   "cell_type": "code",
   "execution_count": 2275,
   "metadata": {
    "pycharm": {
     "name": "#%%\n"
    }
   },
   "outputs": [],
   "source": [
    "df_test[\"ABC\"] = abc_le.transform(df_test[\"ABC\"])"
   ]
  },
  {
   "cell_type": "code",
   "execution_count": 2276,
   "metadata": {
    "pycharm": {
     "name": "#%%\n"
    }
   },
   "outputs": [],
   "source": [
    "df_test['control_year'] = pd.to_datetime(df_test['month_id']).dt.strftime(\"%Y\").astype(int)\n",
    "df_test['control_month'] = pd.to_datetime(df_test['month_id']).dt.strftime(\"%m\").astype(int)\n",
    "df_test['control_timestamp'] = df_test['month_id'].apply(lambda d: time.mktime(datetime.strptime(d, \"%m/%d/%Y\").timetuple()))\n",
    "\n",
    "df_test['cart_day'] = pd.to_datetime(df_test['carts_created_at']).dt.strftime(\"%d\").astype(int)\n",
    "df_test['cart_month'] = pd.to_datetime(df_test['carts_created_at']).dt.strftime(\"%m\").astype(int)\n",
    "df_test['cart_year'] = pd.to_datetime(df_test['carts_created_at']).dt.strftime(\"%Y\").astype(int)\n",
    "df_test['cart_timestamp'] = df_test['carts_created_at'].apply(lambda d: time.mktime(datetime.strptime(d, \"%m/%d/%Y\").timetuple()))"
   ]
  },
  {
   "cell_type": "code",
   "execution_count": 2277,
   "metadata": {
    "pycharm": {
     "name": "#%%\n"
    }
   },
   "outputs": [],
   "source": [
    "df_test['promo']=df['promo'].apply(lambda promo: promo =='+').astype(int)"
   ]
  },
  {
   "cell_type": "code",
   "execution_count": 2278,
   "metadata": {
    "pycharm": {
     "name": "#%%\n"
    }
   },
   "outputs": [],
   "source": [
    "df_test[\"communication_type\"] = ct_le.transform(df_test[\"communication_type\"])"
   ]
  },
  {
   "cell_type": "code",
   "execution_count": 2279,
   "metadata": {
    "pycharm": {
     "name": "#%%\n"
    }
   },
   "outputs": [],
   "source": [
    "df_test=df_test.apply(lambda row: os_trans(row), axis=1)\n",
    "df_test[\"os\"] = os_le.transform(df_test[\"os\"])\n",
    "df_test.platform=df_test.platform.apply(lambda p: 'mobile' if p =='tablet' else p)\n",
    "df_test[\"platform\"] = platform_le.transform(df_test[\"platform\"])"
   ]
  },
  {
   "cell_type": "code",
   "execution_count": 2280,
   "metadata": {
    "pycharm": {
     "name": "#%%\n"
    }
   },
   "outputs": [],
   "source": [
    "df_test[\"program_type\"] = program_type_le.transform(df_test[\"program_type\"])\n",
    "df_test[\"program_starting_soon\"] = program_starting_soon_le.transform(df_test[\"program_starting_soon\"])"
   ]
  },
  {
   "cell_type": "code",
   "execution_count": 2281,
   "metadata": {
    "pycharm": {
     "name": "#%%\n"
    }
   },
   "outputs": [],
   "source": [
    "program_family_price_type_le_dict = dict(zip(program_family_price_type_le.classes_, program_family_price_type_le.transform(program_family_price_type_le.classes_)))\n",
    "df_test['program_family_price_type'] = df_test['program_family_price_type'].apply(lambda program_family_price_type: program_family_price_type_le_dict.get(program_family_price_type, -1))"
   ]
  },
  {
   "cell_type": "code",
   "execution_count": 2282,
   "metadata": {
    "pycharm": {
     "name": "#%%\n"
    }
   },
   "outputs": [],
   "source": [
    "df_test['current_program_starts_on_day'] = pd.to_datetime(df_test['current_program_starts_on']).dt.strftime(\"%d\")\n",
    "df_test['current_program_starts_on_month'] = pd.to_datetime(df_test['current_program_starts_on']).dt.strftime(\"%m\")\n",
    "df_test['current_program_starts_on_year'] = pd.to_datetime(df_test['current_program_starts_on']).dt.strftime(\"%Y\")"
   ]
  },
  {
   "cell_type": "code",
   "execution_count": 2283,
   "metadata": {
    "pycharm": {
     "name": "#%%\n"
    }
   },
   "outputs": [],
   "source": [
    "df_test['current_program_starts_on_timestamp'] = df_test['current_program_starts_on'].apply(lambda d: to_timestamp(d))"
   ]
  },
  {
   "cell_type": "code",
   "execution_count": 2284,
   "metadata": {
    "pycharm": {
     "name": "#%%\n"
    }
   },
   "outputs": [],
   "source": [
    "df_test[['program_duration']]=df_test[['program_duration']].fillna('0 недель')\n",
    "df_test=df_test.apply(lambda row: transform_duration(row), axis=1)"
   ]
  },
  {
   "cell_type": "code",
   "execution_count": 2285,
   "metadata": {
    "pycharm": {
     "name": "#%%\n"
    }
   },
   "outputs": [],
   "source": [
    "browser_le_dict = dict(zip(browser_le.classes_, browser_le.transform(browser_le.classes_)))\n",
    "df_test['browser'] = df_test['browser'].apply(lambda browser: browser_le_dict.get(browser, -1))"
   ]
  },
  {
   "cell_type": "code",
   "execution_count": 2286,
   "metadata": {
    "pycharm": {
     "name": "#%%\n"
    }
   },
   "outputs": [],
   "source": [
    "# df_test = df_test.apply(lambda row: age_transform(row), axis=1)"
   ]
  },
  {
   "cell_type": "code",
   "execution_count": 2287,
   "metadata": {
    "pycharm": {
     "name": "#%%\n"
    }
   },
   "outputs": [],
   "source": [
    "# df_test = df_test.apply(lambda row: replace_country(row), axis=1)"
   ]
  },
  {
   "cell_type": "code",
   "execution_count": 2288,
   "metadata": {
    "pycharm": {
     "name": "#%%\n"
    }
   },
   "outputs": [],
   "source": [
    "# df_test[\"country\"] = country_le.transform(df_test[\"country\"])"
   ]
  },
  {
   "cell_type": "code",
   "execution_count": 2289,
   "metadata": {
    "pycharm": {
     "name": "#%%\n"
    }
   },
   "outputs": [
    {
     "name": "stdout",
     "output_type": "stream",
     "text": [
      "<class 'pandas.core.frame.DataFrame'>\n",
      "RangeIndex: 84997 entries, 0 to 84996\n",
      "Data columns (total 77 columns):\n",
      " #   Column                               Non-Null Count  Dtype  \n",
      "---  ------                               --------------  -----  \n",
      " 0   ABC                                  84997 non-null  int64  \n",
      " 1   activity                             41481 non-null  float64\n",
      " 2   age_indicator                        67548 non-null  float64\n",
      " 3   auto_payment                         84997 non-null  int64  \n",
      " 4   available_program_starts_on          80233 non-null  object \n",
      " 5   avg_hw_mark                          18909 non-null  float64\n",
      " 6   avg_quiz_result                      6954 non-null   float64\n",
      " 7   bought_avg_duration                  4277 non-null   float64\n",
      " 8   bought_d1                            84997 non-null  int64  \n",
      " 9   bought_d2                            84997 non-null  int64  \n",
      " 10  bought_d3                            84997 non-null  int64  \n",
      " 11  bought_d4                            84997 non-null  int64  \n",
      " 12  bought_d5                            84997 non-null  int64  \n",
      " 13  browser                              84997 non-null  int64  \n",
      " 14  carts_created_at                     84997 non-null  object \n",
      " 15  city                                 5669 non-null   object \n",
      " 16  communication_type                   84997 non-null  int64  \n",
      " 17  completed_hw                         41481 non-null  float64\n",
      " 18  country                              5423 non-null   object \n",
      " 19  current_program_starts_on            80233 non-null  object \n",
      " 20  failed_hw                            41481 non-null  float64\n",
      " 21  feedback_avg_d1                      20650 non-null  float64\n",
      " 22  feedback_avg_d2                      6237 non-null   float64\n",
      " 23  feedback_avg_d3                      7640 non-null   float64\n",
      " 24  feedback_avg_d4                      10678 non-null  float64\n",
      " 25  feedback_avg_d5                      6756 non-null   float64\n",
      " 26  gender                               84978 non-null  float64\n",
      " 27  hw_leader                            41481 non-null  float64\n",
      " 28  id                                   84997 non-null  int64  \n",
      " 29  interacted_hw                        41481 non-null  float64\n",
      " 30  lessons                              41481 non-null  float64\n",
      " 31  m_avg_duration                       19375 non-null  float64\n",
      " 32  m_avg_talk_duration                  21908 non-null  float64\n",
      " 33  m_missed_calls                       21908 non-null  float64\n",
      " 34  m_total_calls                        21908 non-null  float64\n",
      " 35  m_total_duration                     21908 non-null  float64\n",
      " 36  m_was_conversations                  21908 non-null  float64\n",
      " 37  month_id                             84997 non-null  object \n",
      " 38  notes                                41481 non-null  float64\n",
      " 39  os                                   84997 non-null  int64  \n",
      " 40  p_avg_duration                       5867 non-null   float64\n",
      " 41  p_avg_talk_duration                  7129 non-null   float64\n",
      " 42  p_missed_calls                       7129 non-null   float64\n",
      " 43  p_total_calls                        7129 non-null   float64\n",
      " 44  p_total_duration                     7129 non-null   float64\n",
      " 45  p_was_conversations                  7129 non-null   float64\n",
      " 46  payment_type                         84997 non-null  int64  \n",
      " 47  platform                             84997 non-null  int64  \n",
      " 48  price                                84997 non-null  float64\n",
      " 49  program_duration                     84997 non-null  int64  \n",
      " 50  program_family_main_direction_id     84994 non-null  float64\n",
      " 51  program_family_price_type            84997 non-null  int64  \n",
      " 52  program_id                           84997 non-null  int64  \n",
      " 53  program_price_type                   58914 non-null  object \n",
      " 54  program_starting_soon                84997 non-null  int64  \n",
      " 55  program_type                         84997 non-null  int64  \n",
      " 56  promo                                84997 non-null  int64  \n",
      " 57  reworked_hw                          41481 non-null  float64\n",
      " 58  speed_recall                         9283 non-null   float64\n",
      " 59  spent_time_to_complete_hw            18046 non-null  float64\n",
      " 60  spent_time_total                     36687 non-null  float64\n",
      " 61  student_id                           84997 non-null  int64  \n",
      " 62  support_feedback_avg                 15749 non-null  float64\n",
      " 63  test_with_good_mark                  41481 non-null  float64\n",
      " 64  test_with_great_mark                 41481 non-null  float64\n",
      " 65  webinars                             41481 non-null  float64\n",
      " 66  control_year                         84997 non-null  int64  \n",
      " 67  control_month                        84997 non-null  int64  \n",
      " 68  control_timestamp                    84997 non-null  float64\n",
      " 69  cart_day                             84997 non-null  int64  \n",
      " 70  cart_month                           84997 non-null  int64  \n",
      " 71  cart_year                            84997 non-null  int64  \n",
      " 72  cart_timestamp                       84997 non-null  float64\n",
      " 73  current_program_starts_on_day        80233 non-null  object \n",
      " 74  current_program_starts_on_month      80233 non-null  object \n",
      " 75  current_program_starts_on_year       80233 non-null  object \n",
      " 76  current_program_starts_on_timestamp  80233 non-null  float64\n",
      "dtypes: float64(42), int64(25), object(10)\n",
      "memory usage: 49.9+ MB\n"
     ]
    }
   ],
   "source": [
    "df_test.info()"
   ]
  },
  {
   "cell_type": "code",
   "execution_count": 2290,
   "metadata": {
    "pycharm": {
     "name": "#%%\n"
    }
   },
   "outputs": [],
   "source": [
    "# mass_object_v = mass_object[mass_object!=\"target\"]"
   ]
  },
  {
   "cell_type": "code",
   "execution_count": 2291,
   "metadata": {
    "pycharm": {
     "name": "#%%\n"
    }
   },
   "outputs": [],
   "source": [
    "# X_val = df_test.drop(mass_object_v, axis = 1)"
   ]
  },
  {
   "cell_type": "code",
   "execution_count": 2292,
   "metadata": {
    "pycharm": {
     "name": "#%%\n"
    }
   },
   "outputs": [],
   "source": [
    "df_test = df_test.fillna(0)"
   ]
  },
  {
   "cell_type": "code",
   "execution_count": 2293,
   "metadata": {
    "pycharm": {
     "name": "#%%\n"
    }
   },
   "outputs": [],
   "source": [
    "df_test[\"time_diff\"] = df_test[\"current_program_starts_on_timestamp\"] - df_test[\"cart_timestamp\"]"
   ]
  },
  {
   "cell_type": "code",
   "execution_count": 2294,
   "metadata": {
    "pycharm": {
     "name": "#%%\n"
    }
   },
   "outputs": [],
   "source": [
    "df_test.gender=df_test.gender.astype(int)"
   ]
  },
  {
   "cell_type": "code",
   "execution_count": 2295,
   "metadata": {
    "pycharm": {
     "name": "#%%\n"
    }
   },
   "outputs": [],
   "source": [
    "# df_test=df_test.apply(lambda row: price_trans(row), axis=1)"
   ]
  },
  {
   "cell_type": "code",
   "execution_count": 2296,
   "metadata": {
    "pycharm": {
     "name": "#%%\n"
    }
   },
   "outputs": [
    {
     "name": "stdout",
     "output_type": "stream",
     "text": [
      "<class 'pandas.core.frame.DataFrame'>\n",
      "RangeIndex: 84997 entries, 0 to 84996\n",
      "Data columns (total 78 columns):\n",
      " #   Column                               Non-Null Count  Dtype  \n",
      "---  ------                               --------------  -----  \n",
      " 0   ABC                                  84997 non-null  int64  \n",
      " 1   activity                             84997 non-null  float64\n",
      " 2   age_indicator                        84997 non-null  float64\n",
      " 3   auto_payment                         84997 non-null  int64  \n",
      " 4   available_program_starts_on          84997 non-null  object \n",
      " 5   avg_hw_mark                          84997 non-null  float64\n",
      " 6   avg_quiz_result                      84997 non-null  float64\n",
      " 7   bought_avg_duration                  84997 non-null  float64\n",
      " 8   bought_d1                            84997 non-null  int64  \n",
      " 9   bought_d2                            84997 non-null  int64  \n",
      " 10  bought_d3                            84997 non-null  int64  \n",
      " 11  bought_d4                            84997 non-null  int64  \n",
      " 12  bought_d5                            84997 non-null  int64  \n",
      " 13  browser                              84997 non-null  int64  \n",
      " 14  carts_created_at                     84997 non-null  object \n",
      " 15  city                                 84997 non-null  object \n",
      " 16  communication_type                   84997 non-null  int64  \n",
      " 17  completed_hw                         84997 non-null  float64\n",
      " 18  country                              84997 non-null  object \n",
      " 19  current_program_starts_on            84997 non-null  object \n",
      " 20  failed_hw                            84997 non-null  float64\n",
      " 21  feedback_avg_d1                      84997 non-null  float64\n",
      " 22  feedback_avg_d2                      84997 non-null  float64\n",
      " 23  feedback_avg_d3                      84997 non-null  float64\n",
      " 24  feedback_avg_d4                      84997 non-null  float64\n",
      " 25  feedback_avg_d5                      84997 non-null  float64\n",
      " 26  gender                               84997 non-null  int32  \n",
      " 27  hw_leader                            84997 non-null  float64\n",
      " 28  id                                   84997 non-null  int64  \n",
      " 29  interacted_hw                        84997 non-null  float64\n",
      " 30  lessons                              84997 non-null  float64\n",
      " 31  m_avg_duration                       84997 non-null  float64\n",
      " 32  m_avg_talk_duration                  84997 non-null  float64\n",
      " 33  m_missed_calls                       84997 non-null  float64\n",
      " 34  m_total_calls                        84997 non-null  float64\n",
      " 35  m_total_duration                     84997 non-null  float64\n",
      " 36  m_was_conversations                  84997 non-null  float64\n",
      " 37  month_id                             84997 non-null  object \n",
      " 38  notes                                84997 non-null  float64\n",
      " 39  os                                   84997 non-null  int64  \n",
      " 40  p_avg_duration                       84997 non-null  float64\n",
      " 41  p_avg_talk_duration                  84997 non-null  float64\n",
      " 42  p_missed_calls                       84997 non-null  float64\n",
      " 43  p_total_calls                        84997 non-null  float64\n",
      " 44  p_total_duration                     84997 non-null  float64\n",
      " 45  p_was_conversations                  84997 non-null  float64\n",
      " 46  payment_type                         84997 non-null  int64  \n",
      " 47  platform                             84997 non-null  int64  \n",
      " 48  price                                84997 non-null  float64\n",
      " 49  program_duration                     84997 non-null  int64  \n",
      " 50  program_family_main_direction_id     84997 non-null  float64\n",
      " 51  program_family_price_type            84997 non-null  int64  \n",
      " 52  program_id                           84997 non-null  int64  \n",
      " 53  program_price_type                   84997 non-null  object \n",
      " 54  program_starting_soon                84997 non-null  int64  \n",
      " 55  program_type                         84997 non-null  int64  \n",
      " 56  promo                                84997 non-null  int64  \n",
      " 57  reworked_hw                          84997 non-null  float64\n",
      " 58  speed_recall                         84997 non-null  float64\n",
      " 59  spent_time_to_complete_hw            84997 non-null  float64\n",
      " 60  spent_time_total                     84997 non-null  float64\n",
      " 61  student_id                           84997 non-null  int64  \n",
      " 62  support_feedback_avg                 84997 non-null  float64\n",
      " 63  test_with_good_mark                  84997 non-null  float64\n",
      " 64  test_with_great_mark                 84997 non-null  float64\n",
      " 65  webinars                             84997 non-null  float64\n",
      " 66  control_year                         84997 non-null  int64  \n",
      " 67  control_month                        84997 non-null  int64  \n",
      " 68  control_timestamp                    84997 non-null  float64\n",
      " 69  cart_day                             84997 non-null  int64  \n",
      " 70  cart_month                           84997 non-null  int64  \n",
      " 71  cart_year                            84997 non-null  int64  \n",
      " 72  cart_timestamp                       84997 non-null  float64\n",
      " 73  current_program_starts_on_day        84997 non-null  object \n",
      " 74  current_program_starts_on_month      84997 non-null  object \n",
      " 75  current_program_starts_on_year       84997 non-null  object \n",
      " 76  current_program_starts_on_timestamp  84997 non-null  float64\n",
      " 77  time_diff                            84997 non-null  float64\n",
      "dtypes: float64(42), int32(1), int64(25), object(10)\n",
      "memory usage: 50.3+ MB\n"
     ]
    }
   ],
   "source": [
    "df_test.info()"
   ]
  },
  {
   "cell_type": "code",
   "execution_count": 2297,
   "metadata": {
    "pycharm": {
     "name": "#%%\n"
    }
   },
   "outputs": [],
   "source": [
    "# mass_object_v = mass_object[mass_object!=\"target\"]"
   ]
  },
  {
   "cell_type": "code",
   "execution_count": 2298,
   "metadata": {
    "pycharm": {
     "name": "#%%\n"
    }
   },
   "outputs": [],
   "source": [
    "# X_val = df_test.drop(mass_object_v, axis = 1)"
   ]
  },
  {
   "cell_type": "code",
   "execution_count": 2299,
   "metadata": {
    "pycharm": {
     "name": "#%%\n"
    }
   },
   "outputs": [],
   "source": [
    "# df_test = df_test.fillna(df_test.median())"
   ]
  },
  {
   "cell_type": "code",
   "execution_count": 2300,
   "metadata": {},
   "outputs": [],
   "source": [
    "df_test['current_program_starts_on_day'] = df_test['current_program_starts_on_day'].astype(int)\n",
    "df_test['current_program_starts_on_month'] = df_test['current_program_starts_on_month'].astype(int)\n",
    "df_test['current_program_starts_on_year'] = df_test['current_program_starts_on_year'].astype(int)"
   ]
  },
  {
   "cell_type": "code",
   "execution_count": 2301,
   "metadata": {
    "pycharm": {
     "name": "#%%\n"
    }
   },
   "outputs": [],
   "source": [
    "df_test[\"time_diff\"] = df_test[\"current_program_starts_on_timestamp\"] - df_test[\"cart_timestamp\"]"
   ]
  },
  {
   "cell_type": "code",
   "execution_count": 2302,
   "metadata": {
    "pycharm": {
     "name": "#%%\n"
    }
   },
   "outputs": [],
   "source": [
    "df_test.gender=df_test.gender.astype(int)"
   ]
  },
  {
   "cell_type": "code",
   "execution_count": 2303,
   "metadata": {
    "pycharm": {
     "name": "#%%\n"
    }
   },
   "outputs": [],
   "source": [
    "# df_test=df_test.apply(lambda row: price_trans(row), axis=1)"
   ]
  },
  {
   "cell_type": "code",
   "execution_count": 2304,
   "metadata": {
    "pycharm": {
     "name": "#%%\n"
    }
   },
   "outputs": [],
   "source": [
    "X_val=df_test[x_feats]"
   ]
  },
  {
   "cell_type": "code",
   "execution_count": 2305,
   "metadata": {
    "pycharm": {
     "name": "#%%\n"
    }
   },
   "outputs": [],
   "source": [
    "pred_test = clf.predict(X_val)"
   ]
  },
  {
   "cell_type": "code",
   "execution_count": 2306,
   "metadata": {
    "pycharm": {
     "name": "#%%\n"
    }
   },
   "outputs": [],
   "source": [
    "df_test[\"target\"] = pred_test"
   ]
  },
  {
   "cell_type": "code",
   "execution_count": 2307,
   "metadata": {
    "pycharm": {
     "name": "#%%\n"
    }
   },
   "outputs": [],
   "source": [
    "df_test=df_test[[\"id\", \"target\"]]"
   ]
  },
  {
   "cell_type": "code",
   "execution_count": 2308,
   "metadata": {
    "pycharm": {
     "name": "#%%\n"
    }
   },
   "outputs": [],
   "source": [
    "df_test.to_csv(\"./content/pred.csv\", index=False)"
   ]
  },
  {
   "cell_type": "code",
   "execution_count": null,
   "metadata": {
    "pycharm": {
     "name": "#%%\n"
    }
   },
   "outputs": [],
   "source": []
  },
  {
   "cell_type": "code",
   "execution_count": 2309,
   "metadata": {
    "pycharm": {
     "name": "#%%\n"
    }
   },
   "outputs": [
    {
     "data": {
      "text/plain": [
       "{0: 77606, 1: 3933, 4: 1066, 5: 1054, 3: 889, 2: 449}"
      ]
     },
     "execution_count": 2309,
     "metadata": {},
     "output_type": "execute_result"
    }
   ],
   "source": [
    "from collections import Counter\n",
    "class_counts = Counter(df_test.target).most_common()\n",
    "class_counts = dict([(cl[0], cl[1]) for cl in class_counts])\n",
    "class_counts"
   ]
  },
  {
   "cell_type": "code",
   "execution_count": null,
   "metadata": {},
   "outputs": [],
   "source": []
  },
  {
   "cell_type": "code",
   "execution_count": null,
   "metadata": {},
   "outputs": [],
   "source": []
  }
 ],
 "metadata": {
  "colab": {
   "collapsed_sections": [],
   "name": "Нетология_baseline.ipynb",
   "provenance": []
  },
  "kernelspec": {
   "display_name": "Python 3 (ipykernel)",
   "language": "python",
   "name": "python3"
  },
  "language_info": {
   "codemirror_mode": {
    "name": "ipython",
    "version": 3
   },
   "file_extension": ".py",
   "mimetype": "text/x-python",
   "name": "python",
   "nbconvert_exporter": "python",
   "pygments_lexer": "ipython3",
   "version": "3.9.13"
  }
 },
 "nbformat": 4,
 "nbformat_minor": 1
}
