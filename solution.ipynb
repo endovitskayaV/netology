{
 "cells": [
  {
   "cell_type": "code",
   "execution_count": 842,
   "metadata": {
    "id": "MTgpe_1quUDs",
    "pycharm": {
     "is_executing": true,
     "name": "#%%\n"
    }
   },
   "outputs": [],
   "source": [
    "import pandas as pd\n",
    "import seaborn as sns\n",
    "import matplotlib.pyplot as plt\n",
    "from sklearn.model_selection import train_test_split\n",
    "from sklearn.ensemble import RandomForestClassifier\n",
    "from sklearn import tree\n",
    "import numpy as np\n",
    "from sklearn.metrics import recall_score, precision_score\n",
    "from sklearn.metrics import classification_report\n",
    "from sklearn import preprocessing\n",
    "\n",
    "import time\n",
    "from datetime import datetime\n",
    "\n",
    "from sklearn.experimental import enable_iterative_imputer\n",
    "from sklearn.impute import IterativeImputer\n",
    "\n",
    "%matplotlib inline\n",
    "\n",
    "from catboost import CatBoostClassifier"
   ]
  },
  {
   "cell_type": "code",
   "execution_count": 843,
   "metadata": {
    "id": "o9N4JbcWudk2",
    "pycharm": {
     "name": "#%%\n"
    }
   },
   "outputs": [],
   "source": [
    "df = pd.read_csv(\"./content/train_enriched.csv\")"
   ]
  },
  {
   "cell_type": "code",
   "execution_count": 844,
   "metadata": {},
   "outputs": [],
   "source": [
    "abc_le = preprocessing.LabelEncoder()\n",
    "df[\"ABC\"] = abc_le.fit_transform(df[\"ABC\"])"
   ]
  },
  {
   "cell_type": "code",
   "execution_count": 845,
   "metadata": {},
   "outputs": [],
   "source": [
    "df['control_year'] = pd.to_datetime(df['month_id']).dt.strftime(\"%Y\").astype(int)\n",
    "df['control_month'] = pd.to_datetime(df['month_id']).dt.strftime(\"%m\").astype(int)\n",
    "\n",
    "df['cart_day'] = pd.to_datetime(df['carts_created_at']).dt.strftime(\"%d\").astype(int)\n",
    "df['cart_month'] = pd.to_datetime(df['carts_created_at']).dt.strftime(\"%m\").astype(int)\n",
    "df['cart_year'] = pd.to_datetime(df['carts_created_at']).dt.strftime(\"%Y\").astype(int)\n",
    "df['cart_timestamp'] = df['carts_created_at'].apply(lambda d: time.mktime(datetime.strptime(d, \"%m/%d/%Y\").timetuple()))"
   ]
  },
  {
   "cell_type": "code",
   "execution_count": 846,
   "metadata": {},
   "outputs": [],
   "source": [
    "df['promo']=df['promo'].apply(lambda promo: promo =='+').astype(int)"
   ]
  },
  {
   "cell_type": "code",
   "execution_count": 847,
   "metadata": {},
   "outputs": [],
   "source": [
    "ct_le = preprocessing.LabelEncoder()\n",
    "df[\"communication_type\"] = ct_le.fit_transform(df[\"communication_type\"])"
   ]
  },
  {
   "cell_type": "code",
   "execution_count": 848,
   "metadata": {},
   "outputs": [],
   "source": [
    "os_le = preprocessing.LabelEncoder()\n",
    "df[\"os\"] = os_le.fit_transform(df[\"os\"])\n",
    "\n",
    "browser_le = preprocessing.LabelEncoder()\n",
    "df[\"browser\"] = browser_le.fit_transform(df[\"browser\"])\n",
    "\n",
    "platform_le = preprocessing.LabelEncoder()\n",
    "df[\"platform\"] = platform_le.fit_transform(df[\"platform\"])\n",
    "\n",
    "program_family_price_type_le = preprocessing.LabelEncoder()\n",
    "df[\"program_family_price_type\"] = program_family_price_type_le.fit_transform(df[\"program_family_price_type\"])\n",
    "\n",
    "program_type_le = preprocessing.LabelEncoder()\n",
    "df[\"program_type\"] = program_type_le.fit_transform(df[\"program_type\"])\n",
    "\n",
    "program_starting_soon_le = preprocessing.LabelEncoder()\n",
    "df[\"program_starting_soon\"] = program_starting_soon_le.fit_transform(df[\"program_starting_soon\"])"
   ]
  },
  {
   "cell_type": "code",
   "execution_count": 849,
   "metadata": {},
   "outputs": [],
   "source": [
    "df['current_program_starts_on_day'] = pd.to_datetime(df['current_program_starts_on']).dt.strftime(\"%d\")\n",
    "df['current_program_starts_on_month'] = pd.to_datetime(df['current_program_starts_on']).dt.strftime(\"%m\")\n",
    "df['current_program_starts_on_year'] = pd.to_datetime(df['current_program_starts_on']).dt.strftime(\"%Y\")"
   ]
  },
  {
   "cell_type": "code",
   "execution_count": 861,
   "metadata": {},
   "outputs": [],
   "source": [
    "def to_timestamp(d):\n",
    "    if not isinstance(d, float):\n",
    "        d = time.mktime(datetime.strptime(d, \"%Y-%m-%d\").timetuple())\n",
    "    return d"
   ]
  },
  {
   "cell_type": "code",
   "execution_count": 862,
   "metadata": {},
   "outputs": [],
   "source": [
    "df['current_program_starts_on_timestamp'] = df['current_program_starts_on'].apply(lambda d: to_timestamp(d))"
   ]
  },
  {
   "cell_type": "code",
   "execution_count": 863,
   "metadata": {},
   "outputs": [
    {
     "data": {
      "text/plain": [
       "0         1.602450e+09\n",
       "1                  NaN\n",
       "2         1.659560e+09\n",
       "3         1.664140e+09\n",
       "4                  NaN\n",
       "              ...     \n",
       "199995             NaN\n",
       "199996    1.650834e+09\n",
       "199997    1.660165e+09\n",
       "199998             NaN\n",
       "199999    1.660252e+09\n",
       "Name: current_program_starts_on_timestamp, Length: 200000, dtype: float64"
      ]
     },
     "execution_count": 863,
     "metadata": {},
     "output_type": "execute_result"
    }
   ],
   "source": [
    "df['current_program_starts_on_timestamp']"
   ]
  },
  {
   "cell_type": "code",
   "execution_count": 864,
   "metadata": {},
   "outputs": [],
   "source": [
    "def transform_duration(row):\n",
    "    program_duration = str(row.program_duration)\n",
    "    splt =  program_duration.split(' ')\n",
    "    unit = splt[1][0:3]\n",
    "    number = int(splt[0])\n",
    "    if unit =='мес':\n",
    "        number=number * 4\n",
    "    row['program_duration'] = number\n",
    "    return row\n"
   ]
  },
  {
   "cell_type": "code",
   "execution_count": 865,
   "metadata": {},
   "outputs": [],
   "source": [
    "df[['program_duration']]=df[['program_duration']].fillna('0 недель')\n",
    "df=df.apply(lambda row: transform_duration(row), axis=1)"
   ]
  },
  {
   "cell_type": "code",
   "execution_count": 866,
   "metadata": {},
   "outputs": [],
   "source": [
    "def replace_country(row):\n",
    "    country=row['country']\n",
    "    if country in ['Россия', '<span>Россия</span>', 'Росссия','РФ']:\n",
    "         row['country']= \"Россия\"\n",
    "    return row"
   ]
  },
  {
   "cell_type": "code",
   "execution_count": 867,
   "metadata": {},
   "outputs": [],
   "source": [
    "df = df.apply(lambda row: replace_country(row), axis=1)"
   ]
  },
  {
   "cell_type": "code",
   "execution_count": 868,
   "metadata": {},
   "outputs": [],
   "source": [
    "country_le = preprocessing.LabelEncoder()\n",
    "df[\"country\"] = country_le.fit_transform(df[\"country\"])"
   ]
  },
  {
   "cell_type": "code",
   "execution_count": 869,
   "metadata": {},
   "outputs": [
    {
     "name": "stdout",
     "output_type": "stream",
     "text": [
      "<class 'pandas.core.frame.DataFrame'>\n",
      "RangeIndex: 200000 entries, 0 to 199999\n",
      "Data columns (total 77 columns):\n",
      " #   Column                               Non-Null Count   Dtype  \n",
      "---  ------                               --------------   -----  \n",
      " 0   ABC                                  200000 non-null  int64  \n",
      " 1   activity                             97599 non-null   float64\n",
      " 2   age_indicator                        159123 non-null  float64\n",
      " 3   auto_payment                         200000 non-null  int64  \n",
      " 4   available_program_starts_on          188693 non-null  object \n",
      " 5   avg_hw_mark                          44496 non-null   float64\n",
      " 6   avg_quiz_result                      16259 non-null   float64\n",
      " 7   bought_avg_duration                  10359 non-null   float64\n",
      " 8   bought_d1                            200000 non-null  int64  \n",
      " 9   bought_d2                            200000 non-null  int64  \n",
      " 10  bought_d3                            200000 non-null  int64  \n",
      " 11  bought_d4                            200000 non-null  int64  \n",
      " 12  bought_d5                            200000 non-null  int64  \n",
      " 13  browser                              200000 non-null  int64  \n",
      " 14  carts_created_at                     200000 non-null  object \n",
      " 15  city                                 13592 non-null   object \n",
      " 16  communication_type                   200000 non-null  int64  \n",
      " 17  completed_hw                         97599 non-null   float64\n",
      " 18  country                              200000 non-null  int32  \n",
      " 19  current_program_starts_on            188693 non-null  object \n",
      " 20  failed_hw                            97599 non-null   float64\n",
      " 21  feedback_avg_d1                      48496 non-null   float64\n",
      " 22  feedback_avg_d2                      14805 non-null   float64\n",
      " 23  feedback_avg_d3                      17778 non-null   float64\n",
      " 24  feedback_avg_d4                      25076 non-null   float64\n",
      " 25  feedback_avg_d5                      15733 non-null   float64\n",
      " 26  gender                               199940 non-null  float64\n",
      " 27  hw_leader                            97599 non-null   float64\n",
      " 28  id                                   200000 non-null  int64  \n",
      " 29  interacted_hw                        97599 non-null   float64\n",
      " 30  lessons                              97599 non-null   float64\n",
      " 31  m_avg_duration                       45764 non-null   float64\n",
      " 32  m_avg_talk_duration                  51537 non-null   float64\n",
      " 33  m_missed_calls                       51537 non-null   float64\n",
      " 34  m_total_calls                        51537 non-null   float64\n",
      " 35  m_total_duration                     51537 non-null   float64\n",
      " 36  m_was_conversations                  51537 non-null   float64\n",
      " 37  month_id                             200000 non-null  object \n",
      " 38  notes                                97599 non-null   float64\n",
      " 39  os                                   200000 non-null  int64  \n",
      " 40  p_avg_duration                       13488 non-null   float64\n",
      " 41  p_avg_talk_duration                  16453 non-null   float64\n",
      " 42  p_missed_calls                       16453 non-null   float64\n",
      " 43  p_total_calls                        16453 non-null   float64\n",
      " 44  p_total_duration                     16453 non-null   float64\n",
      " 45  p_was_conversations                  16453 non-null   float64\n",
      " 46  payment_type                         200000 non-null  int64  \n",
      " 47  platform                             200000 non-null  int64  \n",
      " 48  price                                200000 non-null  float64\n",
      " 49  program_duration                     200000 non-null  int64  \n",
      " 50  program_family_main_direction_id     200000 non-null  int64  \n",
      " 51  program_family_price_type            200000 non-null  int64  \n",
      " 52  program_id                           200000 non-null  int64  \n",
      " 53  program_price_type                   138691 non-null  object \n",
      " 54  program_starting_soon                200000 non-null  int64  \n",
      " 55  program_type                         200000 non-null  int64  \n",
      " 56  promo                                200000 non-null  int64  \n",
      " 57  reworked_hw                          97599 non-null   float64\n",
      " 58  speed_recall                         21880 non-null   float64\n",
      " 59  spent_time_to_complete_hw            42467 non-null   float64\n",
      " 60  spent_time_total                     86309 non-null   float64\n",
      " 61  student_id                           200000 non-null  int64  \n",
      " 62  support_feedback_avg                 37557 non-null   float64\n",
      " 63  target                               200000 non-null  int64  \n",
      " 64  test_with_good_mark                  97599 non-null   float64\n",
      " 65  test_with_great_mark                 97599 non-null   float64\n",
      " 66  webinars                             97599 non-null   float64\n",
      " 67  control_year                         200000 non-null  int64  \n",
      " 68  control_month                        200000 non-null  int64  \n",
      " 69  cart_day                             200000 non-null  int64  \n",
      " 70  cart_month                           200000 non-null  int64  \n",
      " 71  cart_year                            200000 non-null  int64  \n",
      " 72  cart_timestamp                       200000 non-null  float64\n",
      " 73  current_program_starts_on_day        188693 non-null  object \n",
      " 74  current_program_starts_on_month      188693 non-null  object \n",
      " 75  current_program_starts_on_year       188693 non-null  object \n",
      " 76  current_program_starts_on_timestamp  188693 non-null  float64\n",
      "dtypes: float64(40), int32(1), int64(27), object(9)\n",
      "memory usage: 116.7+ MB\n"
     ]
    }
   ],
   "source": [
    "df.info()"
   ]
  },
  {
   "cell_type": "code",
   "execution_count": 870,
   "metadata": {
    "colab": {
     "base_uri": "https://localhost:8080/"
    },
    "id": "T5wEuIQ50ibJ",
    "outputId": "a00aaeab-3343-42b2-d797-e37186f150e7",
    "pycharm": {
     "name": "#%%\n"
    }
   },
   "outputs": [
    {
     "data": {
      "text/plain": [
       "array([dtype('O'), dtype('O'), dtype('O'), dtype('O'), dtype('O'),\n",
       "       dtype('O'), dtype('O'), dtype('O'), dtype('O')], dtype=object)"
      ]
     },
     "execution_count": 870,
     "metadata": {},
     "output_type": "execute_result"
    }
   ],
   "source": [
    "df.dtypes[df.dtypes == \"object\"].values"
   ]
  },
  {
   "cell_type": "code",
   "execution_count": 871,
   "metadata": {
    "id": "Poa1_MKE08xs",
    "pycharm": {
     "name": "#%%\n"
    }
   },
   "outputs": [],
   "source": [
    "mass_object = df.dtypes[df.dtypes == \"object\"].index.values"
   ]
  },
  {
   "cell_type": "code",
   "execution_count": 872,
   "metadata": {
    "id": "mAhVoVTj1l-D",
    "pycharm": {
     "name": "#%%\n"
    }
   },
   "outputs": [
    {
     "data": {
      "text/plain": [
       "array(['available_program_starts_on', 'carts_created_at', 'city',\n",
       "       'current_program_starts_on', 'month_id', 'program_price_type',\n",
       "       'current_program_starts_on_day', 'current_program_starts_on_month',\n",
       "       'current_program_starts_on_year'], dtype=object)"
      ]
     },
     "execution_count": 872,
     "metadata": {},
     "output_type": "execute_result"
    }
   ],
   "source": [
    "mass_object"
   ]
  },
  {
   "cell_type": "code",
   "execution_count": 873,
   "metadata": {},
   "outputs": [],
   "source": [
    "# df = df.drop(['available_program_starts_on', 'carts_created_at', 'city',\n",
    "#        'current_program_starts_on', 'month_id',], axis = 1)"
   ]
  },
  {
   "cell_type": "code",
   "execution_count": 874,
   "metadata": {},
   "outputs": [],
   "source": [
    "df=df[[\"program_id\",\n",
    "\"price\",\n",
    "\"cart_timestamp\",\n",
    "\"control_month\",\n",
    "\"student_id\",\n",
    "\"age_indicator\",\n",
    "\"feedback_avg_d1\",\n",
    "\"feedback_avg_d3\",\n",
    "\"feedback_avg_d5\",\n",
    "\"feedback_avg_d4\",\n",
    "\"feedback_avg_d2\",\n",
    "\"control_year\",\n",
    "\"support_feedback_avg\",\n",
    "\"ABC\",\n",
    "\"promo\" , \n",
    "       'bought_d1', 'bought_d2', 'bought_d3', 'bought_d4',\n",
    "       'bought_d5', 'bought_avg_duration',\"m_was_conversations\",\"p_was_conversations\",\n",
    "  \n",
    "       \"program_family_main_direction_id\",\n",
    "       \"program_type\", \"program_starting_soon\",\n",
    "       \"current_program_starts_on_day\", \"current_program_starts_on_month\", \"current_program_starts_on_year\",\n",
    "       \"current_program_starts_on_timestamp\",\n",
    "       \"target\" ]]"
   ]
  },
  {
   "cell_type": "code",
   "execution_count": 875,
   "metadata": {},
   "outputs": [],
   "source": [
    "df = df.fillna(0)\n",
    "\n",
    "# imp = IterativeImputer(initial_strategy='median')\n",
    "# df = pd.DataFrame(data=imp.fit_transform(df), columns=df.columns)\n",
    "\n",
    "#df = df.dropna()"
   ]
  },
  {
   "cell_type": "code",
   "execution_count": 876,
   "metadata": {},
   "outputs": [],
   "source": [
    "df['current_program_starts_on_day'] = df['current_program_starts_on_day'].astype(int)\n",
    "df['current_program_starts_on_month'] = df['current_program_starts_on_month'].astype(int)\n",
    "df['current_program_starts_on_year'] = df['current_program_starts_on_year'].astype(int)"
   ]
  },
  {
   "cell_type": "code",
   "execution_count": 877,
   "metadata": {},
   "outputs": [
    {
     "name": "stdout",
     "output_type": "stream",
     "text": [
      "<class 'pandas.core.frame.DataFrame'>\n",
      "RangeIndex: 200000 entries, 0 to 199999\n",
      "Data columns (total 31 columns):\n",
      " #   Column                               Non-Null Count   Dtype  \n",
      "---  ------                               --------------   -----  \n",
      " 0   program_id                           200000 non-null  int64  \n",
      " 1   price                                200000 non-null  float64\n",
      " 2   cart_timestamp                       200000 non-null  float64\n",
      " 3   control_month                        200000 non-null  int64  \n",
      " 4   student_id                           200000 non-null  int64  \n",
      " 5   age_indicator                        200000 non-null  float64\n",
      " 6   feedback_avg_d1                      200000 non-null  float64\n",
      " 7   feedback_avg_d3                      200000 non-null  float64\n",
      " 8   feedback_avg_d5                      200000 non-null  float64\n",
      " 9   feedback_avg_d4                      200000 non-null  float64\n",
      " 10  feedback_avg_d2                      200000 non-null  float64\n",
      " 11  control_year                         200000 non-null  int64  \n",
      " 12  support_feedback_avg                 200000 non-null  float64\n",
      " 13  ABC                                  200000 non-null  int64  \n",
      " 14  promo                                200000 non-null  int64  \n",
      " 15  bought_d1                            200000 non-null  int64  \n",
      " 16  bought_d2                            200000 non-null  int64  \n",
      " 17  bought_d3                            200000 non-null  int64  \n",
      " 18  bought_d4                            200000 non-null  int64  \n",
      " 19  bought_d5                            200000 non-null  int64  \n",
      " 20  bought_avg_duration                  200000 non-null  float64\n",
      " 21  m_was_conversations                  200000 non-null  float64\n",
      " 22  p_was_conversations                  200000 non-null  float64\n",
      " 23  program_family_main_direction_id     200000 non-null  int64  \n",
      " 24  program_type                         200000 non-null  int64  \n",
      " 25  program_starting_soon                200000 non-null  int64  \n",
      " 26  current_program_starts_on_day        200000 non-null  int32  \n",
      " 27  current_program_starts_on_month      200000 non-null  int32  \n",
      " 28  current_program_starts_on_year       200000 non-null  int32  \n",
      " 29  current_program_starts_on_timestamp  200000 non-null  float64\n",
      " 30  target                               200000 non-null  int64  \n",
      "dtypes: float64(13), int32(3), int64(15)\n",
      "memory usage: 45.0 MB\n"
     ]
    }
   ],
   "source": [
    "df.info()"
   ]
  },
  {
   "cell_type": "code",
   "execution_count": 878,
   "metadata": {},
   "outputs": [
    {
     "data": {
      "text/html": [
       "<div>\n",
       "<style scoped>\n",
       "    .dataframe tbody tr th:only-of-type {\n",
       "        vertical-align: middle;\n",
       "    }\n",
       "\n",
       "    .dataframe tbody tr th {\n",
       "        vertical-align: top;\n",
       "    }\n",
       "\n",
       "    .dataframe thead th {\n",
       "        text-align: right;\n",
       "    }\n",
       "</style>\n",
       "<table border=\"1\" class=\"dataframe\">\n",
       "  <thead>\n",
       "    <tr style=\"text-align: right;\">\n",
       "      <th></th>\n",
       "      <th>program_id</th>\n",
       "      <th>price</th>\n",
       "      <th>cart_timestamp</th>\n",
       "      <th>control_month</th>\n",
       "      <th>student_id</th>\n",
       "      <th>age_indicator</th>\n",
       "      <th>feedback_avg_d1</th>\n",
       "      <th>feedback_avg_d3</th>\n",
       "      <th>feedback_avg_d5</th>\n",
       "      <th>feedback_avg_d4</th>\n",
       "      <th>...</th>\n",
       "      <th>m_was_conversations</th>\n",
       "      <th>p_was_conversations</th>\n",
       "      <th>program_family_main_direction_id</th>\n",
       "      <th>program_type</th>\n",
       "      <th>program_starting_soon</th>\n",
       "      <th>current_program_starts_on_day</th>\n",
       "      <th>current_program_starts_on_month</th>\n",
       "      <th>current_program_starts_on_year</th>\n",
       "      <th>current_program_starts_on_timestamp</th>\n",
       "      <th>target</th>\n",
       "    </tr>\n",
       "  </thead>\n",
       "  <tbody>\n",
       "    <tr>\n",
       "      <th>0</th>\n",
       "      <td>1469</td>\n",
       "      <td>20042.959300</td>\n",
       "      <td>1.598389e+09</td>\n",
       "      <td>9</td>\n",
       "      <td>6694527</td>\n",
       "      <td>32.0</td>\n",
       "      <td>5.0</td>\n",
       "      <td>0.0</td>\n",
       "      <td>0.0</td>\n",
       "      <td>0.0</td>\n",
       "      <td>...</td>\n",
       "      <td>0.0</td>\n",
       "      <td>0.0</td>\n",
       "      <td>1</td>\n",
       "      <td>2</td>\n",
       "      <td>2</td>\n",
       "      <td>12</td>\n",
       "      <td>10</td>\n",
       "      <td>2020</td>\n",
       "      <td>1.602450e+09</td>\n",
       "      <td>0</td>\n",
       "    </tr>\n",
       "    <tr>\n",
       "      <th>1</th>\n",
       "      <td>1392</td>\n",
       "      <td>15057.315000</td>\n",
       "      <td>1.596575e+09</td>\n",
       "      <td>6</td>\n",
       "      <td>6712877</td>\n",
       "      <td>0.0</td>\n",
       "      <td>0.0</td>\n",
       "      <td>0.0</td>\n",
       "      <td>0.0</td>\n",
       "      <td>0.0</td>\n",
       "      <td>...</td>\n",
       "      <td>0.0</td>\n",
       "      <td>0.0</td>\n",
       "      <td>2</td>\n",
       "      <td>0</td>\n",
       "      <td>2</td>\n",
       "      <td>0</td>\n",
       "      <td>0</td>\n",
       "      <td>0</td>\n",
       "      <td>0.000000e+00</td>\n",
       "      <td>0</td>\n",
       "    </tr>\n",
       "    <tr>\n",
       "      <th>2</th>\n",
       "      <td>376</td>\n",
       "      <td>23389.029300</td>\n",
       "      <td>1.592600e+09</td>\n",
       "      <td>2</td>\n",
       "      <td>6659444</td>\n",
       "      <td>0.0</td>\n",
       "      <td>0.0</td>\n",
       "      <td>0.0</td>\n",
       "      <td>0.0</td>\n",
       "      <td>0.0</td>\n",
       "      <td>...</td>\n",
       "      <td>0.0</td>\n",
       "      <td>0.0</td>\n",
       "      <td>4</td>\n",
       "      <td>2</td>\n",
       "      <td>1</td>\n",
       "      <td>4</td>\n",
       "      <td>8</td>\n",
       "      <td>2022</td>\n",
       "      <td>1.659560e+09</td>\n",
       "      <td>0</td>\n",
       "    </tr>\n",
       "    <tr>\n",
       "      <th>3</th>\n",
       "      <td>1160</td>\n",
       "      <td>22260.632220</td>\n",
       "      <td>1.618348e+09</td>\n",
       "      <td>11</td>\n",
       "      <td>7151591</td>\n",
       "      <td>1.0</td>\n",
       "      <td>0.0</td>\n",
       "      <td>0.0</td>\n",
       "      <td>0.0</td>\n",
       "      <td>0.0</td>\n",
       "      <td>...</td>\n",
       "      <td>0.0</td>\n",
       "      <td>0.0</td>\n",
       "      <td>1</td>\n",
       "      <td>0</td>\n",
       "      <td>0</td>\n",
       "      <td>26</td>\n",
       "      <td>9</td>\n",
       "      <td>2022</td>\n",
       "      <td>1.664140e+09</td>\n",
       "      <td>0</td>\n",
       "    </tr>\n",
       "    <tr>\n",
       "      <th>4</th>\n",
       "      <td>952</td>\n",
       "      <td>7255.515915</td>\n",
       "      <td>1.595106e+09</td>\n",
       "      <td>10</td>\n",
       "      <td>6705666</td>\n",
       "      <td>30.0</td>\n",
       "      <td>5.0</td>\n",
       "      <td>0.0</td>\n",
       "      <td>0.0</td>\n",
       "      <td>0.0</td>\n",
       "      <td>...</td>\n",
       "      <td>0.0</td>\n",
       "      <td>0.0</td>\n",
       "      <td>1</td>\n",
       "      <td>0</td>\n",
       "      <td>2</td>\n",
       "      <td>0</td>\n",
       "      <td>0</td>\n",
       "      <td>0</td>\n",
       "      <td>0.000000e+00</td>\n",
       "      <td>0</td>\n",
       "    </tr>\n",
       "    <tr>\n",
       "      <th>...</th>\n",
       "      <td>...</td>\n",
       "      <td>...</td>\n",
       "      <td>...</td>\n",
       "      <td>...</td>\n",
       "      <td>...</td>\n",
       "      <td>...</td>\n",
       "      <td>...</td>\n",
       "      <td>...</td>\n",
       "      <td>...</td>\n",
       "      <td>...</td>\n",
       "      <td>...</td>\n",
       "      <td>...</td>\n",
       "      <td>...</td>\n",
       "      <td>...</td>\n",
       "      <td>...</td>\n",
       "      <td>...</td>\n",
       "      <td>...</td>\n",
       "      <td>...</td>\n",
       "      <td>...</td>\n",
       "      <td>...</td>\n",
       "      <td>...</td>\n",
       "    </tr>\n",
       "    <tr>\n",
       "      <th>199995</th>\n",
       "      <td>1043</td>\n",
       "      <td>10263.967450</td>\n",
       "      <td>1.602796e+09</td>\n",
       "      <td>11</td>\n",
       "      <td>6816668</td>\n",
       "      <td>27.0</td>\n",
       "      <td>0.0</td>\n",
       "      <td>0.0</td>\n",
       "      <td>0.0</td>\n",
       "      <td>0.0</td>\n",
       "      <td>...</td>\n",
       "      <td>0.0</td>\n",
       "      <td>0.0</td>\n",
       "      <td>1</td>\n",
       "      <td>0</td>\n",
       "      <td>2</td>\n",
       "      <td>0</td>\n",
       "      <td>0</td>\n",
       "      <td>0</td>\n",
       "      <td>0.000000e+00</td>\n",
       "      <td>0</td>\n",
       "    </tr>\n",
       "    <tr>\n",
       "      <th>199996</th>\n",
       "      <td>1635</td>\n",
       "      <td>35998.565400</td>\n",
       "      <td>1.609535e+09</td>\n",
       "      <td>9</td>\n",
       "      <td>6984939</td>\n",
       "      <td>0.0</td>\n",
       "      <td>4.5</td>\n",
       "      <td>0.0</td>\n",
       "      <td>0.0</td>\n",
       "      <td>0.0</td>\n",
       "      <td>...</td>\n",
       "      <td>0.0</td>\n",
       "      <td>0.0</td>\n",
       "      <td>1</td>\n",
       "      <td>2</td>\n",
       "      <td>2</td>\n",
       "      <td>25</td>\n",
       "      <td>4</td>\n",
       "      <td>2022</td>\n",
       "      <td>1.650834e+09</td>\n",
       "      <td>0</td>\n",
       "    </tr>\n",
       "    <tr>\n",
       "      <th>199997</th>\n",
       "      <td>789</td>\n",
       "      <td>22084.062000</td>\n",
       "      <td>1.593378e+09</td>\n",
       "      <td>3</td>\n",
       "      <td>6670084</td>\n",
       "      <td>17.0</td>\n",
       "      <td>0.0</td>\n",
       "      <td>0.0</td>\n",
       "      <td>0.0</td>\n",
       "      <td>4.0</td>\n",
       "      <td>...</td>\n",
       "      <td>0.0</td>\n",
       "      <td>0.0</td>\n",
       "      <td>4</td>\n",
       "      <td>2</td>\n",
       "      <td>0</td>\n",
       "      <td>11</td>\n",
       "      <td>8</td>\n",
       "      <td>2022</td>\n",
       "      <td>1.660165e+09</td>\n",
       "      <td>0</td>\n",
       "    </tr>\n",
       "    <tr>\n",
       "      <th>199998</th>\n",
       "      <td>476</td>\n",
       "      <td>14377.805400</td>\n",
       "      <td>1.607288e+09</td>\n",
       "      <td>6</td>\n",
       "      <td>6917324</td>\n",
       "      <td>0.0</td>\n",
       "      <td>0.0</td>\n",
       "      <td>0.0</td>\n",
       "      <td>0.0</td>\n",
       "      <td>0.0</td>\n",
       "      <td>...</td>\n",
       "      <td>1.0</td>\n",
       "      <td>0.0</td>\n",
       "      <td>1</td>\n",
       "      <td>0</td>\n",
       "      <td>0</td>\n",
       "      <td>0</td>\n",
       "      <td>0</td>\n",
       "      <td>0</td>\n",
       "      <td>0.000000e+00</td>\n",
       "      <td>0</td>\n",
       "    </tr>\n",
       "    <tr>\n",
       "      <th>199999</th>\n",
       "      <td>1104</td>\n",
       "      <td>55596.240000</td>\n",
       "      <td>1.614114e+09</td>\n",
       "      <td>10</td>\n",
       "      <td>7057970</td>\n",
       "      <td>18.0</td>\n",
       "      <td>0.0</td>\n",
       "      <td>0.0</td>\n",
       "      <td>0.0</td>\n",
       "      <td>0.0</td>\n",
       "      <td>...</td>\n",
       "      <td>2.0</td>\n",
       "      <td>0.0</td>\n",
       "      <td>5</td>\n",
       "      <td>2</td>\n",
       "      <td>0</td>\n",
       "      <td>12</td>\n",
       "      <td>8</td>\n",
       "      <td>2022</td>\n",
       "      <td>1.660252e+09</td>\n",
       "      <td>0</td>\n",
       "    </tr>\n",
       "  </tbody>\n",
       "</table>\n",
       "<p>200000 rows × 31 columns</p>\n",
       "</div>"
      ],
      "text/plain": [
       "        program_id         price  cart_timestamp  control_month  student_id  \\\n",
       "0             1469  20042.959300    1.598389e+09              9     6694527   \n",
       "1             1392  15057.315000    1.596575e+09              6     6712877   \n",
       "2              376  23389.029300    1.592600e+09              2     6659444   \n",
       "3             1160  22260.632220    1.618348e+09             11     7151591   \n",
       "4              952   7255.515915    1.595106e+09             10     6705666   \n",
       "...            ...           ...             ...            ...         ...   \n",
       "199995        1043  10263.967450    1.602796e+09             11     6816668   \n",
       "199996        1635  35998.565400    1.609535e+09              9     6984939   \n",
       "199997         789  22084.062000    1.593378e+09              3     6670084   \n",
       "199998         476  14377.805400    1.607288e+09              6     6917324   \n",
       "199999        1104  55596.240000    1.614114e+09             10     7057970   \n",
       "\n",
       "        age_indicator  feedback_avg_d1  feedback_avg_d3  feedback_avg_d5  \\\n",
       "0                32.0              5.0              0.0              0.0   \n",
       "1                 0.0              0.0              0.0              0.0   \n",
       "2                 0.0              0.0              0.0              0.0   \n",
       "3                 1.0              0.0              0.0              0.0   \n",
       "4                30.0              5.0              0.0              0.0   \n",
       "...               ...              ...              ...              ...   \n",
       "199995           27.0              0.0              0.0              0.0   \n",
       "199996            0.0              4.5              0.0              0.0   \n",
       "199997           17.0              0.0              0.0              0.0   \n",
       "199998            0.0              0.0              0.0              0.0   \n",
       "199999           18.0              0.0              0.0              0.0   \n",
       "\n",
       "        feedback_avg_d4  ...  m_was_conversations  p_was_conversations  \\\n",
       "0                   0.0  ...                  0.0                  0.0   \n",
       "1                   0.0  ...                  0.0                  0.0   \n",
       "2                   0.0  ...                  0.0                  0.0   \n",
       "3                   0.0  ...                  0.0                  0.0   \n",
       "4                   0.0  ...                  0.0                  0.0   \n",
       "...                 ...  ...                  ...                  ...   \n",
       "199995              0.0  ...                  0.0                  0.0   \n",
       "199996              0.0  ...                  0.0                  0.0   \n",
       "199997              4.0  ...                  0.0                  0.0   \n",
       "199998              0.0  ...                  1.0                  0.0   \n",
       "199999              0.0  ...                  2.0                  0.0   \n",
       "\n",
       "        program_family_main_direction_id  program_type  program_starting_soon  \\\n",
       "0                                      1             2                      2   \n",
       "1                                      2             0                      2   \n",
       "2                                      4             2                      1   \n",
       "3                                      1             0                      0   \n",
       "4                                      1             0                      2   \n",
       "...                                  ...           ...                    ...   \n",
       "199995                                 1             0                      2   \n",
       "199996                                 1             2                      2   \n",
       "199997                                 4             2                      0   \n",
       "199998                                 1             0                      0   \n",
       "199999                                 5             2                      0   \n",
       "\n",
       "        current_program_starts_on_day  current_program_starts_on_month  \\\n",
       "0                                  12                               10   \n",
       "1                                   0                                0   \n",
       "2                                   4                                8   \n",
       "3                                  26                                9   \n",
       "4                                   0                                0   \n",
       "...                               ...                              ...   \n",
       "199995                              0                                0   \n",
       "199996                             25                                4   \n",
       "199997                             11                                8   \n",
       "199998                              0                                0   \n",
       "199999                             12                                8   \n",
       "\n",
       "        current_program_starts_on_year  current_program_starts_on_timestamp  \\\n",
       "0                                 2020                         1.602450e+09   \n",
       "1                                    0                         0.000000e+00   \n",
       "2                                 2022                         1.659560e+09   \n",
       "3                                 2022                         1.664140e+09   \n",
       "4                                    0                         0.000000e+00   \n",
       "...                                ...                                  ...   \n",
       "199995                               0                         0.000000e+00   \n",
       "199996                            2022                         1.650834e+09   \n",
       "199997                            2022                         1.660165e+09   \n",
       "199998                               0                         0.000000e+00   \n",
       "199999                            2022                         1.660252e+09   \n",
       "\n",
       "        target  \n",
       "0            0  \n",
       "1            0  \n",
       "2            0  \n",
       "3            0  \n",
       "4            0  \n",
       "...        ...  \n",
       "199995       0  \n",
       "199996       0  \n",
       "199997       0  \n",
       "199998       0  \n",
       "199999       0  \n",
       "\n",
       "[200000 rows x 31 columns]"
      ]
     },
     "execution_count": 878,
     "metadata": {},
     "output_type": "execute_result"
    }
   ],
   "source": [
    "df"
   ]
  },
  {
   "cell_type": "code",
   "execution_count": 879,
   "metadata": {
    "id": "czsoZexkyyTw",
    "pycharm": {
     "name": "#%%\n"
    }
   },
   "outputs": [],
   "source": [
    "X =  df.drop([\"target\"], axis = 1)\n",
    "y = df[[\"target\"]]"
   ]
  },
  {
   "cell_type": "code",
   "execution_count": 880,
   "metadata": {},
   "outputs": [
    {
     "data": {
      "text/plain": [
       "Index(['program_id', 'price', 'cart_timestamp', 'control_month', 'student_id',\n",
       "       'age_indicator', 'feedback_avg_d1', 'feedback_avg_d3',\n",
       "       'feedback_avg_d5', 'feedback_avg_d4', 'feedback_avg_d2', 'control_year',\n",
       "       'support_feedback_avg', 'ABC', 'promo', 'bought_d1', 'bought_d2',\n",
       "       'bought_d3', 'bought_d4', 'bought_d5', 'bought_avg_duration',\n",
       "       'm_was_conversations', 'p_was_conversations',\n",
       "       'program_family_main_direction_id', 'program_type',\n",
       "       'program_starting_soon', 'current_program_starts_on_day',\n",
       "       'current_program_starts_on_month', 'current_program_starts_on_year',\n",
       "       'current_program_starts_on_timestamp'],\n",
       "      dtype='object')"
      ]
     },
     "execution_count": 880,
     "metadata": {},
     "output_type": "execute_result"
    }
   ],
   "source": [
    "X.columns"
   ]
  },
  {
   "cell_type": "code",
   "execution_count": 881,
   "metadata": {
    "id": "E-LfoARf2WGZ",
    "pycharm": {
     "name": "#%%\n"
    }
   },
   "outputs": [],
   "source": [
    "X_train, X_test, y_train, y_test = train_test_split(X, y, test_size=0.3, random_state=42)"
   ]
  },
  {
   "cell_type": "code",
   "execution_count": 1027,
   "metadata": {
    "id": "1ypNSGoK2czB",
    "pycharm": {
     "name": "#%%\n"
    }
   },
   "outputs": [],
   "source": [
    "clf = RandomForestClassifier(random_state=0, max_depth=50, n_estimators=500)"
   ]
  },
  {
   "cell_type": "code",
   "execution_count": 1028,
   "metadata": {
    "colab": {
     "base_uri": "https://localhost:8080/"
    },
    "id": "8K_JDzCJ2glP",
    "outputId": "2862d0a9-a937-4909-aff0-11e079abdb42",
    "pycharm": {
     "name": "#%%\n"
    }
   },
   "outputs": [
    {
     "name": "stderr",
     "output_type": "stream",
     "text": [
      "C:\\Users\\evvEn\\AppData\\Local\\Temp\\ipykernel_5632\\2395142735.py:1: DataConversionWarning: A column-vector y was passed when a 1d array was expected. Please change the shape of y to (n_samples,), for example using ravel().\n",
      "  clf.fit(X_train, y_train)\n"
     ]
    },
    {
     "data": {
      "text/html": [
       "<style>#sk-container-id-26 {color: black;background-color: white;}#sk-container-id-26 pre{padding: 0;}#sk-container-id-26 div.sk-toggleable {background-color: white;}#sk-container-id-26 label.sk-toggleable__label {cursor: pointer;display: block;width: 100%;margin-bottom: 0;padding: 0.3em;box-sizing: border-box;text-align: center;}#sk-container-id-26 label.sk-toggleable__label-arrow:before {content: \"▸\";float: left;margin-right: 0.25em;color: #696969;}#sk-container-id-26 label.sk-toggleable__label-arrow:hover:before {color: black;}#sk-container-id-26 div.sk-estimator:hover label.sk-toggleable__label-arrow:before {color: black;}#sk-container-id-26 div.sk-toggleable__content {max-height: 0;max-width: 0;overflow: hidden;text-align: left;background-color: #f0f8ff;}#sk-container-id-26 div.sk-toggleable__content pre {margin: 0.2em;color: black;border-radius: 0.25em;background-color: #f0f8ff;}#sk-container-id-26 input.sk-toggleable__control:checked~div.sk-toggleable__content {max-height: 200px;max-width: 100%;overflow: auto;}#sk-container-id-26 input.sk-toggleable__control:checked~label.sk-toggleable__label-arrow:before {content: \"▾\";}#sk-container-id-26 div.sk-estimator input.sk-toggleable__control:checked~label.sk-toggleable__label {background-color: #d4ebff;}#sk-container-id-26 div.sk-label input.sk-toggleable__control:checked~label.sk-toggleable__label {background-color: #d4ebff;}#sk-container-id-26 input.sk-hidden--visually {border: 0;clip: rect(1px 1px 1px 1px);clip: rect(1px, 1px, 1px, 1px);height: 1px;margin: -1px;overflow: hidden;padding: 0;position: absolute;width: 1px;}#sk-container-id-26 div.sk-estimator {font-family: monospace;background-color: #f0f8ff;border: 1px dotted black;border-radius: 0.25em;box-sizing: border-box;margin-bottom: 0.5em;}#sk-container-id-26 div.sk-estimator:hover {background-color: #d4ebff;}#sk-container-id-26 div.sk-parallel-item::after {content: \"\";width: 100%;border-bottom: 1px solid gray;flex-grow: 1;}#sk-container-id-26 div.sk-label:hover label.sk-toggleable__label {background-color: #d4ebff;}#sk-container-id-26 div.sk-serial::before {content: \"\";position: absolute;border-left: 1px solid gray;box-sizing: border-box;top: 0;bottom: 0;left: 50%;z-index: 0;}#sk-container-id-26 div.sk-serial {display: flex;flex-direction: column;align-items: center;background-color: white;padding-right: 0.2em;padding-left: 0.2em;position: relative;}#sk-container-id-26 div.sk-item {position: relative;z-index: 1;}#sk-container-id-26 div.sk-parallel {display: flex;align-items: stretch;justify-content: center;background-color: white;position: relative;}#sk-container-id-26 div.sk-item::before, #sk-container-id-26 div.sk-parallel-item::before {content: \"\";position: absolute;border-left: 1px solid gray;box-sizing: border-box;top: 0;bottom: 0;left: 50%;z-index: -1;}#sk-container-id-26 div.sk-parallel-item {display: flex;flex-direction: column;z-index: 1;position: relative;background-color: white;}#sk-container-id-26 div.sk-parallel-item:first-child::after {align-self: flex-end;width: 50%;}#sk-container-id-26 div.sk-parallel-item:last-child::after {align-self: flex-start;width: 50%;}#sk-container-id-26 div.sk-parallel-item:only-child::after {width: 0;}#sk-container-id-26 div.sk-dashed-wrapped {border: 1px dashed gray;margin: 0 0.4em 0.5em 0.4em;box-sizing: border-box;padding-bottom: 0.4em;background-color: white;}#sk-container-id-26 div.sk-label label {font-family: monospace;font-weight: bold;display: inline-block;line-height: 1.2em;}#sk-container-id-26 div.sk-label-container {text-align: center;}#sk-container-id-26 div.sk-container {/* jupyter's `normalize.less` sets `[hidden] { display: none; }` but bootstrap.min.css set `[hidden] { display: none !important; }` so we also need the `!important` here to be able to override the default hidden behavior on the sphinx rendered scikit-learn.org. See: https://github.com/scikit-learn/scikit-learn/issues/21755 */display: inline-block !important;position: relative;}#sk-container-id-26 div.sk-text-repr-fallback {display: none;}</style><div id=\"sk-container-id-26\" class=\"sk-top-container\"><div class=\"sk-text-repr-fallback\"><pre>RandomForestClassifier(max_depth=50, n_estimators=200, random_state=0)</pre><b>In a Jupyter environment, please rerun this cell to show the HTML representation or trust the notebook. <br />On GitHub, the HTML representation is unable to render, please try loading this page with nbviewer.org.</b></div><div class=\"sk-container\" hidden><div class=\"sk-item\"><div class=\"sk-estimator sk-toggleable\"><input class=\"sk-toggleable__control sk-hidden--visually\" id=\"sk-estimator-id-26\" type=\"checkbox\" checked><label for=\"sk-estimator-id-26\" class=\"sk-toggleable__label sk-toggleable__label-arrow\">RandomForestClassifier</label><div class=\"sk-toggleable__content\"><pre>RandomForestClassifier(max_depth=50, n_estimators=200, random_state=0)</pre></div></div></div></div></div>"
      ],
      "text/plain": [
       "RandomForestClassifier(max_depth=50, n_estimators=200, random_state=0)"
      ]
     },
     "execution_count": 1028,
     "metadata": {},
     "output_type": "execute_result"
    }
   ],
   "source": [
    "clf.fit(X_train, y_train)"
   ]
  },
  {
   "cell_type": "code",
   "execution_count": 1029,
   "metadata": {
    "id": "aJt5-Okm2h3I",
    "pycharm": {
     "name": "#%%\n"
    }
   },
   "outputs": [],
   "source": [
    "pred = clf.predict(X_test)"
   ]
  },
  {
   "cell_type": "code",
   "execution_count": 1030,
   "metadata": {
    "colab": {
     "base_uri": "https://localhost:8080/"
    },
    "id": "Vz2JrMW32m3N",
    "outputId": "3056b516-013c-4b58-e1f1-f203feab9a2a",
    "pycharm": {
     "name": "#%%\n"
    }
   },
   "outputs": [
    {
     "data": {
      "text/plain": [
       "0.8793598121727884"
      ]
     },
     "execution_count": 1030,
     "metadata": {},
     "output_type": "execute_result"
    }
   ],
   "source": [
    "0.2* recall_score(y_test, pred, average='macro') + 0.8* precision_score(y_test, pred, average='macro')"
   ]
  },
  {
   "cell_type": "code",
   "execution_count": 1031,
   "metadata": {},
   "outputs": [
    {
     "data": {
      "text/plain": [
       "array([0, 1, 2, 3, 4, 5], dtype=int64)"
      ]
     },
     "execution_count": 1031,
     "metadata": {},
     "output_type": "execute_result"
    }
   ],
   "source": [
    "clf.classes_"
   ]
  },
  {
   "cell_type": "code",
   "execution_count": 1032,
   "metadata": {},
   "outputs": [
    {
     "name": "stdout",
     "output_type": "stream",
     "text": [
      "              precision    recall  f1-score   support\n",
      "\n",
      "           0       0.95      0.99      0.97     52331\n",
      "           1       0.93      0.64      0.76      4005\n",
      "           2       0.93      0.54      0.69       548\n",
      "           3       0.92      0.66      0.77       915\n",
      "           4       0.94      0.63      0.75      1097\n",
      "           5       0.90      0.61      0.73      1104\n",
      "\n",
      "    accuracy                           0.95     60000\n",
      "   macro avg       0.93      0.68      0.78     60000\n",
      "weighted avg       0.95      0.95      0.94     60000\n",
      "\n"
     ]
    }
   ],
   "source": [
    "print(classification_report(y_test, pred))"
   ]
  },
  {
   "cell_type": "code",
   "execution_count": 1033,
   "metadata": {},
   "outputs": [
    {
     "data": {
      "text/html": [
       "<div>\n",
       "<style scoped>\n",
       "    .dataframe tbody tr th:only-of-type {\n",
       "        vertical-align: middle;\n",
       "    }\n",
       "\n",
       "    .dataframe tbody tr th {\n",
       "        vertical-align: top;\n",
       "    }\n",
       "\n",
       "    .dataframe thead th {\n",
       "        text-align: right;\n",
       "    }\n",
       "</style>\n",
       "<table border=\"1\" class=\"dataframe\">\n",
       "  <thead>\n",
       "    <tr style=\"text-align: right;\">\n",
       "      <th></th>\n",
       "      <th>value</th>\n",
       "    </tr>\n",
       "  </thead>\n",
       "  <tbody>\n",
       "    <tr>\n",
       "      <th>cart_timestamp</th>\n",
       "      <td>0.141000</td>\n",
       "    </tr>\n",
       "    <tr>\n",
       "      <th>student_id</th>\n",
       "      <td>0.134468</td>\n",
       "    </tr>\n",
       "    <tr>\n",
       "      <th>control_month</th>\n",
       "      <td>0.113510</td>\n",
       "    </tr>\n",
       "    <tr>\n",
       "      <th>price</th>\n",
       "      <td>0.104509</td>\n",
       "    </tr>\n",
       "    <tr>\n",
       "      <th>age_indicator</th>\n",
       "      <td>0.091630</td>\n",
       "    </tr>\n",
       "    <tr>\n",
       "      <th>program_id</th>\n",
       "      <td>0.050897</td>\n",
       "    </tr>\n",
       "    <tr>\n",
       "      <th>current_program_starts_on_timestamp</th>\n",
       "      <td>0.034926</td>\n",
       "    </tr>\n",
       "    <tr>\n",
       "      <th>current_program_starts_on_day</th>\n",
       "      <td>0.034179</td>\n",
       "    </tr>\n",
       "    <tr>\n",
       "      <th>m_was_conversations</th>\n",
       "      <td>0.030098</td>\n",
       "    </tr>\n",
       "    <tr>\n",
       "      <th>feedback_avg_d1</th>\n",
       "      <td>0.029055</td>\n",
       "    </tr>\n",
       "    <tr>\n",
       "      <th>ABC</th>\n",
       "      <td>0.028751</td>\n",
       "    </tr>\n",
       "    <tr>\n",
       "      <th>support_feedback_avg</th>\n",
       "      <td>0.020913</td>\n",
       "    </tr>\n",
       "    <tr>\n",
       "      <th>promo</th>\n",
       "      <td>0.019799</td>\n",
       "    </tr>\n",
       "    <tr>\n",
       "      <th>program_family_main_direction_id</th>\n",
       "      <td>0.019471</td>\n",
       "    </tr>\n",
       "    <tr>\n",
       "      <th>feedback_avg_d3</th>\n",
       "      <td>0.017340</td>\n",
       "    </tr>\n",
       "    <tr>\n",
       "      <th>feedback_avg_d4</th>\n",
       "      <td>0.017032</td>\n",
       "    </tr>\n",
       "    <tr>\n",
       "      <th>feedback_avg_d5</th>\n",
       "      <td>0.014854</td>\n",
       "    </tr>\n",
       "    <tr>\n",
       "      <th>control_year</th>\n",
       "      <td>0.013539</td>\n",
       "    </tr>\n",
       "    <tr>\n",
       "      <th>current_program_starts_on_month</th>\n",
       "      <td>0.012266</td>\n",
       "    </tr>\n",
       "    <tr>\n",
       "      <th>bought_avg_duration</th>\n",
       "      <td>0.012183</td>\n",
       "    </tr>\n",
       "    <tr>\n",
       "      <th>feedback_avg_d2</th>\n",
       "      <td>0.011113</td>\n",
       "    </tr>\n",
       "    <tr>\n",
       "      <th>program_starting_soon</th>\n",
       "      <td>0.010903</td>\n",
       "    </tr>\n",
       "    <tr>\n",
       "      <th>p_was_conversations</th>\n",
       "      <td>0.010637</td>\n",
       "    </tr>\n",
       "    <tr>\n",
       "      <th>program_type</th>\n",
       "      <td>0.010600</td>\n",
       "    </tr>\n",
       "    <tr>\n",
       "      <th>current_program_starts_on_year</th>\n",
       "      <td>0.004884</td>\n",
       "    </tr>\n",
       "    <tr>\n",
       "      <th>bought_d1</th>\n",
       "      <td>0.003883</td>\n",
       "    </tr>\n",
       "    <tr>\n",
       "      <th>bought_d5</th>\n",
       "      <td>0.002671</td>\n",
       "    </tr>\n",
       "    <tr>\n",
       "      <th>bought_d3</th>\n",
       "      <td>0.002082</td>\n",
       "    </tr>\n",
       "    <tr>\n",
       "      <th>bought_d2</th>\n",
       "      <td>0.001424</td>\n",
       "    </tr>\n",
       "    <tr>\n",
       "      <th>bought_d4</th>\n",
       "      <td>0.001383</td>\n",
       "    </tr>\n",
       "  </tbody>\n",
       "</table>\n",
       "</div>"
      ],
      "text/plain": [
       "                                        value\n",
       "cart_timestamp                       0.141000\n",
       "student_id                           0.134468\n",
       "control_month                        0.113510\n",
       "price                                0.104509\n",
       "age_indicator                        0.091630\n",
       "program_id                           0.050897\n",
       "current_program_starts_on_timestamp  0.034926\n",
       "current_program_starts_on_day        0.034179\n",
       "m_was_conversations                  0.030098\n",
       "feedback_avg_d1                      0.029055\n",
       "ABC                                  0.028751\n",
       "support_feedback_avg                 0.020913\n",
       "promo                                0.019799\n",
       "program_family_main_direction_id     0.019471\n",
       "feedback_avg_d3                      0.017340\n",
       "feedback_avg_d4                      0.017032\n",
       "feedback_avg_d5                      0.014854\n",
       "control_year                         0.013539\n",
       "current_program_starts_on_month      0.012266\n",
       "bought_avg_duration                  0.012183\n",
       "feedback_avg_d2                      0.011113\n",
       "program_starting_soon                0.010903\n",
       "p_was_conversations                  0.010637\n",
       "program_type                         0.010600\n",
       "current_program_starts_on_year       0.004884\n",
       "bought_d1                            0.003883\n",
       "bought_d5                            0.002671\n",
       "bought_d3                            0.002082\n",
       "bought_d2                            0.001424\n",
       "bought_d4                            0.001383"
      ]
     },
     "execution_count": 1033,
     "metadata": {},
     "output_type": "execute_result"
    }
   ],
   "source": [
    "importance_df = pd.DataFrame(clf.feature_importances_, columns=[\"value\"],\n",
    "                             index=clf.feature_names_in_).sort_values(by=\"value\", ascending=False)\n",
    "importance_df"
   ]
  },
  {
   "cell_type": "markdown",
   "metadata": {},
   "source": [
    "#Validation"
   ]
  },
  {
   "cell_type": "code",
   "execution_count": 1034,
   "metadata": {},
   "outputs": [],
   "source": [
    "df_test = pd.read_csv(\"./content/test_enriched.csv\")"
   ]
  },
  {
   "cell_type": "code",
   "execution_count": 1035,
   "metadata": {},
   "outputs": [],
   "source": [
    "df_test[\"ABC\"] = abc_le.transform(df_test[\"ABC\"])"
   ]
  },
  {
   "cell_type": "code",
   "execution_count": 1036,
   "metadata": {},
   "outputs": [],
   "source": [
    "df_test['control_year'] = pd.to_datetime(df_test['month_id']).dt.strftime(\"%Y\").astype(int)\n",
    "df_test['control_month'] = pd.to_datetime(df_test['month_id']).dt.strftime(\"%m\").astype(int)\n",
    "\n",
    "df_test['cart_day'] = pd.to_datetime(df_test['carts_created_at']).dt.strftime(\"%d\").astype(int)\n",
    "df_test['cart_month'] = pd.to_datetime(df_test['carts_created_at']).dt.strftime(\"%m\").astype(int)\n",
    "df_test['cart_year'] = pd.to_datetime(df_test['carts_created_at']).dt.strftime(\"%Y\").astype(int)\n",
    "df_test['cart_timestamp'] = df_test['carts_created_at'].apply(lambda d: time.mktime(datetime.strptime(d, \"%m/%d/%Y\").timetuple()))"
   ]
  },
  {
   "cell_type": "code",
   "execution_count": 1037,
   "metadata": {},
   "outputs": [],
   "source": [
    "df_test['promo']=df['promo'].apply(lambda promo: promo =='+').astype(int)"
   ]
  },
  {
   "cell_type": "code",
   "execution_count": 1038,
   "metadata": {},
   "outputs": [],
   "source": [
    "df_test[\"communication_type\"] = ct_le.transform(df_test[\"communication_type\"])"
   ]
  },
  {
   "cell_type": "code",
   "execution_count": 1039,
   "metadata": {},
   "outputs": [],
   "source": [
    "df_test[\"os\"] = os_le.transform(df_test[\"os\"])\n",
    "df_test[\"platform\"] = platform_le.transform(df_test[\"platform\"])"
   ]
  },
  {
   "cell_type": "code",
   "execution_count": 1040,
   "metadata": {},
   "outputs": [],
   "source": [
    "df_test[\"program_type\"] = program_type_le.transform(df_test[\"program_type\"])\n",
    "df_test[\"program_starting_soon\"] = program_starting_soon_le.transform(df_test[\"program_starting_soon\"])"
   ]
  },
  {
   "cell_type": "code",
   "execution_count": 1041,
   "metadata": {},
   "outputs": [],
   "source": [
    "program_family_price_type_le_dict = dict(zip(program_family_price_type_le.classes_, program_family_price_type_le.transform(program_family_price_type_le.classes_)))\n",
    "df_test['program_family_price_type'] = df_test['program_family_price_type'].apply(lambda program_family_price_type: program_family_price_type_le_dict.get(program_family_price_type, -1))"
   ]
  },
  {
   "cell_type": "code",
   "execution_count": 1042,
   "metadata": {},
   "outputs": [],
   "source": [
    "df_test['current_program_starts_on_day'] = pd.to_datetime(df_test['current_program_starts_on']).dt.strftime(\"%d\")\n",
    "df_test['current_program_starts_on_month'] = pd.to_datetime(df_test['current_program_starts_on']).dt.strftime(\"%m\")\n",
    "df_test['current_program_starts_on_year'] = pd.to_datetime(df_test['current_program_starts_on']).dt.strftime(\"%Y\")"
   ]
  },
  {
   "cell_type": "code",
   "execution_count": 1043,
   "metadata": {},
   "outputs": [],
   "source": [
    "df_test['current_program_starts_on_timestamp'] = df_test['current_program_starts_on'].apply(lambda d: to_timestamp(d))"
   ]
  },
  {
   "cell_type": "code",
   "execution_count": 1044,
   "metadata": {},
   "outputs": [],
   "source": [
    "df_test[['program_duration']]=df_test[['program_duration']].fillna('0 недель')\n",
    "df_test=df_test.apply(lambda row: transform_duration(row), axis=1)"
   ]
  },
  {
   "cell_type": "code",
   "execution_count": 1045,
   "metadata": {},
   "outputs": [],
   "source": [
    "browser_le_dict = dict(zip(browser_le.classes_, browser_le.transform(browser_le.classes_)))\n",
    "df_test['browser'] = df_test['browser'].apply(lambda browser: browser_le_dict.get(browser, -1))"
   ]
  },
  {
   "cell_type": "code",
   "execution_count": null,
   "metadata": {},
   "outputs": [],
   "source": []
  },
  {
   "cell_type": "code",
   "execution_count": 1046,
   "metadata": {},
   "outputs": [],
   "source": [
    "df_test = df_test.apply(lambda row: replace_country(row), axis=1)"
   ]
  },
  {
   "cell_type": "code",
   "execution_count": 1047,
   "metadata": {},
   "outputs": [],
   "source": [
    "df_test[\"country\"] = country_le.transform(df_test[\"country\"])"
   ]
  },
  {
   "cell_type": "code",
   "execution_count": 1048,
   "metadata": {},
   "outputs": [
    {
     "name": "stdout",
     "output_type": "stream",
     "text": [
      "<class 'pandas.core.frame.DataFrame'>\n",
      "RangeIndex: 84997 entries, 0 to 84996\n",
      "Data columns (total 76 columns):\n",
      " #   Column                               Non-Null Count  Dtype  \n",
      "---  ------                               --------------  -----  \n",
      " 0   ABC                                  84997 non-null  int64  \n",
      " 1   activity                             41481 non-null  float64\n",
      " 2   age_indicator                        67548 non-null  float64\n",
      " 3   auto_payment                         84997 non-null  int64  \n",
      " 4   available_program_starts_on          80233 non-null  object \n",
      " 5   avg_hw_mark                          18909 non-null  float64\n",
      " 6   avg_quiz_result                      6954 non-null   float64\n",
      " 7   bought_avg_duration                  4277 non-null   float64\n",
      " 8   bought_d1                            84997 non-null  int64  \n",
      " 9   bought_d2                            84997 non-null  int64  \n",
      " 10  bought_d3                            84997 non-null  int64  \n",
      " 11  bought_d4                            84997 non-null  int64  \n",
      " 12  bought_d5                            84997 non-null  int64  \n",
      " 13  browser                              84997 non-null  int64  \n",
      " 14  carts_created_at                     84997 non-null  object \n",
      " 15  city                                 5669 non-null   object \n",
      " 16  communication_type                   84997 non-null  int64  \n",
      " 17  completed_hw                         41481 non-null  float64\n",
      " 18  country                              84997 non-null  int32  \n",
      " 19  current_program_starts_on            80233 non-null  object \n",
      " 20  failed_hw                            41481 non-null  float64\n",
      " 21  feedback_avg_d1                      20650 non-null  float64\n",
      " 22  feedback_avg_d2                      6237 non-null   float64\n",
      " 23  feedback_avg_d3                      7640 non-null   float64\n",
      " 24  feedback_avg_d4                      10678 non-null  float64\n",
      " 25  feedback_avg_d5                      6756 non-null   float64\n",
      " 26  gender                               84978 non-null  float64\n",
      " 27  hw_leader                            41481 non-null  float64\n",
      " 28  id                                   84997 non-null  int64  \n",
      " 29  interacted_hw                        41481 non-null  float64\n",
      " 30  lessons                              41481 non-null  float64\n",
      " 31  m_avg_duration                       19375 non-null  float64\n",
      " 32  m_avg_talk_duration                  21908 non-null  float64\n",
      " 33  m_missed_calls                       21908 non-null  float64\n",
      " 34  m_total_calls                        21908 non-null  float64\n",
      " 35  m_total_duration                     21908 non-null  float64\n",
      " 36  m_was_conversations                  21908 non-null  float64\n",
      " 37  month_id                             84997 non-null  object \n",
      " 38  notes                                41481 non-null  float64\n",
      " 39  os                                   84997 non-null  int64  \n",
      " 40  p_avg_duration                       5867 non-null   float64\n",
      " 41  p_avg_talk_duration                  7129 non-null   float64\n",
      " 42  p_missed_calls                       7129 non-null   float64\n",
      " 43  p_total_calls                        7129 non-null   float64\n",
      " 44  p_total_duration                     7129 non-null   float64\n",
      " 45  p_was_conversations                  7129 non-null   float64\n",
      " 46  payment_type                         84997 non-null  int64  \n",
      " 47  platform                             84997 non-null  int64  \n",
      " 48  price                                84997 non-null  float64\n",
      " 49  program_duration                     84997 non-null  int64  \n",
      " 50  program_family_main_direction_id     84994 non-null  float64\n",
      " 51  program_family_price_type            84997 non-null  int64  \n",
      " 52  program_id                           84997 non-null  int64  \n",
      " 53  program_price_type                   58914 non-null  object \n",
      " 54  program_starting_soon                84997 non-null  int64  \n",
      " 55  program_type                         84997 non-null  int64  \n",
      " 56  promo                                84997 non-null  int64  \n",
      " 57  reworked_hw                          41481 non-null  float64\n",
      " 58  speed_recall                         9283 non-null   float64\n",
      " 59  spent_time_to_complete_hw            18046 non-null  float64\n",
      " 60  spent_time_total                     36687 non-null  float64\n",
      " 61  student_id                           84997 non-null  int64  \n",
      " 62  support_feedback_avg                 15749 non-null  float64\n",
      " 63  test_with_good_mark                  41481 non-null  float64\n",
      " 64  test_with_great_mark                 41481 non-null  float64\n",
      " 65  webinars                             41481 non-null  float64\n",
      " 66  control_year                         84997 non-null  int64  \n",
      " 67  control_month                        84997 non-null  int64  \n",
      " 68  cart_day                             84997 non-null  int64  \n",
      " 69  cart_month                           84997 non-null  int64  \n",
      " 70  cart_year                            84997 non-null  int64  \n",
      " 71  cart_timestamp                       84997 non-null  float64\n",
      " 72  current_program_starts_on_day        80233 non-null  object \n",
      " 73  current_program_starts_on_month      80233 non-null  object \n",
      " 74  current_program_starts_on_year       80233 non-null  object \n",
      " 75  current_program_starts_on_timestamp  80233 non-null  float64\n",
      "dtypes: float64(41), int32(1), int64(25), object(9)\n",
      "memory usage: 49.0+ MB\n"
     ]
    }
   ],
   "source": [
    "df_test.info()"
   ]
  },
  {
   "cell_type": "code",
   "execution_count": 1049,
   "metadata": {},
   "outputs": [],
   "source": [
    "mass_object_v = mass_object[mass_object!=\"target\"]"
   ]
  },
  {
   "cell_type": "code",
   "execution_count": 1050,
   "metadata": {},
   "outputs": [],
   "source": [
    "# X_val = df_test.drop(mass_object_v, axis = 1)"
   ]
  },
  {
   "cell_type": "code",
   "execution_count": 1051,
   "metadata": {},
   "outputs": [],
   "source": [
    "df_test = df_test.fillna(0)\n",
    "X_val=df_test[[\"program_id\",\n",
    "\"price\",\n",
    "\"cart_timestamp\",\n",
    "\"control_month\",\n",
    "\"student_id\",\n",
    "\"age_indicator\",\n",
    "\"feedback_avg_d1\",\n",
    "\"feedback_avg_d3\",\n",
    "\"feedback_avg_d5\",\n",
    "\"feedback_avg_d4\",\n",
    "\"feedback_avg_d2\",\n",
    "\"control_year\",\n",
    "\"support_feedback_avg\",\n",
    "\"ABC\",\n",
    "\"promo\" , \n",
    "       'bought_d1', 'bought_d2', 'bought_d3', 'bought_d4',\n",
    "       'bought_d5', 'bought_avg_duration',\"m_was_conversations\",\"p_was_conversations\",\n",
    "  \n",
    "       \"program_family_main_direction_id\",\n",
    "       \"program_type\", \"program_starting_soon\",\n",
    "       \"current_program_starts_on_day\", \"current_program_starts_on_month\", \"current_program_starts_on_year\",\n",
    "       \"current_program_starts_on_timestamp\",]]"
   ]
  },
  {
   "cell_type": "code",
   "execution_count": 1052,
   "metadata": {},
   "outputs": [],
   "source": [
    "pred_test = clf.predict(X_val)"
   ]
  },
  {
   "cell_type": "code",
   "execution_count": 1053,
   "metadata": {},
   "outputs": [],
   "source": [
    "df_test[\"target\"] = pred_test"
   ]
  },
  {
   "cell_type": "code",
   "execution_count": 1054,
   "metadata": {},
   "outputs": [],
   "source": [
    "df_test=df_test[[\"id\", \"target\"]]"
   ]
  },
  {
   "cell_type": "code",
   "execution_count": 1055,
   "metadata": {},
   "outputs": [],
   "source": [
    "df_test.to_csv(\"./content/pred.csv\", index=False)"
   ]
  },
  {
   "cell_type": "code",
   "execution_count": null,
   "metadata": {},
   "outputs": [],
   "source": []
  },
  {
   "cell_type": "code",
   "execution_count": null,
   "metadata": {},
   "outputs": [],
   "source": []
  }
 ],
 "metadata": {
  "colab": {
   "collapsed_sections": [],
   "name": "Нетология_baseline.ipynb",
   "provenance": []
  },
  "kernelspec": {
   "display_name": "Python 3 (ipykernel)",
   "language": "python",
   "name": "python3"
  },
  "language_info": {
   "codemirror_mode": {
    "name": "ipython",
    "version": 3
   },
   "file_extension": ".py",
   "mimetype": "text/x-python",
   "name": "python",
   "nbconvert_exporter": "python",
   "pygments_lexer": "ipython3",
   "version": "3.9.13"
  }
 },
 "nbformat": 4,
 "nbformat_minor": 1
}
