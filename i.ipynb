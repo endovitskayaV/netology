{
 "cells": [
  {
   "cell_type": "code",
   "execution_count": 123,
   "metadata": {
    "id": "MTgpe_1quUDs",
    "pycharm": {
     "name": "#%%\n"
    }
   },
   "outputs": [],
   "source": [
    "import pandas as pd\n",
    "import seaborn as sns\n",
    "import matplotlib.pyplot as plt\n",
    "from sklearn.model_selection import train_test_split\n",
    "from sklearn.ensemble import RandomForestClassifier\n",
    "from sklearn import tree\n",
    "import numpy as np\n",
    "from sklearn.metrics import recall_score, precision_score\n",
    "from sklearn.metrics import classification_report\n",
    "from sklearn import preprocessing\n",
    "from collections import Counter\n",
    "import time\n",
    "from datetime import datetime\n",
    "\n",
    "from sklearn.experimental import enable_iterative_imputer\n",
    "from sklearn.impute import IterativeImputer\n",
    "\n",
    "%matplotlib inline\n",
    "\n",
    "from catboost import CatBoostClassifier"
   ]
  },
  {
   "cell_type": "code",
   "execution_count": 124,
   "metadata": {
    "id": "o9N4JbcWudk2",
    "pycharm": {
     "name": "#%%\n"
    }
   },
   "outputs": [],
   "source": [
    "df = pd.read_csv(\"./content/train_enriched.csv\")"
   ]
  },
  {
   "cell_type": "code",
   "execution_count": 125,
   "metadata": {
    "pycharm": {
     "name": "#%%\n"
    }
   },
   "outputs": [],
   "source": [
    "abc_le = preprocessing.LabelEncoder()\n",
    "df[\"ABC\"] = abc_le.fit_transform(df[\"ABC\"])"
   ]
  },
  {
   "cell_type": "code",
   "execution_count": 126,
   "metadata": {
    "pycharm": {
     "name": "#%%\n"
    }
   },
   "outputs": [],
   "source": [
    "df['control_year'] = pd.to_datetime(df['month_id']).dt.strftime(\"%Y\").astype(int)\n",
    "df['control_month'] = pd.to_datetime(df['month_id']).dt.strftime(\"%m\").astype(int)\n",
    "df['control_timestamp'] = df['month_id'].apply(lambda d: time.mktime(datetime.strptime(d, \"%m/%d/%Y\").timetuple()))\n",
    "\n",
    "df['cart_day'] = pd.to_datetime(df['carts_created_at']).dt.strftime(\"%d\").astype(int)\n",
    "df['cart_month'] = pd.to_datetime(df['carts_created_at']).dt.strftime(\"%m\").astype(int)\n",
    "df['cart_year'] = pd.to_datetime(df['carts_created_at']).dt.strftime(\"%Y\").astype(int)\n",
    "df['cart_timestamp'] = df['carts_created_at'].apply(lambda d: time.mktime(datetime.strptime(d, \"%m/%d/%Y\").timetuple()))"
   ]
  },
  {
   "cell_type": "code",
   "execution_count": 127,
   "metadata": {
    "pycharm": {
     "name": "#%%\n"
    }
   },
   "outputs": [],
   "source": [
    "df['promo']=df['promo'].apply(lambda promo: promo =='+').astype(int)"
   ]
  },
  {
   "cell_type": "code",
   "execution_count": 128,
   "metadata": {
    "pycharm": {
     "name": "#%%\n"
    }
   },
   "outputs": [],
   "source": [
    "ct_le = preprocessing.LabelEncoder()\n",
    "df[\"communication_type\"] = ct_le.fit_transform(df[\"communication_type\"])"
   ]
  },
  {
   "cell_type": "code",
   "execution_count": 129,
   "metadata": {
    "pycharm": {
     "name": "#%%\n"
    }
   },
   "outputs": [],
   "source": [
    "cats = ['Windows', 'Mac OS X', 'iOS', 'Android', 'Linux', 'Ubuntu',\n",
    "       'Chrome OS', 'Fedora']\n",
    "def os_trans(row):\n",
    "    os = row.os\n",
    "    if os == 'iOS':\n",
    "        os='Mac OS X'\n",
    "    elif os=='Ubuntu'    or os=='Fedora':\n",
    "        os='Linux'   \n",
    "    row[\"os\"]=os\n",
    "    return row"
   ]
  },
  {
   "cell_type": "code",
   "execution_count": 130,
   "metadata": {
    "pycharm": {
     "name": "#%%\n"
    }
   },
   "outputs": [],
   "source": [
    "os_le = preprocessing.LabelEncoder()\n",
    "df=df.apply(lambda row: os_trans(row), axis=1)\n",
    "df[\"os\"] = os_le.fit_transform(df[\"os\"])\n",
    "\n",
    "browser_le = preprocessing.LabelEncoder()\n",
    "df[\"browser\"] = browser_le.fit_transform(df[\"browser\"])\n",
    "\n",
    "platform_le = preprocessing.LabelEncoder()\n",
    "df.platform=df.platform.apply(lambda p: 'mobile' if p =='tablet' else p)\n",
    "df[\"platform\"] = platform_le.fit_transform(df[\"platform\"])\n",
    "\n",
    "program_family_price_type_le = preprocessing.LabelEncoder()\n",
    "df[\"program_family_price_type\"] = program_family_price_type_le.fit_transform(df[\"program_family_price_type\"])\n",
    "\n",
    "program_type_le = preprocessing.LabelEncoder()\n",
    "df[\"program_type\"] = program_type_le.fit_transform(df[\"program_type\"])\n",
    "\n",
    "program_starting_soon_le = preprocessing.LabelEncoder()\n",
    "df[\"program_starting_soon\"] = program_starting_soon_le.fit_transform(df[\"program_starting_soon\"])"
   ]
  },
  {
   "cell_type": "code",
   "execution_count": 131,
   "metadata": {
    "pycharm": {
     "name": "#%%\n"
    }
   },
   "outputs": [],
   "source": [
    "df['current_program_starts_on_day'] = pd.to_datetime(df['current_program_starts_on']).dt.strftime(\"%d\")\n",
    "df['current_program_starts_on_month'] = pd.to_datetime(df['current_program_starts_on']).dt.strftime(\"%m\")\n",
    "df['current_program_starts_on_year'] = pd.to_datetime(df['current_program_starts_on']).dt.strftime(\"%Y\")"
   ]
  },
  {
   "cell_type": "code",
   "execution_count": 132,
   "metadata": {
    "pycharm": {
     "name": "#%%\n"
    }
   },
   "outputs": [],
   "source": [
    "def to_timestamp(d):\n",
    "    if not isinstance(d, float):\n",
    "        d = time.mktime(datetime.strptime(d, \"%Y-%m-%d\").timetuple())\n",
    "    return d"
   ]
  },
  {
   "cell_type": "code",
   "execution_count": 133,
   "metadata": {
    "pycharm": {
     "name": "#%%\n"
    }
   },
   "outputs": [],
   "source": [
    "df['current_program_starts_on_timestamp'] = df['current_program_starts_on'].apply(lambda d: to_timestamp(d))"
   ]
  },
  {
   "cell_type": "code",
   "execution_count": 134,
   "metadata": {
    "pycharm": {
     "name": "#%%\n"
    }
   },
   "outputs": [
    {
     "data": {
      "text/plain": [
       "0         1.602450e+09\n",
       "1                  NaN\n",
       "2         1.659560e+09\n",
       "3         1.664140e+09\n",
       "4                  NaN\n",
       "              ...     \n",
       "199995             NaN\n",
       "199996    1.650834e+09\n",
       "199997    1.660165e+09\n",
       "199998             NaN\n",
       "199999    1.660252e+09\n",
       "Name: current_program_starts_on_timestamp, Length: 200000, dtype: float64"
      ]
     },
     "execution_count": 134,
     "metadata": {},
     "output_type": "execute_result"
    }
   ],
   "source": [
    "df['current_program_starts_on_timestamp']"
   ]
  },
  {
   "cell_type": "code",
   "execution_count": 135,
   "metadata": {
    "pycharm": {
     "name": "#%%\n"
    }
   },
   "outputs": [],
   "source": [
    "def transform_duration(row):\n",
    "    program_duration = str(row.program_duration)\n",
    "    splt =  program_duration.split(' ')\n",
    "    unit = splt[1][0:3]\n",
    "    number = int(splt[0])\n",
    "    if unit =='мес':\n",
    "        number=number * 4\n",
    "    row['program_duration'] = number\n",
    "    return row\n"
   ]
  },
  {
   "cell_type": "code",
   "execution_count": 136,
   "metadata": {
    "pycharm": {
     "name": "#%%\n"
    }
   },
   "outputs": [],
   "source": [
    "df[['program_duration']]=df[['program_duration']].fillna('0 недель')\n",
    "df=df.apply(lambda row: transform_duration(row), axis=1)"
   ]
  },
  {
   "cell_type": "code",
   "execution_count": 137,
   "metadata": {
    "pycharm": {
     "name": "#%%\n"
    }
   },
   "outputs": [],
   "source": [
    "def replace_country(row):\n",
    "    country=row['country']\n",
    "    if country in ['Россия', '<span>Россия</span>', 'Росссия','РФ']:\n",
    "         row['country']= \"Россия\"\n",
    "    return row"
   ]
  },
  {
   "cell_type": "code",
   "execution_count": 138,
   "metadata": {
    "pycharm": {
     "name": "#%%\n"
    }
   },
   "outputs": [],
   "source": [
    "# df = df.apply(lambda row: replace_country(row), axis=1)"
   ]
  },
  {
   "cell_type": "code",
   "execution_count": 139,
   "metadata": {
    "pycharm": {
     "name": "#%%\n"
    }
   },
   "outputs": [],
   "source": [
    "# country_le = preprocessing.LabelEncoder()\n",
    "# df[\"country\"] = country_le.fit_transform(df[\"country\"])"
   ]
  },
  {
   "cell_type": "code",
   "execution_count": 140,
   "metadata": {
    "pycharm": {
     "name": "#%%\n"
    }
   },
   "outputs": [],
   "source": [
    "# df.info()"
   ]
  },
  {
   "cell_type": "code",
   "execution_count": 141,
   "metadata": {
    "pycharm": {
     "name": "#%%\n"
    }
   },
   "outputs": [],
   "source": [
    "# df.dtypes[df.dtypes == \"object\"].values"
   ]
  },
  {
   "cell_type": "code",
   "execution_count": 142,
   "metadata": {
    "pycharm": {
     "name": "#%%\n"
    }
   },
   "outputs": [],
   "source": [
    "# mass_object = df.dtypes[df.dtypes == \"object\"].index.values"
   ]
  },
  {
   "cell_type": "code",
   "execution_count": 143,
   "metadata": {
    "pycharm": {
     "name": "#%%\n"
    }
   },
   "outputs": [],
   "source": [
    "# mass_object"
   ]
  },
  {
   "cell_type": "code",
   "execution_count": 144,
   "metadata": {
    "pycharm": {
     "name": "#%%\n"
    }
   },
   "outputs": [],
   "source": [
    "# df = df.drop(['available_program_starts_on', 'carts_created_at', 'city',\n",
    "#        'current_program_starts_on', 'month_id',], axis = 1)"
   ]
  },
  {
   "cell_type": "code",
   "execution_count": 145,
   "metadata": {
    "pycharm": {
     "name": "#%%\n"
    }
   },
   "outputs": [],
   "source": [
    "x_feats=[\"program_id\",\n",
    "\"price\",\n",
    " \"cart_timestamp\",\n",
    " \"control_month\",\n",
    "\"student_id\",\n",
    "\"age_indicator\",\n",
    "\"feedback_avg_d1\",\n",
    "\"feedback_avg_d3\",\n",
    "\"feedback_avg_d5\",\n",
    "\"feedback_avg_d4\",\n",
    "\"feedback_avg_d2\",\n",
    " \"control_year\",\n",
    "\"support_feedback_avg\",\n",
    "\"ABC\",\n",
    "\"promo\" , \n",
    "         \n",
    "       'bought_d1', 'bought_d2', 'bought_d3', 'bought_d4',\n",
    "       'bought_d5', \n",
    "         \n",
    "           'bought_avg_duration',\n",
    "          \"m_was_conversations\",\n",
    "          \"p_was_conversations\",\n",
    "  \n",
    "       \"program_family_main_direction_id\",\n",
    "       \"program_type\",\n",
    "         \n",
    "          \"program_starting_soon\",\n",
    "         \n",
    "       \"current_program_starts_on_timestamp\", \n",
    "         \"current_program_starts_on_day\", \"current_program_starts_on_month\", \"current_program_starts_on_year\",\n",
    "          \"time_diff\",\n",
    "         \"auto_payment\",\n",
    "          \"gender\",\n",
    "         \"platform\",\n",
    "        \"os\",\n",
    "         \"program_duration\",\n",
    "         \"communication_type\",\n",
    "        \n",
    "     ]\n",
    "feats=x_feats+[   \"target\" ]"
   ]
  },
  {
   "cell_type": "code",
   "execution_count": 146,
   "metadata": {
    "pycharm": {
     "name": "#%%\n"
    }
   },
   "outputs": [
    {
     "data": {
      "text/plain": [
       "['program_id',\n",
       " 'price',\n",
       " 'cart_timestamp',\n",
       " 'control_month',\n",
       " 'student_id',\n",
       " 'age_indicator',\n",
       " 'feedback_avg_d1',\n",
       " 'feedback_avg_d3',\n",
       " 'feedback_avg_d5',\n",
       " 'feedback_avg_d4',\n",
       " 'feedback_avg_d2',\n",
       " 'control_year',\n",
       " 'support_feedback_avg',\n",
       " 'ABC',\n",
       " 'promo',\n",
       " 'bought_d1',\n",
       " 'bought_d2',\n",
       " 'bought_d3',\n",
       " 'bought_d4',\n",
       " 'bought_d5',\n",
       " 'bought_avg_duration',\n",
       " 'm_was_conversations',\n",
       " 'p_was_conversations',\n",
       " 'program_family_main_direction_id',\n",
       " 'program_type',\n",
       " 'program_starting_soon',\n",
       " 'current_program_starts_on_timestamp',\n",
       " 'current_program_starts_on_day',\n",
       " 'current_program_starts_on_month',\n",
       " 'current_program_starts_on_year',\n",
       " 'time_diff',\n",
       " 'auto_payment',\n",
       " 'gender',\n",
       " 'platform',\n",
       " 'os',\n",
       " 'program_duration',\n",
       " 'communication_type',\n",
       " 'target']"
      ]
     },
     "execution_count": 146,
     "metadata": {},
     "output_type": "execute_result"
    }
   ],
   "source": [
    "feats"
   ]
  },
  {
   "cell_type": "code",
   "execution_count": 147,
   "metadata": {
    "pycharm": {
     "name": "#%%\n"
    }
   },
   "outputs": [],
   "source": [
    "# df.info()"
   ]
  },
  {
   "cell_type": "code",
   "execution_count": 148,
   "metadata": {
    "pycharm": {
     "name": "#%%\n"
    }
   },
   "outputs": [],
   "source": [
    "# df=df[feats]"
   ]
  },
  {
   "cell_type": "code",
   "execution_count": 149,
   "metadata": {
    "pycharm": {
     "name": "#%%\n"
    }
   },
   "outputs": [],
   "source": [
    "# df.info()"
   ]
  },
  {
   "cell_type": "code",
   "execution_count": 150,
   "metadata": {},
   "outputs": [
    {
     "data": {
      "text/plain": [
       "0         22\n",
       "1         44\n",
       "2         38\n",
       "3         37\n",
       "4         43\n",
       "          ..\n",
       "199995    37\n",
       "199996    38\n",
       "199997    24\n",
       "199998    38\n",
       "199999    31\n",
       "Length: 174301, dtype: int64"
      ]
     },
     "execution_count": 150,
     "metadata": {},
     "output_type": "execute_result"
    }
   ],
   "source": [
    "n=df[df.target==0].isnull().sum(axis=1)\n",
    "n"
   ]
  },
  {
   "cell_type": "code",
   "execution_count": 151,
   "metadata": {},
   "outputs": [
    {
     "data": {
      "text/plain": [
       "Int64Index([     1,      2,      4,     13,     31,     47,     48,     56,\n",
       "                77,     96,\n",
       "            ...\n",
       "            199901, 199911, 199933, 199941, 199948, 199951, 199957, 199972,\n",
       "            199996, 199998],\n",
       "           dtype='int64', length=21777)"
      ]
     },
     "execution_count": 151,
     "metadata": {},
     "output_type": "execute_result"
    }
   ],
   "source": [
    "to_drop=n[n>=38].index\n",
    "to_drop"
   ]
  },
  {
   "cell_type": "code",
   "execution_count": 152,
   "metadata": {},
   "outputs": [],
   "source": [
    "df=df.drop(to_drop)"
   ]
  },
  {
   "cell_type": "code",
   "execution_count": 153,
   "metadata": {},
   "outputs": [
    {
     "data": {
      "text/plain": [
       "[(0, 152524), (1, 13512), (5, 3678), (4, 3659), (3, 3027), (2, 1823)]"
      ]
     },
     "execution_count": 153,
     "metadata": {},
     "output_type": "execute_result"
    }
   ],
   "source": [
    "Counter(df.target).most_common()"
   ]
  },
  {
   "cell_type": "code",
   "execution_count": null,
   "metadata": {},
   "outputs": [],
   "source": []
  },
  {
   "cell_type": "code",
   "execution_count": 154,
   "metadata": {
    "pycharm": {
     "name": "#%%\n"
    }
   },
   "outputs": [],
   "source": [
    "df = df.fillna(0)\n",
    "\n",
    "# imp = IterativeImputer(initial_strategy='median')\n",
    "# df = pd.DataFrame(data=imp.fit_transform(df), columns=df.columns)\n",
    "\n",
    "#df = df.dropna()\n",
    "\n",
    "# cols =[\n",
    "#     \"age_indicator\",\n",
    "# \"feedback_avg_d1\",\n",
    "# \"feedback_avg_d3\",\n",
    "# \"feedback_avg_d5\",\n",
    "# \"feedback_avg_d4\",\n",
    "# \"feedback_avg_d2\",\n",
    "# \"support_feedback_avg\",\n",
    "# \"bought_avg_duration\",\n",
    "# \"m_was_conversations\",\n",
    "# \"p_was_conversations\",\n",
    "# \"current_program_starts_on_timestamp\",\n",
    "# ]\n",
    "\n",
    "# df=df[~df[cols].isna().all(axis=1)]"
   ]
  },
  {
   "cell_type": "code",
   "execution_count": 155,
   "metadata": {
    "pycharm": {
     "name": "#%%\n"
    }
   },
   "outputs": [],
   "source": [
    "df[\"time_diff\"] = df[\"current_program_starts_on_timestamp\"] - df[\"cart_timestamp\"]"
   ]
  },
  {
   "cell_type": "code",
   "execution_count": 156,
   "metadata": {
    "pycharm": {
     "name": "#%%\n"
    }
   },
   "outputs": [],
   "source": [
    "df.gender=df.gender.astype(int)"
   ]
  },
  {
   "cell_type": "code",
   "execution_count": 157,
   "metadata": {},
   "outputs": [],
   "source": [
    "# df['notes_bin']=df['notes'].apply(lambda n: n>0).astype(int)"
   ]
  },
  {
   "cell_type": "code",
   "execution_count": 158,
   "metadata": {
    "pycharm": {
     "name": "#%%\n"
    }
   },
   "outputs": [],
   "source": [
    "def price_trans(row):\n",
    "    price=row.price\n",
    "    cat=0\n",
    "    if price<=15000:\n",
    "        cat=0\n",
    "    elif price >15000 and price<=40000:\n",
    "        cat=1\n",
    "    elif price >40000 and price<=60000:\n",
    "        cat=2\n",
    "    else:\n",
    "        cat=4    \n",
    "    row[\"price\"]=cat\n",
    "    return row"
   ]
  },
  {
   "cell_type": "code",
   "execution_count": 159,
   "metadata": {
    "pycharm": {
     "name": "#%%\n"
    }
   },
   "outputs": [],
   "source": [
    "# df=df.apply(lambda row: price_trans(row), axis=1)"
   ]
  },
  {
   "cell_type": "code",
   "execution_count": 160,
   "metadata": {
    "pycharm": {
     "name": "#%%\n"
    }
   },
   "outputs": [
    {
     "data": {
      "image/png": "[encoded data removed]",
      "text/plain": [
       "<Figure size 1440x864 with 1 Axes>"
      ]
     },
     "metadata": {
      "needs_background": "light"
     },
     "output_type": "display_data"
    }
   ],
   "source": [
    "_ = df[[\"price\"]].hist(figsize=(20,12))"
   ]
  },
  {
   "cell_type": "code",
   "execution_count": 161,
   "metadata": {
    "pycharm": {
     "name": "#%%\n"
    }
   },
   "outputs": [],
   "source": [
    "# df[\"bought_total\"] = df.bought_d1+df.bought_d2 + df.bought_d3+df.bought_d4+df.bought_d5"
   ]
  },
  {
   "cell_type": "code",
   "execution_count": 162,
   "metadata": {
    "pycharm": {
     "name": "#%%\n"
    }
   },
   "outputs": [],
   "source": [
    "# def age_transform(row):\n",
    "#     age = row.age_indicator\n",
    "#     if age<10:\n",
    "#         row['age_indicator']= 20\n",
    "#     return row"
   ]
  },
  {
   "cell_type": "code",
   "execution_count": 163,
   "metadata": {
    "pycharm": {
     "name": "#%%\n"
    }
   },
   "outputs": [],
   "source": [
    "# df = df.apply(lambda row: age_transform(row), axis=1)"
   ]
  },
  {
   "cell_type": "code",
   "execution_count": null,
   "metadata": {
    "pycharm": {
     "name": "#%%\n"
    }
   },
   "outputs": [],
   "source": []
  },
  {
   "cell_type": "code",
   "execution_count": 164,
   "metadata": {
    "pycharm": {
     "name": "#%%\n"
    }
   },
   "outputs": [],
   "source": [
    "df=df[feats]"
   ]
  },
  {
   "cell_type": "code",
   "execution_count": 165,
   "metadata": {
    "pycharm": {
     "name": "#%%\n"
    }
   },
   "outputs": [],
   "source": [
    "df['current_program_starts_on_day'] = df['current_program_starts_on_day'].astype(int)\n",
    "df['current_program_starts_on_month'] = df['current_program_starts_on_month'].astype(int)\n",
    "df['current_program_starts_on_year'] = df['current_program_starts_on_year'].astype(int)"
   ]
  },
  {
   "cell_type": "code",
   "execution_count": 166,
   "metadata": {
    "pycharm": {
     "name": "#%%\n"
    }
   },
   "outputs": [],
   "source": [
    "# df.info()"
   ]
  },
  {
   "cell_type": "code",
   "execution_count": 167,
   "metadata": {
    "pycharm": {
     "name": "#%%\n"
    }
   },
   "outputs": [],
   "source": [
    "# df = df.fillna(0)"
   ]
  },
  {
   "cell_type": "code",
   "execution_count": 168,
   "metadata": {
    "pycharm": {
     "name": "#%%\n"
    }
   },
   "outputs": [
    {
     "data": {
      "text/html": [
       "<div>\n",
       "<style scoped>\n",
       "    .dataframe tbody tr th:only-of-type {\n",
       "        vertical-align: middle;\n",
       "    }\n",
       "\n",
       "    .dataframe tbody tr th {\n",
       "        vertical-align: top;\n",
       "    }\n",
       "\n",
       "    .dataframe thead th {\n",
       "        text-align: right;\n",
       "    }\n",
       "</style>\n",
       "<table border=\"1\" class=\"dataframe\">\n",
       "  <thead>\n",
       "    <tr style=\"text-align: right;\">\n",
       "      <th></th>\n",
       "      <th>program_id</th>\n",
       "      <th>price</th>\n",
       "      <th>cart_timestamp</th>\n",
       "      <th>control_month</th>\n",
       "      <th>student_id</th>\n",
       "      <th>age_indicator</th>\n",
       "      <th>feedback_avg_d1</th>\n",
       "      <th>feedback_avg_d3</th>\n",
       "      <th>feedback_avg_d5</th>\n",
       "      <th>feedback_avg_d4</th>\n",
       "      <th>...</th>\n",
       "      <th>current_program_starts_on_month</th>\n",
       "      <th>current_program_starts_on_year</th>\n",
       "      <th>time_diff</th>\n",
       "      <th>auto_payment</th>\n",
       "      <th>gender</th>\n",
       "      <th>platform</th>\n",
       "      <th>os</th>\n",
       "      <th>program_duration</th>\n",
       "      <th>communication_type</th>\n",
       "      <th>target</th>\n",
       "    </tr>\n",
       "  </thead>\n",
       "  <tbody>\n",
       "    <tr>\n",
       "      <th>0</th>\n",
       "      <td>1469</td>\n",
       "      <td>20042.95930</td>\n",
       "      <td>1.598389e+09</td>\n",
       "      <td>9</td>\n",
       "      <td>6694527</td>\n",
       "      <td>32.0</td>\n",
       "      <td>5.0</td>\n",
       "      <td>0.000000</td>\n",
       "      <td>0.0</td>\n",
       "      <td>0.0</td>\n",
       "      <td>...</td>\n",
       "      <td>10</td>\n",
       "      <td>2020</td>\n",
       "      <td>4.060800e+06</td>\n",
       "      <td>0</td>\n",
       "      <td>1</td>\n",
       "      <td>2</td>\n",
       "      <td>5</td>\n",
       "      <td>0</td>\n",
       "      <td>1</td>\n",
       "      <td>0</td>\n",
       "    </tr>\n",
       "    <tr>\n",
       "      <th>3</th>\n",
       "      <td>1160</td>\n",
       "      <td>22260.63222</td>\n",
       "      <td>1.618348e+09</td>\n",
       "      <td>11</td>\n",
       "      <td>7151591</td>\n",
       "      <td>1.0</td>\n",
       "      <td>0.0</td>\n",
       "      <td>0.000000</td>\n",
       "      <td>0.0</td>\n",
       "      <td>0.0</td>\n",
       "      <td>...</td>\n",
       "      <td>9</td>\n",
       "      <td>2022</td>\n",
       "      <td>4.579200e+07</td>\n",
       "      <td>1</td>\n",
       "      <td>1</td>\n",
       "      <td>1</td>\n",
       "      <td>4</td>\n",
       "      <td>16</td>\n",
       "      <td>0</td>\n",
       "      <td>0</td>\n",
       "    </tr>\n",
       "    <tr>\n",
       "      <th>5</th>\n",
       "      <td>789</td>\n",
       "      <td>20050.68100</td>\n",
       "      <td>1.608412e+09</td>\n",
       "      <td>4</td>\n",
       "      <td>6784019</td>\n",
       "      <td>0.0</td>\n",
       "      <td>0.0</td>\n",
       "      <td>0.000000</td>\n",
       "      <td>0.0</td>\n",
       "      <td>5.0</td>\n",
       "      <td>...</td>\n",
       "      <td>8</td>\n",
       "      <td>2022</td>\n",
       "      <td>5.175360e+07</td>\n",
       "      <td>1</td>\n",
       "      <td>0</td>\n",
       "      <td>1</td>\n",
       "      <td>3</td>\n",
       "      <td>32</td>\n",
       "      <td>0</td>\n",
       "      <td>0</td>\n",
       "    </tr>\n",
       "    <tr>\n",
       "      <th>6</th>\n",
       "      <td>242</td>\n",
       "      <td>42893.16405</td>\n",
       "      <td>1.614373e+09</td>\n",
       "      <td>4</td>\n",
       "      <td>6409144</td>\n",
       "      <td>5.0</td>\n",
       "      <td>0.0</td>\n",
       "      <td>4.566105</td>\n",
       "      <td>0.0</td>\n",
       "      <td>0.0</td>\n",
       "      <td>...</td>\n",
       "      <td>8</td>\n",
       "      <td>2022</td>\n",
       "      <td>4.527360e+07</td>\n",
       "      <td>1</td>\n",
       "      <td>0</td>\n",
       "      <td>1</td>\n",
       "      <td>4</td>\n",
       "      <td>56</td>\n",
       "      <td>2</td>\n",
       "      <td>0</td>\n",
       "    </tr>\n",
       "    <tr>\n",
       "      <th>7</th>\n",
       "      <td>998</td>\n",
       "      <td>7206.92000</td>\n",
       "      <td>1.601759e+09</td>\n",
       "      <td>4</td>\n",
       "      <td>6314133</td>\n",
       "      <td>0.0</td>\n",
       "      <td>0.0</td>\n",
       "      <td>0.000000</td>\n",
       "      <td>0.0</td>\n",
       "      <td>0.0</td>\n",
       "      <td>...</td>\n",
       "      <td>8</td>\n",
       "      <td>2022</td>\n",
       "      <td>5.961600e+07</td>\n",
       "      <td>1</td>\n",
       "      <td>0</td>\n",
       "      <td>2</td>\n",
       "      <td>5</td>\n",
       "      <td>7</td>\n",
       "      <td>0</td>\n",
       "      <td>0</td>\n",
       "    </tr>\n",
       "    <tr>\n",
       "      <th>...</th>\n",
       "      <td>...</td>\n",
       "      <td>...</td>\n",
       "      <td>...</td>\n",
       "      <td>...</td>\n",
       "      <td>...</td>\n",
       "      <td>...</td>\n",
       "      <td>...</td>\n",
       "      <td>...</td>\n",
       "      <td>...</td>\n",
       "      <td>...</td>\n",
       "      <td>...</td>\n",
       "      <td>...</td>\n",
       "      <td>...</td>\n",
       "      <td>...</td>\n",
       "      <td>...</td>\n",
       "      <td>...</td>\n",
       "      <td>...</td>\n",
       "      <td>...</td>\n",
       "      <td>...</td>\n",
       "      <td>...</td>\n",
       "      <td>...</td>\n",
       "    </tr>\n",
       "    <tr>\n",
       "      <th>199993</th>\n",
       "      <td>1562</td>\n",
       "      <td>36392.06906</td>\n",
       "      <td>1.625087e+09</td>\n",
       "      <td>9</td>\n",
       "      <td>7310456</td>\n",
       "      <td>21.0</td>\n",
       "      <td>0.0</td>\n",
       "      <td>0.000000</td>\n",
       "      <td>0.0</td>\n",
       "      <td>4.4</td>\n",
       "      <td>...</td>\n",
       "      <td>8</td>\n",
       "      <td>2022</td>\n",
       "      <td>3.620160e+07</td>\n",
       "      <td>1</td>\n",
       "      <td>1</td>\n",
       "      <td>1</td>\n",
       "      <td>4</td>\n",
       "      <td>52</td>\n",
       "      <td>2</td>\n",
       "      <td>0</td>\n",
       "    </tr>\n",
       "    <tr>\n",
       "      <th>199994</th>\n",
       "      <td>1330</td>\n",
       "      <td>11215.92501</td>\n",
       "      <td>1.629320e+09</td>\n",
       "      <td>9</td>\n",
       "      <td>7320106</td>\n",
       "      <td>10.0</td>\n",
       "      <td>0.0</td>\n",
       "      <td>0.000000</td>\n",
       "      <td>0.0</td>\n",
       "      <td>0.0</td>\n",
       "      <td>...</td>\n",
       "      <td>8</td>\n",
       "      <td>2022</td>\n",
       "      <td>3.119040e+07</td>\n",
       "      <td>0</td>\n",
       "      <td>0</td>\n",
       "      <td>1</td>\n",
       "      <td>4</td>\n",
       "      <td>12</td>\n",
       "      <td>0</td>\n",
       "      <td>0</td>\n",
       "    </tr>\n",
       "    <tr>\n",
       "      <th>199995</th>\n",
       "      <td>1043</td>\n",
       "      <td>10263.96745</td>\n",
       "      <td>1.602796e+09</td>\n",
       "      <td>11</td>\n",
       "      <td>6816668</td>\n",
       "      <td>27.0</td>\n",
       "      <td>0.0</td>\n",
       "      <td>0.000000</td>\n",
       "      <td>0.0</td>\n",
       "      <td>0.0</td>\n",
       "      <td>...</td>\n",
       "      <td>0</td>\n",
       "      <td>0</td>\n",
       "      <td>-1.602796e+09</td>\n",
       "      <td>1</td>\n",
       "      <td>1</td>\n",
       "      <td>2</td>\n",
       "      <td>5</td>\n",
       "      <td>0</td>\n",
       "      <td>0</td>\n",
       "      <td>0</td>\n",
       "    </tr>\n",
       "    <tr>\n",
       "      <th>199997</th>\n",
       "      <td>789</td>\n",
       "      <td>22084.06200</td>\n",
       "      <td>1.593378e+09</td>\n",
       "      <td>3</td>\n",
       "      <td>6670084</td>\n",
       "      <td>17.0</td>\n",
       "      <td>0.0</td>\n",
       "      <td>0.000000</td>\n",
       "      <td>0.0</td>\n",
       "      <td>4.0</td>\n",
       "      <td>...</td>\n",
       "      <td>8</td>\n",
       "      <td>2022</td>\n",
       "      <td>6.678720e+07</td>\n",
       "      <td>0</td>\n",
       "      <td>1</td>\n",
       "      <td>2</td>\n",
       "      <td>5</td>\n",
       "      <td>32</td>\n",
       "      <td>2</td>\n",
       "      <td>0</td>\n",
       "    </tr>\n",
       "    <tr>\n",
       "      <th>199999</th>\n",
       "      <td>1104</td>\n",
       "      <td>55596.24000</td>\n",
       "      <td>1.614114e+09</td>\n",
       "      <td>10</td>\n",
       "      <td>7057970</td>\n",
       "      <td>18.0</td>\n",
       "      <td>0.0</td>\n",
       "      <td>0.000000</td>\n",
       "      <td>0.0</td>\n",
       "      <td>0.0</td>\n",
       "      <td>...</td>\n",
       "      <td>8</td>\n",
       "      <td>2022</td>\n",
       "      <td>4.613760e+07</td>\n",
       "      <td>1</td>\n",
       "      <td>1</td>\n",
       "      <td>1</td>\n",
       "      <td>3</td>\n",
       "      <td>60</td>\n",
       "      <td>0</td>\n",
       "      <td>0</td>\n",
       "    </tr>\n",
       "  </tbody>\n",
       "</table>\n",
       "<p>178223 rows × 38 columns</p>\n",
       "</div>"
      ],
      "text/plain": [
       "        program_id        price  cart_timestamp  control_month  student_id  \\\n",
       "0             1469  20042.95930    1.598389e+09              9     6694527   \n",
       "3             1160  22260.63222    1.618348e+09             11     7151591   \n",
       "5              789  20050.68100    1.608412e+09              4     6784019   \n",
       "6              242  42893.16405    1.614373e+09              4     6409144   \n",
       "7              998   7206.92000    1.601759e+09              4     6314133   \n",
       "...            ...          ...             ...            ...         ...   \n",
       "199993        1562  36392.06906    1.625087e+09              9     7310456   \n",
       "199994        1330  11215.92501    1.629320e+09              9     7320106   \n",
       "199995        1043  10263.96745    1.602796e+09             11     6816668   \n",
       "199997         789  22084.06200    1.593378e+09              3     6670084   \n",
       "199999        1104  55596.24000    1.614114e+09             10     7057970   \n",
       "\n",
       "        age_indicator  feedback_avg_d1  feedback_avg_d3  feedback_avg_d5  \\\n",
       "0                32.0              5.0         0.000000              0.0   \n",
       "3                 1.0              0.0         0.000000              0.0   \n",
       "5                 0.0              0.0         0.000000              0.0   \n",
       "6                 5.0              0.0         4.566105              0.0   \n",
       "7                 0.0              0.0         0.000000              0.0   \n",
       "...               ...              ...              ...              ...   \n",
       "199993           21.0              0.0         0.000000              0.0   \n",
       "199994           10.0              0.0         0.000000              0.0   \n",
       "199995           27.0              0.0         0.000000              0.0   \n",
       "199997           17.0              0.0         0.000000              0.0   \n",
       "199999           18.0              0.0         0.000000              0.0   \n",
       "\n",
       "        feedback_avg_d4  ...  current_program_starts_on_month  \\\n",
       "0                   0.0  ...                               10   \n",
       "3                   0.0  ...                                9   \n",
       "5                   5.0  ...                                8   \n",
       "6                   0.0  ...                                8   \n",
       "7                   0.0  ...                                8   \n",
       "...                 ...  ...                              ...   \n",
       "199993              4.4  ...                                8   \n",
       "199994              0.0  ...                                8   \n",
       "199995              0.0  ...                                0   \n",
       "199997              4.0  ...                                8   \n",
       "199999              0.0  ...                                8   \n",
       "\n",
       "        current_program_starts_on_year     time_diff  auto_payment  gender  \\\n",
       "0                                 2020  4.060800e+06             0       1   \n",
       "3                                 2022  4.579200e+07             1       1   \n",
       "5                                 2022  5.175360e+07             1       0   \n",
       "6                                 2022  4.527360e+07             1       0   \n",
       "7                                 2022  5.961600e+07             1       0   \n",
       "...                                ...           ...           ...     ...   \n",
       "199993                            2022  3.620160e+07             1       1   \n",
       "199994                            2022  3.119040e+07             0       0   \n",
       "199995                               0 -1.602796e+09             1       1   \n",
       "199997                            2022  6.678720e+07             0       1   \n",
       "199999                            2022  4.613760e+07             1       1   \n",
       "\n",
       "        platform  os  program_duration  communication_type  target  \n",
       "0              2   5                 0                   1       0  \n",
       "3              1   4                16                   0       0  \n",
       "5              1   3                32                   0       0  \n",
       "6              1   4                56                   2       0  \n",
       "7              2   5                 7                   0       0  \n",
       "...          ...  ..               ...                 ...     ...  \n",
       "199993         1   4                52                   2       0  \n",
       "199994         1   4                12                   0       0  \n",
       "199995         2   5                 0                   0       0  \n",
       "199997         2   5                32                   2       0  \n",
       "199999         1   3                60                   0       0  \n",
       "\n",
       "[178223 rows x 38 columns]"
      ]
     },
     "execution_count": 168,
     "metadata": {},
     "output_type": "execute_result"
    }
   ],
   "source": [
    "df"
   ]
  },
  {
   "cell_type": "code",
   "execution_count": 169,
   "metadata": {
    "pycharm": {
     "name": "#%%\n"
    }
   },
   "outputs": [],
   "source": [
    "X =  df.drop([\"target\"], axis = 1)\n",
    "y = df.target"
   ]
  },
  {
   "cell_type": "code",
   "execution_count": 170,
   "metadata": {
    "pycharm": {
     "name": "#%%\n"
    }
   },
   "outputs": [
    {
     "data": {
      "text/plain": [
       "Index(['program_id', 'price', 'cart_timestamp', 'control_month', 'student_id',\n",
       "       'age_indicator', 'feedback_avg_d1', 'feedback_avg_d3',\n",
       "       'feedback_avg_d5', 'feedback_avg_d4', 'feedback_avg_d2', 'control_year',\n",
       "       'support_feedback_avg', 'ABC', 'promo', 'bought_d1', 'bought_d2',\n",
       "       'bought_d3', 'bought_d4', 'bought_d5', 'bought_avg_duration',\n",
       "       'm_was_conversations', 'p_was_conversations',\n",
       "       'program_family_main_direction_id', 'program_type',\n",
       "       'program_starting_soon', 'current_program_starts_on_timestamp',\n",
       "       'current_program_starts_on_day', 'current_program_starts_on_month',\n",
       "       'current_program_starts_on_year', 'time_diff', 'auto_payment', 'gender',\n",
       "       'platform', 'os', 'program_duration', 'communication_type'],\n",
       "      dtype='object')"
      ]
     },
     "execution_count": 170,
     "metadata": {},
     "output_type": "execute_result"
    }
   ],
   "source": [
    "X.columns"
   ]
  },
  {
   "cell_type": "code",
   "execution_count": 171,
   "metadata": {
    "pycharm": {
     "name": "#%%\n"
    }
   },
   "outputs": [
    {
     "data": {
      "text/plain": [
       "{0: 152524, 1: 13512, 5: 3678, 4: 3659, 3: 3027, 2: 1823}"
      ]
     },
     "execution_count": 171,
     "metadata": {},
     "output_type": "execute_result"
    }
   ],
   "source": [
    "\n",
    "class_counts = Counter(y).most_common()\n",
    "class_counts = dict([(cl[0], cl[1]) for cl in class_counts])\n",
    "class_counts"
   ]
  },
  {
   "cell_type": "code",
   "execution_count": 172,
   "metadata": {
    "pycharm": {
     "name": "#%%\n"
    }
   },
   "outputs": [],
   "source": [
    "sample_class_counts = class_counts.copy()\n",
    "sample_class_counts[2] = sample_class_counts[2] * 2\n",
    "# sample_class_counts[3] = 4000\n",
    "# sample_class_counts[5] = 4500"
   ]
  },
  {
   "cell_type": "code",
   "execution_count": 173,
   "metadata": {
    "pycharm": {
     "name": "#%%\n"
    }
   },
   "outputs": [
    {
     "name": "stderr",
     "output_type": "stream",
     "text": [
      "C:\\Users\\evvEn\\PycharmProjects\\netology\\venv\\lib\\site-packages\\imblearn\\utils\\_validation.py:586: FutureWarning: Pass sampling_strategy={0: 152524, 1: 13512, 5: 3678, 4: 3659, 3: 3027, 2: 3646} as keyword args. From version 0.9 passing these as positional arguments will result in an error\n",
      "  warnings.warn(\n"
     ]
    }
   ],
   "source": [
    "from imblearn.over_sampling import RandomOverSampler\n",
    "over_sampler: RandomOverSampler = RandomOverSampler(sample_class_counts)\n",
    "X, y = over_sampler.fit_resample(X, y)    "
   ]
  },
  {
   "cell_type": "code",
   "execution_count": 174,
   "metadata": {
    "pycharm": {
     "name": "#%%\n"
    }
   },
   "outputs": [],
   "source": [
    "# sample_class_counts[0] = 100_000"
   ]
  },
  {
   "cell_type": "code",
   "execution_count": 175,
   "metadata": {
    "pycharm": {
     "name": "#%%\n"
    }
   },
   "outputs": [],
   "source": [
    "# from imblearn.under_sampling import RandomUnderSampler\n",
    "# over_sampler: RandomUnderSampler = RandomUnderSampler(sample_class_counts)\n",
    "# X, y = over_sampler.fit_resample(X, y)    "
   ]
  },
  {
   "cell_type": "code",
   "execution_count": 176,
   "metadata": {
    "pycharm": {
     "name": "#%%\n"
    }
   },
   "outputs": [
    {
     "data": {
      "text/plain": [
       "[(0, 152524), (1, 13512), (5, 3678), (4, 3659), (2, 3646), (3, 3027)]"
      ]
     },
     "execution_count": 176,
     "metadata": {},
     "output_type": "execute_result"
    }
   ],
   "source": [
    "Counter(y).most_common()"
   ]
  },
  {
   "cell_type": "code",
   "execution_count": 177,
   "metadata": {
    "pycharm": {
     "name": "#%%\n"
    }
   },
   "outputs": [],
   "source": [
    "X_train, X_test, y_train, y_test = train_test_split(X, y, test_size=0.3, random_state=42)"
   ]
  },
  {
   "cell_type": "code",
   "execution_count": 178,
   "metadata": {
    "pycharm": {
     "name": "#%%\n"
    }
   },
   "outputs": [],
   "source": [
    "clf = RandomForestClassifier(random_state=0, max_depth=50, n_estimators=500)"
   ]
  },
  {
   "cell_type": "code",
   "execution_count": 179,
   "metadata": {
    "pycharm": {
     "name": "#%%\n"
    }
   },
   "outputs": [
    {
     "data": {
      "text/html": [
       "<style>#sk-container-id-1 {color: black;background-color: white;}#sk-container-id-1 pre{padding: 0;}#sk-container-id-1 div.sk-toggleable {background-color: white;}#sk-container-id-1 label.sk-toggleable__label {cursor: pointer;display: block;width: 100%;margin-bottom: 0;padding: 0.3em;box-sizing: border-box;text-align: center;}#sk-container-id-1 label.sk-toggleable__label-arrow:before {content: \"▸\";float: left;margin-right: 0.25em;color: #696969;}#sk-container-id-1 label.sk-toggleable__label-arrow:hover:before {color: black;}#sk-container-id-1 div.sk-estimator:hover label.sk-toggleable__label-arrow:before {color: black;}#sk-container-id-1 div.sk-toggleable__content {max-height: 0;max-width: 0;overflow: hidden;text-align: left;background-color: #f0f8ff;}#sk-container-id-1 div.sk-toggleable__content pre {margin: 0.2em;color: black;border-radius: 0.25em;background-color: #f0f8ff;}#sk-container-id-1 input.sk-toggleable__control:checked~div.sk-toggleable__content {max-height: 200px;max-width: 100%;overflow: auto;}#sk-container-id-1 input.sk-toggleable__control:checked~label.sk-toggleable__label-arrow:before {content: \"▾\";}#sk-container-id-1 div.sk-estimator input.sk-toggleable__control:checked~label.sk-toggleable__label {background-color: #d4ebff;}#sk-container-id-1 div.sk-label input.sk-toggleable__control:checked~label.sk-toggleable__label {background-color: #d4ebff;}#sk-container-id-1 input.sk-hidden--visually {border: 0;clip: rect(1px 1px 1px 1px);clip: rect(1px, 1px, 1px, 1px);height: 1px;margin: -1px;overflow: hidden;padding: 0;position: absolute;width: 1px;}#sk-container-id-1 div.sk-estimator {font-family: monospace;background-color: #f0f8ff;border: 1px dotted black;border-radius: 0.25em;box-sizing: border-box;margin-bottom: 0.5em;}#sk-container-id-1 div.sk-estimator:hover {background-color: #d4ebff;}#sk-container-id-1 div.sk-parallel-item::after {content: \"\";width: 100%;border-bottom: 1px solid gray;flex-grow: 1;}#sk-container-id-1 div.sk-label:hover label.sk-toggleable__label {background-color: #d4ebff;}#sk-container-id-1 div.sk-serial::before {content: \"\";position: absolute;border-left: 1px solid gray;box-sizing: border-box;top: 0;bottom: 0;left: 50%;z-index: 0;}#sk-container-id-1 div.sk-serial {display: flex;flex-direction: column;align-items: center;background-color: white;padding-right: 0.2em;padding-left: 0.2em;position: relative;}#sk-container-id-1 div.sk-item {position: relative;z-index: 1;}#sk-container-id-1 div.sk-parallel {display: flex;align-items: stretch;justify-content: center;background-color: white;position: relative;}#sk-container-id-1 div.sk-item::before, #sk-container-id-1 div.sk-parallel-item::before {content: \"\";position: absolute;border-left: 1px solid gray;box-sizing: border-box;top: 0;bottom: 0;left: 50%;z-index: -1;}#sk-container-id-1 div.sk-parallel-item {display: flex;flex-direction: column;z-index: 1;position: relative;background-color: white;}#sk-container-id-1 div.sk-parallel-item:first-child::after {align-self: flex-end;width: 50%;}#sk-container-id-1 div.sk-parallel-item:last-child::after {align-self: flex-start;width: 50%;}#sk-container-id-1 div.sk-parallel-item:only-child::after {width: 0;}#sk-container-id-1 div.sk-dashed-wrapped {border: 1px dashed gray;margin: 0 0.4em 0.5em 0.4em;box-sizing: border-box;padding-bottom: 0.4em;background-color: white;}#sk-container-id-1 div.sk-label label {font-family: monospace;font-weight: bold;display: inline-block;line-height: 1.2em;}#sk-container-id-1 div.sk-label-container {text-align: center;}#sk-container-id-1 div.sk-container {/* jupyter's `normalize.less` sets `[hidden] { display: none; }` but bootstrap.min.css set `[hidden] { display: none !important; }` so we also need the `!important` here to be able to override the default hidden behavior on the sphinx rendered scikit-learn.org. See: https://github.com/scikit-learn/scikit-learn/issues/21755 */display: inline-block !important;position: relative;}#sk-container-id-1 div.sk-text-repr-fallback {display: none;}</style><div id=\"sk-container-id-1\" class=\"sk-top-container\"><div class=\"sk-text-repr-fallback\"><pre>RandomForestClassifier(max_depth=50, n_estimators=500, random_state=0)</pre><b>In a Jupyter environment, please rerun this cell to show the HTML representation or trust the notebook. <br />On GitHub, the HTML representation is unable to render, please try loading this page with nbviewer.org.</b></div><div class=\"sk-container\" hidden><div class=\"sk-item\"><div class=\"sk-estimator sk-toggleable\"><input class=\"sk-toggleable__control sk-hidden--visually\" id=\"sk-estimator-id-1\" type=\"checkbox\" checked><label for=\"sk-estimator-id-1\" class=\"sk-toggleable__label sk-toggleable__label-arrow\">RandomForestClassifier</label><div class=\"sk-toggleable__content\"><pre>RandomForestClassifier(max_depth=50, n_estimators=500, random_state=0)</pre></div></div></div></div></div>"
      ],
      "text/plain": [
       "RandomForestClassifier(max_depth=50, n_estimators=500, random_state=0)"
      ]
     },
     "execution_count": 179,
     "metadata": {},
     "output_type": "execute_result"
    }
   ],
   "source": [
    "clf.fit(X_train, y_train)"
   ]
  },
  {
   "cell_type": "code",
   "execution_count": 180,
   "metadata": {
    "pycharm": {
     "name": "#%%\n"
    }
   },
   "outputs": [],
   "source": [
    "pred = clf.predict(X_test)"
   ]
  },
  {
   "cell_type": "code",
   "execution_count": 181,
   "metadata": {
    "pycharm": {
     "name": "#%%\n"
    }
   },
   "outputs": [
    {
     "data": {
      "text/plain": [
       "0.9009318742056742"
      ]
     },
     "execution_count": 181,
     "metadata": {},
     "output_type": "execute_result"
    }
   ],
   "source": [
    "0.2* recall_score(y_test, pred, average='macro') + 0.8* precision_score(y_test, pred, average='macro')"
   ]
  },
  {
   "cell_type": "code",
   "execution_count": 182,
   "metadata": {
    "pycharm": {
     "name": "#%%\n"
    }
   },
   "outputs": [
    {
     "data": {
      "text/plain": [
       "array([0, 1, 2, 3, 4, 5], dtype=int64)"
      ]
     },
     "execution_count": 182,
     "metadata": {},
     "output_type": "execute_result"
    }
   ],
   "source": [
    "clf.classes_"
   ]
  },
  {
   "cell_type": "code",
   "execution_count": 183,
   "metadata": {
    "pycharm": {
     "name": "#%%\n"
    }
   },
   "outputs": [
    {
     "name": "stdout",
     "output_type": "stream",
     "text": [
      "              precision    recall  f1-score   support\n",
      "\n",
      "           0       0.96      0.99      0.97     45734\n",
      "           1       0.93      0.71      0.81      4057\n",
      "           2       0.94      0.92      0.93      1095\n",
      "           3       0.92      0.69      0.79       932\n",
      "           4       0.93      0.71      0.81      1081\n",
      "           5       0.91      0.69      0.78      1115\n",
      "\n",
      "    accuracy                           0.95     54014\n",
      "   macro avg       0.93      0.78      0.85     54014\n",
      "weighted avg       0.95      0.95      0.95     54014\n",
      "\n"
     ]
    }
   ],
   "source": [
    "print(classification_report(y_test, pred))"
   ]
  },
  {
   "cell_type": "code",
   "execution_count": 184,
   "metadata": {
    "pycharm": {
     "name": "#%%\n"
    }
   },
   "outputs": [
    {
     "data": {
      "text/html": [
       "<div>\n",
       "<style scoped>\n",
       "    .dataframe tbody tr th:only-of-type {\n",
       "        vertical-align: middle;\n",
       "    }\n",
       "\n",
       "    .dataframe tbody tr th {\n",
       "        vertical-align: top;\n",
       "    }\n",
       "\n",
       "    .dataframe thead th {\n",
       "        text-align: right;\n",
       "    }\n",
       "</style>\n",
       "<table border=\"1\" class=\"dataframe\">\n",
       "  <thead>\n",
       "    <tr style=\"text-align: right;\">\n",
       "      <th></th>\n",
       "      <th>value</th>\n",
       "    </tr>\n",
       "  </thead>\n",
       "  <tbody>\n",
       "    <tr>\n",
       "      <th>control_month</th>\n",
       "      <td>0.101519</td>\n",
       "    </tr>\n",
       "    <tr>\n",
       "      <th>cart_timestamp</th>\n",
       "      <td>0.098766</td>\n",
       "    </tr>\n",
       "    <tr>\n",
       "      <th>student_id</th>\n",
       "      <td>0.098598</td>\n",
       "    </tr>\n",
       "    <tr>\n",
       "      <th>time_diff</th>\n",
       "      <td>0.088160</td>\n",
       "    </tr>\n",
       "    <tr>\n",
       "      <th>price</th>\n",
       "      <td>0.077497</td>\n",
       "    </tr>\n",
       "    <tr>\n",
       "      <th>age_indicator</th>\n",
       "      <td>0.070992</td>\n",
       "    </tr>\n",
       "    <tr>\n",
       "      <th>program_id</th>\n",
       "      <td>0.040095</td>\n",
       "    </tr>\n",
       "    <tr>\n",
       "      <th>current_program_starts_on_timestamp</th>\n",
       "      <td>0.029249</td>\n",
       "    </tr>\n",
       "    <tr>\n",
       "      <th>current_program_starts_on_day</th>\n",
       "      <td>0.028082</td>\n",
       "    </tr>\n",
       "    <tr>\n",
       "      <th>m_was_conversations</th>\n",
       "      <td>0.025566</td>\n",
       "    </tr>\n",
       "    <tr>\n",
       "      <th>gender</th>\n",
       "      <td>0.025301</td>\n",
       "    </tr>\n",
       "    <tr>\n",
       "      <th>feedback_avg_d1</th>\n",
       "      <td>0.024438</td>\n",
       "    </tr>\n",
       "    <tr>\n",
       "      <th>program_duration</th>\n",
       "      <td>0.024431</td>\n",
       "    </tr>\n",
       "    <tr>\n",
       "      <th>communication_type</th>\n",
       "      <td>0.021722</td>\n",
       "    </tr>\n",
       "    <tr>\n",
       "      <th>ABC</th>\n",
       "      <td>0.021007</td>\n",
       "    </tr>\n",
       "    <tr>\n",
       "      <th>support_feedback_avg</th>\n",
       "      <td>0.019969</td>\n",
       "    </tr>\n",
       "    <tr>\n",
       "      <th>os</th>\n",
       "      <td>0.018343</td>\n",
       "    </tr>\n",
       "    <tr>\n",
       "      <th>program_family_main_direction_id</th>\n",
       "      <td>0.018011</td>\n",
       "    </tr>\n",
       "    <tr>\n",
       "      <th>auto_payment</th>\n",
       "      <td>0.015315</td>\n",
       "    </tr>\n",
       "    <tr>\n",
       "      <th>promo</th>\n",
       "      <td>0.015292</td>\n",
       "    </tr>\n",
       "    <tr>\n",
       "      <th>feedback_avg_d3</th>\n",
       "      <td>0.014388</td>\n",
       "    </tr>\n",
       "    <tr>\n",
       "      <th>platform</th>\n",
       "      <td>0.014182</td>\n",
       "    </tr>\n",
       "    <tr>\n",
       "      <th>control_year</th>\n",
       "      <td>0.013356</td>\n",
       "    </tr>\n",
       "    <tr>\n",
       "      <th>feedback_avg_d4</th>\n",
       "      <td>0.012764</td>\n",
       "    </tr>\n",
       "    <tr>\n",
       "      <th>feedback_avg_d5</th>\n",
       "      <td>0.012426</td>\n",
       "    </tr>\n",
       "    <tr>\n",
       "      <th>bought_avg_duration</th>\n",
       "      <td>0.011044</td>\n",
       "    </tr>\n",
       "    <tr>\n",
       "      <th>feedback_avg_d2</th>\n",
       "      <td>0.011024</td>\n",
       "    </tr>\n",
       "    <tr>\n",
       "      <th>p_was_conversations</th>\n",
       "      <td>0.009722</td>\n",
       "    </tr>\n",
       "    <tr>\n",
       "      <th>current_program_starts_on_month</th>\n",
       "      <td>0.009183</td>\n",
       "    </tr>\n",
       "    <tr>\n",
       "      <th>program_type</th>\n",
       "      <td>0.008566</td>\n",
       "    </tr>\n",
       "    <tr>\n",
       "      <th>program_starting_soon</th>\n",
       "      <td>0.007390</td>\n",
       "    </tr>\n",
       "    <tr>\n",
       "      <th>bought_d1</th>\n",
       "      <td>0.003996</td>\n",
       "    </tr>\n",
       "    <tr>\n",
       "      <th>current_program_starts_on_year</th>\n",
       "      <td>0.002969</td>\n",
       "    </tr>\n",
       "    <tr>\n",
       "      <th>bought_d5</th>\n",
       "      <td>0.002419</td>\n",
       "    </tr>\n",
       "    <tr>\n",
       "      <th>bought_d3</th>\n",
       "      <td>0.001677</td>\n",
       "    </tr>\n",
       "    <tr>\n",
       "      <th>bought_d2</th>\n",
       "      <td>0.001451</td>\n",
       "    </tr>\n",
       "    <tr>\n",
       "      <th>bought_d4</th>\n",
       "      <td>0.001090</td>\n",
       "    </tr>\n",
       "  </tbody>\n",
       "</table>\n",
       "</div>"
      ],
      "text/plain": [
       "                                        value\n",
       "control_month                        0.101519\n",
       "cart_timestamp                       0.098766\n",
       "student_id                           0.098598\n",
       "time_diff                            0.088160\n",
       "price                                0.077497\n",
       "age_indicator                        0.070992\n",
       "program_id                           0.040095\n",
       "current_program_starts_on_timestamp  0.029249\n",
       "current_program_starts_on_day        0.028082\n",
       "m_was_conversations                  0.025566\n",
       "gender                               0.025301\n",
       "feedback_avg_d1                      0.024438\n",
       "program_duration                     0.024431\n",
       "communication_type                   0.021722\n",
       "ABC                                  0.021007\n",
       "support_feedback_avg                 0.019969\n",
       "os                                   0.018343\n",
       "program_family_main_direction_id     0.018011\n",
       "auto_payment                         0.015315\n",
       "promo                                0.015292\n",
       "feedback_avg_d3                      0.014388\n",
       "platform                             0.014182\n",
       "control_year                         0.013356\n",
       "feedback_avg_d4                      0.012764\n",
       "feedback_avg_d5                      0.012426\n",
       "bought_avg_duration                  0.011044\n",
       "feedback_avg_d2                      0.011024\n",
       "p_was_conversations                  0.009722\n",
       "current_program_starts_on_month      0.009183\n",
       "program_type                         0.008566\n",
       "program_starting_soon                0.007390\n",
       "bought_d1                            0.003996\n",
       "current_program_starts_on_year       0.002969\n",
       "bought_d5                            0.002419\n",
       "bought_d3                            0.001677\n",
       "bought_d2                            0.001451\n",
       "bought_d4                            0.001090"
      ]
     },
     "execution_count": 184,
     "metadata": {},
     "output_type": "execute_result"
    }
   ],
   "source": [
    "importance_df = pd.DataFrame(clf.feature_importances_, columns=[\"value\"],\n",
    "                             index=clf.feature_names_in_).sort_values(by=\"value\", ascending=False)\n",
    "importance_df"
   ]
  },
  {
   "cell_type": "markdown",
   "metadata": {
    "pycharm": {
     "name": "#%% md\n"
    }
   },
   "source": [
    "#Validation"
   ]
  },
  {
   "cell_type": "code",
   "execution_count": 185,
   "metadata": {
    "pycharm": {
     "name": "#%%\n"
    }
   },
   "outputs": [],
   "source": [
    "df_test = pd.read_csv(\"./content/test_enriched.csv\")"
   ]
  },
  {
   "cell_type": "code",
   "execution_count": 186,
   "metadata": {
    "pycharm": {
     "name": "#%%\n"
    }
   },
   "outputs": [],
   "source": [
    "df_test[\"ABC\"] = abc_le.transform(df_test[\"ABC\"])"
   ]
  },
  {
   "cell_type": "code",
   "execution_count": 187,
   "metadata": {
    "pycharm": {
     "name": "#%%\n"
    }
   },
   "outputs": [],
   "source": [
    "df_test['control_year'] = pd.to_datetime(df_test['month_id']).dt.strftime(\"%Y\").astype(int)\n",
    "df_test['control_month'] = pd.to_datetime(df_test['month_id']).dt.strftime(\"%m\").astype(int)\n",
    "df_test['control_timestamp'] = df_test['month_id'].apply(lambda d: time.mktime(datetime.strptime(d, \"%m/%d/%Y\").timetuple()))\n",
    "\n",
    "df_test['cart_day'] = pd.to_datetime(df_test['carts_created_at']).dt.strftime(\"%d\").astype(int)\n",
    "df_test['cart_month'] = pd.to_datetime(df_test['carts_created_at']).dt.strftime(\"%m\").astype(int)\n",
    "df_test['cart_year'] = pd.to_datetime(df_test['carts_created_at']).dt.strftime(\"%Y\").astype(int)\n",
    "df_test['cart_timestamp'] = df_test['carts_created_at'].apply(lambda d: time.mktime(datetime.strptime(d, \"%m/%d/%Y\").timetuple()))"
   ]
  },
  {
   "cell_type": "code",
   "execution_count": 188,
   "metadata": {
    "pycharm": {
     "name": "#%%\n"
    }
   },
   "outputs": [],
   "source": [
    "df_test['promo']=df['promo'].apply(lambda promo: promo =='+').astype(int)"
   ]
  },
  {
   "cell_type": "code",
   "execution_count": 189,
   "metadata": {
    "pycharm": {
     "name": "#%%\n"
    }
   },
   "outputs": [],
   "source": [
    "df_test[\"communication_type\"] = ct_le.transform(df_test[\"communication_type\"])"
   ]
  },
  {
   "cell_type": "code",
   "execution_count": 190,
   "metadata": {
    "pycharm": {
     "name": "#%%\n"
    }
   },
   "outputs": [],
   "source": [
    "df_test=df_test.apply(lambda row: os_trans(row), axis=1)\n",
    "df_test[\"os\"] = os_le.transform(df_test[\"os\"])\n",
    "df_test.platform=df_test.platform.apply(lambda p: 'mobile' if p =='tablet' else p)\n",
    "df_test[\"platform\"] = platform_le.transform(df_test[\"platform\"])"
   ]
  },
  {
   "cell_type": "code",
   "execution_count": 191,
   "metadata": {
    "pycharm": {
     "name": "#%%\n"
    }
   },
   "outputs": [],
   "source": [
    "df_test[\"program_type\"] = program_type_le.transform(df_test[\"program_type\"])\n",
    "df_test[\"program_starting_soon\"] = program_starting_soon_le.transform(df_test[\"program_starting_soon\"])"
   ]
  },
  {
   "cell_type": "code",
   "execution_count": 192,
   "metadata": {
    "pycharm": {
     "name": "#%%\n"
    }
   },
   "outputs": [],
   "source": [
    "program_family_price_type_le_dict = dict(zip(program_family_price_type_le.classes_, program_family_price_type_le.transform(program_family_price_type_le.classes_)))\n",
    "df_test['program_family_price_type'] = df_test['program_family_price_type'].apply(lambda program_family_price_type: program_family_price_type_le_dict.get(program_family_price_type, -1))"
   ]
  },
  {
   "cell_type": "code",
   "execution_count": 193,
   "metadata": {
    "pycharm": {
     "name": "#%%\n"
    }
   },
   "outputs": [],
   "source": [
    "df_test['current_program_starts_on_day'] = pd.to_datetime(df_test['current_program_starts_on']).dt.strftime(\"%d\")\n",
    "df_test['current_program_starts_on_month'] = pd.to_datetime(df_test['current_program_starts_on']).dt.strftime(\"%m\")\n",
    "df_test['current_program_starts_on_year'] = pd.to_datetime(df_test['current_program_starts_on']).dt.strftime(\"%Y\")"
   ]
  },
  {
   "cell_type": "code",
   "execution_count": 194,
   "metadata": {
    "pycharm": {
     "name": "#%%\n"
    }
   },
   "outputs": [],
   "source": [
    "df_test['current_program_starts_on_timestamp'] = df_test['current_program_starts_on'].apply(lambda d: to_timestamp(d))"
   ]
  },
  {
   "cell_type": "code",
   "execution_count": 195,
   "metadata": {
    "pycharm": {
     "name": "#%%\n"
    }
   },
   "outputs": [],
   "source": [
    "df_test[['program_duration']]=df_test[['program_duration']].fillna('0 недель')\n",
    "df_test=df_test.apply(lambda row: transform_duration(row), axis=1)"
   ]
  },
  {
   "cell_type": "code",
   "execution_count": 196,
   "metadata": {
    "pycharm": {
     "name": "#%%\n"
    }
   },
   "outputs": [],
   "source": [
    "browser_le_dict = dict(zip(browser_le.classes_, browser_le.transform(browser_le.classes_)))\n",
    "df_test['browser'] = df_test['browser'].apply(lambda browser: browser_le_dict.get(browser, -1))"
   ]
  },
  {
   "cell_type": "code",
   "execution_count": 197,
   "metadata": {
    "pycharm": {
     "name": "#%%\n"
    }
   },
   "outputs": [],
   "source": [
    "# df_test = df_test.apply(lambda row: age_transform(row), axis=1)"
   ]
  },
  {
   "cell_type": "code",
   "execution_count": 198,
   "metadata": {
    "pycharm": {
     "name": "#%%\n"
    }
   },
   "outputs": [],
   "source": [
    "# df_test = df_test.apply(lambda row: replace_country(row), axis=1)"
   ]
  },
  {
   "cell_type": "code",
   "execution_count": 199,
   "metadata": {
    "pycharm": {
     "name": "#%%\n"
    }
   },
   "outputs": [],
   "source": [
    "# df_test[\"country\"] = country_le.transform(df_test[\"country\"])"
   ]
  },
  {
   "cell_type": "code",
   "execution_count": 200,
   "metadata": {
    "pycharm": {
     "name": "#%%\n"
    }
   },
   "outputs": [
    {
     "name": "stdout",
     "output_type": "stream",
     "text": [
      "<class 'pandas.core.frame.DataFrame'>\n",
      "RangeIndex: 84997 entries, 0 to 84996\n",
      "Data columns (total 77 columns):\n",
      " #   Column                               Non-Null Count  Dtype  \n",
      "---  ------                               --------------  -----  \n",
      " 0   ABC                                  84997 non-null  int64  \n",
      " 1   activity                             41481 non-null  float64\n",
      " 2   age_indicator                        67548 non-null  float64\n",
      " 3   auto_payment                         84997 non-null  int64  \n",
      " 4   available_program_starts_on          80233 non-null  object \n",
      " 5   avg_hw_mark                          18909 non-null  float64\n",
      " 6   avg_quiz_result                      6954 non-null   float64\n",
      " 7   bought_avg_duration                  4277 non-null   float64\n",
      " 8   bought_d1                            84997 non-null  int64  \n",
      " 9   bought_d2                            84997 non-null  int64  \n",
      " 10  bought_d3                            84997 non-null  int64  \n",
      " 11  bought_d4                            84997 non-null  int64  \n",
      " 12  bought_d5                            84997 non-null  int64  \n",
      " 13  browser                              84997 non-null  int64  \n",
      " 14  carts_created_at                     84997 non-null  object \n",
      " 15  city                                 5669 non-null   object \n",
      " 16  communication_type                   84997 non-null  int64  \n",
      " 17  completed_hw                         41481 non-null  float64\n",
      " 18  country                              5423 non-null   object \n",
      " 19  current_program_starts_on            80233 non-null  object \n",
      " 20  failed_hw                            41481 non-null  float64\n",
      " 21  feedback_avg_d1                      20650 non-null  float64\n",
      " 22  feedback_avg_d2                      6237 non-null   float64\n",
      " 23  feedback_avg_d3                      7640 non-null   float64\n",
      " 24  feedback_avg_d4                      10678 non-null  float64\n",
      " 25  feedback_avg_d5                      6756 non-null   float64\n",
      " 26  gender                               84978 non-null  float64\n",
      " 27  hw_leader                            41481 non-null  float64\n",
      " 28  id                                   84997 non-null  int64  \n",
      " 29  interacted_hw                        41481 non-null  float64\n",
      " 30  lessons                              41481 non-null  float64\n",
      " 31  m_avg_duration                       19375 non-null  float64\n",
      " 32  m_avg_talk_duration                  21908 non-null  float64\n",
      " 33  m_missed_calls                       21908 non-null  float64\n",
      " 34  m_total_calls                        21908 non-null  float64\n",
      " 35  m_total_duration                     21908 non-null  float64\n",
      " 36  m_was_conversations                  21908 non-null  float64\n",
      " 37  month_id                             84997 non-null  object \n",
      " 38  notes                                41481 non-null  float64\n",
      " 39  os                                   84997 non-null  int64  \n",
      " 40  p_avg_duration                       5867 non-null   float64\n",
      " 41  p_avg_talk_duration                  7129 non-null   float64\n",
      " 42  p_missed_calls                       7129 non-null   float64\n",
      " 43  p_total_calls                        7129 non-null   float64\n",
      " 44  p_total_duration                     7129 non-null   float64\n",
      " 45  p_was_conversations                  7129 non-null   float64\n",
      " 46  payment_type                         84997 non-null  int64  \n",
      " 47  platform                             84997 non-null  int64  \n",
      " 48  price                                84997 non-null  float64\n",
      " 49  program_duration                     84997 non-null  int64  \n",
      " 50  program_family_main_direction_id     84994 non-null  float64\n",
      " 51  program_family_price_type            84997 non-null  int64  \n",
      " 52  program_id                           84997 non-null  int64  \n",
      " 53  program_price_type                   58914 non-null  object \n",
      " 54  program_starting_soon                84997 non-null  int64  \n",
      " 55  program_type                         84997 non-null  int64  \n",
      " 56  promo                                75788 non-null  float64\n",
      " 57  reworked_hw                          41481 non-null  float64\n",
      " 58  speed_recall                         9283 non-null   float64\n",
      " 59  spent_time_to_complete_hw            18046 non-null  float64\n",
      " 60  spent_time_total                     36687 non-null  float64\n",
      " 61  student_id                           84997 non-null  int64  \n",
      " 62  support_feedback_avg                 15749 non-null  float64\n",
      " 63  test_with_good_mark                  41481 non-null  float64\n",
      " 64  test_with_great_mark                 41481 non-null  float64\n",
      " 65  webinars                             41481 non-null  float64\n",
      " 66  control_year                         84997 non-null  int64  \n",
      " 67  control_month                        84997 non-null  int64  \n",
      " 68  control_timestamp                    84997 non-null  float64\n",
      " 69  cart_day                             84997 non-null  int64  \n",
      " 70  cart_month                           84997 non-null  int64  \n",
      " 71  cart_year                            84997 non-null  int64  \n",
      " 72  cart_timestamp                       84997 non-null  float64\n",
      " 73  current_program_starts_on_day        80233 non-null  object \n",
      " 74  current_program_starts_on_month      80233 non-null  object \n",
      " 75  current_program_starts_on_year       80233 non-null  object \n",
      " 76  current_program_starts_on_timestamp  80233 non-null  float64\n",
      "dtypes: float64(43), int64(24), object(10)\n",
      "memory usage: 49.9+ MB\n"
     ]
    }
   ],
   "source": [
    "df_test.info()"
   ]
  },
  {
   "cell_type": "code",
   "execution_count": 201,
   "metadata": {
    "pycharm": {
     "name": "#%%\n"
    }
   },
   "outputs": [],
   "source": [
    "# mass_object_v = mass_object[mass_object!=\"target\"]"
   ]
  },
  {
   "cell_type": "code",
   "execution_count": 202,
   "metadata": {
    "pycharm": {
     "name": "#%%\n"
    }
   },
   "outputs": [],
   "source": [
    "# X_val = df_test.drop(mass_object_v, axis = 1)"
   ]
  },
  {
   "cell_type": "code",
   "execution_count": 203,
   "metadata": {
    "pycharm": {
     "name": "#%%\n"
    }
   },
   "outputs": [],
   "source": [
    "df_test = df_test.fillna(0)"
   ]
  },
  {
   "cell_type": "code",
   "execution_count": 204,
   "metadata": {
    "pycharm": {
     "name": "#%%\n"
    }
   },
   "outputs": [],
   "source": [
    "df_test[\"time_diff\"] = df_test[\"current_program_starts_on_timestamp\"] - df_test[\"cart_timestamp\"]"
   ]
  },
  {
   "cell_type": "code",
   "execution_count": 205,
   "metadata": {
    "pycharm": {
     "name": "#%%\n"
    }
   },
   "outputs": [],
   "source": [
    "df_test.gender=df_test.gender.astype(int)"
   ]
  },
  {
   "cell_type": "code",
   "execution_count": 206,
   "metadata": {
    "pycharm": {
     "name": "#%%\n"
    }
   },
   "outputs": [],
   "source": [
    "# df_test=df_test.apply(lambda row: price_trans(row), axis=1)"
   ]
  },
  {
   "cell_type": "code",
   "execution_count": 207,
   "metadata": {
    "pycharm": {
     "name": "#%%\n"
    }
   },
   "outputs": [
    {
     "name": "stdout",
     "output_type": "stream",
     "text": [
      "<class 'pandas.core.frame.DataFrame'>\n",
      "RangeIndex: 84997 entries, 0 to 84996\n",
      "Data columns (total 78 columns):\n",
      " #   Column                               Non-Null Count  Dtype  \n",
      "---  ------                               --------------  -----  \n",
      " 0   ABC                                  84997 non-null  int64  \n",
      " 1   activity                             84997 non-null  float64\n",
      " 2   age_indicator                        84997 non-null  float64\n",
      " 3   auto_payment                         84997 non-null  int64  \n",
      " 4   available_program_starts_on          84997 non-null  object \n",
      " 5   avg_hw_mark                          84997 non-null  float64\n",
      " 6   avg_quiz_result                      84997 non-null  float64\n",
      " 7   bought_avg_duration                  84997 non-null  float64\n",
      " 8   bought_d1                            84997 non-null  int64  \n",
      " 9   bought_d2                            84997 non-null  int64  \n",
      " 10  bought_d3                            84997 non-null  int64  \n",
      " 11  bought_d4                            84997 non-null  int64  \n",
      " 12  bought_d5                            84997 non-null  int64  \n",
      " 13  browser                              84997 non-null  int64  \n",
      " 14  carts_created_at                     84997 non-null  object \n",
      " 15  city                                 84997 non-null  object \n",
      " 16  communication_type                   84997 non-null  int64  \n",
      " 17  completed_hw                         84997 non-null  float64\n",
      " 18  country                              84997 non-null  object \n",
      " 19  current_program_starts_on            84997 non-null  object \n",
      " 20  failed_hw                            84997 non-null  float64\n",
      " 21  feedback_avg_d1                      84997 non-null  float64\n",
      " 22  feedback_avg_d2                      84997 non-null  float64\n",
      " 23  feedback_avg_d3                      84997 non-null  float64\n",
      " 24  feedback_avg_d4                      84997 non-null  float64\n",
      " 25  feedback_avg_d5                      84997 non-null  float64\n",
      " 26  gender                               84997 non-null  int32  \n",
      " 27  hw_leader                            84997 non-null  float64\n",
      " 28  id                                   84997 non-null  int64  \n",
      " 29  interacted_hw                        84997 non-null  float64\n",
      " 30  lessons                              84997 non-null  float64\n",
      " 31  m_avg_duration                       84997 non-null  float64\n",
      " 32  m_avg_talk_duration                  84997 non-null  float64\n",
      " 33  m_missed_calls                       84997 non-null  float64\n",
      " 34  m_total_calls                        84997 non-null  float64\n",
      " 35  m_total_duration                     84997 non-null  float64\n",
      " 36  m_was_conversations                  84997 non-null  float64\n",
      " 37  month_id                             84997 non-null  object \n",
      " 38  notes                                84997 non-null  float64\n",
      " 39  os                                   84997 non-null  int64  \n",
      " 40  p_avg_duration                       84997 non-null  float64\n",
      " 41  p_avg_talk_duration                  84997 non-null  float64\n",
      " 42  p_missed_calls                       84997 non-null  float64\n",
      " 43  p_total_calls                        84997 non-null  float64\n",
      " 44  p_total_duration                     84997 non-null  float64\n",
      " 45  p_was_conversations                  84997 non-null  float64\n",
      " 46  payment_type                         84997 non-null  int64  \n",
      " 47  platform                             84997 non-null  int64  \n",
      " 48  price                                84997 non-null  float64\n",
      " 49  program_duration                     84997 non-null  int64  \n",
      " 50  program_family_main_direction_id     84997 non-null  float64\n",
      " 51  program_family_price_type            84997 non-null  int64  \n",
      " 52  program_id                           84997 non-null  int64  \n",
      " 53  program_price_type                   84997 non-null  object \n",
      " 54  program_starting_soon                84997 non-null  int64  \n",
      " 55  program_type                         84997 non-null  int64  \n",
      " 56  promo                                84997 non-null  float64\n",
      " 57  reworked_hw                          84997 non-null  float64\n",
      " 58  speed_recall                         84997 non-null  float64\n",
      " 59  spent_time_to_complete_hw            84997 non-null  float64\n",
      " 60  spent_time_total                     84997 non-null  float64\n",
      " 61  student_id                           84997 non-null  int64  \n",
      " 62  support_feedback_avg                 84997 non-null  float64\n",
      " 63  test_with_good_mark                  84997 non-null  float64\n",
      " 64  test_with_great_mark                 84997 non-null  float64\n",
      " 65  webinars                             84997 non-null  float64\n",
      " 66  control_year                         84997 non-null  int64  \n",
      " 67  control_month                        84997 non-null  int64  \n",
      " 68  control_timestamp                    84997 non-null  float64\n",
      " 69  cart_day                             84997 non-null  int64  \n",
      " 70  cart_month                           84997 non-null  int64  \n",
      " 71  cart_year                            84997 non-null  int64  \n",
      " 72  cart_timestamp                       84997 non-null  float64\n",
      " 73  current_program_starts_on_day        84997 non-null  object \n",
      " 74  current_program_starts_on_month      84997 non-null  object \n",
      " 75  current_program_starts_on_year       84997 non-null  object \n",
      " 76  current_program_starts_on_timestamp  84997 non-null  float64\n",
      " 77  time_diff                            84997 non-null  float64\n",
      "dtypes: float64(43), int32(1), int64(24), object(10)\n",
      "memory usage: 50.3+ MB\n"
     ]
    }
   ],
   "source": [
    "df_test.info()"
   ]
  },
  {
   "cell_type": "code",
   "execution_count": 208,
   "metadata": {
    "pycharm": {
     "name": "#%%\n"
    }
   },
   "outputs": [],
   "source": [
    "# mass_object_v = mass_object[mass_object!=\"target\"]"
   ]
  },
  {
   "cell_type": "code",
   "execution_count": 209,
   "metadata": {
    "pycharm": {
     "name": "#%%\n"
    }
   },
   "outputs": [],
   "source": [
    "# X_val = df_test.drop(mass_object_v, axis = 1)"
   ]
  },
  {
   "cell_type": "code",
   "execution_count": 210,
   "metadata": {
    "pycharm": {
     "name": "#%%\n"
    }
   },
   "outputs": [],
   "source": [
    "df_test = df_test.fillna(0)"
   ]
  },
  {
   "cell_type": "code",
   "execution_count": 211,
   "metadata": {
    "pycharm": {
     "name": "#%%\n"
    }
   },
   "outputs": [],
   "source": [
    "df_test['current_program_starts_on_day'] = df_test['current_program_starts_on_day'].astype(int)\n",
    "df_test['current_program_starts_on_month'] = df_test['current_program_starts_on_month'].astype(int)\n",
    "df_test['current_program_starts_on_year'] = df_test['current_program_starts_on_year'].astype(int)"
   ]
  },
  {
   "cell_type": "code",
   "execution_count": 212,
   "metadata": {
    "pycharm": {
     "name": "#%%\n"
    }
   },
   "outputs": [],
   "source": [
    "df_test[\"time_diff\"] = df_test[\"current_program_starts_on_timestamp\"] - df_test[\"cart_timestamp\"]"
   ]
  },
  {
   "cell_type": "code",
   "execution_count": 213,
   "metadata": {
    "pycharm": {
     "name": "#%%\n"
    }
   },
   "outputs": [],
   "source": [
    "df_test.gender=df_test.gender.astype(int)"
   ]
  },
  {
   "cell_type": "code",
   "execution_count": 214,
   "metadata": {
    "pycharm": {
     "name": "#%%\n"
    }
   },
   "outputs": [],
   "source": [
    "# df_test=df_test.apply(lambda row: price_trans(row), axis=1)"
   ]
  },
  {
   "cell_type": "code",
   "execution_count": 215,
   "metadata": {
    "pycharm": {
     "name": "#%%\n"
    }
   },
   "outputs": [],
   "source": [
    "X_val=df_test[x_feats]"
   ]
  },
  {
   "cell_type": "code",
   "execution_count": 216,
   "metadata": {
    "pycharm": {
     "name": "#%%\n"
    }
   },
   "outputs": [],
   "source": [
    "pred_test = clf.predict(X_val)"
   ]
  },
  {
   "cell_type": "code",
   "execution_count": 217,
   "metadata": {
    "pycharm": {
     "name": "#%%\n"
    }
   },
   "outputs": [],
   "source": [
    "df_test[\"target\"] = pred_test"
   ]
  },
  {
   "cell_type": "code",
   "execution_count": 218,
   "metadata": {
    "pycharm": {
     "name": "#%%\n"
    }
   },
   "outputs": [],
   "source": [
    "df_test=df_test[[\"id\", \"target\"]]"
   ]
  },
  {
   "cell_type": "code",
   "execution_count": 219,
   "metadata": {
    "pycharm": {
     "name": "#%%\n"
    }
   },
   "outputs": [],
   "source": [
    "df_test.to_csv(\"./content/pred.csv\", index=False)"
   ]
  },
  {
   "cell_type": "code",
   "execution_count": null,
   "metadata": {
    "pycharm": {
     "name": "#%%\n"
    }
   },
   "outputs": [],
   "source": []
  },
  {
   "cell_type": "code",
   "execution_count": 220,
   "metadata": {
    "pycharm": {
     "name": "#%%\n"
    }
   },
   "outputs": [
    {
     "data": {
      "text/plain": [
       "{0: 76965, 1: 4241, 4: 1138, 5: 1102, 3: 920, 2: 631}"
      ]
     },
     "execution_count": 220,
     "metadata": {},
     "output_type": "execute_result"
    }
   ],
   "source": [
    "from collections import Counter\n",
    "class_counts = Counter(df_test.target).most_common()\n",
    "class_counts = dict([(cl[0], cl[1]) for cl in class_counts])\n",
    "class_counts"
   ]
  },
  {
   "cell_type": "code",
   "execution_count": 221,
   "metadata": {
    "pycharm": {
     "name": "#%%\n"
    }
   },
   "outputs": [],
   "source": [
    "pred_test = clf.predict(X_val)"
   ]
  },
  {
   "cell_type": "code",
   "execution_count": 222,
   "metadata": {
    "pycharm": {
     "name": "#%%\n"
    }
   },
   "outputs": [],
   "source": [
    "df_test[\"target\"] = pred_test"
   ]
  },
  {
   "cell_type": "code",
   "execution_count": 223,
   "metadata": {
    "pycharm": {
     "name": "#%%\n"
    }
   },
   "outputs": [],
   "source": [
    "df_test=df_test[[\"id\", \"target\"]]"
   ]
  },
  {
   "cell_type": "code",
   "execution_count": 224,
   "metadata": {
    "pycharm": {
     "name": "#%%\n"
    }
   },
   "outputs": [],
   "source": [
    "df_test.to_csv(\"./content/pred.csv\", index=False)"
   ]
  },
  {
   "cell_type": "code",
   "execution_count": null,
   "metadata": {
    "pycharm": {
     "name": "#%%\n"
    }
   },
   "outputs": [],
   "source": []
  },
  {
   "cell_type": "code",
   "execution_count": 225,
   "metadata": {
    "pycharm": {
     "name": "#%%\n"
    }
   },
   "outputs": [
    {
     "data": {
      "text/plain": [
       "{0: 76965, 1: 4241, 4: 1138, 5: 1102, 3: 920, 2: 631}"
      ]
     },
     "execution_count": 225,
     "metadata": {},
     "output_type": "execute_result"
    }
   ],
   "source": [
    "from collections import Counter\n",
    "class_counts = Counter(df_test.target).most_common()\n",
    "class_counts = dict([(cl[0], cl[1]) for cl in class_counts])\n",
    "class_counts"
   ]
  },
  {
   "cell_type": "code",
   "execution_count": null,
   "metadata": {},
   "outputs": [],
   "source": []
  }
 ],
 "metadata": {
  "colab": {
   "collapsed_sections": [],
   "name": "Нетология_baseline.ipynb",
   "provenance": []
  },
  "kernelspec": {
   "display_name": "Python 3 (ipykernel)",
   "language": "python",
   "name": "python3"
  },
  "language_info": {
   "codemirror_mode": {
    "name": "ipython",
    "version": 3
   },
   "file_extension": ".py",
   "mimetype": "text/x-python",
   "name": "python",
   "nbconvert_exporter": "python",
   "pygments_lexer": "ipython3",
   "version": "3.9.13"
  }
 },
 "nbformat": 4,
 "nbformat_minor": 1
}