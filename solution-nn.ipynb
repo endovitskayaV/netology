{
 "cells": [
  {
   "cell_type": "code",
   "execution_count": 691,
   "metadata": {
    "id": "MTgpe_1quUDs",
    "pycharm": {
     "is_executing": true,
     "name": "#%%\n"
    }
   },
   "outputs": [],
   "source": [
    "import pandas as pd\n",
    "import seaborn as sns\n",
    "import matplotlib.pyplot as plt\n",
    "from sklearn.model_selection import train_test_split\n",
    "from sklearn.ensemble import RandomForestClassifier\n",
    "from sklearn import tree\n",
    "import numpy as np\n",
    "from sklearn.metrics import recall_score, precision_score\n",
    "from sklearn.metrics import classification_report\n",
    "from sklearn import preprocessing\n",
    "\n",
    "import time\n",
    "from datetime import datetime\n",
    "\n",
    "from sklearn.experimental import enable_iterative_imputer\n",
    "from sklearn.impute import IterativeImputer\n",
    "\n",
    "%matplotlib inline\n",
    "\n",
    "from catboost import CatBoostClassifier"
   ]
  },
  {
   "cell_type": "code",
   "execution_count": 692,
   "metadata": {
    "id": "o9N4JbcWudk2",
    "pycharm": {
     "name": "#%%\n"
    }
   },
   "outputs": [],
   "source": [
    "df = pd.read_csv(\"./content/train.csv\")"
   ]
  },
  {
   "cell_type": "code",
   "execution_count": 693,
   "metadata": {},
   "outputs": [],
   "source": [
    "abc_le = preprocessing.LabelEncoder()\n",
    "df[\"ABC\"] = abc_le.fit_transform(df[\"ABC\"])"
   ]
  },
  {
   "cell_type": "code",
   "execution_count": 694,
   "metadata": {},
   "outputs": [],
   "source": [
    "df['control_year'] = pd.to_datetime(df['month_id']).dt.strftime(\"%Y\").astype(int)\n",
    "df['control_month'] = pd.to_datetime(df['month_id']).dt.strftime(\"%m\").astype(int)\n",
    "\n",
    "df['cart_day'] = pd.to_datetime(df['carts_created_at']).dt.strftime(\"%d\").astype(int)\n",
    "df['cart_month'] = pd.to_datetime(df['carts_created_at']).dt.strftime(\"%m\").astype(int)\n",
    "df['cart_year'] = pd.to_datetime(df['carts_created_at']).dt.strftime(\"%Y\").astype(int)\n",
    "df['cart_timestamp'] = df['carts_created_at'].apply(lambda d: time.mktime(datetime.strptime(d, \"%m/%d/%Y\").timetuple()))"
   ]
  },
  {
   "cell_type": "code",
   "execution_count": 695,
   "metadata": {},
   "outputs": [],
   "source": [
    "df['promo']=df['promo'].apply(lambda promo: promo =='+').astype(int)"
   ]
  },
  {
   "cell_type": "code",
   "execution_count": 696,
   "metadata": {},
   "outputs": [],
   "source": [
    "ct_le = preprocessing.LabelEncoder()\n",
    "df[\"communication_type\"] = ct_le.fit_transform(df[\"communication_type\"])"
   ]
  },
  {
   "cell_type": "code",
   "execution_count": 697,
   "metadata": {},
   "outputs": [],
   "source": [
    "os_le = preprocessing.LabelEncoder()\n",
    "df[\"os\"] = os_le.fit_transform(df[\"os\"])\n",
    "\n",
    "browser_le = preprocessing.LabelEncoder()\n",
    "df[\"browser\"] = browser_le.fit_transform(df[\"browser\"])\n",
    "\n",
    "platform_le = preprocessing.LabelEncoder()\n",
    "df[\"platform\"] = platform_le.fit_transform(df[\"platform\"])"
   ]
  },
  {
   "cell_type": "code",
   "execution_count": 698,
   "metadata": {},
   "outputs": [],
   "source": [
    "def replace_country(row):\n",
    "    country=row['country']\n",
    "    if country in ['Россия', '<span>Россия</span>', 'Росссия','РФ']:\n",
    "         row['country']= \"Россия\"\n",
    "    return row"
   ]
  },
  {
   "cell_type": "code",
   "execution_count": 699,
   "metadata": {},
   "outputs": [],
   "source": [
    "df = df.apply(lambda row: replace_country(row), axis=1)"
   ]
  },
  {
   "cell_type": "code",
   "execution_count": 700,
   "metadata": {},
   "outputs": [],
   "source": [
    "country_le = preprocessing.LabelEncoder()\n",
    "df[\"country\"] = country_le.fit_transform(df[\"country\"])"
   ]
  },
  {
   "cell_type": "code",
   "execution_count": 701,
   "metadata": {},
   "outputs": [
    {
     "name": "stdout",
     "output_type": "stream",
     "text": [
      "<class 'pandas.core.frame.DataFrame'>\n",
      "RangeIndex: 200000 entries, 0 to 199999\n",
      "Data columns (total 65 columns):\n",
      " #   Column                     Non-Null Count   Dtype  \n",
      "---  ------                     --------------   -----  \n",
      " 0   id                         200000 non-null  int64  \n",
      " 1   age_indicator              159123 non-null  float64\n",
      " 2   month_id                   200000 non-null  object \n",
      " 3   student_id                 200000 non-null  int64  \n",
      " 4   program_id                 200000 non-null  int64  \n",
      " 5   carts_created_at           200000 non-null  object \n",
      " 6   spent_time_total           86309 non-null   float64\n",
      " 7   spent_time_to_complete_hw  42467 non-null   float64\n",
      " 8   completed_hw               97599 non-null   float64\n",
      " 9   failed_hw                  97599 non-null   float64\n",
      " 10  reworked_hw                97599 non-null   float64\n",
      " 11  interacted_hw              97599 non-null   float64\n",
      " 12  avg_hw_mark                44496 non-null   float64\n",
      " 13  test_with_good_mark        97599 non-null   float64\n",
      " 14  test_with_great_mark       97599 non-null   float64\n",
      " 15  webinars                   97599 non-null   float64\n",
      " 16  avg_quiz_result            16259 non-null   float64\n",
      " 17  notes                      97599 non-null   float64\n",
      " 18  hw_leader                  97599 non-null   float64\n",
      " 19  lessons                    97599 non-null   float64\n",
      " 20  activity                   97599 non-null   float64\n",
      " 21  bought_d1                  200000 non-null  int64  \n",
      " 22  bought_d2                  200000 non-null  int64  \n",
      " 23  bought_d3                  200000 non-null  int64  \n",
      " 24  bought_d4                  200000 non-null  int64  \n",
      " 25  bought_d5                  200000 non-null  int64  \n",
      " 26  bought_avg_duration        10359 non-null   float64\n",
      " 27  payment_type               200000 non-null  int64  \n",
      " 28  promo                      200000 non-null  int64  \n",
      " 29  price                      200000 non-null  float64\n",
      " 30  communication_type         200000 non-null  int64  \n",
      " 31  auto_payment               200000 non-null  int64  \n",
      " 32  ABC                        200000 non-null  int64  \n",
      " 33  city                       13592 non-null   object \n",
      " 34  country                    200000 non-null  int32  \n",
      " 35  gender                     199940 non-null  float64\n",
      " 36  speed_recall               21880 non-null   float64\n",
      " 37  os                         200000 non-null  int64  \n",
      " 38  browser                    200000 non-null  int64  \n",
      " 39  platform                   200000 non-null  int64  \n",
      " 40  m_avg_talk_duration        51537 non-null   float64\n",
      " 41  m_avg_duration             45764 non-null   float64\n",
      " 42  m_missed_calls             51537 non-null   float64\n",
      " 43  m_total_calls              51537 non-null   float64\n",
      " 44  m_was_conversations        51537 non-null   float64\n",
      " 45  m_total_duration           51537 non-null   float64\n",
      " 46  p_avg_talk_duration        16453 non-null   float64\n",
      " 47  p_avg_duration             13488 non-null   float64\n",
      " 48  p_missed_calls             16453 non-null   float64\n",
      " 49  p_total_calls              16453 non-null   float64\n",
      " 50  p_was_conversations        16453 non-null   float64\n",
      " 51  p_total_duration           16453 non-null   float64\n",
      " 52  support_feedback_avg       37557 non-null   float64\n",
      " 53  feedback_avg_d1            48496 non-null   float64\n",
      " 54  feedback_avg_d2            14805 non-null   float64\n",
      " 55  feedback_avg_d3            17778 non-null   float64\n",
      " 56  feedback_avg_d4            25076 non-null   float64\n",
      " 57  feedback_avg_d5            15733 non-null   float64\n",
      " 58  target                     200000 non-null  int64  \n",
      " 59  control_year               200000 non-null  int64  \n",
      " 60  control_month              200000 non-null  int64  \n",
      " 61  cart_day                   200000 non-null  int64  \n",
      " 62  cart_month                 200000 non-null  int64  \n",
      " 63  cart_year                  200000 non-null  int64  \n",
      " 64  cart_timestamp             200000 non-null  float64\n",
      "dtypes: float64(39), int32(1), int64(22), object(3)\n",
      "memory usage: 98.4+ MB\n"
     ]
    }
   ],
   "source": [
    "df.info()"
   ]
  },
  {
   "cell_type": "code",
   "execution_count": 702,
   "metadata": {
    "colab": {
     "base_uri": "https://localhost:8080/"
    },
    "id": "T5wEuIQ50ibJ",
    "outputId": "a00aaeab-3343-42b2-d797-e37186f150e7",
    "pycharm": {
     "name": "#%%\n"
    }
   },
   "outputs": [
    {
     "data": {
      "text/plain": [
       "array([dtype('O'), dtype('O'), dtype('O')], dtype=object)"
      ]
     },
     "execution_count": 702,
     "metadata": {},
     "output_type": "execute_result"
    }
   ],
   "source": [
    "df.dtypes[df.dtypes == \"object\"].values"
   ]
  },
  {
   "cell_type": "code",
   "execution_count": 703,
   "metadata": {
    "id": "Poa1_MKE08xs",
    "pycharm": {
     "name": "#%%\n"
    }
   },
   "outputs": [],
   "source": [
    "mass_object = df.dtypes[df.dtypes == \"object\"].index.values"
   ]
  },
  {
   "cell_type": "code",
   "execution_count": 704,
   "metadata": {
    "id": "mAhVoVTj1l-D",
    "pycharm": {
     "name": "#%%\n"
    }
   },
   "outputs": [
    {
     "data": {
      "text/plain": [
       "array(['month_id', 'carts_created_at', 'city'], dtype=object)"
      ]
     },
     "execution_count": 704,
     "metadata": {},
     "output_type": "execute_result"
    }
   ],
   "source": [
    "mass_object"
   ]
  },
  {
   "cell_type": "code",
   "execution_count": 705,
   "metadata": {},
   "outputs": [],
   "source": [
    "df = df.drop(mass_object, axis = 1)"
   ]
  },
  {
   "cell_type": "code",
   "execution_count": 706,
   "metadata": {},
   "outputs": [],
   "source": [
    "df=df[[\"program_id\",\n",
    "\"price\",\n",
    "\"cart_timestamp\",\n",
    "\"control_month\",\n",
    "\"student_id\",\n",
    "\"age_indicator\",\n",
    "\"feedback_avg_d1\",\n",
    "\"feedback_avg_d3\",\n",
    "\"feedback_avg_d5\",\n",
    "\"feedback_avg_d4\",\n",
    "\"feedback_avg_d2\",\n",
    "\"control_year\",\n",
    "\"support_feedback_avg\",\n",
    "\"ABC\",\n",
    "\"promo\" , \n",
    "       'bought_d1', 'bought_d2', 'bought_d3', 'bought_d4',\n",
    "       'bought_d5', 'bought_avg_duration',\"m_was_conversations\",\"p_was_conversations\",\n",
    "       \"target\" ]]"
   ]
  },
  {
   "cell_type": "code",
   "execution_count": 707,
   "metadata": {},
   "outputs": [],
   "source": [
    "df = df.fillna(0)\n",
    "\n",
    "# imp = IterativeImputer(initial_strategy='median')\n",
    "# df = pd.DataFrame(data=imp.fit_transform(df), columns=df.columns)\n",
    "\n",
    "df = df.dropna()"
   ]
  },
  {
   "cell_type": "code",
   "execution_count": 708,
   "metadata": {},
   "outputs": [
    {
     "name": "stdout",
     "output_type": "stream",
     "text": [
      "<class 'pandas.core.frame.DataFrame'>\n",
      "RangeIndex: 200000 entries, 0 to 199999\n",
      "Data columns (total 24 columns):\n",
      " #   Column                Non-Null Count   Dtype  \n",
      "---  ------                --------------   -----  \n",
      " 0   program_id            200000 non-null  int64  \n",
      " 1   price                 200000 non-null  float64\n",
      " 2   cart_timestamp        200000 non-null  float64\n",
      " 3   control_month         200000 non-null  int64  \n",
      " 4   student_id            200000 non-null  int64  \n",
      " 5   age_indicator         200000 non-null  float64\n",
      " 6   feedback_avg_d1       200000 non-null  float64\n",
      " 7   feedback_avg_d3       200000 non-null  float64\n",
      " 8   feedback_avg_d5       200000 non-null  float64\n",
      " 9   feedback_avg_d4       200000 non-null  float64\n",
      " 10  feedback_avg_d2       200000 non-null  float64\n",
      " 11  control_year          200000 non-null  int64  \n",
      " 12  support_feedback_avg  200000 non-null  float64\n",
      " 13  ABC                   200000 non-null  int64  \n",
      " 14  promo                 200000 non-null  int64  \n",
      " 15  bought_d1             200000 non-null  int64  \n",
      " 16  bought_d2             200000 non-null  int64  \n",
      " 17  bought_d3             200000 non-null  int64  \n",
      " 18  bought_d4             200000 non-null  int64  \n",
      " 19  bought_d5             200000 non-null  int64  \n",
      " 20  bought_avg_duration   200000 non-null  float64\n",
      " 21  m_was_conversations   200000 non-null  float64\n",
      " 22  p_was_conversations   200000 non-null  float64\n",
      " 23  target                200000 non-null  int64  \n",
      "dtypes: float64(12), int64(12)\n",
      "memory usage: 36.6 MB\n"
     ]
    }
   ],
   "source": [
    "df.info()"
   ]
  },
  {
   "cell_type": "code",
   "execution_count": 709,
   "metadata": {
    "id": "czsoZexkyyTw",
    "pycharm": {
     "name": "#%%\n"
    }
   },
   "outputs": [],
   "source": [
    "X =  df.drop([\"target\"], axis = 1)\n",
    "y = df[[\"target\"]]"
   ]
  },
  {
   "cell_type": "code",
   "execution_count": 710,
   "metadata": {},
   "outputs": [
    {
     "data": {
      "text/plain": [
       "Index(['program_id', 'price', 'cart_timestamp', 'control_month', 'student_id',\n",
       "       'age_indicator', 'feedback_avg_d1', 'feedback_avg_d3',\n",
       "       'feedback_avg_d5', 'feedback_avg_d4', 'feedback_avg_d2', 'control_year',\n",
       "       'support_feedback_avg', 'ABC', 'promo', 'bought_d1', 'bought_d2',\n",
       "       'bought_d3', 'bought_d4', 'bought_d5', 'bought_avg_duration',\n",
       "       'm_was_conversations', 'p_was_conversations'],\n",
       "      dtype='object')"
      ]
     },
     "execution_count": 710,
     "metadata": {},
     "output_type": "execute_result"
    }
   ],
   "source": [
    "X.columns"
   ]
  },
  {
   "cell_type": "code",
   "execution_count": 711,
   "metadata": {
    "id": "E-LfoARf2WGZ",
    "pycharm": {
     "name": "#%%\n"
    }
   },
   "outputs": [],
   "source": [
    "X_train, X_test, y_train, y_test = train_test_split(X, y, test_size=0.3, random_state=42)"
   ]
  },
  {
   "cell_type": "code",
   "execution_count": 712,
   "metadata": {
    "id": "1ypNSGoK2czB",
    "pycharm": {
     "name": "#%%\n"
    }
   },
   "outputs": [],
   "source": [
    "clf = RandomForestClassifier(random_state=0, max_depth=50, n_estimators=500, max_features = 25)"
   ]
  },
  {
   "cell_type": "code",
   "execution_count": 713,
   "metadata": {
    "colab": {
     "base_uri": "https://localhost:8080/"
    },
    "id": "8K_JDzCJ2glP",
    "outputId": "2862d0a9-a937-4909-aff0-11e079abdb42",
    "pycharm": {
     "name": "#%%\n"
    }
   },
   "outputs": [
    {
     "name": "stderr",
     "output_type": "stream",
     "text": [
      "C:\\Users\\evvEn\\AppData\\Local\\Temp\\ipykernel_5632\\2395142735.py:1: DataConversionWarning: A column-vector y was passed when a 1d array was expected. Please change the shape of y to (n_samples,), for example using ravel().\n",
      "  clf.fit(X_train, y_train)\n"
     ]
    },
    {
     "data": {
      "text/html": [
       "<style>#sk-container-id-19 {color: black;background-color: white;}#sk-container-id-19 pre{padding: 0;}#sk-container-id-19 div.sk-toggleable {background-color: white;}#sk-container-id-19 label.sk-toggleable__label {cursor: pointer;display: block;width: 100%;margin-bottom: 0;padding: 0.3em;box-sizing: border-box;text-align: center;}#sk-container-id-19 label.sk-toggleable__label-arrow:before {content: \"▸\";float: left;margin-right: 0.25em;color: #696969;}#sk-container-id-19 label.sk-toggleable__label-arrow:hover:before {color: black;}#sk-container-id-19 div.sk-estimator:hover label.sk-toggleable__label-arrow:before {color: black;}#sk-container-id-19 div.sk-toggleable__content {max-height: 0;max-width: 0;overflow: hidden;text-align: left;background-color: #f0f8ff;}#sk-container-id-19 div.sk-toggleable__content pre {margin: 0.2em;color: black;border-radius: 0.25em;background-color: #f0f8ff;}#sk-container-id-19 input.sk-toggleable__control:checked~div.sk-toggleable__content {max-height: 200px;max-width: 100%;overflow: auto;}#sk-container-id-19 input.sk-toggleable__control:checked~label.sk-toggleable__label-arrow:before {content: \"▾\";}#sk-container-id-19 div.sk-estimator input.sk-toggleable__control:checked~label.sk-toggleable__label {background-color: #d4ebff;}#sk-container-id-19 div.sk-label input.sk-toggleable__control:checked~label.sk-toggleable__label {background-color: #d4ebff;}#sk-container-id-19 input.sk-hidden--visually {border: 0;clip: rect(1px 1px 1px 1px);clip: rect(1px, 1px, 1px, 1px);height: 1px;margin: -1px;overflow: hidden;padding: 0;position: absolute;width: 1px;}#sk-container-id-19 div.sk-estimator {font-family: monospace;background-color: #f0f8ff;border: 1px dotted black;border-radius: 0.25em;box-sizing: border-box;margin-bottom: 0.5em;}#sk-container-id-19 div.sk-estimator:hover {background-color: #d4ebff;}#sk-container-id-19 div.sk-parallel-item::after {content: \"\";width: 100%;border-bottom: 1px solid gray;flex-grow: 1;}#sk-container-id-19 div.sk-label:hover label.sk-toggleable__label {background-color: #d4ebff;}#sk-container-id-19 div.sk-serial::before {content: \"\";position: absolute;border-left: 1px solid gray;box-sizing: border-box;top: 0;bottom: 0;left: 50%;z-index: 0;}#sk-container-id-19 div.sk-serial {display: flex;flex-direction: column;align-items: center;background-color: white;padding-right: 0.2em;padding-left: 0.2em;position: relative;}#sk-container-id-19 div.sk-item {position: relative;z-index: 1;}#sk-container-id-19 div.sk-parallel {display: flex;align-items: stretch;justify-content: center;background-color: white;position: relative;}#sk-container-id-19 div.sk-item::before, #sk-container-id-19 div.sk-parallel-item::before {content: \"\";position: absolute;border-left: 1px solid gray;box-sizing: border-box;top: 0;bottom: 0;left: 50%;z-index: -1;}#sk-container-id-19 div.sk-parallel-item {display: flex;flex-direction: column;z-index: 1;position: relative;background-color: white;}#sk-container-id-19 div.sk-parallel-item:first-child::after {align-self: flex-end;width: 50%;}#sk-container-id-19 div.sk-parallel-item:last-child::after {align-self: flex-start;width: 50%;}#sk-container-id-19 div.sk-parallel-item:only-child::after {width: 0;}#sk-container-id-19 div.sk-dashed-wrapped {border: 1px dashed gray;margin: 0 0.4em 0.5em 0.4em;box-sizing: border-box;padding-bottom: 0.4em;background-color: white;}#sk-container-id-19 div.sk-label label {font-family: monospace;font-weight: bold;display: inline-block;line-height: 1.2em;}#sk-container-id-19 div.sk-label-container {text-align: center;}#sk-container-id-19 div.sk-container {/* jupyter's `normalize.less` sets `[hidden] { display: none; }` but bootstrap.min.css set `[hidden] { display: none !important; }` so we also need the `!important` here to be able to override the default hidden behavior on the sphinx rendered scikit-learn.org. See: https://github.com/scikit-learn/scikit-learn/issues/21755 */display: inline-block !important;position: relative;}#sk-container-id-19 div.sk-text-repr-fallback {display: none;}</style><div id=\"sk-container-id-19\" class=\"sk-top-container\"><div class=\"sk-text-repr-fallback\"><pre>RandomForestClassifier(max_depth=50, max_features=25, n_estimators=500,\n",
       "                       random_state=0)</pre><b>In a Jupyter environment, please rerun this cell to show the HTML representation or trust the notebook. <br />On GitHub, the HTML representation is unable to render, please try loading this page with nbviewer.org.</b></div><div class=\"sk-container\" hidden><div class=\"sk-item\"><div class=\"sk-estimator sk-toggleable\"><input class=\"sk-toggleable__control sk-hidden--visually\" id=\"sk-estimator-id-19\" type=\"checkbox\" checked><label for=\"sk-estimator-id-19\" class=\"sk-toggleable__label sk-toggleable__label-arrow\">RandomForestClassifier</label><div class=\"sk-toggleable__content\"><pre>RandomForestClassifier(max_depth=50, max_features=25, n_estimators=500,\n",
       "                       random_state=0)</pre></div></div></div></div></div>"
      ],
      "text/plain": [
       "RandomForestClassifier(max_depth=50, max_features=25, n_estimators=500,\n",
       "                       random_state=0)"
      ]
     },
     "execution_count": 713,
     "metadata": {},
     "output_type": "execute_result"
    }
   ],
   "source": [
    "clf.fit(X_train, y_train)"
   ]
  },
  {
   "cell_type": "code",
   "execution_count": 714,
   "metadata": {
    "id": "aJt5-Okm2h3I",
    "pycharm": {
     "name": "#%%\n"
    }
   },
   "outputs": [],
   "source": [
    "pred = clf.predict(X_test)"
   ]
  },
  {
   "cell_type": "code",
   "execution_count": 715,
   "metadata": {
    "colab": {
     "base_uri": "https://localhost:8080/"
    },
    "id": "Vz2JrMW32m3N",
    "outputId": "3056b516-013c-4b58-e1f1-f203feab9a2a",
    "pycharm": {
     "name": "#%%\n"
    }
   },
   "outputs": [
    {
     "data": {
      "text/plain": [
       "0.8571104498957557"
      ]
     },
     "execution_count": 715,
     "metadata": {},
     "output_type": "execute_result"
    }
   ],
   "source": [
    "0.2* recall_score(y_test, pred, average='macro') + 0.8* precision_score(y_test, pred, average='macro')"
   ]
  },
  {
   "cell_type": "code",
   "execution_count": 716,
   "metadata": {},
   "outputs": [
    {
     "data": {
      "text/plain": [
       "array([0, 1, 2, 3, 4, 5], dtype=int64)"
      ]
     },
     "execution_count": 716,
     "metadata": {},
     "output_type": "execute_result"
    }
   ],
   "source": [
    "clf.classes_"
   ]
  },
  {
   "cell_type": "code",
   "execution_count": 717,
   "metadata": {},
   "outputs": [
    {
     "name": "stdout",
     "output_type": "stream",
     "text": [
      "              precision    recall  f1-score   support\n",
      "\n",
      "           0       0.95      0.99      0.97     52331\n",
      "           1       0.90      0.68      0.78      4005\n",
      "           2       0.90      0.53      0.67       548\n",
      "           3       0.87      0.66      0.75       915\n",
      "           4       0.90      0.57      0.70      1097\n",
      "           5       0.88      0.63      0.73      1104\n",
      "\n",
      "    accuracy                           0.95     60000\n",
      "   macro avg       0.90      0.68      0.77     60000\n",
      "weighted avg       0.95      0.95      0.94     60000\n",
      "\n"
     ]
    }
   ],
   "source": [
    "print(classification_report(y_test, pred))"
   ]
  },
  {
   "cell_type": "code",
   "execution_count": 718,
   "metadata": {},
   "outputs": [
    {
     "data": {
      "text/html": [
       "<div>\n",
       "<style scoped>\n",
       "    .dataframe tbody tr th:only-of-type {\n",
       "        vertical-align: middle;\n",
       "    }\n",
       "\n",
       "    .dataframe tbody tr th {\n",
       "        vertical-align: top;\n",
       "    }\n",
       "\n",
       "    .dataframe thead th {\n",
       "        text-align: right;\n",
       "    }\n",
       "</style>\n",
       "<table border=\"1\" class=\"dataframe\">\n",
       "  <thead>\n",
       "    <tr style=\"text-align: right;\">\n",
       "      <th></th>\n",
       "      <th>value</th>\n",
       "    </tr>\n",
       "  </thead>\n",
       "  <tbody>\n",
       "    <tr>\n",
       "      <th>cart_timestamp</th>\n",
       "      <td>0.167988</td>\n",
       "    </tr>\n",
       "    <tr>\n",
       "      <th>student_id</th>\n",
       "      <td>0.157437</td>\n",
       "    </tr>\n",
       "    <tr>\n",
       "      <th>price</th>\n",
       "      <td>0.146240</td>\n",
       "    </tr>\n",
       "    <tr>\n",
       "      <th>age_indicator</th>\n",
       "      <td>0.102816</td>\n",
       "    </tr>\n",
       "    <tr>\n",
       "      <th>program_id</th>\n",
       "      <td>0.098496</td>\n",
       "    </tr>\n",
       "    <tr>\n",
       "      <th>control_month</th>\n",
       "      <td>0.069676</td>\n",
       "    </tr>\n",
       "    <tr>\n",
       "      <th>feedback_avg_d1</th>\n",
       "      <td>0.033775</td>\n",
       "    </tr>\n",
       "    <tr>\n",
       "      <th>m_was_conversations</th>\n",
       "      <td>0.029686</td>\n",
       "    </tr>\n",
       "    <tr>\n",
       "      <th>ABC</th>\n",
       "      <td>0.026449</td>\n",
       "    </tr>\n",
       "    <tr>\n",
       "      <th>feedback_avg_d3</th>\n",
       "      <td>0.023450</td>\n",
       "    </tr>\n",
       "    <tr>\n",
       "      <th>support_feedback_avg</th>\n",
       "      <td>0.021376</td>\n",
       "    </tr>\n",
       "    <tr>\n",
       "      <th>feedback_avg_d4</th>\n",
       "      <td>0.021060</td>\n",
       "    </tr>\n",
       "    <tr>\n",
       "      <th>feedback_avg_d5</th>\n",
       "      <td>0.019937</td>\n",
       "    </tr>\n",
       "    <tr>\n",
       "      <th>promo</th>\n",
       "      <td>0.017263</td>\n",
       "    </tr>\n",
       "    <tr>\n",
       "      <th>feedback_avg_d2</th>\n",
       "      <td>0.014736</td>\n",
       "    </tr>\n",
       "    <tr>\n",
       "      <th>bought_avg_duration</th>\n",
       "      <td>0.014544</td>\n",
       "    </tr>\n",
       "    <tr>\n",
       "      <th>p_was_conversations</th>\n",
       "      <td>0.012485</td>\n",
       "    </tr>\n",
       "    <tr>\n",
       "      <th>control_year</th>\n",
       "      <td>0.010265</td>\n",
       "    </tr>\n",
       "    <tr>\n",
       "      <th>bought_d1</th>\n",
       "      <td>0.004156</td>\n",
       "    </tr>\n",
       "    <tr>\n",
       "      <th>bought_d5</th>\n",
       "      <td>0.003490</td>\n",
       "    </tr>\n",
       "    <tr>\n",
       "      <th>bought_d3</th>\n",
       "      <td>0.002314</td>\n",
       "    </tr>\n",
       "    <tr>\n",
       "      <th>bought_d2</th>\n",
       "      <td>0.001414</td>\n",
       "    </tr>\n",
       "    <tr>\n",
       "      <th>bought_d4</th>\n",
       "      <td>0.000947</td>\n",
       "    </tr>\n",
       "  </tbody>\n",
       "</table>\n",
       "</div>"
      ],
      "text/plain": [
       "                         value\n",
       "cart_timestamp        0.167988\n",
       "student_id            0.157437\n",
       "price                 0.146240\n",
       "age_indicator         0.102816\n",
       "program_id            0.098496\n",
       "control_month         0.069676\n",
       "feedback_avg_d1       0.033775\n",
       "m_was_conversations   0.029686\n",
       "ABC                   0.026449\n",
       "feedback_avg_d3       0.023450\n",
       "support_feedback_avg  0.021376\n",
       "feedback_avg_d4       0.021060\n",
       "feedback_avg_d5       0.019937\n",
       "promo                 0.017263\n",
       "feedback_avg_d2       0.014736\n",
       "bought_avg_duration   0.014544\n",
       "p_was_conversations   0.012485\n",
       "control_year          0.010265\n",
       "bought_d1             0.004156\n",
       "bought_d5             0.003490\n",
       "bought_d3             0.002314\n",
       "bought_d2             0.001414\n",
       "bought_d4             0.000947"
      ]
     },
     "execution_count": 718,
     "metadata": {},
     "output_type": "execute_result"
    }
   ],
   "source": [
    "importance_df = pd.DataFrame(clf.feature_importances_, columns=[\"value\"],\n",
    "                             index=clf.feature_names_in_).sort_values(by=\"value\", ascending=False)\n",
    "importance_df"
   ]
  },
  {
   "cell_type": "markdown",
   "metadata": {},
   "source": [
    "#Validation"
   ]
  },
  {
   "cell_type": "code",
   "execution_count": 746,
   "metadata": {},
   "outputs": [],
   "source": [
    "df_test = pd.read_csv(\"./content/test.csv\")"
   ]
  },
  {
   "cell_type": "code",
   "execution_count": 747,
   "metadata": {},
   "outputs": [],
   "source": [
    "df_test[\"ABC\"] = abc_le.transform(df_test[\"ABC\"])"
   ]
  },
  {
   "cell_type": "code",
   "execution_count": 748,
   "metadata": {},
   "outputs": [],
   "source": [
    "df_test['control_year'] = pd.to_datetime(df_test['month_id']).dt.strftime(\"%Y\").astype(int)\n",
    "df_test['control_month'] = pd.to_datetime(df_test['month_id']).dt.strftime(\"%m\").astype(int)\n",
    "\n",
    "df_test['cart_day'] = pd.to_datetime(df_test['carts_created_at']).dt.strftime(\"%d\").astype(int)\n",
    "df_test['cart_month'] = pd.to_datetime(df_test['carts_created_at']).dt.strftime(\"%m\").astype(int)\n",
    "df_test['cart_year'] = pd.to_datetime(df_test['carts_created_at']).dt.strftime(\"%Y\").astype(int)\n",
    "df_test['cart_timestamp'] = df_test['carts_created_at'].apply(lambda d: time.mktime(datetime.strptime(d, \"%m/%d/%Y\").timetuple()))"
   ]
  },
  {
   "cell_type": "code",
   "execution_count": 749,
   "metadata": {},
   "outputs": [],
   "source": [
    "df_test['promo']=df['promo'].apply(lambda promo: promo =='+').astype(int)"
   ]
  },
  {
   "cell_type": "code",
   "execution_count": 750,
   "metadata": {},
   "outputs": [],
   "source": [
    "df_test[\"communication_type\"] = ct_le.transform(df_test[\"communication_type\"])"
   ]
  },
  {
   "cell_type": "code",
   "execution_count": 751,
   "metadata": {},
   "outputs": [],
   "source": [
    "df_test[\"os\"] = os_le.transform(df_test[\"os\"])\n",
    "df_test[\"platform\"] = platform_le.transform(df_test[\"platform\"])"
   ]
  },
  {
   "cell_type": "code",
   "execution_count": 752,
   "metadata": {},
   "outputs": [],
   "source": [
    "browser_le_dict = dict(zip(browser_le.classes_, browser_le.transform(browser_le.classes_)))\n",
    "df_test['browser'] = df_test['browser'].apply(lambda browser: browser_le_dict.get(browser, -1))"
   ]
  },
  {
   "cell_type": "code",
   "execution_count": 753,
   "metadata": {},
   "outputs": [],
   "source": [
    "df_test = df_test.apply(lambda row: replace_country(row), axis=1)"
   ]
  },
  {
   "cell_type": "code",
   "execution_count": 754,
   "metadata": {},
   "outputs": [],
   "source": [
    "df_test[\"country\"] = country_le.transform(df_test[\"country\"])"
   ]
  },
  {
   "cell_type": "code",
   "execution_count": 755,
   "metadata": {},
   "outputs": [
    {
     "name": "stdout",
     "output_type": "stream",
     "text": [
      "<class 'pandas.core.frame.DataFrame'>\n",
      "RangeIndex: 84997 entries, 0 to 84996\n",
      "Data columns (total 64 columns):\n",
      " #   Column                     Non-Null Count  Dtype  \n",
      "---  ------                     --------------  -----  \n",
      " 0   id                         84997 non-null  int64  \n",
      " 1   age_indicator              67548 non-null  float64\n",
      " 2   month_id                   84997 non-null  object \n",
      " 3   student_id                 84997 non-null  int64  \n",
      " 4   program_id                 84997 non-null  int64  \n",
      " 5   carts_created_at           84997 non-null  object \n",
      " 6   spent_time_total           36687 non-null  float64\n",
      " 7   spent_time_to_complete_hw  18046 non-null  float64\n",
      " 8   completed_hw               41481 non-null  float64\n",
      " 9   failed_hw                  41481 non-null  float64\n",
      " 10  reworked_hw                41481 non-null  float64\n",
      " 11  interacted_hw              41481 non-null  float64\n",
      " 12  avg_hw_mark                18909 non-null  float64\n",
      " 13  test_with_good_mark        41481 non-null  float64\n",
      " 14  test_with_great_mark       41481 non-null  float64\n",
      " 15  webinars                   41481 non-null  float64\n",
      " 16  avg_quiz_result            6954 non-null   float64\n",
      " 17  notes                      41481 non-null  float64\n",
      " 18  hw_leader                  41481 non-null  float64\n",
      " 19  lessons                    41481 non-null  float64\n",
      " 20  activity                   41481 non-null  float64\n",
      " 21  bought_d1                  84997 non-null  int64  \n",
      " 22  bought_d2                  84997 non-null  int64  \n",
      " 23  bought_d3                  84997 non-null  int64  \n",
      " 24  bought_d4                  84997 non-null  int64  \n",
      " 25  bought_d5                  84997 non-null  int64  \n",
      " 26  bought_avg_duration        4277 non-null   float64\n",
      " 27  payment_type               84997 non-null  int64  \n",
      " 28  promo                      84997 non-null  int64  \n",
      " 29  price                      84997 non-null  float64\n",
      " 30  communication_type         84997 non-null  int64  \n",
      " 31  auto_payment               84997 non-null  int64  \n",
      " 32  ABC                        84997 non-null  int64  \n",
      " 33  city                       5669 non-null   object \n",
      " 34  country                    84997 non-null  int32  \n",
      " 35  gender                     84978 non-null  float64\n",
      " 36  speed_recall               9283 non-null   float64\n",
      " 37  os                         84997 non-null  int64  \n",
      " 38  browser                    84997 non-null  int64  \n",
      " 39  platform                   84997 non-null  int64  \n",
      " 40  m_avg_talk_duration        21908 non-null  float64\n",
      " 41  m_avg_duration             19375 non-null  float64\n",
      " 42  m_missed_calls             21908 non-null  float64\n",
      " 43  m_total_calls              21908 non-null  float64\n",
      " 44  m_was_conversations        21908 non-null  float64\n",
      " 45  m_total_duration           21908 non-null  float64\n",
      " 46  p_avg_talk_duration        7129 non-null   float64\n",
      " 47  p_avg_duration             5867 non-null   float64\n",
      " 48  p_missed_calls             7129 non-null   float64\n",
      " 49  p_total_calls              7129 non-null   float64\n",
      " 50  p_was_conversations        7129 non-null   float64\n",
      " 51  p_total_duration           7129 non-null   float64\n",
      " 52  support_feedback_avg       15749 non-null  float64\n",
      " 53  feedback_avg_d1            20650 non-null  float64\n",
      " 54  feedback_avg_d2            6237 non-null   float64\n",
      " 55  feedback_avg_d3            7640 non-null   float64\n",
      " 56  feedback_avg_d4            10678 non-null  float64\n",
      " 57  feedback_avg_d5            6756 non-null   float64\n",
      " 58  control_year               84997 non-null  int64  \n",
      " 59  control_month              84997 non-null  int64  \n",
      " 60  cart_day                   84997 non-null  int64  \n",
      " 61  cart_month                 84997 non-null  int64  \n",
      " 62  cart_year                  84997 non-null  int64  \n",
      " 63  cart_timestamp             84997 non-null  float64\n",
      "dtypes: float64(39), int32(1), int64(21), object(3)\n",
      "memory usage: 41.2+ MB\n"
     ]
    }
   ],
   "source": [
    "df_test.info()"
   ]
  },
  {
   "cell_type": "code",
   "execution_count": 756,
   "metadata": {},
   "outputs": [],
   "source": [
    "mass_object_v = mass_object[mass_object!=\"target\"]"
   ]
  },
  {
   "cell_type": "code",
   "execution_count": 757,
   "metadata": {},
   "outputs": [],
   "source": [
    "X_val = df_test.drop(mass_object_v, axis = 1)"
   ]
  },
  {
   "cell_type": "code",
   "execution_count": 758,
   "metadata": {},
   "outputs": [],
   "source": [
    "X_val = X_val.fillna(0)\n",
    "X_val=X_val[[\"program_id\",\n",
    "\"price\",\n",
    "\"cart_timestamp\",\n",
    "\"control_month\",\n",
    "\"student_id\",\n",
    "\"age_indicator\",\n",
    "\"feedback_avg_d1\",\n",
    "\"feedback_avg_d3\",\n",
    "\"feedback_avg_d5\",\n",
    "\"feedback_avg_d4\",\n",
    "\"feedback_avg_d2\",\n",
    "\"control_year\",\n",
    "\"support_feedback_avg\",\n",
    "\"ABC\",\n",
    "\"promo\" , \n",
    "       'bought_d1', 'bought_d2', 'bought_d3', 'bought_d4',\n",
    "       'bought_d5', 'bought_avg_duration',\"m_was_conversations\",\"p_was_conversations\",\n",
    "     ]]"
   ]
  },
  {
   "cell_type": "code",
   "execution_count": 759,
   "metadata": {},
   "outputs": [],
   "source": [
    "pred_test = clf.predict(X_val)"
   ]
  },
  {
   "cell_type": "code",
   "execution_count": 760,
   "metadata": {},
   "outputs": [],
   "source": [
    "df_test[\"target\"] = pred_test"
   ]
  },
  {
   "cell_type": "code",
   "execution_count": 761,
   "metadata": {},
   "outputs": [],
   "source": [
    "df_test=df_test[[\"id\", \"target\"]]"
   ]
  },
  {
   "cell_type": "code",
   "execution_count": 762,
   "metadata": {},
   "outputs": [],
   "source": [
    "df_test.to_csv(\"./content/pred.csv\", index=False)"
   ]
  }
 ],
 "metadata": {
  "colab": {
   "collapsed_sections": [],
   "name": "Нетология_baseline.ipynb",
   "provenance": []
  },
  "kernelspec": {
   "display_name": "Python 3 (ipykernel)",
   "language": "python",
   "name": "python3"
  },
  "language_info": {
   "codemirror_mode": {
    "name": "ipython",
    "version": 3
   },
   "file_extension": ".py",
   "mimetype": "text/x-python",
   "name": "python",
   "nbconvert_exporter": "python",
   "pygments_lexer": "ipython3",
   "version": "3.9.13"
  }
 },
 "nbformat": 4,
 "nbformat_minor": 1
}
